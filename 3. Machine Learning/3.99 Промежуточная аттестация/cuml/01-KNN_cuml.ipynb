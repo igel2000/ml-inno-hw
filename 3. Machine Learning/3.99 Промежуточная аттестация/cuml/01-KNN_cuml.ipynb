{
 "cells": [
  {
   "cell_type": "code",
   "execution_count": 1,
   "metadata": {},
   "outputs": [],
   "source": [
    "from mylib import base, dataset\n",
    "from mylib.model_classification import ModelClass\n",
    "from mylib.model_base import ModelBase\n",
    "\n",
    "from dotenv import dotenv_values\n",
    "from pathlib import Path\n",
    "from pprint import pprint, pformat\n",
    "\n",
    "import pandas as pd\n",
    "import pandas.api.types as pd_types\n",
    "\n",
    "import numpy as np\n",
    "\n",
    "import plotly.express as plotly_px\n",
    "\n",
    "import joblib\n",
    "\n",
    "import seaborn as sns\n",
    "import matplotlib.pyplot as plt\n"
   ]
  },
  {
   "cell_type": "code",
   "execution_count": 2,
   "metadata": {},
   "outputs": [],
   "source": [
    "import warnings\n",
    "warnings.filterwarnings('ignore')\n",
    "\n",
    "pd.set_option('display.max_columns', 50) # Устанавливаем максимальное количество отображаемых столбцов равным 50\n",
    "#pd.set_option('display.max_rows', 50) # Устанавливаем максимальное количество отображаемых строк равным 20\n",
    "pd.options.display.float_format = '{:.5f}'.format # Устанавливаем формат отображения чисел с двумя знаками после запятой\n",
    "pd.options.mode.use_inf_as_na = True # Настройка режима Pandas для рассмотрения бесконечностей (inf) как пропущенных значений (NA)\n",
    "\n",
    "# Конфигурация формата отображения графиков в виде векторных изображений\n",
    "%config InlineBackend.figure_format = 'svg'\n",
    "\n",
    "# для построения графиков внутри Jupyter Notebook\n",
    "%matplotlib inline"
   ]
  },
  {
   "cell_type": "markdown",
   "metadata": {},
   "source": [
    "# 1. Загрузка конфигов"
   ]
  },
  {
   "cell_type": "code",
   "execution_count": 3,
   "metadata": {},
   "outputs": [],
   "source": [
    "# загрузить параметры\n",
    "settings_dict = {\n",
    "    **dotenv_values(\"settings\")\n",
    "}\n",
    "\n",
    "settings = base.Settings(settings_dict)\n",
    "settings.enviroment[\"RANDOM_STATE\"] = int(settings.enviroment[\"RANDOM_STATE\"])\n",
    "n_jobs = -1\n",
    "verbose = 3\n",
    "load_big = True\n",
    "use_sklearn = False"
   ]
  },
  {
   "cell_type": "code",
   "execution_count": 4,
   "metadata": {},
   "outputs": [
    {
     "data": {
      "text/plain": [
       "{'DATASET_SUBFOLDER': 'dataset',\n",
       " 'RESULT_SUBFOLDER': 'result',\n",
       " 'CACHE_SUBFOLDER': 'cached_results',\n",
       " 'RANDOM_STATE': 42,\n",
       " 'DATASET_FILENAME_TEMPLATE': 'dataset_df_%s.joblib',\n",
       " 'PARAMS_FILENAME_TEMPLATE': 'params_%s.joblib',\n",
       " 'X_Train_FILENAME_TEMPLATE': 'X_Train_%s.joblib',\n",
       " 'y_Train_FILENAME_TEMPLATE': 'y_Train_%s.joblib',\n",
       " 'X_Test_FILENAME_TEMPLATE': 'X_Test_%s.joblib',\n",
       " 'y_Test_FILENAME_TEMPLATE': 'y_Test_%s.joblib',\n",
       " 'GRID_SEARCH_TEMPLATE_FILENAME': '03_GridSearch_%s.joblib',\n",
       " 'MODEL_CLASS_TEMPLATE_FILENAME': '04_model_%s.joblib'}"
      ]
     },
     "execution_count": 4,
     "metadata": {},
     "output_type": "execute_result"
    }
   ],
   "source": [
    "settings.enviroment"
   ]
  },
  {
   "cell_type": "markdown",
   "metadata": {},
   "source": [
    "# 1. Загрузка датасета"
   ]
  },
  {
   "cell_type": "code",
   "execution_count": 5,
   "metadata": {},
   "outputs": [],
   "source": [
    "params = joblib.load(Path(settings.result_folder, settings.enviroment[\"PARAMS_FILENAME_TEMPLATE\"]  % \"common\"))"
   ]
  },
  {
   "cell_type": "code",
   "execution_count": 6,
   "metadata": {},
   "outputs": [
    {
     "name": "stdout",
     "output_type": "stream",
     "text": [
      "Используется полный набор данных\n"
     ]
    }
   ],
   "source": [
    "if load_big:\n",
    "    print('Используется полный набор данных')\n",
    "    y_train = joblib.load(Path(settings.result_folder, settings.enviroment[\"y_Train_FILENAME_TEMPLATE\"] % \"big\"))\n",
    "    y_test  = joblib.load(Path(settings.result_folder, settings.enviroment[\"y_Test_FILENAME_TEMPLATE\"] % \"big\"))\n",
    "    X_train = joblib.load(Path(settings.result_folder, settings.enviroment[\"X_Train_FILENAME_TEMPLATE\"] % \"big\"))\n",
    "    X_test  = joblib.load(Path(settings.result_folder, settings.enviroment[\"X_Test_FILENAME_TEMPLATE\"] % \"big\"))\n",
    "    X_train_StandardScaler = joblib.load(Path(settings.result_folder, settings.enviroment[\"X_Train_FILENAME_TEMPLATE\"] % \"big_StandardScaler,\"))\n",
    "    X_test_StandardScaler  = joblib.load(Path(settings.result_folder, settings.enviroment[\"X_Test_FILENAME_TEMPLATE\"]  % \"big_StandardScaler,\"))\n",
    "else:\n",
    "    print('Используется сокращенный набор данных')\n",
    "    y_train = joblib.load(Path(settings.result_folder, settings.enviroment[\"y_Train_FILENAME_TEMPLATE\"] % \"small\"))\n",
    "    y_test  = joblib.load(Path(settings.result_folder, settings.enviroment[\"y_Test_FILENAME_TEMPLATE\"] % \"small\"))\n",
    "    X_train = joblib.load(Path(settings.result_folder, settings.enviroment[\"X_Train_FILENAME_TEMPLATE\"] % \"small\"))\n",
    "    X_test  = joblib.load(Path(settings.result_folder, settings.enviroment[\"X_Test_FILENAME_TEMPLATE\"] % \"small\"))\n",
    "    X_train_StandardScaler = joblib.load(Path(settings.result_folder, settings.enviroment[\"X_Train_FILENAME_TEMPLATE\"] % \"small_StandardScaler,\"))\n",
    "    X_test_StandardScaler  = joblib.load(Path(settings.result_folder, settings.enviroment[\"X_Test_FILENAME_TEMPLATE\"]  % \"small_StandardScaler,\"))"
   ]
  },
  {
   "cell_type": "markdown",
   "metadata": {},
   "source": [
    "# 2. Модель KNeighborsClassifier"
   ]
  },
  {
   "cell_type": "code",
   "execution_count": 7,
   "metadata": {},
   "outputs": [
    {
     "name": "stdout",
     "output_type": "stream",
     "text": [
      "Используется cuml.neighbors.KNeighborsClassifier\n"
     ]
    }
   ],
   "source": [
    "if use_sklearn:\n",
    "    print('Используется sklearn.neighbors.KNeighborsClassifier')\n",
    "    import sklearn.neighbors\n",
    "    KNN_Classifier = sklearn.neighbors.KNeighborsClassifier\n",
    "    knn_params = {'n_neighbors': range(5, 21),\n",
    "                  'p': [1, 2, 3]\n",
    "                 }\n",
    "    knn_model_name = \"KNN_sklearn\"\n",
    "else:\n",
    "    print('Используется cuml.neighbors.KNeighborsClassifier')\n",
    "    import cuml.neighbors\n",
    "    KNN_Classifier = cuml.neighbors.KNeighborsClassifier\n",
    "    knn_params = {'n_neighbors': range(5, 21),\n",
    "                  'p': [1, 2, 3]\n",
    "                 }\n",
    "    knn_model_name = \"KNN_cuml\""
   ]
  },
  {
   "cell_type": "code",
   "execution_count": 8,
   "metadata": {},
   "outputs": [
    {
     "name": "stdout",
     "output_type": "stream",
     "text": [
      "Создается и выполняется RandomizedSearchCV для модели KNN_cuml класса KNeighborsClassifier\n",
      "[2025-04-10 02:33:58.003] [CUML] [info] Unused keyword parameter: n_jobs during cuML estimator initialization\n",
      "Fitting 5 folds for each of 48 candidates, totalling 240 fits\n",
      "[2025-04-10 02:33:58.061] [CUML] [info] Unused keyword parameter: n_jobs during cuML estimator initialization\n",
      "[2025-04-10 02:33:58.061] [CUML] [info] Unused keyword parameter: n_jobs during cuML estimator initialization\n",
      "[2025-04-10 02:33:58.062] [CUML] [info] Unused keyword parameter: n_jobs during cuML estimator initialization\n",
      "[2025-04-10 02:33:58.062] [CUML] [info] Unused keyword parameter: n_jobs during cuML estimator initialization\n",
      "[2025-04-10 02:33:58.062] [CUML] [info] Unused keyword parameter: n_jobs during cuML estimator initialization\n",
      "[2025-04-10 02:33:58.062] [CUML] [info] Unused keyword parameter: n_jobs during cuML estimator initialization\n",
      "[2025-04-10 02:33:58.062] [CUML] [info] Unused keyword parameter: n_jobs during cuML estimator initialization\n",
      "[2025-04-10 02:33:58.062] [CUML] [info] Unused keyword parameter: n_jobs during cuML estimator initialization\n",
      "[2025-04-10 02:33:58.062] [CUML] [info] Unused keyword parameter: n_jobs during cuML estimator initialization\n",
      "[2025-04-10 02:33:58.062] [CUML] [info] Unused keyword parameter: n_jobs during cuML estimator initialization\n",
      "[2025-04-10 02:33:58.063] [CUML] [info] Unused keyword parameter: n_jobs during cuML estimator initialization\n",
      "[2025-04-10 02:33:58.063] [CUML] [info] Unused keyword parameter: n_jobs during cuML estimator initialization\n",
      "[2025-04-10 02:33:58.063] [CUML] [info] Unused keyword parameter: n_jobs during cuML estimator initialization\n",
      "[2025-04-10 02:33:58.063] [CUML] [info] Unused keyword parameter: n_jobs during cuML estimator initialization\n",
      "[2025-04-10 02:33:58.063] [CUML] [info] Unused keyword parameter: n_jobs during cuML estimator initialization\n",
      "[2025-04-10 02:33:58.063] [CUML] [info] Unused keyword parameter: n_jobs during cuML estimator initialization\n",
      "[2025-04-10 02:33:58.063] [CUML] [info] Unused keyword parameter: n_jobs during cuML estimator initialization\n",
      "[2025-04-10 02:33:58.063] [CUML] [info] Unused keyword parameter: n_jobs during cuML estimator initialization\n",
      "[2025-04-10 02:33:58.063] [CUML] [info] Unused keyword parameter: n_jobs during cuML estimator initialization\n",
      "[2025-04-10 02:33:58.064] [CUML] [info] Unused keyword parameter: n_jobs during cuML estimator initialization\n",
      "[2025-04-10 02:33:58.322] [CUML] [info] Unused keyword parameter: n_jobs during cuML estimator initialization\n",
      "[2025-04-10 02:33:58.322] [CUML] [info] Unused keyword parameter: n_jobs during cuML estimator initialization\n",
      "[2025-04-10 02:33:58.323] [CUML] [info] Unused keyword parameter: n_jobs during cuML estimator initialization\n",
      "[2025-04-10 02:33:58.323] [CUML] [info] Unused keyword parameter: n_jobs during cuML estimator initialization\n",
      "[2025-04-10 02:33:58.323] [CUML] [info] Unused keyword parameter: n_jobs during cuML estimator initialization\n",
      "[2025-04-10 02:33:58.324] [CUML] [info] Unused keyword parameter: n_jobs during cuML estimator initialization\n",
      "[2025-04-10 02:33:58.324] [CUML] [info] Unused keyword parameter: n_jobs during cuML estimator initialization\n",
      "[2025-04-10 02:33:58.324] [CUML] [info] Unused keyword parameter: n_jobs during cuML estimator initialization\n",
      "[2025-04-10 02:33:58.324] [CUML] [info] Unused keyword parameter: n_jobs during cuML estimator initialization\n",
      "[2025-04-10 02:33:58.324] [CUML] [info] Unused keyword parameter: n_jobs during cuML estimator initialization\n",
      "[2025-04-10 02:33:58.325] [CUML] [info] Unused keyword parameter: n_jobs during cuML estimator initialization\n",
      "[2025-04-10 02:33:58.325] [CUML] [info] Unused keyword parameter: n_jobs during cuML estimator initialization\n",
      "[2025-04-10 02:33:58.325] [CUML] [info] Unused keyword parameter: n_jobs during cuML estimator initialization\n",
      "[2025-04-10 02:33:58.325] [CUML] [info] Unused keyword parameter: n_jobs during cuML estimator initialization\n",
      "[2025-04-10 02:33:58.325] [CUML] [info] Unused keyword parameter: n_jobs during cuML estimator initialization\n",
      "[2025-04-10 02:33:58.326] [CUML] [info] Unused keyword parameter: n_jobs during cuML estimator initialization\n",
      "[2025-04-10 02:33:58.326] [CUML] [info] Unused keyword parameter: n_jobs during cuML estimator initialization\n",
      "[2025-04-10 02:33:58.326] [CUML] [info] Unused keyword parameter: n_jobs during cuML estimator initialization\n",
      "[2025-04-10 02:33:58.327] [CUML] [info] Unused keyword parameter: n_jobs during cuML estimator initialization\n",
      "[2025-04-10 02:33:58.327] [CUML] [info] Unused keyword parameter: n_jobs during cuML estimator initialization\n",
      "[CV 4/5] END ................n_neighbors=5, p=1;, score=0.684 total time=  18.3s\n",
      "[2025-04-10 02:34:19.327] [CUML] [info] Unused keyword parameter: n_jobs during cuML estimator initialization\n",
      "[2025-04-10 02:34:19.327] [CUML] [info] Unused keyword parameter: n_jobs during cuML estimator initialization\n",
      "[2025-04-10 02:34:19.327] [CUML] [info] Unused keyword parameter: n_jobs during cuML estimator initialization\n",
      "[2025-04-10 02:34:19.328] [CUML] [info] Unused keyword parameter: n_jobs during cuML estimator initialization\n",
      "[2025-04-10 02:34:19.328] [CUML] [info] Unused keyword parameter: n_jobs during cuML estimator initialization\n",
      "[2025-04-10 02:34:19.328] [CUML] [info] Unused keyword parameter: n_jobs during cuML estimator initialization\n",
      "[2025-04-10 02:34:19.328] [CUML] [info] Unused keyword parameter: n_jobs during cuML estimator initialization\n",
      "[2025-04-10 02:34:19.328] [CUML] [info] Unused keyword parameter: n_jobs during cuML estimator initialization\n",
      "[2025-04-10 02:34:19.328] [CUML] [info] Unused keyword parameter: n_jobs during cuML estimator initialization\n",
      "[2025-04-10 02:34:19.328] [CUML] [info] Unused keyword parameter: n_jobs during cuML estimator initialization\n",
      "[2025-04-10 02:34:19.329] [CUML] [info] Unused keyword parameter: n_jobs during cuML estimator initialization\n",
      "[2025-04-10 02:34:19.329] [CUML] [info] Unused keyword parameter: n_jobs during cuML estimator initialization\n",
      "[2025-04-10 02:34:19.329] [CUML] [info] Unused keyword parameter: n_jobs during cuML estimator initialization\n",
      "[2025-04-10 02:34:19.329] [CUML] [info] Unused keyword parameter: n_jobs during cuML estimator initialization\n",
      "[2025-04-10 02:34:19.329] [CUML] [info] Unused keyword parameter: n_jobs during cuML estimator initialization\n",
      "[2025-04-10 02:34:19.329] [CUML] [info] Unused keyword parameter: n_jobs during cuML estimator initialization\n",
      "[2025-04-10 02:34:19.330] [CUML] [info] Unused keyword parameter: n_jobs during cuML estimator initialization\n",
      "[2025-04-10 02:34:19.330] [CUML] [info] Unused keyword parameter: n_jobs during cuML estimator initialization\n",
      "[2025-04-10 02:34:19.330] [CUML] [info] Unused keyword parameter: n_jobs during cuML estimator initialization\n",
      "[2025-04-10 02:34:19.330] [CUML] [info] Unused keyword parameter: n_jobs during cuML estimator initialization\n",
      "[CV 3/5] END ................n_neighbors=5, p=1;, score=0.684 total time=  22.5s\n",
      "[CV 1/5] END ................n_neighbors=5, p=3;, score=0.686 total time=  32.2s\n",
      "[CV 2/5] END ................n_neighbors=5, p=1;, score=0.684 total time=  33.5s\n",
      "[CV 3/5] END ................n_neighbors=6, p=1;, score=0.684 total time=  34.1s\n",
      "[CV 2/5] END ................n_neighbors=6, p=1;, score=0.684 total time=  34.3s\n",
      "[CV 5/5] END ................n_neighbors=5, p=3;, score=0.687 total time=  34.7s\n",
      "[CV 3/5] END ................n_neighbors=5, p=3;, score=0.684 total time=  34.8s\n",
      "[CV 2/5] END ................n_neighbors=5, p=3;, score=0.684 total time=  34.8s\n",
      "[CV 5/5] END ................n_neighbors=5, p=2;, score=0.687 total time=  34.8s\n",
      "[CV 1/5] END ................n_neighbors=5, p=1;, score=0.686 total time=  35.0s\n",
      "[CV 1/5] END ................n_neighbors=5, p=2;, score=0.686 total time=  35.0s\n",
      "[CV 5/5] END ................n_neighbors=6, p=1;, score=0.687 total time=  34.8s\n",
      "[CV 1/5] END ................n_neighbors=6, p=1;, score=0.685 total time=  34.9s\n",
      "[CV 5/5] END ................n_neighbors=5, p=1;, score=0.687 total time=  35.0s\n",
      "[CV 2/5] END ................n_neighbors=5, p=2;, score=0.684 total time=  34.9s\n",
      "[CV 4/5] END ................n_neighbors=5, p=2;, score=0.684 total time=  35.0s\n",
      "[CV 3/5] END ................n_neighbors=5, p=2;, score=0.684 total time=  34.8s\n",
      "[CV 4/5] END ................n_neighbors=6, p=1;, score=0.684 total time=  35.0s\n",
      "[CV 4/5] END ................n_neighbors=5, p=3;, score=0.684 total time=  35.1s\n",
      "[CV 1/5] END ................n_neighbors=6, p=2;, score=0.685 total time=  31.9s\n",
      "[2025-04-10 02:34:51.330] [CUML] [info] Unused keyword parameter: n_jobs during cuML estimator initialization\n",
      "[2025-04-10 02:34:51.331] [CUML] [info] Unused keyword parameter: n_jobs during cuML estimator initialization\n",
      "[2025-04-10 02:34:51.331] [CUML] [info] Unused keyword parameter: n_jobs during cuML estimator initialization\n",
      "[2025-04-10 02:34:51.331] [CUML] [info] Unused keyword parameter: n_jobs during cuML estimator initialization\n",
      "[2025-04-10 02:34:51.331] [CUML] [info] Unused keyword parameter: n_jobs during cuML estimator initialization\n",
      "[2025-04-10 02:34:51.332] [CUML] [info] Unused keyword parameter: n_jobs during cuML estimator initialization\n",
      "[2025-04-10 02:34:51.332] [CUML] [info] Unused keyword parameter: n_jobs during cuML estimator initialization\n",
      "[2025-04-10 02:34:51.332] [CUML] [info] Unused keyword parameter: n_jobs during cuML estimator initialization\n",
      "[2025-04-10 02:34:51.332] [CUML] [info] Unused keyword parameter: n_jobs during cuML estimator initialization\n",
      "[2025-04-10 02:34:51.333] [CUML] [info] Unused keyword parameter: n_jobs during cuML estimator initialization\n",
      "[2025-04-10 02:34:51.333] [CUML] [info] Unused keyword parameter: n_jobs during cuML estimator initialization\n",
      "[2025-04-10 02:34:51.333] [CUML] [info] Unused keyword parameter: n_jobs during cuML estimator initialization\n",
      "[2025-04-10 02:34:51.333] [CUML] [info] Unused keyword parameter: n_jobs during cuML estimator initialization\n",
      "[2025-04-10 02:34:51.338] [CUML] [info] Unused keyword parameter: n_jobs during cuML estimator initialization\n",
      "[2025-04-10 02:34:51.338] [CUML] [info] Unused keyword parameter: n_jobs during cuML estimator initialization\n",
      "[2025-04-10 02:34:51.338] [CUML] [info] Unused keyword parameter: n_jobs during cuML estimator initialization\n",
      "[2025-04-10 02:34:51.338] [CUML] [info] Unused keyword parameter: n_jobs during cuML estimator initialization\n",
      "[2025-04-10 02:34:51.338] [CUML] [info] Unused keyword parameter: n_jobs during cuML estimator initialization\n",
      "[2025-04-10 02:34:51.339] [CUML] [info] Unused keyword parameter: n_jobs during cuML estimator initialization\n",
      "[2025-04-10 02:34:51.339] [CUML] [info] Unused keyword parameter: n_jobs during cuML estimator initialization\n",
      "[CV 2/5] END ................n_neighbors=6, p=2;, score=0.684 total time=  31.4s\n",
      "[CV 3/5] END ................n_neighbors=6, p=2;, score=0.684 total time=  31.5s\n",
      "[CV 4/5] END ................n_neighbors=6, p=2;, score=0.684 total time=  31.5s\n",
      "[CV 5/5] END ................n_neighbors=6, p=2;, score=0.687 total time=  31.6s\n",
      "[CV 1/5] END ................n_neighbors=6, p=3;, score=0.685 total time=  31.6s\n",
      "[CV 2/5] END ................n_neighbors=6, p=3;, score=0.684 total time=  31.9s\n",
      "[CV 3/5] END ................n_neighbors=6, p=3;, score=0.684 total time=  32.2s\n",
      "[CV 4/5] END ................n_neighbors=6, p=3;, score=0.684 total time=  32.2s\n",
      "[CV 5/5] END ................n_neighbors=6, p=3;, score=0.687 total time=  32.1s\n",
      "[CV 3/5] END ................n_neighbors=7, p=1;, score=0.693 total time=  32.2s\n",
      "[CV 1/5] END ................n_neighbors=7, p=1;, score=0.693 total time=  32.2s\n",
      "[CV 2/5] END ................n_neighbors=7, p=1;, score=0.694 total time=  32.3s\n",
      "[CV 5/5] END ................n_neighbors=7, p=1;, score=0.695 total time=  32.3s\n",
      "[CV 3/5] END ................n_neighbors=7, p=2;, score=0.693 total time=  32.2s\n",
      "[CV 1/5] END ................n_neighbors=7, p=2;, score=0.693 total time=  32.3s\n",
      "[CV 2/5] END ................n_neighbors=7, p=2;, score=0.694 total time=  32.3s\n",
      "[CV 5/5] END ................n_neighbors=7, p=2;, score=0.695 total time=  32.1s\n",
      "[CV 4/5] END ................n_neighbors=7, p=1;, score=0.692 total time=  32.4s\n",
      "[CV 4/5] END ................n_neighbors=7, p=2;, score=0.692 total time=  32.3s\n",
      "[CV 1/5] END ................n_neighbors=7, p=3;, score=0.693 total time=  32.4s\n",
      "[2025-04-10 02:35:23.757] [CUML] [info] Unused keyword parameter: n_jobs during cuML estimator initialization\n",
      "[2025-04-10 02:35:23.757] [CUML] [info] Unused keyword parameter: n_jobs during cuML estimator initialization\n",
      "[2025-04-10 02:35:23.758] [CUML] [info] Unused keyword parameter: n_jobs during cuML estimator initialization\n",
      "[2025-04-10 02:35:23.758] [CUML] [info] Unused keyword parameter: n_jobs during cuML estimator initialization\n",
      "[2025-04-10 02:35:23.758] [CUML] [info] Unused keyword parameter: n_jobs during cuML estimator initialization\n",
      "[2025-04-10 02:35:23.758] [CUML] [info] Unused keyword parameter: n_jobs during cuML estimator initialization\n",
      "[2025-04-10 02:35:23.758] [CUML] [info] Unused keyword parameter: n_jobs during cuML estimator initialization\n",
      "[2025-04-10 02:35:23.758] [CUML] [info] Unused keyword parameter: n_jobs during cuML estimator initialization\n",
      "[2025-04-10 02:35:23.759] [CUML] [info] Unused keyword parameter: n_jobs during cuML estimator initialization\n",
      "[2025-04-10 02:35:23.759] [CUML] [info] Unused keyword parameter: n_jobs during cuML estimator initialization\n",
      "[2025-04-10 02:35:23.759] [CUML] [info] Unused keyword parameter: n_jobs during cuML estimator initialization\n",
      "[2025-04-10 02:35:23.759] [CUML] [info] Unused keyword parameter: n_jobs during cuML estimator initialization\n",
      "[2025-04-10 02:35:23.759] [CUML] [info] Unused keyword parameter: n_jobs during cuML estimator initialization\n",
      "[2025-04-10 02:35:23.759] [CUML] [info] Unused keyword parameter: n_jobs during cuML estimator initialization\n",
      "[2025-04-10 02:35:23.760] [CUML] [info] Unused keyword parameter: n_jobs during cuML estimator initialization\n",
      "[2025-04-10 02:35:23.760] [CUML] [info] Unused keyword parameter: n_jobs during cuML estimator initialization\n",
      "[2025-04-10 02:35:23.760] [CUML] [info] Unused keyword parameter: n_jobs during cuML estimator initialization\n",
      "[2025-04-10 02:35:23.760] [CUML] [info] Unused keyword parameter: n_jobs during cuML estimator initialization\n",
      "[2025-04-10 02:35:23.760] [CUML] [info] Unused keyword parameter: n_jobs during cuML estimator initialization\n",
      "[2025-04-10 02:35:23.760] [CUML] [info] Unused keyword parameter: n_jobs during cuML estimator initialization\n",
      "[CV 2/5] END ................n_neighbors=7, p=3;, score=0.694 total time=  32.1s\n",
      "[CV 3/5] END ................n_neighbors=7, p=3;, score=0.693 total time=  32.2s\n",
      "[CV 4/5] END ................n_neighbors=7, p=3;, score=0.692 total time=  32.2s\n",
      "[CV 5/5] END ................n_neighbors=7, p=3;, score=0.695 total time=  31.9s\n",
      "[CV 1/5] END ................n_neighbors=8, p=1;, score=0.694 total time=  32.0s\n",
      "[CV 2/5] END ................n_neighbors=8, p=1;, score=0.694 total time=  32.2s\n",
      "[CV 4/5] END ................n_neighbors=8, p=1;, score=0.693 total time=  32.1s\n",
      "[CV 3/5] END ................n_neighbors=8, p=1;, score=0.693 total time=  32.1s\n",
      "[CV 5/5] END ................n_neighbors=8, p=1;, score=0.695 total time=  32.1s\n",
      "[CV 1/5] END ................n_neighbors=8, p=2;, score=0.694 total time=  32.2s\n",
      "[CV 2/5] END ................n_neighbors=8, p=2;, score=0.694 total time=  32.2s\n",
      "[CV 5/5] END ................n_neighbors=8, p=2;, score=0.695 total time=  32.1s\n",
      "[CV 3/5] END ................n_neighbors=8, p=2;, score=0.693 total time=  32.2s\n",
      "[CV 3/5] END ................n_neighbors=8, p=3;, score=0.693 total time=  32.2s\n",
      "[CV 4/5] END ................n_neighbors=8, p=3;, score=0.693 total time=  32.1s\n",
      "[CV 4/5] END ................n_neighbors=8, p=2;, score=0.693 total time=  32.3s\n",
      "[CV 2/5] END ................n_neighbors=8, p=3;, score=0.694 total time=  32.2s\n",
      "[CV 1/5] END ................n_neighbors=8, p=3;, score=0.694 total time=  32.3s\n",
      "[CV 5/5] END ................n_neighbors=8, p=3;, score=0.695 total time=  32.2s\n",
      "[CV 1/5] END ................n_neighbors=9, p=1;, score=0.699 total time=  32.5s\n",
      "[2025-04-10 02:35:56.249] [CUML] [info] Unused keyword parameter: n_jobs during cuML estimator initialization\n",
      "[2025-04-10 02:35:56.249] [CUML] [info] Unused keyword parameter: n_jobs during cuML estimator initialization\n",
      "[2025-04-10 02:35:56.249] [CUML] [info] Unused keyword parameter: n_jobs during cuML estimator initialization\n",
      "[2025-04-10 02:35:56.249] [CUML] [info] Unused keyword parameter: n_jobs during cuML estimator initialization\n",
      "[2025-04-10 02:35:56.249] [CUML] [info] Unused keyword parameter: n_jobs during cuML estimator initialization\n",
      "[2025-04-10 02:35:56.250] [CUML] [info] Unused keyword parameter: n_jobs during cuML estimator initialization\n",
      "[2025-04-10 02:35:56.250] [CUML] [info] Unused keyword parameter: n_jobs during cuML estimator initialization\n",
      "[2025-04-10 02:35:56.250] [CUML] [info] Unused keyword parameter: n_jobs during cuML estimator initialization\n",
      "[2025-04-10 02:35:56.250] [CUML] [info] Unused keyword parameter: n_jobs during cuML estimator initialization\n",
      "[2025-04-10 02:35:56.250] [CUML] [info] Unused keyword parameter: n_jobs during cuML estimator initialization\n",
      "[2025-04-10 02:35:56.250] [CUML] [info] Unused keyword parameter: n_jobs during cuML estimator initialization\n",
      "[2025-04-10 02:35:56.250] [CUML] [info] Unused keyword parameter: n_jobs during cuML estimator initialization\n",
      "[2025-04-10 02:35:56.251] [CUML] [info] Unused keyword parameter: n_jobs during cuML estimator initialization\n",
      "[2025-04-10 02:35:56.251] [CUML] [info] Unused keyword parameter: n_jobs during cuML estimator initialization\n",
      "[2025-04-10 02:35:56.251] [CUML] [info] Unused keyword parameter: n_jobs during cuML estimator initialization\n",
      "[2025-04-10 02:35:56.251] [CUML] [info] Unused keyword parameter: n_jobs during cuML estimator initialization\n",
      "[2025-04-10 02:35:56.251] [CUML] [info] Unused keyword parameter: n_jobs during cuML estimator initialization\n",
      "[2025-04-10 02:35:56.252] [CUML] [info] Unused keyword parameter: n_jobs during cuML estimator initialization\n",
      "[2025-04-10 02:35:56.255] [CUML] [info] Unused keyword parameter: n_jobs during cuML estimator initialization\n",
      "[2025-04-10 02:35:56.255] [CUML] [info] Unused keyword parameter: n_jobs during cuML estimator initialization\n",
      "[CV 2/5] END ................n_neighbors=9, p=1;, score=0.700 total time=  32.2s\n",
      "[CV 3/5] END ................n_neighbors=9, p=1;, score=0.698 total time=  32.1s\n",
      "[CV 4/5] END ................n_neighbors=9, p=1;, score=0.698 total time=  32.1s\n",
      "[CV 5/5] END ................n_neighbors=9, p=1;, score=0.700 total time=  32.1s\n",
      "[CV 1/5] END ................n_neighbors=9, p=2;, score=0.699 total time=  32.2s\n",
      "[CV 2/5] END ................n_neighbors=9, p=2;, score=0.700 total time=  32.1s\n",
      "[CV 4/5] END ................n_neighbors=9, p=2;, score=0.698 total time=  32.0s\n",
      "[CV 5/5] END ................n_neighbors=9, p=2;, score=0.700 total time=  32.0s\n",
      "[CV 3/5] END ................n_neighbors=9, p=2;, score=0.698 total time=  32.1s\n",
      "[CV 1/5] END ................n_neighbors=9, p=3;, score=0.699 total time=  32.1s\n",
      "[CV 2/5] END ................n_neighbors=9, p=3;, score=0.700 total time=  32.1s\n",
      "[CV 3/5] END ................n_neighbors=9, p=3;, score=0.698 total time=  32.1s\n",
      "[CV 4/5] END ................n_neighbors=9, p=3;, score=0.698 total time=  32.2s\n",
      "[CV 5/5] END ................n_neighbors=9, p=3;, score=0.700 total time=  32.1s\n",
      "[CV 4/5] END ...............n_neighbors=10, p=1;, score=0.698 total time=  32.2s\n",
      "[CV 1/5] END ...............n_neighbors=10, p=1;, score=0.699 total time=  32.2s\n",
      "[CV 3/5] END ...............n_neighbors=10, p=1;, score=0.697 total time=  32.3s\n",
      "[CV 2/5] END ...............n_neighbors=10, p=1;, score=0.700 total time=  32.3s\n",
      "[CV 5/5] END ...............n_neighbors=10, p=1;, score=0.700 total time=  32.2s\n",
      "[CV 1/5] END ...............n_neighbors=10, p=2;, score=0.699 total time=  32.5s\n",
      "[2025-04-10 02:36:28.770] [CUML] [info] Unused keyword parameter: n_jobs during cuML estimator initialization\n",
      "[2025-04-10 02:36:28.770] [CUML] [info] Unused keyword parameter: n_jobs during cuML estimator initialization\n",
      "[2025-04-10 02:36:28.770] [CUML] [info] Unused keyword parameter: n_jobs during cuML estimator initialization\n",
      "[2025-04-10 02:36:28.770] [CUML] [info] Unused keyword parameter: n_jobs during cuML estimator initialization\n",
      "[2025-04-10 02:36:28.770] [CUML] [info] Unused keyword parameter: n_jobs during cuML estimator initialization\n",
      "[2025-04-10 02:36:28.770] [CUML] [info] Unused keyword parameter: n_jobs during cuML estimator initialization\n",
      "[2025-04-10 02:36:28.771] [CUML] [info] Unused keyword parameter: n_jobs during cuML estimator initialization\n",
      "[2025-04-10 02:36:28.771] [CUML] [info] Unused keyword parameter: n_jobs during cuML estimator initialization\n",
      "[2025-04-10 02:36:28.771] [CUML] [info] Unused keyword parameter: n_jobs during cuML estimator initialization\n",
      "[2025-04-10 02:36:28.771] [CUML] [info] Unused keyword parameter: n_jobs during cuML estimator initialization\n",
      "[2025-04-10 02:36:28.771] [CUML] [info] Unused keyword parameter: n_jobs during cuML estimator initialization\n",
      "[2025-04-10 02:36:28.771] [CUML] [info] Unused keyword parameter: n_jobs during cuML estimator initialization\n",
      "[2025-04-10 02:36:28.771] [CUML] [info] Unused keyword parameter: n_jobs during cuML estimator initialization\n",
      "[2025-04-10 02:36:28.772] [CUML] [info] Unused keyword parameter: n_jobs during cuML estimator initialization\n",
      "[2025-04-10 02:36:28.772] [CUML] [info] Unused keyword parameter: n_jobs during cuML estimator initialization\n",
      "[2025-04-10 02:36:28.772] [CUML] [info] Unused keyword parameter: n_jobs during cuML estimator initialization\n",
      "[2025-04-10 02:36:28.772] [CUML] [info] Unused keyword parameter: n_jobs during cuML estimator initialization\n",
      "[2025-04-10 02:36:28.772] [CUML] [info] Unused keyword parameter: n_jobs during cuML estimator initialization\n",
      "[2025-04-10 02:36:28.772] [CUML] [info] Unused keyword parameter: n_jobs during cuML estimator initialization\n",
      "[2025-04-10 02:36:28.776] [CUML] [info] Unused keyword parameter: n_jobs during cuML estimator initialization\n",
      "[CV 2/5] END ...............n_neighbors=10, p=2;, score=0.700 total time=  32.1s\n",
      "[CV 3/5] END ...............n_neighbors=10, p=2;, score=0.697 total time=  32.3s\n",
      "[CV 4/5] END ...............n_neighbors=10, p=2;, score=0.698 total time=  32.1s\n",
      "[CV 5/5] END ...............n_neighbors=10, p=2;, score=0.700 total time=  32.2s\n",
      "[CV 1/5] END ...............n_neighbors=10, p=3;, score=0.699 total time=  32.1s\n",
      "[CV 2/5] END ...............n_neighbors=10, p=3;, score=0.700 total time=  32.3s\n",
      "[CV 4/5] END ...............n_neighbors=10, p=3;, score=0.698 total time=  32.1s\n",
      "[CV 3/5] END ...............n_neighbors=10, p=3;, score=0.697 total time=  32.2s\n",
      "[CV 5/5] END ...............n_neighbors=10, p=3;, score=0.700 total time=  32.2s\n",
      "[CV 1/5] END ...............n_neighbors=11, p=1;, score=0.702 total time=  32.2s\n",
      "[CV 2/5] END ...............n_neighbors=11, p=1;, score=0.704 total time=  32.3s\n",
      "[CV 4/5] END ...............n_neighbors=11, p=1;, score=0.702 total time=  32.2s\n",
      "[CV 3/5] END ...............n_neighbors=11, p=1;, score=0.702 total time=  32.3s\n",
      "[CV 5/5] END ...............n_neighbors=11, p=1;, score=0.704 total time=  32.2s\n",
      "[CV 1/5] END ...............n_neighbors=11, p=2;, score=0.702 total time=  32.3s\n",
      "[CV 5/5] END ...............n_neighbors=11, p=2;, score=0.704 total time=  32.2s\n",
      "[CV 2/5] END ...............n_neighbors=11, p=2;, score=0.704 total time=  32.3s\n",
      "[CV 3/5] END ...............n_neighbors=11, p=2;, score=0.702 total time=  32.3s\n",
      "[CV 4/5] END ...............n_neighbors=11, p=2;, score=0.702 total time=  32.4s\n",
      "[CV 1/5] END ...............n_neighbors=11, p=3;, score=0.702 total time=  32.6s\n",
      "[2025-04-10 02:37:01.393] [CUML] [info] Unused keyword parameter: n_jobs during cuML estimator initialization\n",
      "[2025-04-10 02:37:01.393] [CUML] [info] Unused keyword parameter: n_jobs during cuML estimator initialization\n",
      "[2025-04-10 02:37:01.394] [CUML] [info] Unused keyword parameter: n_jobs during cuML estimator initialization\n",
      "[2025-04-10 02:37:01.394] [CUML] [info] Unused keyword parameter: n_jobs during cuML estimator initialization\n",
      "[2025-04-10 02:37:01.394] [CUML] [info] Unused keyword parameter: n_jobs during cuML estimator initialization\n",
      "[2025-04-10 02:37:01.394] [CUML] [info] Unused keyword parameter: n_jobs during cuML estimator initialization\n",
      "[2025-04-10 02:37:01.394] [CUML] [info] Unused keyword parameter: n_jobs during cuML estimator initialization\n",
      "[2025-04-10 02:37:01.394] [CUML] [info] Unused keyword parameter: n_jobs during cuML estimator initialization\n",
      "[2025-04-10 02:37:01.394] [CUML] [info] Unused keyword parameter: n_jobs during cuML estimator initialization\n",
      "[2025-04-10 02:37:01.395] [CUML] [info] Unused keyword parameter: n_jobs during cuML estimator initialization\n",
      "[2025-04-10 02:37:01.395] [CUML] [info] Unused keyword parameter: n_jobs during cuML estimator initialization\n",
      "[2025-04-10 02:37:01.395] [CUML] [info] Unused keyword parameter: n_jobs during cuML estimator initialization\n",
      "[2025-04-10 02:37:01.395] [CUML] [info] Unused keyword parameter: n_jobs during cuML estimator initialization\n",
      "[2025-04-10 02:37:01.395] [CUML] [info] Unused keyword parameter: n_jobs during cuML estimator initialization\n",
      "[2025-04-10 02:37:01.395] [CUML] [info] Unused keyword parameter: n_jobs during cuML estimator initialization\n",
      "[2025-04-10 02:37:01.396] [CUML] [info] Unused keyword parameter: n_jobs during cuML estimator initialization\n",
      "[2025-04-10 02:37:01.396] [CUML] [info] Unused keyword parameter: n_jobs during cuML estimator initialization\n",
      "[2025-04-10 02:37:01.396] [CUML] [info] Unused keyword parameter: n_jobs during cuML estimator initialization\n",
      "[2025-04-10 02:37:01.396] [CUML] [info] Unused keyword parameter: n_jobs during cuML estimator initialization\n",
      "[2025-04-10 02:37:01.396] [CUML] [info] Unused keyword parameter: n_jobs during cuML estimator initialization\n",
      "[CV 2/5] END ...............n_neighbors=11, p=3;, score=0.704 total time=  32.1s\n",
      "[CV 3/5] END ...............n_neighbors=11, p=3;, score=0.702 total time=  32.3s\n",
      "[CV 4/5] END ...............n_neighbors=11, p=3;, score=0.702 total time=  32.2s\n",
      "[CV 5/5] END ...............n_neighbors=11, p=3;, score=0.704 total time=  32.1s\n",
      "[CV 1/5] END ...............n_neighbors=12, p=1;, score=0.703 total time=  32.2s\n",
      "[CV 2/5] END ...............n_neighbors=12, p=1;, score=0.704 total time=  32.2s\n",
      "[CV 4/5] END ...............n_neighbors=12, p=1;, score=0.702 total time=  32.2s\n",
      "[CV 5/5] END ...............n_neighbors=12, p=1;, score=0.704 total time=  32.1s\n",
      "[CV 3/5] END ...............n_neighbors=12, p=1;, score=0.701 total time=  32.3s\n",
      "[CV 1/5] END ...............n_neighbors=12, p=2;, score=0.703 total time=  32.2s\n",
      "[CV 2/5] END ...............n_neighbors=12, p=2;, score=0.704 total time=  32.2s\n",
      "[CV 5/5] END ...............n_neighbors=12, p=2;, score=0.704 total time=  32.2s\n",
      "[CV 4/5] END ...............n_neighbors=12, p=2;, score=0.702 total time=  32.3s\n",
      "[CV 3/5] END ...............n_neighbors=12, p=2;, score=0.701 total time=  32.3s\n",
      "[CV 3/5] END ...............n_neighbors=12, p=3;, score=0.701 total time=  32.2s\n",
      "[CV 4/5] END ...............n_neighbors=12, p=3;, score=0.702 total time=  32.2s\n",
      "[CV 1/5] END ...............n_neighbors=12, p=3;, score=0.703 total time=  32.3s\n",
      "[CV 2/5] END ...............n_neighbors=12, p=3;, score=0.704 total time=  32.3s\n",
      "[CV 5/5] END ...............n_neighbors=12, p=3;, score=0.704 total time=  32.3s\n",
      "[CV 1/5] END ...............n_neighbors=13, p=1;, score=0.705 total time=  32.6s\n",
      "[2025-04-10 02:37:34.080] [CUML] [info] Unused keyword parameter: n_jobs during cuML estimator initialization\n",
      "[2025-04-10 02:37:34.080] [CUML] [info] Unused keyword parameter: n_jobs during cuML estimator initialization\n",
      "[2025-04-10 02:37:34.080] [CUML] [info] Unused keyword parameter: n_jobs during cuML estimator initialization\n",
      "[2025-04-10 02:37:34.080] [CUML] [info] Unused keyword parameter: n_jobs during cuML estimator initialization\n",
      "[2025-04-10 02:37:34.080] [CUML] [info] Unused keyword parameter: n_jobs during cuML estimator initialization\n",
      "[2025-04-10 02:37:34.081] [CUML] [info] Unused keyword parameter: n_jobs during cuML estimator initialization\n",
      "[2025-04-10 02:37:34.081] [CUML] [info] Unused keyword parameter: n_jobs during cuML estimator initialization\n",
      "[2025-04-10 02:37:34.081] [CUML] [info] Unused keyword parameter: n_jobs during cuML estimator initialization\n",
      "[2025-04-10 02:37:34.081] [CUML] [info] Unused keyword parameter: n_jobs during cuML estimator initialization\n",
      "[2025-04-10 02:37:34.081] [CUML] [info] Unused keyword parameter: n_jobs during cuML estimator initialization\n",
      "[2025-04-10 02:37:34.081] [CUML] [info] Unused keyword parameter: n_jobs during cuML estimator initialization\n",
      "[2025-04-10 02:37:34.081] [CUML] [info] Unused keyword parameter: n_jobs during cuML estimator initialization\n",
      "[2025-04-10 02:37:34.082] [CUML] [info] Unused keyword parameter: n_jobs during cuML estimator initialization\n",
      "[2025-04-10 02:37:34.082] [CUML] [info] Unused keyword parameter: n_jobs during cuML estimator initialization\n",
      "[2025-04-10 02:37:34.082] [CUML] [info] Unused keyword parameter: n_jobs during cuML estimator initialization\n",
      "[2025-04-10 02:37:34.082] [CUML] [info] Unused keyword parameter: n_jobs during cuML estimator initialization\n",
      "[2025-04-10 02:37:34.082] [CUML] [info] Unused keyword parameter: n_jobs during cuML estimator initialization\n",
      "[2025-04-10 02:37:34.083] [CUML] [info] Unused keyword parameter: n_jobs during cuML estimator initialization\n",
      "[2025-04-10 02:37:34.088] [CUML] [info] Unused keyword parameter: n_jobs during cuML estimator initialization\n",
      "[2025-04-10 02:37:34.088] [CUML] [info] Unused keyword parameter: n_jobs during cuML estimator initialization\n",
      "[CV 2/5] END ...............n_neighbors=13, p=1;, score=0.707 total time=  32.2s\n",
      "[CV 3/5] END ...............n_neighbors=13, p=1;, score=0.704 total time=  32.2s\n",
      "[CV 4/5] END ...............n_neighbors=13, p=1;, score=0.704 total time=  32.2s\n",
      "[CV 5/5] END ...............n_neighbors=13, p=1;, score=0.706 total time=  32.2s\n",
      "[CV 1/5] END ...............n_neighbors=13, p=2;, score=0.705 total time=  32.1s\n",
      "[CV 2/5] END ...............n_neighbors=13, p=2;, score=0.707 total time=  32.2s\n",
      "[CV 3/5] END ...............n_neighbors=13, p=2;, score=0.704 total time=  32.1s\n",
      "[CV 4/5] END ...............n_neighbors=13, p=2;, score=0.704 total time=  32.2s\n",
      "[CV 5/5] END ...............n_neighbors=13, p=2;, score=0.706 total time=  32.2s\n",
      "[CV 1/5] END ...............n_neighbors=13, p=3;, score=0.705 total time=  32.3s\n",
      "[CV 2/5] END ...............n_neighbors=13, p=3;, score=0.707 total time=  32.3s\n",
      "[CV 3/5] END ...............n_neighbors=13, p=3;, score=0.704 total time=  32.4s\n",
      "[CV 5/5] END ...............n_neighbors=13, p=3;, score=0.706 total time=  32.3s\n",
      "[CV 4/5] END ...............n_neighbors=13, p=3;, score=0.704 total time=  32.4s\n",
      "[CV 1/5] END ...............n_neighbors=14, p=1;, score=0.706 total time=  32.4s\n",
      "[CV 4/5] END ...............n_neighbors=14, p=1;, score=0.705 total time=  32.3s\n",
      "[CV 2/5] END ...............n_neighbors=14, p=1;, score=0.707 total time=  32.4s\n",
      "[CV 3/5] END ...............n_neighbors=14, p=1;, score=0.704 total time=  32.4s\n",
      "[CV 5/5] END ...............n_neighbors=14, p=1;, score=0.707 total time=  32.3s\n",
      "[CV 1/5] END ...............n_neighbors=14, p=2;, score=0.706 total time=  32.6s\n",
      "[2025-04-10 02:38:06.713] [CUML] [info] Unused keyword parameter: n_jobs during cuML estimator initialization\n",
      "[2025-04-10 02:38:06.713] [CUML] [info] Unused keyword parameter: n_jobs during cuML estimator initialization\n",
      "[2025-04-10 02:38:06.713] [CUML] [info] Unused keyword parameter: n_jobs during cuML estimator initialization\n",
      "[2025-04-10 02:38:06.714] [CUML] [info] Unused keyword parameter: n_jobs during cuML estimator initialization\n",
      "[2025-04-10 02:38:06.714] [CUML] [info] Unused keyword parameter: n_jobs during cuML estimator initialization\n",
      "[2025-04-10 02:38:06.714] [CUML] [info] Unused keyword parameter: n_jobs during cuML estimator initialization\n",
      "[2025-04-10 02:38:06.714] [CUML] [info] Unused keyword parameter: n_jobs during cuML estimator initialization\n",
      "[2025-04-10 02:38:06.714] [CUML] [info] Unused keyword parameter: n_jobs during cuML estimator initialization\n",
      "[2025-04-10 02:38:06.714] [CUML] [info] Unused keyword parameter: n_jobs during cuML estimator initialization\n",
      "[2025-04-10 02:38:06.714] [CUML] [info] Unused keyword parameter: n_jobs during cuML estimator initialization\n",
      "[2025-04-10 02:38:06.715] [CUML] [info] Unused keyword parameter: n_jobs during cuML estimator initialization\n",
      "[2025-04-10 02:38:06.715] [CUML] [info] Unused keyword parameter: n_jobs during cuML estimator initialization\n",
      "[2025-04-10 02:38:06.715] [CUML] [info] Unused keyword parameter: n_jobs during cuML estimator initialization\n",
      "[2025-04-10 02:38:06.715] [CUML] [info] Unused keyword parameter: n_jobs during cuML estimator initialization\n",
      "[2025-04-10 02:38:06.715] [CUML] [info] Unused keyword parameter: n_jobs during cuML estimator initialization\n",
      "[2025-04-10 02:38:06.715] [CUML] [info] Unused keyword parameter: n_jobs during cuML estimator initialization\n",
      "[2025-04-10 02:38:06.715] [CUML] [info] Unused keyword parameter: n_jobs during cuML estimator initialization\n",
      "[2025-04-10 02:38:06.716] [CUML] [info] Unused keyword parameter: n_jobs during cuML estimator initialization\n",
      "[2025-04-10 02:38:06.716] [CUML] [info] Unused keyword parameter: n_jobs during cuML estimator initialization\n",
      "[2025-04-10 02:38:06.716] [CUML] [info] Unused keyword parameter: n_jobs during cuML estimator initialization\n",
      "[CV 2/5] END ...............n_neighbors=14, p=2;, score=0.707 total time=  32.2s\n",
      "[CV 3/5] END ...............n_neighbors=14, p=2;, score=0.704 total time=  32.3s\n",
      "[CV 4/5] END ...............n_neighbors=14, p=2;, score=0.705 total time=  32.1s\n",
      "[CV 5/5] END ...............n_neighbors=14, p=2;, score=0.707 total time=  32.4s\n",
      "[CV 1/5] END ...............n_neighbors=14, p=3;, score=0.706 total time=  32.3s\n",
      "[CV 4/5] END ...............n_neighbors=14, p=3;, score=0.705 total time=  32.2s\n",
      "[CV 2/5] END ...............n_neighbors=14, p=3;, score=0.707 total time=  32.3s\n",
      "[CV 3/5] END ...............n_neighbors=14, p=3;, score=0.704 total time=  32.3s\n",
      "[CV 5/5] END ...............n_neighbors=14, p=3;, score=0.707 total time=  32.3s\n",
      "[CV 1/5] END ...............n_neighbors=15, p=1;, score=0.708 total time=  32.2s\n",
      "[CV 2/5] END ...............n_neighbors=15, p=1;, score=0.709 total time=  32.4s\n",
      "[CV 4/5] END ...............n_neighbors=15, p=1;, score=0.707 total time=  32.3s\n",
      "[CV 3/5] END ...............n_neighbors=15, p=1;, score=0.706 total time=  32.4s\n",
      "[CV 5/5] END ...............n_neighbors=15, p=1;, score=0.708 total time=  32.4s\n",
      "[CV 1/5] END ...............n_neighbors=15, p=2;, score=0.708 total time=  32.3s\n",
      "[CV 2/5] END ...............n_neighbors=15, p=2;, score=0.709 total time=  32.4s\n",
      "[CV 3/5] END ...............n_neighbors=15, p=2;, score=0.706 total time=  32.4s\n",
      "[CV 5/5] END ...............n_neighbors=15, p=2;, score=0.708 total time=  32.3s\n",
      "[CV 4/5] END ...............n_neighbors=15, p=2;, score=0.707 total time=  32.4s\n",
      "[CV 1/5] END ...............n_neighbors=15, p=3;, score=0.708 total time=  32.7s\n",
      "[2025-04-10 02:38:39.392] [CUML] [info] Unused keyword parameter: n_jobs during cuML estimator initialization\n",
      "[2025-04-10 02:38:39.392] [CUML] [info] Unused keyword parameter: n_jobs during cuML estimator initialization\n",
      "[2025-04-10 02:38:39.392] [CUML] [info] Unused keyword parameter: n_jobs during cuML estimator initialization\n",
      "[2025-04-10 02:38:39.393] [CUML] [info] Unused keyword parameter: n_jobs during cuML estimator initialization\n",
      "[2025-04-10 02:38:39.393] [CUML] [info] Unused keyword parameter: n_jobs during cuML estimator initialization\n",
      "[2025-04-10 02:38:39.393] [CUML] [info] Unused keyword parameter: n_jobs during cuML estimator initialization\n",
      "[2025-04-10 02:38:39.393] [CUML] [info] Unused keyword parameter: n_jobs during cuML estimator initialization\n",
      "[2025-04-10 02:38:39.393] [CUML] [info] Unused keyword parameter: n_jobs during cuML estimator initialization\n",
      "[2025-04-10 02:38:39.393] [CUML] [info] Unused keyword parameter: n_jobs during cuML estimator initialization\n",
      "[2025-04-10 02:38:39.393] [CUML] [info] Unused keyword parameter: n_jobs during cuML estimator initialization\n",
      "[2025-04-10 02:38:39.394] [CUML] [info] Unused keyword parameter: n_jobs during cuML estimator initialization\n",
      "[2025-04-10 02:38:39.394] [CUML] [info] Unused keyword parameter: n_jobs during cuML estimator initialization\n",
      "[2025-04-10 02:38:39.394] [CUML] [info] Unused keyword parameter: n_jobs during cuML estimator initialization\n",
      "[2025-04-10 02:38:39.394] [CUML] [info] Unused keyword parameter: n_jobs during cuML estimator initialization\n",
      "[2025-04-10 02:38:39.394] [CUML] [info] Unused keyword parameter: n_jobs during cuML estimator initialization\n",
      "[2025-04-10 02:38:39.394] [CUML] [info] Unused keyword parameter: n_jobs during cuML estimator initialization\n",
      "[2025-04-10 02:38:39.394] [CUML] [info] Unused keyword parameter: n_jobs during cuML estimator initialization\n",
      "[2025-04-10 02:38:39.395] [CUML] [info] Unused keyword parameter: n_jobs during cuML estimator initialization\n",
      "[2025-04-10 02:38:39.395] [CUML] [info] Unused keyword parameter: n_jobs during cuML estimator initialization\n",
      "[2025-04-10 02:38:39.395] [CUML] [info] Unused keyword parameter: n_jobs during cuML estimator initialization\n",
      "[CV 2/5] END ...............n_neighbors=15, p=3;, score=0.709 total time=  32.5s\n",
      "[CV 3/5] END ...............n_neighbors=15, p=3;, score=0.706 total time=  32.3s\n",
      "[CV 4/5] END ...............n_neighbors=15, p=3;, score=0.707 total time=  32.2s\n",
      "[CV 5/5] END ...............n_neighbors=15, p=3;, score=0.708 total time=  32.3s\n",
      "[CV 1/5] END ...............n_neighbors=16, p=1;, score=0.709 total time=  32.3s\n",
      "[CV 2/5] END ...............n_neighbors=16, p=1;, score=0.709 total time=  32.4s\n",
      "[CV 3/5] END ...............n_neighbors=16, p=1;, score=0.706 total time=  32.4s\n",
      "[CV 4/5] END ...............n_neighbors=16, p=1;, score=0.707 total time=  32.5s\n",
      "[CV 5/5] END ...............n_neighbors=16, p=1;, score=0.709 total time=  32.4s\n",
      "[CV 1/5] END ...............n_neighbors=16, p=2;, score=0.709 total time=  32.3s\n",
      "[CV 2/5] END ...............n_neighbors=16, p=2;, score=0.709 total time=  32.4s\n",
      "[CV 3/5] END ...............n_neighbors=16, p=2;, score=0.706 total time=  32.5s\n",
      "[CV 4/5] END ...............n_neighbors=16, p=2;, score=0.707 total time=  32.4s\n",
      "[CV 5/5] END ...............n_neighbors=16, p=2;, score=0.709 total time=  32.5s\n",
      "[CV 1/5] END ...............n_neighbors=16, p=3;, score=0.709 total time=  32.4s\n",
      "[CV 2/5] END ...............n_neighbors=16, p=3;, score=0.709 total time=  32.4s\n",
      "[CV 3/5] END ...............n_neighbors=16, p=3;, score=0.706 total time=  32.4s\n",
      "[CV 4/5] END ...............n_neighbors=16, p=3;, score=0.707 total time=  32.5s\n",
      "[CV 5/5] END ...............n_neighbors=16, p=3;, score=0.709 total time=  32.5s\n",
      "[CV 1/5] END ...............n_neighbors=17, p=1;, score=0.710 total time=  32.7s\n",
      "[2025-04-10 02:39:12.126] [CUML] [info] Unused keyword parameter: n_jobs during cuML estimator initialization\n",
      "[2025-04-10 02:39:12.126] [CUML] [info] Unused keyword parameter: n_jobs during cuML estimator initialization\n",
      "[2025-04-10 02:39:12.126] [CUML] [info] Unused keyword parameter: n_jobs during cuML estimator initialization\n",
      "[2025-04-10 02:39:12.126] [CUML] [info] Unused keyword parameter: n_jobs during cuML estimator initialization\n",
      "[2025-04-10 02:39:12.127] [CUML] [info] Unused keyword parameter: n_jobs during cuML estimator initialization\n",
      "[2025-04-10 02:39:12.127] [CUML] [info] Unused keyword parameter: n_jobs during cuML estimator initialization\n",
      "[2025-04-10 02:39:12.127] [CUML] [info] Unused keyword parameter: n_jobs during cuML estimator initialization\n",
      "[2025-04-10 02:39:12.127] [CUML] [info] Unused keyword parameter: n_jobs during cuML estimator initialization\n",
      "[2025-04-10 02:39:12.127] [CUML] [info] Unused keyword parameter: n_jobs during cuML estimator initialization\n",
      "[2025-04-10 02:39:12.127] [CUML] [info] Unused keyword parameter: n_jobs during cuML estimator initialization\n",
      "[2025-04-10 02:39:12.128] [CUML] [info] Unused keyword parameter: n_jobs during cuML estimator initialization\n",
      "[2025-04-10 02:39:12.128] [CUML] [info] Unused keyword parameter: n_jobs during cuML estimator initialization\n",
      "[2025-04-10 02:39:12.128] [CUML] [info] Unused keyword parameter: n_jobs during cuML estimator initialization\n",
      "[2025-04-10 02:39:12.128] [CUML] [info] Unused keyword parameter: n_jobs during cuML estimator initialization\n",
      "[2025-04-10 02:39:12.128] [CUML] [info] Unused keyword parameter: n_jobs during cuML estimator initialization\n",
      "[2025-04-10 02:39:12.128] [CUML] [info] Unused keyword parameter: n_jobs during cuML estimator initialization\n",
      "[2025-04-10 02:39:12.128] [CUML] [info] Unused keyword parameter: n_jobs during cuML estimator initialization\n",
      "[2025-04-10 02:39:12.128] [CUML] [info] Unused keyword parameter: n_jobs during cuML estimator initialization\n",
      "[2025-04-10 02:39:12.136] [CUML] [info] Unused keyword parameter: n_jobs during cuML estimator initialization\n",
      "[2025-04-10 02:39:12.136] [CUML] [info] Unused keyword parameter: n_jobs during cuML estimator initialization\n",
      "[CV 2/5] END ...............n_neighbors=17, p=1;, score=0.710 total time=  32.4s\n",
      "[CV 3/5] END ...............n_neighbors=17, p=1;, score=0.707 total time=  32.4s\n",
      "[CV 4/5] END ...............n_neighbors=17, p=1;, score=0.709 total time=  32.4s\n",
      "[CV 5/5] END ...............n_neighbors=17, p=1;, score=0.709 total time=  32.3s\n",
      "[CV 1/5] END ...............n_neighbors=17, p=2;, score=0.710 total time=  32.3s\n",
      "[CV 2/5] END ...............n_neighbors=17, p=2;, score=0.710 total time=  32.4s\n",
      "[CV 3/5] END ...............n_neighbors=17, p=2;, score=0.707 total time=  32.5s\n",
      "[CV 4/5] END ...............n_neighbors=17, p=2;, score=0.709 total time=  32.5s\n",
      "[CV 1/5] END ...............n_neighbors=17, p=3;, score=0.710 total time=  32.3s\n",
      "[CV 5/5] END ...............n_neighbors=17, p=2;, score=0.709 total time=  32.5s\n",
      "[CV 2/5] END ...............n_neighbors=17, p=3;, score=0.710 total time=  32.4s\n",
      "[CV 3/5] END ...............n_neighbors=17, p=3;, score=0.707 total time=  32.4s\n",
      "[CV 4/5] END ...............n_neighbors=17, p=3;, score=0.709 total time=  32.4s\n",
      "[CV 5/5] END ...............n_neighbors=17, p=3;, score=0.709 total time=  32.4s\n",
      "[CV 1/5] END ...............n_neighbors=18, p=1;, score=0.710 total time=  32.4s\n",
      "[CV 2/5] END ...............n_neighbors=18, p=1;, score=0.710 total time=  32.4s\n",
      "[CV 3/5] END ...............n_neighbors=18, p=1;, score=0.708 total time=  32.4s\n",
      "[CV 4/5] END ...............n_neighbors=18, p=1;, score=0.709 total time=  32.4s\n",
      "[CV 5/5] END ...............n_neighbors=18, p=1;, score=0.710 total time=  32.5s\n",
      "[CV 1/5] END ...............n_neighbors=18, p=2;, score=0.710 total time=  32.9s\n",
      "[CV 2/5] END ...............n_neighbors=18, p=2;, score=0.710 total time=  32.5s\n",
      "[CV 3/5] END ...............n_neighbors=18, p=2;, score=0.708 total time=  32.4s\n",
      "[CV 4/5] END ...............n_neighbors=18, p=2;, score=0.709 total time=  32.5s\n",
      "[CV 5/5] END ...............n_neighbors=18, p=2;, score=0.710 total time=  32.5s\n",
      "[CV 1/5] END ...............n_neighbors=18, p=3;, score=0.710 total time=  32.5s\n",
      "[CV 2/5] END ...............n_neighbors=18, p=3;, score=0.710 total time=  32.4s\n",
      "[CV 4/5] END ...............n_neighbors=18, p=3;, score=0.709 total time=  32.3s\n",
      "[CV 3/5] END ...............n_neighbors=18, p=3;, score=0.708 total time=  32.4s\n",
      "[CV 1/5] END ...............n_neighbors=19, p=1;, score=0.711 total time=  32.4s\n",
      "[CV 5/5] END ...............n_neighbors=18, p=3;, score=0.710 total time=  32.4s\n",
      "[CV 2/5] END ...............n_neighbors=19, p=1;, score=0.712 total time=  32.5s\n",
      "[CV 3/5] END ...............n_neighbors=19, p=1;, score=0.709 total time=  32.4s\n",
      "[CV 4/5] END ...............n_neighbors=19, p=1;, score=0.710 total time=  32.4s\n",
      "[CV 5/5] END ...............n_neighbors=19, p=1;, score=0.710 total time=  32.4s\n",
      "[CV 1/5] END ...............n_neighbors=19, p=2;, score=0.711 total time=  32.4s\n",
      "[CV 2/5] END ...............n_neighbors=19, p=2;, score=0.712 total time=  32.4s\n",
      "[CV 3/5] END ...............n_neighbors=19, p=2;, score=0.709 total time=  32.4s\n",
      "[CV 4/5] END ...............n_neighbors=19, p=2;, score=0.710 total time=  32.4s\n",
      "[CV 5/5] END ...............n_neighbors=19, p=2;, score=0.710 total time=  32.4s\n",
      "[CV 2/5] END ...............n_neighbors=19, p=3;, score=0.712 total time=  32.3s\n",
      "[CV 1/5] END ...............n_neighbors=19, p=3;, score=0.711 total time=  32.7s\n",
      "[CV 3/5] END ...............n_neighbors=19, p=3;, score=0.709 total time=  31.5s\n",
      "[CV 4/5] END ...............n_neighbors=19, p=3;, score=0.710 total time=  31.2s\n",
      "[CV 5/5] END ...............n_neighbors=19, p=3;, score=0.710 total time=  31.2s\n",
      "[CV 1/5] END ...............n_neighbors=20, p=1;, score=0.711 total time=  31.0s\n",
      "[CV 2/5] END ...............n_neighbors=20, p=1;, score=0.711 total time=  30.7s\n",
      "[CV 3/5] END ...............n_neighbors=20, p=1;, score=0.708 total time=  30.7s\n",
      "[CV 4/5] END ...............n_neighbors=20, p=1;, score=0.709 total time=  30.7s\n",
      "[CV 1/5] END ...............n_neighbors=20, p=2;, score=0.711 total time=  30.6s\n",
      "[CV 5/5] END ...............n_neighbors=20, p=1;, score=0.711 total time=  30.6s\n",
      "[CV 2/5] END ...............n_neighbors=20, p=2;, score=0.711 total time=  30.2s\n",
      "[CV 3/5] END ...............n_neighbors=20, p=2;, score=0.708 total time=  30.2s\n",
      "[CV 4/5] END ...............n_neighbors=20, p=2;, score=0.709 total time=  30.1s\n",
      "[CV 5/5] END ...............n_neighbors=20, p=2;, score=0.711 total time=  30.0s\n",
      "[CV 3/5] END ...............n_neighbors=20, p=3;, score=0.708 total time=  29.9s\n",
      "[CV 1/5] END ...............n_neighbors=20, p=3;, score=0.711 total time=  30.0s\n",
      "[CV 4/5] END ...............n_neighbors=20, p=3;, score=0.709 total time=  29.9s\n",
      "[CV 2/5] END ...............n_neighbors=20, p=3;, score=0.711 total time=  29.9s\n",
      "[CV 5/5] END ...............n_neighbors=20, p=3;, score=0.711 total time=  29.8s\n",
      "[2025-04-10 02:40:29.994] [CUML] [info] Unused keyword parameter: n_jobs during cuML estimator initialization\n",
      "\n",
      "Результаты поиска оптимальных гиперпараметров модели сохранены в /home/igel/Projects/ml/ml-inno-hw/3. Machine Learning/3.99 Промежуточная аттестация/result/03_GridSearch_KNN_cuml.joblib\n"
     ]
    }
   ],
   "source": [
    "\n",
    "knn_grid_search = ModelBase.load_or_create_and_fit_GridSearchCV(knn_model_name, \n",
    "                                                                KNN_Classifier, \n",
    "                                                                knn_params,\n",
    "                                                                X_train_StandardScaler, y_train, settings,\n",
    "                                                                n_jobs=n_jobs, \n",
    "                                                                verbose=verbose,\n",
    "                                                                scoring='accuracy')"
   ]
  },
  {
   "cell_type": "code",
   "execution_count": 9,
   "metadata": {},
   "outputs": [
    {
     "name": "stdout",
     "output_type": "stream",
     "text": [
      "\n",
      "Подобранные гиперпараметры модели:\n",
      "{'n_neighbors': 20, 'p': 1}\n",
      "0.7103111740272982\n"
     ]
    }
   ],
   "source": [
    "print(\"\\nПодобранные гиперпараметры модели:\")\n",
    "pprint(knn_grid_search.best_params_)\n",
    "print(knn_grid_search.best_score_)       "
   ]
  },
  {
   "cell_type": "code",
   "execution_count": 10,
   "metadata": {},
   "outputs": [
    {
     "name": "stdout",
     "output_type": "stream",
     "text": [
      "Создается и тренируется модель KNN_cuml класса KNeighborsClassifier\n",
      "Гиперпараметры модели: {'p': 1, 'n_neighbors': 20}\n",
      "\n",
      "Класс-обвертка модели сохранен в /home/igel/Projects/ml/ml-inno-hw/3. Machine Learning/3.99 Промежуточная аттестация/result/04_model_KNN_cuml.joblib\n",
      "\n",
      "Натренированная модель сохранена в /home/igel/Projects/ml/ml-inno-hw/3. Machine Learning/3.99 Промежуточная аттестация/result/04_model_KNN_cuml_trained.joblib\n"
     ]
    },
    {
     "data": {
      "application/vnd.plotly.v1+json": {
       "config": {
        "plotlyServerURL": "https://plot.ly"
       },
       "data": [
        {
         "line": {
          "color": "green"
         },
         "name": "ROC curve Train",
         "type": "scatter",
         "x": {
          "bdata": "AAAAAAAAAAAAAAAAAAAAAAPENL4l9mI/KmWh9JRogT8rwg98CzCVP9lgokzJqaQ/ybDPLGBlsT+FjTKx+Le6PwKuhJkL9cI/8skGZ/xTyT9KwjdO2jvQP57h5glm+tM/5tm8EHHr1z9wK+oowgLcP7VcCnrxKeA/EAHpMf5x4j/NpGZdfdLkPxMoVqyqT+c/r+8LN+zb6T+S0j4OYWjsP9viNhFYq+4/AAAAAAAA8D8=",
          "dtype": "f8"
         },
         "xaxis": "x",
         "y": {
          "bdata": "AAAAAAAAAAAEhsV3YT+mP1N0ZVY3ors/4ldWOzhXxz+nY08i6+nQPxA1qFd2etY/fZO2qqkH3D/DaMYHTLbgPzXh5YwJN+M/OiW8syZ65T8BtE6Sj3TnPwleM0YbK+k/130IpU6t6j/bKDIDrfTrP56BTSE3DO0/EMp70J727T8sx3NDELXuPyTr0hv6Q+8/O0xFQR6s7z8sMEYrEunvPwAAAAAAAPA/AAAAAAAA8D8=",
          "dtype": "f8"
         },
         "yaxis": "y"
        },
        {
         "line": {
          "color": "blue"
         },
         "name": "ROC curve Test",
         "type": "scatter",
         "x": {
          "bdata": "AAAAAAAAAAAGhjdQnOxdP+F/oA9Fc34/rZrM2mMckj/nbjTXz7+hP4Tk8eqBqa4/rURI3Di5tz/6b0FjrgLBP7ejV6RBx8Y/NrRFG8tHzT/TJv6c7yLSP9aRxlQszNU/8ZVUhs2c2T/s4gtFtZTdPzZSa14E6uA/VJIjW+Ue4z/heB5VHXHlPyC1KLwFz+c/aFgbgfhB6j9RVaK0y7XsP8AHO3C+ze4/AAAAAAAA8D8=",
          "dtype": "f8"
         },
         "xaxis": "x",
         "y": {
          "bdata": "AAAAAAAAAAACT4WTcDalP6b5ejeoHLo/zfbPmjICxj+D9kfdqNHPPwrgd7WFLtU/+U7UW19w2j/i6oGJkL7fPy+Wprw0U+I/9lRv9wqX5D9wfqP3tpvmP5n7Vq3cYeg/oemF2tnt6T9tk9fYTkfrP3dsFYB9Zuw/lfapTMtd7T8u5pPUrC7uPySn2ByM3u4/2Ov1er1e7z9xgrHlHLfvP7W8HHk36+8/AAAAAAAA8D8=",
          "dtype": "f8"
         },
         "yaxis": "y"
        },
        {
         "line": {
          "color": "gray",
          "dash": "dash"
         },
         "showlegend": false,
         "type": "scatter",
         "x": [
          0,
          1
         ],
         "xaxis": "x",
         "y": [
          0,
          1
         ],
         "yaxis": "y"
        },
        {
         "name": "Train Metrics",
         "showlegend": true,
         "text": {
          "bdata": "B/AWSFD85j/UK2UZ4ljlP6MjufyH9Os/CYofY+5a6j9oke18PzXoPw==",
          "dtype": "f8"
         },
         "textangle": 0,
         "type": "bar",
         "x": [
          "accuracy",
          "precision",
          "recall",
          "ROC AUC",
          "F1"
         ],
         "xaxis": "x2",
         "y": {
          "bdata": "KUJmcCf85j/6gQKl6FjlP9soMgOt9Os/g2Vs/hBb6j9ANL5+aTXoPw==",
          "dtype": "f8"
         },
         "yaxis": "y2"
        },
        {
         "name": "Test Metrics",
         "showlegend": true,
         "text": {
          "bdata": "B/AWSFD85j+eXinLEMfkP0jhehSuR+s/MEymCkYl6T9oke18PzXoPw==",
          "dtype": "f8"
         },
         "textangle": 0,
         "type": "bar",
         "x": [
          "accuracy",
          "precision",
          "recall",
          "ROC AUC",
          "F1"
         ],
         "xaxis": "x2",
         "y": {
          "bdata": "KUJmcCf85j/a/G/ZOcfkP22T19hOR+s/2kNWcogl6T9ANL5+aTXoPw==",
          "dtype": "f8"
         },
         "yaxis": "y2"
        },
        {
         "colorscale": [
          [
           0,
           "rgb(247,251,255)"
          ],
          [
           0.125,
           "rgb(222,235,247)"
          ],
          [
           0.25,
           "rgb(198,219,239)"
          ],
          [
           0.375,
           "rgb(158,202,225)"
          ],
          [
           0.5,
           "rgb(107,174,214)"
          ],
          [
           0.625,
           "rgb(66,146,198)"
          ],
          [
           0.75,
           "rgb(33,113,181)"
          ],
          [
           0.875,
           "rgb(8,81,156)"
          ],
          [
           1,
           "rgb(8,48,107)"
          ]
         ],
         "showscale": false,
         "text": {
          "bdata": "lkOLbOf70T+BlUOLbOfLP1TjpZvEILA/1XjpJjEI3D8=",
          "dtype": "f8",
          "shape": "2, 2"
         },
         "texttemplate": "%{text}",
         "type": "heatmap",
         "x": [
          "0",
          "1"
         ],
         "xaxis": "x3",
         "y": [
          "0",
          "1"
         ],
         "yaxis": "y3",
         "z": {
          "bdata": "KAFTTpH10T++Qt6DqvTLPzlpEXVvNbA/KoN5kr0C3D8=",
          "dtype": "f8",
          "shape": "2, 2"
         }
        },
        {
         "colorscale": [
          [
           0,
           "rgb(247,251,255)"
          ],
          [
           0.125,
           "rgb(222,235,247)"
          ],
          [
           0.25,
           "rgb(198,219,239)"
          ],
          [
           0.375,
           "rgb(158,202,225)"
          ],
          [
           0.5,
           "rgb(107,174,214)"
          ],
          [
           0.625,
           "rgb(66,146,198)"
          ],
          [
           0.75,
           "rgb(33,113,181)"
          ],
          [
           0.875,
           "rgb(8,81,156)"
          ],
          [
           1,
           "rgb(8,48,107)"
          ]
         ],
         "showscale": false,
         "text": {
          "bdata": "9P3UeOkm0T/FILByaJHNP4ts5/up8bI/hxbZzvdT2z8=",
          "dtype": "f8",
          "shape": "2, 2"
         },
         "texttemplate": "%{text}",
         "type": "heatmap",
         "x": [
          "0",
          "1"
         ],
         "xaxis": "x4",
         "y": [
          "0",
          "1"
         ],
         "yaxis": "y4",
         "z": {
          "bdata": "sbFd3fws0T9RYu5n04XNP1weagFF7LI/kJVQLghV2z8=",
          "dtype": "f8",
          "shape": "2, 2"
         }
        }
       ],
       "layout": {
        "annotations": [
         {
          "font": {
           "size": 16
          },
          "showarrow": false,
          "text": "ROC AUC",
          "x": 0.225,
          "xanchor": "center",
          "xref": "paper",
          "y": 1,
          "yanchor": "bottom",
          "yref": "paper"
         },
         {
          "font": {
           "size": 16
          },
          "showarrow": false,
          "text": "Metrics",
          "x": 0.775,
          "xanchor": "center",
          "xref": "paper",
          "y": 1,
          "yanchor": "bottom",
          "yref": "paper"
         },
         {
          "font": {
           "size": 16
          },
          "showarrow": false,
          "text": "Confusion Matrix Train",
          "x": 0.225,
          "xanchor": "center",
          "xref": "paper",
          "y": 0.36000000000000004,
          "yanchor": "bottom",
          "yref": "paper"
         },
         {
          "font": {
           "size": 16
          },
          "showarrow": false,
          "text": "Confusion Matrix Test",
          "x": 0.775,
          "xanchor": "center",
          "xref": "paper",
          "y": 0.36000000000000004,
          "yanchor": "bottom",
          "yref": "paper"
         }
        ],
        "height": 800,
        "legend": {
         "x": 0.44,
         "xanchor": "right",
         "y": 0.63,
         "yanchor": "bottom"
        },
        "margin": {
         "b": 50,
         "l": 10,
         "r": 10,
         "t": 80
        },
        "template": {
         "data": {
          "bar": [
           {
            "error_x": {
             "color": "#2a3f5f"
            },
            "error_y": {
             "color": "#2a3f5f"
            },
            "marker": {
             "line": {
              "color": "#E5ECF6",
              "width": 0.5
             },
             "pattern": {
              "fillmode": "overlay",
              "size": 10,
              "solidity": 0.2
             }
            },
            "type": "bar"
           }
          ],
          "barpolar": [
           {
            "marker": {
             "line": {
              "color": "#E5ECF6",
              "width": 0.5
             },
             "pattern": {
              "fillmode": "overlay",
              "size": 10,
              "solidity": 0.2
             }
            },
            "type": "barpolar"
           }
          ],
          "carpet": [
           {
            "aaxis": {
             "endlinecolor": "#2a3f5f",
             "gridcolor": "white",
             "linecolor": "white",
             "minorgridcolor": "white",
             "startlinecolor": "#2a3f5f"
            },
            "baxis": {
             "endlinecolor": "#2a3f5f",
             "gridcolor": "white",
             "linecolor": "white",
             "minorgridcolor": "white",
             "startlinecolor": "#2a3f5f"
            },
            "type": "carpet"
           }
          ],
          "choropleth": [
           {
            "colorbar": {
             "outlinewidth": 0,
             "ticks": ""
            },
            "type": "choropleth"
           }
          ],
          "contour": [
           {
            "colorbar": {
             "outlinewidth": 0,
             "ticks": ""
            },
            "colorscale": [
             [
              0,
              "#0d0887"
             ],
             [
              0.1111111111111111,
              "#46039f"
             ],
             [
              0.2222222222222222,
              "#7201a8"
             ],
             [
              0.3333333333333333,
              "#9c179e"
             ],
             [
              0.4444444444444444,
              "#bd3786"
             ],
             [
              0.5555555555555556,
              "#d8576b"
             ],
             [
              0.6666666666666666,
              "#ed7953"
             ],
             [
              0.7777777777777778,
              "#fb9f3a"
             ],
             [
              0.8888888888888888,
              "#fdca26"
             ],
             [
              1,
              "#f0f921"
             ]
            ],
            "type": "contour"
           }
          ],
          "contourcarpet": [
           {
            "colorbar": {
             "outlinewidth": 0,
             "ticks": ""
            },
            "type": "contourcarpet"
           }
          ],
          "heatmap": [
           {
            "colorbar": {
             "outlinewidth": 0,
             "ticks": ""
            },
            "colorscale": [
             [
              0,
              "#0d0887"
             ],
             [
              0.1111111111111111,
              "#46039f"
             ],
             [
              0.2222222222222222,
              "#7201a8"
             ],
             [
              0.3333333333333333,
              "#9c179e"
             ],
             [
              0.4444444444444444,
              "#bd3786"
             ],
             [
              0.5555555555555556,
              "#d8576b"
             ],
             [
              0.6666666666666666,
              "#ed7953"
             ],
             [
              0.7777777777777778,
              "#fb9f3a"
             ],
             [
              0.8888888888888888,
              "#fdca26"
             ],
             [
              1,
              "#f0f921"
             ]
            ],
            "type": "heatmap"
           }
          ],
          "histogram": [
           {
            "marker": {
             "pattern": {
              "fillmode": "overlay",
              "size": 10,
              "solidity": 0.2
             }
            },
            "type": "histogram"
           }
          ],
          "histogram2d": [
           {
            "colorbar": {
             "outlinewidth": 0,
             "ticks": ""
            },
            "colorscale": [
             [
              0,
              "#0d0887"
             ],
             [
              0.1111111111111111,
              "#46039f"
             ],
             [
              0.2222222222222222,
              "#7201a8"
             ],
             [
              0.3333333333333333,
              "#9c179e"
             ],
             [
              0.4444444444444444,
              "#bd3786"
             ],
             [
              0.5555555555555556,
              "#d8576b"
             ],
             [
              0.6666666666666666,
              "#ed7953"
             ],
             [
              0.7777777777777778,
              "#fb9f3a"
             ],
             [
              0.8888888888888888,
              "#fdca26"
             ],
             [
              1,
              "#f0f921"
             ]
            ],
            "type": "histogram2d"
           }
          ],
          "histogram2dcontour": [
           {
            "colorbar": {
             "outlinewidth": 0,
             "ticks": ""
            },
            "colorscale": [
             [
              0,
              "#0d0887"
             ],
             [
              0.1111111111111111,
              "#46039f"
             ],
             [
              0.2222222222222222,
              "#7201a8"
             ],
             [
              0.3333333333333333,
              "#9c179e"
             ],
             [
              0.4444444444444444,
              "#bd3786"
             ],
             [
              0.5555555555555556,
              "#d8576b"
             ],
             [
              0.6666666666666666,
              "#ed7953"
             ],
             [
              0.7777777777777778,
              "#fb9f3a"
             ],
             [
              0.8888888888888888,
              "#fdca26"
             ],
             [
              1,
              "#f0f921"
             ]
            ],
            "type": "histogram2dcontour"
           }
          ],
          "mesh3d": [
           {
            "colorbar": {
             "outlinewidth": 0,
             "ticks": ""
            },
            "type": "mesh3d"
           }
          ],
          "parcoords": [
           {
            "line": {
             "colorbar": {
              "outlinewidth": 0,
              "ticks": ""
             }
            },
            "type": "parcoords"
           }
          ],
          "pie": [
           {
            "automargin": true,
            "type": "pie"
           }
          ],
          "scatter": [
           {
            "fillpattern": {
             "fillmode": "overlay",
             "size": 10,
             "solidity": 0.2
            },
            "type": "scatter"
           }
          ],
          "scatter3d": [
           {
            "line": {
             "colorbar": {
              "outlinewidth": 0,
              "ticks": ""
             }
            },
            "marker": {
             "colorbar": {
              "outlinewidth": 0,
              "ticks": ""
             }
            },
            "type": "scatter3d"
           }
          ],
          "scattercarpet": [
           {
            "marker": {
             "colorbar": {
              "outlinewidth": 0,
              "ticks": ""
             }
            },
            "type": "scattercarpet"
           }
          ],
          "scattergeo": [
           {
            "marker": {
             "colorbar": {
              "outlinewidth": 0,
              "ticks": ""
             }
            },
            "type": "scattergeo"
           }
          ],
          "scattergl": [
           {
            "marker": {
             "colorbar": {
              "outlinewidth": 0,
              "ticks": ""
             }
            },
            "type": "scattergl"
           }
          ],
          "scattermap": [
           {
            "marker": {
             "colorbar": {
              "outlinewidth": 0,
              "ticks": ""
             }
            },
            "type": "scattermap"
           }
          ],
          "scattermapbox": [
           {
            "marker": {
             "colorbar": {
              "outlinewidth": 0,
              "ticks": ""
             }
            },
            "type": "scattermapbox"
           }
          ],
          "scatterpolar": [
           {
            "marker": {
             "colorbar": {
              "outlinewidth": 0,
              "ticks": ""
             }
            },
            "type": "scatterpolar"
           }
          ],
          "scatterpolargl": [
           {
            "marker": {
             "colorbar": {
              "outlinewidth": 0,
              "ticks": ""
             }
            },
            "type": "scatterpolargl"
           }
          ],
          "scatterternary": [
           {
            "marker": {
             "colorbar": {
              "outlinewidth": 0,
              "ticks": ""
             }
            },
            "type": "scatterternary"
           }
          ],
          "surface": [
           {
            "colorbar": {
             "outlinewidth": 0,
             "ticks": ""
            },
            "colorscale": [
             [
              0,
              "#0d0887"
             ],
             [
              0.1111111111111111,
              "#46039f"
             ],
             [
              0.2222222222222222,
              "#7201a8"
             ],
             [
              0.3333333333333333,
              "#9c179e"
             ],
             [
              0.4444444444444444,
              "#bd3786"
             ],
             [
              0.5555555555555556,
              "#d8576b"
             ],
             [
              0.6666666666666666,
              "#ed7953"
             ],
             [
              0.7777777777777778,
              "#fb9f3a"
             ],
             [
              0.8888888888888888,
              "#fdca26"
             ],
             [
              1,
              "#f0f921"
             ]
            ],
            "type": "surface"
           }
          ],
          "table": [
           {
            "cells": {
             "fill": {
              "color": "#EBF0F8"
             },
             "line": {
              "color": "white"
             }
            },
            "header": {
             "fill": {
              "color": "#C8D4E3"
             },
             "line": {
              "color": "white"
             }
            },
            "type": "table"
           }
          ]
         },
         "layout": {
          "annotationdefaults": {
           "arrowcolor": "#2a3f5f",
           "arrowhead": 0,
           "arrowwidth": 1
          },
          "autotypenumbers": "strict",
          "coloraxis": {
           "colorbar": {
            "outlinewidth": 0,
            "ticks": ""
           }
          },
          "colorscale": {
           "diverging": [
            [
             0,
             "#8e0152"
            ],
            [
             0.1,
             "#c51b7d"
            ],
            [
             0.2,
             "#de77ae"
            ],
            [
             0.3,
             "#f1b6da"
            ],
            [
             0.4,
             "#fde0ef"
            ],
            [
             0.5,
             "#f7f7f7"
            ],
            [
             0.6,
             "#e6f5d0"
            ],
            [
             0.7,
             "#b8e186"
            ],
            [
             0.8,
             "#7fbc41"
            ],
            [
             0.9,
             "#4d9221"
            ],
            [
             1,
             "#276419"
            ]
           ],
           "sequential": [
            [
             0,
             "#0d0887"
            ],
            [
             0.1111111111111111,
             "#46039f"
            ],
            [
             0.2222222222222222,
             "#7201a8"
            ],
            [
             0.3333333333333333,
             "#9c179e"
            ],
            [
             0.4444444444444444,
             "#bd3786"
            ],
            [
             0.5555555555555556,
             "#d8576b"
            ],
            [
             0.6666666666666666,
             "#ed7953"
            ],
            [
             0.7777777777777778,
             "#fb9f3a"
            ],
            [
             0.8888888888888888,
             "#fdca26"
            ],
            [
             1,
             "#f0f921"
            ]
           ],
           "sequentialminus": [
            [
             0,
             "#0d0887"
            ],
            [
             0.1111111111111111,
             "#46039f"
            ],
            [
             0.2222222222222222,
             "#7201a8"
            ],
            [
             0.3333333333333333,
             "#9c179e"
            ],
            [
             0.4444444444444444,
             "#bd3786"
            ],
            [
             0.5555555555555556,
             "#d8576b"
            ],
            [
             0.6666666666666666,
             "#ed7953"
            ],
            [
             0.7777777777777778,
             "#fb9f3a"
            ],
            [
             0.8888888888888888,
             "#fdca26"
            ],
            [
             1,
             "#f0f921"
            ]
           ]
          },
          "colorway": [
           "#636efa",
           "#EF553B",
           "#00cc96",
           "#ab63fa",
           "#FFA15A",
           "#19d3f3",
           "#FF6692",
           "#B6E880",
           "#FF97FF",
           "#FECB52"
          ],
          "font": {
           "color": "#2a3f5f"
          },
          "geo": {
           "bgcolor": "white",
           "lakecolor": "white",
           "landcolor": "#E5ECF6",
           "showlakes": true,
           "showland": true,
           "subunitcolor": "white"
          },
          "hoverlabel": {
           "align": "left"
          },
          "hovermode": "closest",
          "mapbox": {
           "style": "light"
          },
          "paper_bgcolor": "white",
          "plot_bgcolor": "#E5ECF6",
          "polar": {
           "angularaxis": {
            "gridcolor": "white",
            "linecolor": "white",
            "ticks": ""
           },
           "bgcolor": "#E5ECF6",
           "radialaxis": {
            "gridcolor": "white",
            "linecolor": "white",
            "ticks": ""
           }
          },
          "scene": {
           "xaxis": {
            "backgroundcolor": "#E5ECF6",
            "gridcolor": "white",
            "gridwidth": 2,
            "linecolor": "white",
            "showbackground": true,
            "ticks": "",
            "zerolinecolor": "white"
           },
           "yaxis": {
            "backgroundcolor": "#E5ECF6",
            "gridcolor": "white",
            "gridwidth": 2,
            "linecolor": "white",
            "showbackground": true,
            "ticks": "",
            "zerolinecolor": "white"
           },
           "zaxis": {
            "backgroundcolor": "#E5ECF6",
            "gridcolor": "white",
            "gridwidth": 2,
            "linecolor": "white",
            "showbackground": true,
            "ticks": "",
            "zerolinecolor": "white"
           }
          },
          "shapedefaults": {
           "line": {
            "color": "#2a3f5f"
           }
          },
          "ternary": {
           "aaxis": {
            "gridcolor": "white",
            "linecolor": "white",
            "ticks": ""
           },
           "baxis": {
            "gridcolor": "white",
            "linecolor": "white",
            "ticks": ""
           },
           "bgcolor": "#E5ECF6",
           "caxis": {
            "gridcolor": "white",
            "linecolor": "white",
            "ticks": ""
           }
          },
          "title": {
           "x": 0.05
          },
          "xaxis": {
           "automargin": true,
           "gridcolor": "white",
           "linecolor": "white",
           "ticks": "",
           "title": {
            "standoff": 15
           },
           "zerolinecolor": "white",
           "zerolinewidth": 2
          },
          "yaxis": {
           "automargin": true,
           "gridcolor": "white",
           "linecolor": "white",
           "ticks": "",
           "title": {
            "standoff": 15
           },
           "zerolinecolor": "white",
           "zerolinewidth": 2
          }
         }
        },
        "title": {
         "text": "KNN_cuml",
         "x": 0.5
        },
        "width": 1000,
        "xaxis": {
         "anchor": "y",
         "domain": [
          0,
          0.45
         ],
         "title": {
          "text": "Predict"
         }
        },
        "xaxis2": {
         "anchor": "y2",
         "domain": [
          0.55,
          1
         ],
         "title": {
          "text": "Predict"
         }
        },
        "xaxis3": {
         "anchor": "y3",
         "domain": [
          0,
          0.45
         ],
         "title": {
          "text": "Предсказания"
         }
        },
        "xaxis4": {
         "anchor": "y4",
         "domain": [
          0.55,
          1
         ],
         "title": {
          "text": "Предсказания"
         }
        },
        "yaxis": {
         "anchor": "x",
         "domain": [
          0.4600000000000001,
          1
         ],
         "title": {
          "text": "Goals"
         }
        },
        "yaxis2": {
         "anchor": "x2",
         "domain": [
          0.4600000000000001,
          1
         ],
         "title": {
          "text": "Goals"
         }
        },
        "yaxis3": {
         "anchor": "x3",
         "domain": [
          0,
          0.36000000000000004
         ],
         "title": {
          "text": "Факт"
         }
        },
        "yaxis4": {
         "anchor": "x4",
         "domain": [
          0,
          0.36000000000000004
         ],
         "title": {
          "text": "Факт"
         }
        }
       }
      }
     },
     "metadata": {},
     "output_type": "display_data"
    }
   ],
   "source": [
    "knn_model = ModelClass.load_or_create_and_fit_model(knn_model_name, KNN_Classifier, \n",
    "                                                    knn_grid_search.best_params_, \n",
    "                                                    X_train_StandardScaler, X_test_StandardScaler, y_train, y_test,\n",
    "                                                    settings)\n",
    "\n",
    "knn_model.show_quality()"
   ]
  }
 ],
 "metadata": {
  "kernelspec": {
   "display_name": "rapids-25.02",
   "language": "python",
   "name": "python3"
  },
  "language_info": {
   "codemirror_mode": {
    "name": "ipython",
    "version": 3
   },
   "file_extension": ".py",
   "mimetype": "text/x-python",
   "name": "python",
   "nbconvert_exporter": "python",
   "pygments_lexer": "ipython3",
   "version": "3.12.9"
  }
 },
 "nbformat": 4,
 "nbformat_minor": 2
}
