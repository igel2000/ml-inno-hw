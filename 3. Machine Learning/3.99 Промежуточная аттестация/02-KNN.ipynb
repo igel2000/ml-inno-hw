{
 "cells": [
  {
   "cell_type": "code",
   "execution_count": null,
   "metadata": {},
   "outputs": [],
   "source": [
    "from mylib import base, dataset\n",
    "from mylib.model_classification import ModelClass\n",
    "from mylib.model_base import ModelBase\n",
    "\n",
    "from dotenv import dotenv_values\n",
    "from pathlib import Path\n",
    "from pprint import pprint, pformat\n",
    "\n",
    "import pandas as pd\n",
    "import pandas.api.types as pd_types\n",
    "\n",
    "import numpy as np\n",
    "\n",
    "import plotly.express as plotly_px\n",
    "\n",
    "import joblib\n",
    "\n",
    "import seaborn as sns\n",
    "import matplotlib.pyplot as plt\n"
   ]
  },
  {
   "cell_type": "code",
   "execution_count": null,
   "metadata": {},
   "outputs": [],
   "source": [
    "import warnings\n",
    "warnings.filterwarnings('ignore')\n",
    "\n",
    "pd.set_option('display.max_columns', 50) # Устанавливаем максимальное количество отображаемых столбцов равным 50\n",
    "#pd.set_option('display.max_rows', 50) # Устанавливаем максимальное количество отображаемых строк равным 20\n",
    "pd.options.display.float_format = '{:.5f}'.format # Устанавливаем формат отображения чисел с двумя знаками после запятой\n",
    "pd.options.mode.use_inf_as_na = True # Настройка режима Pandas для рассмотрения бесконечностей (inf) как пропущенных значений (NA)\n",
    "\n",
    "# Конфигурация формата отображения графиков в виде векторных изображений\n",
    "%config InlineBackend.figure_format = 'svg'\n",
    "\n",
    "# для построения графиков внутри Jupyter Notebook\n",
    "%matplotlib inline"
   ]
  },
  {
   "cell_type": "markdown",
   "metadata": {},
   "source": [
    "# 1. Загрузка конфигов"
   ]
  },
  {
   "cell_type": "code",
   "execution_count": null,
   "metadata": {},
   "outputs": [],
   "source": [
    "# загрузить параметры\n",
    "settings_dict = {\n",
    "    **dotenv_values(\"settings\")\n",
    "}\n",
    "\n",
    "settings = base.Settings(settings_dict)\n",
    "settings.enviroment[\"RANDOM_STATE\"] = int(settings.enviroment[\"RANDOM_STATE\"])\n",
    "n_jobs = -1\n",
    "verbose = 3"
   ]
  },
  {
   "cell_type": "code",
   "execution_count": null,
   "metadata": {},
   "outputs": [],
   "source": [
    "settings.enviroment"
   ]
  },
  {
   "cell_type": "markdown",
   "metadata": {},
   "source": [
    "# 1. Загрузка датасета"
   ]
  },
  {
   "cell_type": "code",
   "execution_count": null,
   "metadata": {},
   "outputs": [],
   "source": [
    "params = joblib.load(Path(settings.result_folder, settings.enviroment[\"PARAMS_FILENAME_AFTER_EDA_AFTER_OUTLIERS\"]))"
   ]
  },
  {
   "cell_type": "code",
   "execution_count": null,
   "metadata": {},
   "outputs": [],
   "source": [
    "y_train = joblib.load(Path(settings.result_folder, settings.enviroment[\"y_Train_FILENAME_TEMPLATE\"] % \"common\"))\n",
    "y_test = joblib.load(Path(settings.result_folder, settings.enviroment[\"y_Test_FILENAME_TEMPLATE\"] % \"common\"))\n",
    "\n",
    "X_train = joblib.load(Path(settings.result_folder, settings.enviroment[\"X_Train_FILENAME_TEMPLATE\"] % \"wo_scaler\"))\n",
    "X_test = joblib.load(Path(settings.result_folder, settings.enviroment[\"X_Test_FILENAME_TEMPLATE\"] % \"wo_scaler\"))\n",
    "\n",
    "X_train_StandardScaler = joblib.load(Path(settings.result_folder, settings.enviroment[\"X_Train_FILENAME_TEMPLATE\"] % \"StandardScaler\"))\n",
    "X_test_StandardScaler = joblib.load(Path(settings.result_folder, settings.enviroment[\"X_Test_FILENAME_TEMPLATE\"] % \"StandardScaler\"))\n",
    "\n",
    "X_train_MinMaxScaler = joblib.load(Path(settings.result_folder, settings.enviroment[\"X_Train_FILENAME_TEMPLATE\"] % \"MinMaxScaler\"))\n",
    "X_test_MinMaxScaler = joblib.load(Path(settings.result_folder, settings.enviroment[\"X_Test_FILENAME_TEMPLATE\"] % \"MinMaxScaler\"))\n",
    "\n",
    "X_train_MaxAbsScaler = joblib.load(Path(settings.result_folder, settings.enviroment[\"X_Train_FILENAME_TEMPLATE\"] % \"MaxAbsScaler\"))\n",
    "X_test_MaxAbsScaler = joblib.load(Path(settings.result_folder, settings.enviroment[\"X_Test_FILENAME_TEMPLATE\"] % \"MaxAbsScaler\"))\n",
    "\n",
    "X_train_RobustScaler = joblib.load(Path(settings.result_folder, settings.enviroment[\"X_Train_FILENAME_TEMPLATE\"] % \"RobustScaler\"))\n",
    "X_test_RobustScaler = joblib.load(Path(settings.result_folder, settings.enviroment[\"X_Test_FILENAME_TEMPLATE\"] % \"RobustScaler\"))"
   ]
  },
  {
   "cell_type": "markdown",
   "metadata": {},
   "source": [
    "# 2. Модель KNeighborsClassifier"
   ]
  },
  {
   "cell_type": "raw",
   "metadata": {
    "vscode": {
     "languageId": "raw"
    }
   },
   "source": [
    "# USING RAPIDS\n",
    "import cuml\n",
    "from cuml.neighbors import KNeighborsClassifier\n"
   ]
  },
  {
   "cell_type": "code",
   "execution_count": null,
   "metadata": {},
   "outputs": [],
   "source": [
    "from sklearn.neighbors import KNeighborsClassifier"
   ]
  },
  {
   "cell_type": "code",
   "execution_count": null,
   "metadata": {},
   "outputs": [],
   "source": [
    "knn_model_name = \"KNN\""
   ]
  },
  {
   "cell_type": "raw",
   "metadata": {
    "vscode": {
     "languageId": "raw"
    }
   },
   "source": [
    "knn = KNeighborsClassifier(n_neighbors=10)\n",
    "knn.fit(X_train_StandardScaler, y_train)\n",
    "pred = knn.predict(X_test_StandardScaler)"
   ]
  },
  {
   "cell_type": "code",
   "execution_count": null,
   "metadata": {},
   "outputs": [],
   "source": [
    "rfc_grid_search_accuracy = ModelBase.load_or_create_and_fit_GridSearchCV(knn_model_name+\"_StandardScaler\", \n",
    "                                                                         KNeighborsClassifier, \n",
    "                                                                         {'n_neighbors': range(5, 21), \n",
    "                                                                          'p': [1, 2, 3]\n",
    "                                                                         }, \n",
    "                                                                         X_train_StandardScaler, y_train, settings,\n",
    "                                                                         n_jobs=n_jobs, \n",
    "                                                                         verbose=verbose,\n",
    "                                                                         scoring='f1')\n",
    "pprint(rfc_grid_search_accuracy.best_params_)\n",
    "print(rfc_grid_search_accuracy.best_score_)       "
   ]
  },
  {
   "cell_type": "raw",
   "metadata": {
    "vscode": {
     "languageId": "raw"
    }
   },
   "source": [
    "!pip install --extra-index-url=https://pypi.nvidia.com \"cudf-cu12==25.2.*\" \"cuml-cu12==25.2.*\""
   ]
  }
 ],
 "metadata": {
  "kernelspec": {
   "display_name": "ml",
   "language": "python",
   "name": "python3"
  },
  "language_info": {
   "codemirror_mode": {
    "name": "ipython",
    "version": 3
   },
   "file_extension": ".py",
   "mimetype": "text/x-python",
   "name": "python",
   "nbconvert_exporter": "python",
   "pygments_lexer": "ipython3",
   "version": "3.12.9"
  }
 },
 "nbformat": 4,
 "nbformat_minor": 2
}
