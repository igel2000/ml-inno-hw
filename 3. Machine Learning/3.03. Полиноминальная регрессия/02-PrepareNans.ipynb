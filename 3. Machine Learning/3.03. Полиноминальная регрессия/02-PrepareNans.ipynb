{
 "cells": [
  {
   "cell_type": "markdown",
   "metadata": {},
   "source": [
    "# Анализ и обработка пропусков в данных"
   ]
  },
  {
   "cell_type": "code",
   "execution_count": 1,
   "metadata": {},
   "outputs": [],
   "source": [
    "import warnings\n",
    "warnings.filterwarnings('ignore')\n",
    "from pprint import pprint, pformat\n",
    "from pathlib import Path\n",
    "\n",
    "import joblib\n",
    "\n",
    "from my_lib import *\n",
    "from my_config import *"
   ]
  },
  {
   "cell_type": "code",
   "execution_count": 2,
   "metadata": {},
   "outputs": [],
   "source": [
    "dataset_df = joblib.load(Path(result_foler, dataset_filename_after_EDA))\n",
    "params = joblib.load(Path(result_foler, params_filename_after_EDA))\n",
    "#display(dataset_df)\n",
    "#display(params)"
   ]
  },
  {
   "cell_type": "code",
   "execution_count": 3,
   "metadata": {},
   "outputs": [
    {
     "name": "stdout",
     "output_type": "stream",
     "text": [
      "Доля пропусков в столбцах в %:\n"
     ]
    },
    {
     "data": {
      "text/plain": [
       "Age                      1.558750\n",
       "Annual Income            3.745750\n",
       "Marital Status           1.544083\n",
       "Number of Dependents     9.139333\n",
       "Occupation              29.839583\n",
       "Health Score             6.173000\n",
       "Previous Claims         30.335750\n",
       "Vehicle Age              0.000500\n",
       "Credit Score            11.490167\n",
       "Insurance Duration       0.000083\n",
       "Customer Feedback        6.485333\n",
       "dtype: float64"
      ]
     },
     "execution_count": 3,
     "metadata": {},
     "output_type": "execute_result"
    }
   ],
   "source": [
    "print(\"Доля пропусков в столбцах в %:\")\n",
    "nan_in_columns = nans_percents(dataset_df)\n",
    "# список столбцов с пропусками\n",
    "params[\"columns_with_nan\"] = nan_in_columns[nan_in_columns > 0].index.to_list()\n",
    "nan_in_columns[nan_in_columns > 0]"
   ]
  },
  {
   "cell_type": "markdown",
   "metadata": {},
   "source": [
    "Часть столбцов имеет пропуски - в основном небольшое количество. \n",
    "\n",
    "Заполним пропуски модой.\n",
    "\n",
    "P.S. Пробовал удалять столбцы `Occupation` и `Previous Claims`, т.к. в них значительное количество пропусков - конечный результат практически не менялся."
   ]
  },
  {
   "cell_type": "markdown",
   "metadata": {},
   "source": [
    "## Заполнение пропусков модой"
   ]
  },
  {
   "cell_type": "code",
   "execution_count": 4,
   "metadata": {},
   "outputs": [],
   "source": [
    "mode_age = dataset_df['Age'].mode()[0]\n",
    "mode_previous_claims = dataset_df['Previous Claims'].mode()[0]\n",
    "mode_vehicle_age = dataset_df['Vehicle Age'].mode()[0]"
   ]
  },
  {
   "cell_type": "code",
   "execution_count": 5,
   "metadata": {},
   "outputs": [
    {
     "name": "stdout",
     "output_type": "stream",
     "text": [
      "Age                     0.0\n",
      "Gender                  0.0\n",
      "Annual Income           0.0\n",
      "Marital Status          0.0\n",
      "Number of Dependents    0.0\n",
      "Education Level         0.0\n",
      "Occupation              0.0\n",
      "Health Score            0.0\n",
      "Location                0.0\n",
      "Policy Type             0.0\n",
      "Previous Claims         0.0\n",
      "Vehicle Age             0.0\n",
      "Credit Score            0.0\n",
      "Insurance Duration      0.0\n",
      "Policy Start Date       0.0\n",
      "Customer Feedback       0.0\n",
      "Smoking Status          0.0\n",
      "Exercise Frequency      0.0\n",
      "Property Type           0.0\n",
      "Premium Amount          0.0\n",
      "dtype: float64\n"
     ]
    }
   ],
   "source": [
    "dataset_df_wo_nan = dataset_df.copy()\n",
    "# train data\n",
    "dataset_df_wo_nan.fillna({'Age': mode_age}, inplace=True)\n",
    "fill_with_mode(dataset_df_wo_nan, ['Education Level', 'Location', 'Property Type'], 'Annual Income')\n",
    "fill_with_mode(dataset_df_wo_nan, ['Age', 'Gender', 'Annual Income', 'Education Level'], 'Marital Status')\n",
    "fill_with_mode(dataset_df_wo_nan, ['Age', 'Annual Income', 'Marital Status', 'Education Level', 'Location'], 'Number of Dependents')\n",
    "fill_with_mode(dataset_df_wo_nan, ['Gender', 'Education Level', 'Location', 'Annual Income'], 'Occupation')\n",
    "fill_with_mode(dataset_df_wo_nan, ['Age', 'Gender', 'Education Level', 'Smoking Status', 'Exercise Frequency'], 'Health Score')\n",
    "dataset_df_wo_nan.fillna({'Previous Claims': mode_previous_claims}, inplace=True)\n",
    "dataset_df_wo_nan.fillna({'Vehicle Age': mode_vehicle_age}, inplace=True)\n",
    "fill_with_mode(dataset_df_wo_nan, ['Education Level', 'Location', 'Property Type', 'Annual Income'], 'Credit Score')\n",
    "fill_with_mode(dataset_df_wo_nan, ['Policy Type', 'Policy Start Date'], 'Insurance Duration')\n",
    "fill_with_mode(dataset_df_wo_nan, ['Education Level', 'Policy Type', 'Policy Start Date', 'Gender'], 'Customer Feedback')\n",
    "\n",
    "print(nans_percents(dataset_df_wo_nan))"
   ]
  },
  {
   "cell_type": "code",
   "execution_count": 6,
   "metadata": {},
   "outputs": [
    {
     "name": "stdout",
     "output_type": "stream",
     "text": [
      "Уникальные значения по столбцам после заполнения пропусков\n",
      "Age                 :     47\n",
      "Gender              :      2, ['Female', 'Male']\n",
      "Annual Income       :     11\n",
      "Marital Status      :      3, ['Married', 'Divorced', 'Single']\n",
      "Number of Dependents:      5, [0.0, 1.0, 3.0, 4.0, 2.0]\n",
      "Education Level     :      4, [\"Bachelor's\", \"Master's\", 'High School', 'PhD']\n",
      "Occupation          :      3, ['Employed', 'Self-Employed', 'Unemployed']\n",
      "Health Score        :   2519\n",
      "Location            :      3, ['Urban', 'Rural', 'Suburban']\n",
      "Policy Type         :      3, ['Premium', 'Comprehensive', 'Basic']\n",
      "Previous Claims     :     10, [2.0, 1.0, 0.0, 3.0, 4.0, 5.0, 6.0, 7.0, 8.0, 9.0]\n",
      "Vehicle Age         :     20\n",
      "Credit Score        :     14\n",
      "Insurance Duration  :      9, [5.0, 2.0, 1.0, 4.0, 3.0, 8.0, 6.0, 9.0, 7.0]\n",
      "Policy Start Date   : 167381\n",
      "Customer Feedback   :      3, ['Poor', 'Average', 'Good']\n",
      "Smoking Status      :      2, ['No', 'Yes']\n",
      "Exercise Frequency  :      4, ['Weekly', 'Monthly', 'Daily', 'Rarely']\n",
      "Property Type       :      3, ['House', 'Apartment', 'Condo']\n"
     ]
    }
   ],
   "source": [
    "print(\"Уникальные значения по столбцам после заполнения пропусков\")\n",
    "nunique = dataset_df_wo_nan[params[\"columns_X\"]].nunique()\n",
    "for column in nunique.index:\n",
    "    if nunique[column] <= 10:\n",
    "        print(f'{column:20}: {nunique[column]:6}, {dataset_df_wo_nan[column].unique().tolist()}')\n",
    "    else:\n",
    "        print(f'{column:20}: {nunique[column]:6}')"
   ]
  },
  {
   "cell_type": "code",
   "execution_count": 7,
   "metadata": {},
   "outputs": [],
   "source": [
    "# сохранить промежуточные результаты\n",
    "_ = joblib.dump(dataset_df_wo_nan, Path(result_foler, dataset_filename_after_PrepareNans), compress=3)\n",
    "_ = joblib.dump(params, Path(result_foler, params_filename_after_PrepareNans), compress=3)"
   ]
  }
 ],
 "metadata": {
  "kernelspec": {
   "display_name": ".venv",
   "language": "python",
   "name": "python3"
  },
  "language_info": {
   "codemirror_mode": {
    "name": "ipython",
    "version": 3
   },
   "file_extension": ".py",
   "mimetype": "text/x-python",
   "name": "python",
   "nbconvert_exporter": "python",
   "pygments_lexer": "ipython3",
   "version": "3.12.3"
  }
 },
 "nbformat": 4,
 "nbformat_minor": 2
}
