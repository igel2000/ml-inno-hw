{
 "cells": [
  {
   "cell_type": "markdown",
   "metadata": {},
   "source": [
    "# Корреляция"
   ]
  },
  {
   "cell_type": "code",
   "execution_count": 1,
   "metadata": {},
   "outputs": [],
   "source": [
    "import warnings\n",
    "warnings.filterwarnings('ignore')\n",
    "import pandas as pd\n",
    "from pandas.api.types import is_numeric_dtype\n",
    "import numpy as np\n",
    "from pprint import pprint, pformat\n",
    "import copy\n",
    "import zipfile\n",
    "from pathlib import Path\n",
    "\n",
    "\n",
    "import missingno as msno\n",
    "import joblib\n",
    "\n",
    "from my_lib import *\n",
    "from my_config import *"
   ]
  },
  {
   "cell_type": "code",
   "execution_count": 2,
   "metadata": {},
   "outputs": [
    {
     "data": {
      "text/html": [
       "<div>\n",
       "<style scoped>\n",
       "    .dataframe tbody tr th:only-of-type {\n",
       "        vertical-align: middle;\n",
       "    }\n",
       "\n",
       "    .dataframe tbody tr th {\n",
       "        vertical-align: top;\n",
       "    }\n",
       "\n",
       "    .dataframe thead th {\n",
       "        text-align: right;\n",
       "    }\n",
       "</style>\n",
       "<table border=\"1\" class=\"dataframe\">\n",
       "  <thead>\n",
       "    <tr style=\"text-align: right;\">\n",
       "      <th></th>\n",
       "      <th>Age</th>\n",
       "      <th>Gender</th>\n",
       "      <th>Annual Income</th>\n",
       "      <th>Marital Status</th>\n",
       "      <th>Number of Dependents</th>\n",
       "      <th>Education Level</th>\n",
       "      <th>Occupation</th>\n",
       "      <th>Health Score</th>\n",
       "      <th>Location</th>\n",
       "      <th>Policy Type</th>\n",
       "      <th>...</th>\n",
       "      <th>Vehicle Age</th>\n",
       "      <th>Credit Score</th>\n",
       "      <th>Insurance Duration</th>\n",
       "      <th>Policy Start Date</th>\n",
       "      <th>Customer Feedback</th>\n",
       "      <th>Smoking Status</th>\n",
       "      <th>Exercise Frequency</th>\n",
       "      <th>Property Type</th>\n",
       "      <th>Premium Amount</th>\n",
       "      <th>nan_count</th>\n",
       "    </tr>\n",
       "    <tr>\n",
       "      <th>id</th>\n",
       "      <th></th>\n",
       "      <th></th>\n",
       "      <th></th>\n",
       "      <th></th>\n",
       "      <th></th>\n",
       "      <th></th>\n",
       "      <th></th>\n",
       "      <th></th>\n",
       "      <th></th>\n",
       "      <th></th>\n",
       "      <th></th>\n",
       "      <th></th>\n",
       "      <th></th>\n",
       "      <th></th>\n",
       "      <th></th>\n",
       "      <th></th>\n",
       "      <th></th>\n",
       "      <th></th>\n",
       "      <th></th>\n",
       "      <th></th>\n",
       "      <th></th>\n",
       "    </tr>\n",
       "  </thead>\n",
       "  <tbody>\n",
       "    <tr>\n",
       "      <th>0</th>\n",
       "      <td>19.0</td>\n",
       "      <td>Female</td>\n",
       "      <td>10049.0</td>\n",
       "      <td>Married</td>\n",
       "      <td>1.0</td>\n",
       "      <td>Bachelor's</td>\n",
       "      <td>Self-Employed</td>\n",
       "      <td>22.598761</td>\n",
       "      <td>Urban</td>\n",
       "      <td>Premium</td>\n",
       "      <td>...</td>\n",
       "      <td>17.0</td>\n",
       "      <td>372.0</td>\n",
       "      <td>5.0</td>\n",
       "      <td>2023-12-23 15:21:39.134960</td>\n",
       "      <td>Poor</td>\n",
       "      <td>No</td>\n",
       "      <td>Weekly</td>\n",
       "      <td>House</td>\n",
       "      <td>2869.0</td>\n",
       "      <td>0</td>\n",
       "    </tr>\n",
       "    <tr>\n",
       "      <th>1</th>\n",
       "      <td>39.0</td>\n",
       "      <td>Female</td>\n",
       "      <td>31678.0</td>\n",
       "      <td>Divorced</td>\n",
       "      <td>3.0</td>\n",
       "      <td>Master's</td>\n",
       "      <td>NaN</td>\n",
       "      <td>15.569731</td>\n",
       "      <td>Rural</td>\n",
       "      <td>Comprehensive</td>\n",
       "      <td>...</td>\n",
       "      <td>12.0</td>\n",
       "      <td>694.0</td>\n",
       "      <td>2.0</td>\n",
       "      <td>2023-06-12 15:21:39.111551</td>\n",
       "      <td>Average</td>\n",
       "      <td>Yes</td>\n",
       "      <td>Monthly</td>\n",
       "      <td>House</td>\n",
       "      <td>1483.0</td>\n",
       "      <td>0</td>\n",
       "    </tr>\n",
       "    <tr>\n",
       "      <th>2</th>\n",
       "      <td>23.0</td>\n",
       "      <td>Male</td>\n",
       "      <td>25602.0</td>\n",
       "      <td>Divorced</td>\n",
       "      <td>3.0</td>\n",
       "      <td>High School</td>\n",
       "      <td>Self-Employed</td>\n",
       "      <td>47.177549</td>\n",
       "      <td>Suburban</td>\n",
       "      <td>Premium</td>\n",
       "      <td>...</td>\n",
       "      <td>14.0</td>\n",
       "      <td>NaN</td>\n",
       "      <td>3.0</td>\n",
       "      <td>2023-09-30 15:21:39.221386</td>\n",
       "      <td>Good</td>\n",
       "      <td>Yes</td>\n",
       "      <td>Weekly</td>\n",
       "      <td>House</td>\n",
       "      <td>567.0</td>\n",
       "      <td>0</td>\n",
       "    </tr>\n",
       "    <tr>\n",
       "      <th>3</th>\n",
       "      <td>21.0</td>\n",
       "      <td>Male</td>\n",
       "      <td>141855.0</td>\n",
       "      <td>Married</td>\n",
       "      <td>2.0</td>\n",
       "      <td>Bachelor's</td>\n",
       "      <td>NaN</td>\n",
       "      <td>10.938144</td>\n",
       "      <td>Rural</td>\n",
       "      <td>Basic</td>\n",
       "      <td>...</td>\n",
       "      <td>0.0</td>\n",
       "      <td>367.0</td>\n",
       "      <td>1.0</td>\n",
       "      <td>2024-06-12 15:21:39.226954</td>\n",
       "      <td>Poor</td>\n",
       "      <td>Yes</td>\n",
       "      <td>Daily</td>\n",
       "      <td>Apartment</td>\n",
       "      <td>765.0</td>\n",
       "      <td>0</td>\n",
       "    </tr>\n",
       "    <tr>\n",
       "      <th>4</th>\n",
       "      <td>21.0</td>\n",
       "      <td>Male</td>\n",
       "      <td>39651.0</td>\n",
       "      <td>Single</td>\n",
       "      <td>1.0</td>\n",
       "      <td>Bachelor's</td>\n",
       "      <td>Self-Employed</td>\n",
       "      <td>20.376094</td>\n",
       "      <td>Rural</td>\n",
       "      <td>Premium</td>\n",
       "      <td>...</td>\n",
       "      <td>8.0</td>\n",
       "      <td>598.0</td>\n",
       "      <td>4.0</td>\n",
       "      <td>2021-12-01 15:21:39.252145</td>\n",
       "      <td>Poor</td>\n",
       "      <td>Yes</td>\n",
       "      <td>Weekly</td>\n",
       "      <td>House</td>\n",
       "      <td>2022.0</td>\n",
       "      <td>0</td>\n",
       "    </tr>\n",
       "    <tr>\n",
       "      <th>...</th>\n",
       "      <td>...</td>\n",
       "      <td>...</td>\n",
       "      <td>...</td>\n",
       "      <td>...</td>\n",
       "      <td>...</td>\n",
       "      <td>...</td>\n",
       "      <td>...</td>\n",
       "      <td>...</td>\n",
       "      <td>...</td>\n",
       "      <td>...</td>\n",
       "      <td>...</td>\n",
       "      <td>...</td>\n",
       "      <td>...</td>\n",
       "      <td>...</td>\n",
       "      <td>...</td>\n",
       "      <td>...</td>\n",
       "      <td>...</td>\n",
       "      <td>...</td>\n",
       "      <td>...</td>\n",
       "      <td>...</td>\n",
       "      <td>...</td>\n",
       "    </tr>\n",
       "    <tr>\n",
       "      <th>1199995</th>\n",
       "      <td>36.0</td>\n",
       "      <td>Female</td>\n",
       "      <td>27316.0</td>\n",
       "      <td>Married</td>\n",
       "      <td>0.0</td>\n",
       "      <td>Master's</td>\n",
       "      <td>Unemployed</td>\n",
       "      <td>13.772907</td>\n",
       "      <td>Urban</td>\n",
       "      <td>Premium</td>\n",
       "      <td>...</td>\n",
       "      <td>5.0</td>\n",
       "      <td>372.0</td>\n",
       "      <td>3.0</td>\n",
       "      <td>2023-05-03 15:21:39.257696</td>\n",
       "      <td>Poor</td>\n",
       "      <td>No</td>\n",
       "      <td>Daily</td>\n",
       "      <td>Apartment</td>\n",
       "      <td>1303.0</td>\n",
       "      <td>0</td>\n",
       "    </tr>\n",
       "    <tr>\n",
       "      <th>1199996</th>\n",
       "      <td>54.0</td>\n",
       "      <td>Male</td>\n",
       "      <td>35786.0</td>\n",
       "      <td>Divorced</td>\n",
       "      <td>NaN</td>\n",
       "      <td>Master's</td>\n",
       "      <td>Self-Employed</td>\n",
       "      <td>11.483482</td>\n",
       "      <td>Rural</td>\n",
       "      <td>Comprehensive</td>\n",
       "      <td>...</td>\n",
       "      <td>10.0</td>\n",
       "      <td>597.0</td>\n",
       "      <td>4.0</td>\n",
       "      <td>2022-09-10 15:21:39.134960</td>\n",
       "      <td>Poor</td>\n",
       "      <td>No</td>\n",
       "      <td>Weekly</td>\n",
       "      <td>Apartment</td>\n",
       "      <td>821.0</td>\n",
       "      <td>1</td>\n",
       "    </tr>\n",
       "    <tr>\n",
       "      <th>1199997</th>\n",
       "      <td>19.0</td>\n",
       "      <td>Male</td>\n",
       "      <td>51884.0</td>\n",
       "      <td>Divorced</td>\n",
       "      <td>0.0</td>\n",
       "      <td>Master's</td>\n",
       "      <td>NaN</td>\n",
       "      <td>14.724469</td>\n",
       "      <td>Suburban</td>\n",
       "      <td>Basic</td>\n",
       "      <td>...</td>\n",
       "      <td>19.0</td>\n",
       "      <td>NaN</td>\n",
       "      <td>6.0</td>\n",
       "      <td>2021-05-25 15:21:39.106582</td>\n",
       "      <td>Good</td>\n",
       "      <td>No</td>\n",
       "      <td>Monthly</td>\n",
       "      <td>Condo</td>\n",
       "      <td>371.0</td>\n",
       "      <td>0</td>\n",
       "    </tr>\n",
       "    <tr>\n",
       "      <th>1199998</th>\n",
       "      <td>55.0</td>\n",
       "      <td>Male</td>\n",
       "      <td>NaN</td>\n",
       "      <td>Single</td>\n",
       "      <td>1.0</td>\n",
       "      <td>PhD</td>\n",
       "      <td>NaN</td>\n",
       "      <td>18.547381</td>\n",
       "      <td>Suburban</td>\n",
       "      <td>Premium</td>\n",
       "      <td>...</td>\n",
       "      <td>7.0</td>\n",
       "      <td>407.0</td>\n",
       "      <td>4.0</td>\n",
       "      <td>2021-09-19 15:21:39.190215</td>\n",
       "      <td>Poor</td>\n",
       "      <td>No</td>\n",
       "      <td>Daily</td>\n",
       "      <td>Apartment</td>\n",
       "      <td>596.0</td>\n",
       "      <td>1</td>\n",
       "    </tr>\n",
       "    <tr>\n",
       "      <th>1199999</th>\n",
       "      <td>21.0</td>\n",
       "      <td>Female</td>\n",
       "      <td>NaN</td>\n",
       "      <td>Divorced</td>\n",
       "      <td>0.0</td>\n",
       "      <td>PhD</td>\n",
       "      <td>NaN</td>\n",
       "      <td>10.125323</td>\n",
       "      <td>Rural</td>\n",
       "      <td>Premium</td>\n",
       "      <td>...</td>\n",
       "      <td>18.0</td>\n",
       "      <td>502.0</td>\n",
       "      <td>6.0</td>\n",
       "      <td>2020-08-26 15:21:39.155231</td>\n",
       "      <td>Good</td>\n",
       "      <td>Yes</td>\n",
       "      <td>Monthly</td>\n",
       "      <td>House</td>\n",
       "      <td>2480.0</td>\n",
       "      <td>1</td>\n",
       "    </tr>\n",
       "  </tbody>\n",
       "</table>\n",
       "<p>1200000 rows × 21 columns</p>\n",
       "</div>"
      ],
      "text/plain": [
       "          Age  Gender  Annual Income Marital Status  Number of Dependents  \\\n",
       "id                                                                          \n",
       "0        19.0  Female        10049.0        Married                   1.0   \n",
       "1        39.0  Female        31678.0       Divorced                   3.0   \n",
       "2        23.0    Male        25602.0       Divorced                   3.0   \n",
       "3        21.0    Male       141855.0        Married                   2.0   \n",
       "4        21.0    Male        39651.0         Single                   1.0   \n",
       "...       ...     ...            ...            ...                   ...   \n",
       "1199995  36.0  Female        27316.0        Married                   0.0   \n",
       "1199996  54.0    Male        35786.0       Divorced                   NaN   \n",
       "1199997  19.0    Male        51884.0       Divorced                   0.0   \n",
       "1199998  55.0    Male            NaN         Single                   1.0   \n",
       "1199999  21.0  Female            NaN       Divorced                   0.0   \n",
       "\n",
       "        Education Level     Occupation  Health Score  Location    Policy Type  \\\n",
       "id                                                                              \n",
       "0            Bachelor's  Self-Employed     22.598761     Urban        Premium   \n",
       "1              Master's            NaN     15.569731     Rural  Comprehensive   \n",
       "2           High School  Self-Employed     47.177549  Suburban        Premium   \n",
       "3            Bachelor's            NaN     10.938144     Rural          Basic   \n",
       "4            Bachelor's  Self-Employed     20.376094     Rural        Premium   \n",
       "...                 ...            ...           ...       ...            ...   \n",
       "1199995        Master's     Unemployed     13.772907     Urban        Premium   \n",
       "1199996        Master's  Self-Employed     11.483482     Rural  Comprehensive   \n",
       "1199997        Master's            NaN     14.724469  Suburban          Basic   \n",
       "1199998             PhD            NaN     18.547381  Suburban        Premium   \n",
       "1199999             PhD            NaN     10.125323     Rural        Premium   \n",
       "\n",
       "         ...  Vehicle Age  Credit Score  Insurance Duration  \\\n",
       "id       ...                                                  \n",
       "0        ...         17.0         372.0                 5.0   \n",
       "1        ...         12.0         694.0                 2.0   \n",
       "2        ...         14.0           NaN                 3.0   \n",
       "3        ...          0.0         367.0                 1.0   \n",
       "4        ...          8.0         598.0                 4.0   \n",
       "...      ...          ...           ...                 ...   \n",
       "1199995  ...          5.0         372.0                 3.0   \n",
       "1199996  ...         10.0         597.0                 4.0   \n",
       "1199997  ...         19.0           NaN                 6.0   \n",
       "1199998  ...          7.0         407.0                 4.0   \n",
       "1199999  ...         18.0         502.0                 6.0   \n",
       "\n",
       "                  Policy Start Date Customer Feedback Smoking Status  \\\n",
       "id                                                                     \n",
       "0        2023-12-23 15:21:39.134960              Poor             No   \n",
       "1        2023-06-12 15:21:39.111551           Average            Yes   \n",
       "2        2023-09-30 15:21:39.221386              Good            Yes   \n",
       "3        2024-06-12 15:21:39.226954              Poor            Yes   \n",
       "4        2021-12-01 15:21:39.252145              Poor            Yes   \n",
       "...                             ...               ...            ...   \n",
       "1199995  2023-05-03 15:21:39.257696              Poor             No   \n",
       "1199996  2022-09-10 15:21:39.134960              Poor             No   \n",
       "1199997  2021-05-25 15:21:39.106582              Good             No   \n",
       "1199998  2021-09-19 15:21:39.190215              Poor             No   \n",
       "1199999  2020-08-26 15:21:39.155231              Good            Yes   \n",
       "\n",
       "        Exercise Frequency Property Type Premium Amount  nan_count  \n",
       "id                                                                  \n",
       "0                   Weekly         House         2869.0          0  \n",
       "1                  Monthly         House         1483.0          0  \n",
       "2                   Weekly         House          567.0          0  \n",
       "3                    Daily     Apartment          765.0          0  \n",
       "4                   Weekly         House         2022.0          0  \n",
       "...                    ...           ...            ...        ...  \n",
       "1199995              Daily     Apartment         1303.0          0  \n",
       "1199996             Weekly     Apartment          821.0          1  \n",
       "1199997            Monthly         Condo          371.0          0  \n",
       "1199998              Daily     Apartment          596.0          1  \n",
       "1199999            Monthly         House         2480.0          1  \n",
       "\n",
       "[1200000 rows x 21 columns]"
      ]
     },
     "metadata": {},
     "output_type": "display_data"
    },
    {
     "data": {
      "text/html": [
       "<div>\n",
       "<style scoped>\n",
       "    .dataframe tbody tr th:only-of-type {\n",
       "        vertical-align: middle;\n",
       "    }\n",
       "\n",
       "    .dataframe tbody tr th {\n",
       "        vertical-align: top;\n",
       "    }\n",
       "\n",
       "    .dataframe thead th {\n",
       "        text-align: right;\n",
       "    }\n",
       "</style>\n",
       "<table border=\"1\" class=\"dataframe\">\n",
       "  <thead>\n",
       "    <tr style=\"text-align: right;\">\n",
       "      <th></th>\n",
       "      <th>Age</th>\n",
       "      <th>Gender</th>\n",
       "      <th>Annual Income</th>\n",
       "      <th>Marital Status</th>\n",
       "      <th>Number of Dependents</th>\n",
       "      <th>Education Level</th>\n",
       "      <th>Occupation</th>\n",
       "      <th>Health Score</th>\n",
       "      <th>Location</th>\n",
       "      <th>Policy Type</th>\n",
       "      <th>...</th>\n",
       "      <th>Location_Urban</th>\n",
       "      <th>Property Type_Apartment</th>\n",
       "      <th>Property Type_Condo</th>\n",
       "      <th>Property Type_House</th>\n",
       "      <th>Smoking Status_No</th>\n",
       "      <th>Smoking Status_Yes</th>\n",
       "      <th>Education Level_ordered</th>\n",
       "      <th>Policy Type_ordered</th>\n",
       "      <th>Customer Feedback_ordered</th>\n",
       "      <th>Exercise Frequency_ordered</th>\n",
       "    </tr>\n",
       "  </thead>\n",
       "  <tbody>\n",
       "    <tr>\n",
       "      <th>0</th>\n",
       "      <td>19.0</td>\n",
       "      <td>Female</td>\n",
       "      <td>10049.0</td>\n",
       "      <td>Married</td>\n",
       "      <td>1.0</td>\n",
       "      <td>Bachelor's</td>\n",
       "      <td>Self-Employed</td>\n",
       "      <td>22.598761</td>\n",
       "      <td>Urban</td>\n",
       "      <td>Premium</td>\n",
       "      <td>...</td>\n",
       "      <td>1.0</td>\n",
       "      <td>0.0</td>\n",
       "      <td>0.0</td>\n",
       "      <td>1.0</td>\n",
       "      <td>1.0</td>\n",
       "      <td>0.0</td>\n",
       "      <td>1.0</td>\n",
       "      <td>2.0</td>\n",
       "      <td>0.0</td>\n",
       "      <td>1.0</td>\n",
       "    </tr>\n",
       "    <tr>\n",
       "      <th>1</th>\n",
       "      <td>39.0</td>\n",
       "      <td>Female</td>\n",
       "      <td>31678.0</td>\n",
       "      <td>Divorced</td>\n",
       "      <td>3.0</td>\n",
       "      <td>Master's</td>\n",
       "      <td>NaN</td>\n",
       "      <td>15.569731</td>\n",
       "      <td>Rural</td>\n",
       "      <td>Comprehensive</td>\n",
       "      <td>...</td>\n",
       "      <td>0.0</td>\n",
       "      <td>0.0</td>\n",
       "      <td>0.0</td>\n",
       "      <td>1.0</td>\n",
       "      <td>0.0</td>\n",
       "      <td>1.0</td>\n",
       "      <td>2.0</td>\n",
       "      <td>1.0</td>\n",
       "      <td>1.0</td>\n",
       "      <td>2.0</td>\n",
       "    </tr>\n",
       "    <tr>\n",
       "      <th>2</th>\n",
       "      <td>23.0</td>\n",
       "      <td>Male</td>\n",
       "      <td>25602.0</td>\n",
       "      <td>Divorced</td>\n",
       "      <td>3.0</td>\n",
       "      <td>High School</td>\n",
       "      <td>Self-Employed</td>\n",
       "      <td>47.177549</td>\n",
       "      <td>Suburban</td>\n",
       "      <td>Premium</td>\n",
       "      <td>...</td>\n",
       "      <td>0.0</td>\n",
       "      <td>0.0</td>\n",
       "      <td>0.0</td>\n",
       "      <td>1.0</td>\n",
       "      <td>0.0</td>\n",
       "      <td>1.0</td>\n",
       "      <td>0.0</td>\n",
       "      <td>2.0</td>\n",
       "      <td>2.0</td>\n",
       "      <td>1.0</td>\n",
       "    </tr>\n",
       "    <tr>\n",
       "      <th>3</th>\n",
       "      <td>21.0</td>\n",
       "      <td>Male</td>\n",
       "      <td>141855.0</td>\n",
       "      <td>Married</td>\n",
       "      <td>2.0</td>\n",
       "      <td>Bachelor's</td>\n",
       "      <td>NaN</td>\n",
       "      <td>10.938144</td>\n",
       "      <td>Rural</td>\n",
       "      <td>Basic</td>\n",
       "      <td>...</td>\n",
       "      <td>0.0</td>\n",
       "      <td>1.0</td>\n",
       "      <td>0.0</td>\n",
       "      <td>0.0</td>\n",
       "      <td>0.0</td>\n",
       "      <td>1.0</td>\n",
       "      <td>1.0</td>\n",
       "      <td>0.0</td>\n",
       "      <td>0.0</td>\n",
       "      <td>3.0</td>\n",
       "    </tr>\n",
       "    <tr>\n",
       "      <th>4</th>\n",
       "      <td>21.0</td>\n",
       "      <td>Male</td>\n",
       "      <td>39651.0</td>\n",
       "      <td>Single</td>\n",
       "      <td>1.0</td>\n",
       "      <td>Bachelor's</td>\n",
       "      <td>Self-Employed</td>\n",
       "      <td>20.376094</td>\n",
       "      <td>Rural</td>\n",
       "      <td>Premium</td>\n",
       "      <td>...</td>\n",
       "      <td>0.0</td>\n",
       "      <td>0.0</td>\n",
       "      <td>0.0</td>\n",
       "      <td>1.0</td>\n",
       "      <td>0.0</td>\n",
       "      <td>1.0</td>\n",
       "      <td>1.0</td>\n",
       "      <td>2.0</td>\n",
       "      <td>0.0</td>\n",
       "      <td>1.0</td>\n",
       "    </tr>\n",
       "    <tr>\n",
       "      <th>...</th>\n",
       "      <td>...</td>\n",
       "      <td>...</td>\n",
       "      <td>...</td>\n",
       "      <td>...</td>\n",
       "      <td>...</td>\n",
       "      <td>...</td>\n",
       "      <td>...</td>\n",
       "      <td>...</td>\n",
       "      <td>...</td>\n",
       "      <td>...</td>\n",
       "      <td>...</td>\n",
       "      <td>...</td>\n",
       "      <td>...</td>\n",
       "      <td>...</td>\n",
       "      <td>...</td>\n",
       "      <td>...</td>\n",
       "      <td>...</td>\n",
       "      <td>...</td>\n",
       "      <td>...</td>\n",
       "      <td>...</td>\n",
       "      <td>...</td>\n",
       "    </tr>\n",
       "    <tr>\n",
       "      <th>893178</th>\n",
       "      <td>53.0</td>\n",
       "      <td>Female</td>\n",
       "      <td>6837.0</td>\n",
       "      <td>Married</td>\n",
       "      <td>2.0</td>\n",
       "      <td>High School</td>\n",
       "      <td>Self-Employed</td>\n",
       "      <td>17.844235</td>\n",
       "      <td>Urban</td>\n",
       "      <td>Comprehensive</td>\n",
       "      <td>...</td>\n",
       "      <td>1.0</td>\n",
       "      <td>0.0</td>\n",
       "      <td>0.0</td>\n",
       "      <td>1.0</td>\n",
       "      <td>1.0</td>\n",
       "      <td>0.0</td>\n",
       "      <td>0.0</td>\n",
       "      <td>1.0</td>\n",
       "      <td>2.0</td>\n",
       "      <td>0.0</td>\n",
       "    </tr>\n",
       "    <tr>\n",
       "      <th>893179</th>\n",
       "      <td>38.0</td>\n",
       "      <td>Male</td>\n",
       "      <td>1607.0</td>\n",
       "      <td>Married</td>\n",
       "      <td>1.0</td>\n",
       "      <td>High School</td>\n",
       "      <td>NaN</td>\n",
       "      <td>18.552314</td>\n",
       "      <td>Suburban</td>\n",
       "      <td>Comprehensive</td>\n",
       "      <td>...</td>\n",
       "      <td>0.0</td>\n",
       "      <td>0.0</td>\n",
       "      <td>0.0</td>\n",
       "      <td>1.0</td>\n",
       "      <td>1.0</td>\n",
       "      <td>0.0</td>\n",
       "      <td>0.0</td>\n",
       "      <td>1.0</td>\n",
       "      <td>2.0</td>\n",
       "      <td>0.0</td>\n",
       "    </tr>\n",
       "    <tr>\n",
       "      <th>893180</th>\n",
       "      <td>34.0</td>\n",
       "      <td>Male</td>\n",
       "      <td>23456.0</td>\n",
       "      <td>Single</td>\n",
       "      <td>4.0</td>\n",
       "      <td>Master's</td>\n",
       "      <td>Self-Employed</td>\n",
       "      <td>14.783439</td>\n",
       "      <td>Rural</td>\n",
       "      <td>Basic</td>\n",
       "      <td>...</td>\n",
       "      <td>0.0</td>\n",
       "      <td>1.0</td>\n",
       "      <td>0.0</td>\n",
       "      <td>0.0</td>\n",
       "      <td>1.0</td>\n",
       "      <td>0.0</td>\n",
       "      <td>2.0</td>\n",
       "      <td>0.0</td>\n",
       "      <td>2.0</td>\n",
       "      <td>2.0</td>\n",
       "    </tr>\n",
       "    <tr>\n",
       "      <th>893181</th>\n",
       "      <td>36.0</td>\n",
       "      <td>Female</td>\n",
       "      <td>27316.0</td>\n",
       "      <td>Married</td>\n",
       "      <td>0.0</td>\n",
       "      <td>Master's</td>\n",
       "      <td>Unemployed</td>\n",
       "      <td>13.772907</td>\n",
       "      <td>Urban</td>\n",
       "      <td>Premium</td>\n",
       "      <td>...</td>\n",
       "      <td>1.0</td>\n",
       "      <td>1.0</td>\n",
       "      <td>0.0</td>\n",
       "      <td>0.0</td>\n",
       "      <td>1.0</td>\n",
       "      <td>0.0</td>\n",
       "      <td>2.0</td>\n",
       "      <td>2.0</td>\n",
       "      <td>0.0</td>\n",
       "      <td>3.0</td>\n",
       "    </tr>\n",
       "    <tr>\n",
       "      <th>893182</th>\n",
       "      <td>19.0</td>\n",
       "      <td>Male</td>\n",
       "      <td>51884.0</td>\n",
       "      <td>Divorced</td>\n",
       "      <td>0.0</td>\n",
       "      <td>Master's</td>\n",
       "      <td>NaN</td>\n",
       "      <td>14.724469</td>\n",
       "      <td>Suburban</td>\n",
       "      <td>Basic</td>\n",
       "      <td>...</td>\n",
       "      <td>0.0</td>\n",
       "      <td>0.0</td>\n",
       "      <td>1.0</td>\n",
       "      <td>0.0</td>\n",
       "      <td>1.0</td>\n",
       "      <td>0.0</td>\n",
       "      <td>2.0</td>\n",
       "      <td>0.0</td>\n",
       "      <td>2.0</td>\n",
       "      <td>2.0</td>\n",
       "    </tr>\n",
       "  </tbody>\n",
       "</table>\n",
       "<p>893183 rows × 39 columns</p>\n",
       "</div>"
      ],
      "text/plain": [
       "         Age  Gender  Annual Income Marital Status  Number of Dependents  \\\n",
       "0       19.0  Female        10049.0        Married                   1.0   \n",
       "1       39.0  Female        31678.0       Divorced                   3.0   \n",
       "2       23.0    Male        25602.0       Divorced                   3.0   \n",
       "3       21.0    Male       141855.0        Married                   2.0   \n",
       "4       21.0    Male        39651.0         Single                   1.0   \n",
       "...      ...     ...            ...            ...                   ...   \n",
       "893178  53.0  Female         6837.0        Married                   2.0   \n",
       "893179  38.0    Male         1607.0        Married                   1.0   \n",
       "893180  34.0    Male        23456.0         Single                   4.0   \n",
       "893181  36.0  Female        27316.0        Married                   0.0   \n",
       "893182  19.0    Male        51884.0       Divorced                   0.0   \n",
       "\n",
       "       Education Level     Occupation  Health Score  Location    Policy Type  \\\n",
       "0           Bachelor's  Self-Employed     22.598761     Urban        Premium   \n",
       "1             Master's            NaN     15.569731     Rural  Comprehensive   \n",
       "2          High School  Self-Employed     47.177549  Suburban        Premium   \n",
       "3           Bachelor's            NaN     10.938144     Rural          Basic   \n",
       "4           Bachelor's  Self-Employed     20.376094     Rural        Premium   \n",
       "...                ...            ...           ...       ...            ...   \n",
       "893178     High School  Self-Employed     17.844235     Urban  Comprehensive   \n",
       "893179     High School            NaN     18.552314  Suburban  Comprehensive   \n",
       "893180        Master's  Self-Employed     14.783439     Rural          Basic   \n",
       "893181        Master's     Unemployed     13.772907     Urban        Premium   \n",
       "893182        Master's            NaN     14.724469  Suburban          Basic   \n",
       "\n",
       "        ...  Location_Urban  Property Type_Apartment  Property Type_Condo  \\\n",
       "0       ...             1.0                      0.0                  0.0   \n",
       "1       ...             0.0                      0.0                  0.0   \n",
       "2       ...             0.0                      0.0                  0.0   \n",
       "3       ...             0.0                      1.0                  0.0   \n",
       "4       ...             0.0                      0.0                  0.0   \n",
       "...     ...             ...                      ...                  ...   \n",
       "893178  ...             1.0                      0.0                  0.0   \n",
       "893179  ...             0.0                      0.0                  0.0   \n",
       "893180  ...             0.0                      1.0                  0.0   \n",
       "893181  ...             1.0                      1.0                  0.0   \n",
       "893182  ...             0.0                      0.0                  1.0   \n",
       "\n",
       "        Property Type_House Smoking Status_No Smoking Status_Yes  \\\n",
       "0                       1.0               1.0                0.0   \n",
       "1                       1.0               0.0                1.0   \n",
       "2                       1.0               0.0                1.0   \n",
       "3                       0.0               0.0                1.0   \n",
       "4                       1.0               0.0                1.0   \n",
       "...                     ...               ...                ...   \n",
       "893178                  1.0               1.0                0.0   \n",
       "893179                  1.0               1.0                0.0   \n",
       "893180                  0.0               1.0                0.0   \n",
       "893181                  0.0               1.0                0.0   \n",
       "893182                  0.0               1.0                0.0   \n",
       "\n",
       "       Education Level_ordered Policy Type_ordered Customer Feedback_ordered  \\\n",
       "0                          1.0                 2.0                       0.0   \n",
       "1                          2.0                 1.0                       1.0   \n",
       "2                          0.0                 2.0                       2.0   \n",
       "3                          1.0                 0.0                       0.0   \n",
       "4                          1.0                 2.0                       0.0   \n",
       "...                        ...                 ...                       ...   \n",
       "893178                     0.0                 1.0                       2.0   \n",
       "893179                     0.0                 1.0                       2.0   \n",
       "893180                     2.0                 0.0                       2.0   \n",
       "893181                     2.0                 2.0                       0.0   \n",
       "893182                     2.0                 0.0                       2.0   \n",
       "\n",
       "        Exercise Frequency_ordered  \n",
       "0                              1.0  \n",
       "1                              2.0  \n",
       "2                              1.0  \n",
       "3                              3.0  \n",
       "4                              1.0  \n",
       "...                            ...  \n",
       "893178                         0.0  \n",
       "893179                         0.0  \n",
       "893180                         2.0  \n",
       "893181                         3.0  \n",
       "893182                         2.0  \n",
       "\n",
       "[893183 rows x 39 columns]"
      ]
     },
     "metadata": {},
     "output_type": "display_data"
    },
    {
     "data": {
      "text/plain": [
       "{'target_columns': 'Premium Amount',\n",
       " 'columns_X': ['Age',\n",
       "  'Annual Income',\n",
       "  'Number of Dependents',\n",
       "  'Health Score',\n",
       "  'Vehicle Age',\n",
       "  'Insurance Duration',\n",
       "  'Policy Start Month',\n",
       "  'Gender_Female',\n",
       "  'Gender_Male',\n",
       "  'Marital Status_Divorced',\n",
       "  'Marital Status_Married',\n",
       "  'Marital Status_Single',\n",
       "  'Location_Rural',\n",
       "  'Location_Suburban',\n",
       "  'Location_Urban',\n",
       "  'Property Type_Apartment',\n",
       "  'Property Type_Condo',\n",
       "  'Property Type_House',\n",
       "  'Smoking Status_No',\n",
       "  'Smoking Status_Yes',\n",
       "  'Education Level_ordered',\n",
       "  'Policy Type_ordered',\n",
       "  'Customer Feedback_ordered',\n",
       "  'Exercise Frequency_ordered'],\n",
       " 'cat_columns': ['Gender',\n",
       "  'Marital Status',\n",
       "  'Education Level',\n",
       "  'Location',\n",
       "  'Policy Type',\n",
       "  'Policy Start Date',\n",
       "  'Customer Feedback',\n",
       "  'Smoking Status',\n",
       "  'Exercise Frequency',\n",
       "  'Property Type'],\n",
       " 'num_columns': ['Age',\n",
       "  'Annual Income',\n",
       "  'Number of Dependents',\n",
       "  'Health Score',\n",
       "  'Vehicle Age',\n",
       "  'Insurance Duration'],\n",
       " 'columns_with_nan': ['Age',\n",
       "  'Annual Income',\n",
       "  'Marital Status',\n",
       "  'Number of Dependents',\n",
       "  'Health Score',\n",
       "  'Vehicle Age',\n",
       "  'Insurance Duration',\n",
       "  'Customer Feedback']}"
      ]
     },
     "metadata": {},
     "output_type": "display_data"
    }
   ],
   "source": [
    "dataset_df = joblib.load(Path(result_foler, dataset_filename_05_after_CatEncoder))\n",
    "dataset_df_wo_nan = joblib.load(Path(result_foler, dataset_wo_nan_filename_05_after_CatEncoder))\n",
    "params = joblib.load(Path(result_foler, params_filename_05_after_CatEncoder))\n",
    "display(dataset_df)\n",
    "display(dataset_df_wo_nan)\n",
    "display(params)"
   ]
  },
  {
   "cell_type": "code",
   "execution_count": 3,
   "metadata": {},
   "outputs": [
    {
     "data": {
      "application/vnd.plotly.v1+json": {
       "config": {
        "plotlyServerURL": "https://plot.ly"
       },
       "data": [
        {
         "coloraxis": "coloraxis",
         "hovertemplate": "x: %{x}<br>y: %{y}<br>color: %{z}<extra></extra>",
         "name": "0",
         "texttemplate": "%{z:.2f}",
         "type": "heatmap",
         "x": [
          "Age",
          "Annual Income",
          "Number of Dependents",
          "Health Score",
          "Vehicle Age",
          "Insurance Duration",
          "Policy Start Month",
          "Gender_Female",
          "Gender_Male",
          "Marital Status_Divorced",
          "Marital Status_Married",
          "Marital Status_Single",
          "Location_Rural",
          "Location_Suburban",
          "Location_Urban",
          "Property Type_Apartment",
          "Property Type_Condo",
          "Property Type_House",
          "Smoking Status_No",
          "Smoking Status_Yes",
          "Education Level_ordered",
          "Policy Type_ordered",
          "Customer Feedback_ordered",
          "Exercise Frequency_ordered"
         ],
         "xaxis": "x",
         "y": [
          "Age",
          "Annual Income",
          "Number of Dependents",
          "Health Score",
          "Vehicle Age",
          "Insurance Duration",
          "Policy Start Month",
          "Gender_Female",
          "Gender_Male",
          "Marital Status_Divorced",
          "Marital Status_Married",
          "Marital Status_Single",
          "Location_Rural",
          "Location_Suburban",
          "Location_Urban",
          "Property Type_Apartment",
          "Property Type_Condo",
          "Property Type_House",
          "Smoking Status_No",
          "Smoking Status_Yes",
          "Education Level_ordered",
          "Policy Type_ordered",
          "Customer Feedback_ordered",
          "Exercise Frequency_ordered"
         ],
         "yaxis": "y",
         "z": [
          [
           1,
           0.0011839102955606827,
           0.0016007776785832138,
           0.0007317010788433862,
           -0.0027731039350059284,
           -0.00021238591868999327,
           0.0016121238249359124,
           -0.0007023383786480338,
           0.0007023383786480338,
           -0.0018394567534369996,
           0.0019544618465537943,
           -0.00011725782602679315,
           0.0003200302754984291,
           -0.0023671581951373232,
           0.0020535027151916308,
           0.002114731408606118,
           -0.0013677439220855761,
           -0.0007468727959443553,
           0.0015278321170037502,
           -0.0015278321170037502,
           -0.00018047178091200208,
           0.00003219128642068508,
           0.0006219665878919752,
           0.00021044773715852037
          ],
          [
           0.0011839102955606827,
           1,
           0.0024881724922939724,
           0.012526433230729163,
           -0.0010056934287341623,
           -0.0002299818672255307,
           0.0045849340620701135,
           0.0012738069478874475,
           -0.0012738069478874475,
           -0.0003282265268680089,
           0.00027731695162396046,
           0.00005041797075623861,
           -0.0010814525284377154,
           0.0005244887952676583,
           0.0005579863518650388,
           -0.0017291950536634452,
           0.00008984421931865578,
           0.0016383054767744347,
           0.0012999391699176546,
           -0.0012999391699176546,
           -0.000039887993295412636,
           0.00013568098565925094,
           0.001086286886727221,
           -0.003307759054611082
          ],
          [
           0.0016007776785832138,
           0.0024881724922939724,
           1,
           0.005393435590602713,
           0.0013124958322256633,
           0.000011277826155033103,
           -0.0003291632246904008,
           -0.0011568377194042208,
           0.0011568377194042208,
           0.00014769287239003746,
           0.001154484532019741,
           -0.0013003509130899466,
           0.0013553023986379452,
           -0.0004675057836719893,
           -0.0008896511410593394,
           -0.0009160263332437766,
           -0.0023343979839882964,
           0.003247666809911917,
           -0.0006201886474447595,
           0.0006201886474447595,
           0.000888982188833579,
           -0.000557155806195621,
           0.0009538984039012128,
           -0.0024378848288434426
          ],
          [
           0.0007317010788433862,
           0.012526433230729163,
           0.005393435590602713,
           1,
           0.0001247494755019184,
           0.0031228959864013093,
           0.0013651373650595366,
           -0.0038124915237605413,
           0.0038124915237605413,
           -0.00025873446824724544,
           -0.0017584203279564412,
           0.002014286418896616,
           0.0009566876020132337,
           0.002594734288559487,
           -0.003561560158419917,
           -0.00018778786922431887,
           0.0022509588893297786,
           -0.0020612110605753285,
           0.0033123964059723707,
           -0.0033123964059723707,
           0.0037297048662816618,
           -0.0028824568381160577,
           0.0015396812573632945,
           0.000035031652394037146
          ],
          [
           -0.0027731039350059284,
           -0.0010056934287341623,
           0.0013124958322256633,
           0.0001247494755019184,
           1,
           0.00423783854642833,
           0.00014245958270698013,
           -0.0007684160797158617,
           0.0007684160797158617,
           -0.0019353220543671973,
           0.0025068971360449267,
           -0.0005733798154454853,
           0.00024737330395304844,
           -0.0003433743083991219,
           0.00009644149299025832,
           0.002148044039988087,
           0.0011177509385568835,
           -0.003263359052830438,
           0.00010924292453030779,
           -0.00010924292453030779,
           0.0016143123280677719,
           0.001493788560269025,
           -0.0010623649290416553,
           0.0007042334277668001
          ],
          [
           -0.00021238591868999327,
           -0.0002299818672255307,
           0.000011277826155033103,
           0.0031228959864013093,
           0.00423783854642833,
           1,
           0.00247609018654647,
           0.0012524857150629939,
           -0.0012524857150629939,
           0.0013340678865068172,
           -0.0005538814532769881,
           -0.0007774689611745216,
           -0.0006955175015473687,
           -0.0006836903065959045,
           0.0013829476948890333,
           0.00037111257942583294,
           -0.0013228078053235035,
           0.000950713598452922,
           -0.0002608821404348507,
           0.0002608821404348507,
           0.0004366403232369751,
           -0.0005961509280681636,
           -0.001646834461646131,
           0.0016880538677005717
          ],
          [
           0.0016121238249359124,
           0.0045849340620701135,
           -0.0003291632246904008,
           0.0013651373650595366,
           0.00014245958270698013,
           0.00247609018654647,
           1,
           -0.0008973829642319554,
           0.0008973829642319554,
           0.0004364370457063595,
           0.0002678585830357228,
           -0.0007028431150044476,
           0.0004778881370892076,
           0.0007364077107796514,
           -0.0012176704629383538,
           0.003223266651452967,
           0.00025855781709132594,
           -0.0034794817452326273,
           -0.0002492865706248974,
           0.0002492865706248974,
           0.0005315657319091844,
           -0.0011813552251737857,
           0.0016402562409786135,
           0.0027626990102296188
          ],
          [
           -0.0007023383786480338,
           0.0012738069478874475,
           -0.0011568377194042208,
           -0.0038124915237605413,
           -0.0007684160797158617,
           0.0012524857150629939,
           -0.0008973829642319554,
           1,
           -1,
           0.00260066820842374,
           -0.002539545386394429,
           -0.000057657120750262945,
           0.0009600609381702622,
           0.0007243880276055429,
           -0.001688949172564969,
           -0.002168525677157678,
           0.002560782323008398,
           -0.0003913026842420904,
           0.0032723276315475567,
           -0.0032723276315475567,
           -0.0003744166380733578,
           0.0010207103154918327,
           -0.0014161582845337978,
           -0.0005618350208546804
          ],
          [
           0.0007023383786480338,
           -0.0012738069478874475,
           0.0011568377194042208,
           0.0038124915237605413,
           0.0007684160797158617,
           -0.0012524857150629939,
           0.0008973829642319554,
           -1,
           1,
           -0.00260066820842374,
           0.002539545386394429,
           0.000057657120750262945,
           -0.0009600609381702622,
           -0.0007243880276055429,
           0.001688949172564969,
           0.002168525677157678,
           -0.002560782323008398,
           0.0003913026842420904,
           -0.0032723276315475567,
           0.0032723276315475567,
           0.0003744166380733578,
           -0.0010207103154918327,
           0.0014161582845337978,
           0.0005618350208546804
          ],
          [
           -0.0018394567534369996,
           -0.0003282265268680089,
           0.00014769287239003746,
           -0.00025873446824724544,
           -0.0019353220543671973,
           0.0013340678865068172,
           0.0004364370457063595,
           0.00260066820842374,
           -0.00260066820842374,
           1,
           -0.49808876591088946,
           -0.4999782868024698,
           -0.00012721831944146301,
           0.0010061429525262153,
           -0.0008816554171917699,
           -0.002213409078634806,
           0.0005437314503268962,
           0.001668736192081095,
           -0.0006687877424758328,
           0.0006687877424758328,
           0.00008018288253147632,
           0.0006440352036389561,
           -0.0007344493184847883,
           -0.0006381373743463707
          ],
          [
           0.0019544618465537943,
           0.00027731695162396046,
           0.001154484532019741,
           -0.0017584203279564412,
           0.0025068971360449267,
           -0.0005538814532769881,
           0.0002678585830357228,
           -0.002539545386394429,
           0.002539545386394429,
           -0.49808876591088946,
           1,
           -0.5019304871615096,
           0.00009337647850746794,
           0.0005444737615560601,
           -0.0006397189004438938,
           -0.001785944451547322,
           -0.0007834231113800329,
           0.0025674772533165586,
           0.0011622363073958883,
           -0.0011622363073958883,
           0.0021635685878765363,
           -0.0018534732759618686,
           0.0025749747697930755,
           0.0009988319899510618
          ],
          [
           -0.00011725782602679315,
           0.00005041797075623861,
           -0.0013003509130899466,
           0.002014286418896616,
           -0.0005733798154454853,
           -0.0007774689611745216,
           -0.0007028431150044476,
           -0.000057657120750262945,
           0.000057657120750262945,
           -0.4999782868024698,
           -0.5019304871615096,
           1,
           0.00003363359305999884,
           -0.0015473598006121077,
           0.001518316321897695,
           0.003991450614073246,
           0.0002400994368471678,
           -0.004228723085291584,
           -0.0004937008798076507,
           0.0004937008798076507,
           -0.0022408314252059846,
           0.001208759676801562,
           -0.0018391729610616717,
           -0.0003610735745768791
          ],
          [
           0.0003200302754984291,
           -0.0010814525284377154,
           0.0013553023986379452,
           0.0009566876020132337,
           0.00024737330395304844,
           -0.0006955175015473687,
           0.0004778881370892076,
           0.0009600609381702622,
           -0.0009600609381702622,
           -0.00012721831944146301,
           0.00009337647850746794,
           0.00003363359305999884,
           1,
           -0.5027033591179266,
           -0.4981887517321376,
           -0.0016282054839877088,
           0.0015259271501328927,
           0.00010262749743403617,
           0.0009968606796983345,
           -0.0009968606796983345,
           -0.0025548950960976647,
           -0.0018374106009527466,
           -0.000306726173504049,
           0.00035856462083595444
          ],
          [
           -0.0023671581951373232,
           0.0005244887952676583,
           -0.0004675057836719893,
           0.002594734288559487,
           -0.0003433743083991219,
           -0.0006836903065959045,
           0.0007364077107796514,
           0.0007243880276055429,
           -0.0007243880276055429,
           0.0010061429525262153,
           0.0005444737615560601,
           -0.0015473598006121077,
           -0.5027033591179266,
           1,
           -0.4991040861656952,
           0.0012202753181066962,
           -0.0004380348380868282,
           -0.0007818493792471276,
           0.0009480943385765838,
           -0.0009480943385765838,
           -0.0004267424013717272,
           0.0026248228900133228,
           0.00008661024857694187,
           0.0011293445375803101
          ],
          [
           0.0020535027151916308,
           0.0005579863518650388,
           -0.0008896511410593394,
           -0.003561560158419917,
           0.00009644149299025832,
           0.0013829476948890333,
           -0.0012176704629383538,
           -0.001688949172564969,
           0.001688949172564969,
           -0.0008816554171917699,
           -0.0006397189004438938,
           0.001518316321897695,
           -0.4981887517321376,
           -0.4991040861656952,
           1,
           0.0004081698419765543,
           -0.0010902469539552147,
           0.000681334825605598,
           -0.0019502192234688443,
           0.0019502192234688443,
           0.002989082195302694,
           -0.0007909085374508531,
           0.00022059357487938595,
           -0.0014921824386070488
          ],
          [
           0.002114731408606118,
           -0.0017291950536634452,
           -0.0009160263332437766,
           -0.00018778786922431887,
           0.002148044039988087,
           0.00037111257942583294,
           0.003223266651452967,
           -0.002168525677157678,
           0.002168525677157678,
           -0.002213409078634806,
           -0.001785944451547322,
           0.003991450614073246,
           -0.0016282054839877088,
           0.0012202753181066962,
           0.0004081698419765543,
           1,
           -0.49921020878248135,
           -0.5005990402148381,
           0.0009500824754028913,
           -0.0009500824754028913,
           -0.0014165234125649755,
           0.00023461334981507347,
           0.00024389005207550737,
           -0.0012783738407597506
          ],
          [
           -0.0013677439220855761,
           0.00008984421931865578,
           -0.0023343979839882964,
           0.0022509588893297786,
           0.0011177509385568835,
           -0.0013228078053235035,
           0.00025855781709132594,
           0.002560782323008398,
           -0.002560782323008398,
           0.0005437314503268962,
           -0.0007834231113800329,
           0.0002400994368471678,
           0.0015259271501328927,
           -0.0004380348380868282,
           -0.0010902469539552147,
           -0.49921020878248135,
           1,
           -0.5001904114896956,
           0.00008369879225712306,
           -0.00008369879225712306,
           -0.0024215003389855766,
           0.001476225400097678,
           0.0015763070553582428,
           0.0005871577164466424
          ],
          [
           -0.0007468727959443553,
           0.0016383054767744347,
           0.003247666809911917,
           -0.0020612110605753285,
           -0.003263359052830438,
           0.000950713598452922,
           -0.0034794817452326273,
           -0.0003913026842420904,
           0.0003913026842420904,
           0.001668736192081095,
           0.0025674772533165586,
           -0.004228723085291584,
           0.00010262749743403617,
           -0.0007818493792471276,
           0.000681334825605598,
           -0.5005990402148381,
           -0.5001904114896956,
           1,
           -0.0010330838054376078,
           0.0010330838054376078,
           0.003834859034056652,
           -0.001709319886998927,
           -0.0018185795983741769,
           0.0006909250716622057
          ],
          [
           0.0015278321170037502,
           0.0012999391699176546,
           -0.0006201886474447595,
           0.0033123964059723707,
           0.00010924292453030779,
           -0.0002608821404348507,
           -0.0002492865706248974,
           0.0032723276315475567,
           -0.0032723276315475567,
           -0.0006687877424758328,
           0.0011622363073958883,
           -0.0004937008798076507,
           0.0009968606796983345,
           0.0009480943385765838,
           -0.0019502192234688443,
           0.0009500824754028913,
           0.00008369879225712306,
           -0.0010330838054376078,
           1,
           -1,
           -0.0007416161805956782,
           0.0022396817652436335,
           -0.0007265884002291882,
           0.0016200677196036538
          ],
          [
           -0.0015278321170037502,
           -0.0012999391699176546,
           0.0006201886474447595,
           -0.0033123964059723707,
           -0.00010924292453030779,
           0.0002608821404348507,
           0.0002492865706248974,
           -0.0032723276315475567,
           0.0032723276315475567,
           0.0006687877424758328,
           -0.0011622363073958883,
           0.0004937008798076507,
           -0.0009968606796983345,
           -0.0009480943385765838,
           0.0019502192234688443,
           -0.0009500824754028913,
           -0.00008369879225712306,
           0.0010330838054376078,
           -1,
           1,
           0.0007416161805956782,
           -0.0022396817652436335,
           0.0007265884002291882,
           -0.0016200677196036538
          ],
          [
           -0.00018047178091200208,
           -0.000039887993295412636,
           0.000888982188833579,
           0.0037297048662816618,
           0.0016143123280677719,
           0.0004366403232369751,
           0.0005315657319091844,
           -0.0003744166380733578,
           0.0003744166380733578,
           0.00008018288253147632,
           0.0021635685878765363,
           -0.0022408314252059846,
           -0.0025548950960976647,
           -0.0004267424013717272,
           0.002989082195302694,
           -0.0014165234125649755,
           -0.0024215003389855766,
           0.003834859034056652,
           -0.0007416161805956782,
           0.0007416161805956782,
           1,
           0.0007210257729246958,
           -0.000036367683586089995,
           0.00017061544551477212
          ],
          [
           0.00003219128642068508,
           0.00013568098565925094,
           -0.000557155806195621,
           -0.0028824568381160577,
           0.001493788560269025,
           -0.0005961509280681636,
           -0.0011813552251737857,
           0.0010207103154918327,
           -0.0010207103154918327,
           0.0006440352036389561,
           -0.0018534732759618686,
           0.001208759676801562,
           -0.0018374106009527466,
           0.0026248228900133228,
           -0.0007909085374508531,
           0.00023461334981507347,
           0.001476225400097678,
           -0.001709319886998927,
           0.0022396817652436335,
           -0.0022396817652436335,
           0.0007210257729246958,
           1,
           -0.0017634854324559144,
           -0.0015490224198831855
          ],
          [
           0.0006219665878919752,
           0.001086286886727221,
           0.0009538984039012128,
           0.0015396812573632945,
           -0.0010623649290416553,
           -0.001646834461646131,
           0.0016402562409786135,
           -0.0014161582845337978,
           0.0014161582845337978,
           -0.0007344493184847883,
           0.0025749747697930755,
           -0.0018391729610616717,
           -0.000306726173504049,
           0.00008661024857694187,
           0.00022059357487938595,
           0.00024389005207550737,
           0.0015763070553582428,
           -0.0018185795983741769,
           -0.0007265884002291882,
           0.0007265884002291882,
           -0.000036367683586089995,
           -0.0017634854324559144,
           1,
           -0.0008144649536519339
          ],
          [
           0.00021044773715852037,
           -0.003307759054611082,
           -0.0024378848288434426,
           0.000035031652394037146,
           0.0007042334277668001,
           0.0016880538677005717,
           0.0027626990102296188,
           -0.0005618350208546804,
           0.0005618350208546804,
           -0.0006381373743463707,
           0.0009988319899510618,
           -0.0003610735745768791,
           0.00035856462083595444,
           0.0011293445375803101,
           -0.0014921824386070488,
           -0.0012783738407597506,
           0.0005871577164466424,
           0.0006909250716622057,
           0.0016200677196036538,
           -0.0016200677196036538,
           0.00017061544551477212,
           -0.0015490224198831855,
           -0.0008144649536519339,
           1
          ]
         ]
        }
       ],
       "layout": {
        "coloraxis": {
         "colorscale": [
          [
           0,
           "#0d0887"
          ],
          [
           0.1111111111111111,
           "#46039f"
          ],
          [
           0.2222222222222222,
           "#7201a8"
          ],
          [
           0.3333333333333333,
           "#9c179e"
          ],
          [
           0.4444444444444444,
           "#bd3786"
          ],
          [
           0.5555555555555556,
           "#d8576b"
          ],
          [
           0.6666666666666666,
           "#ed7953"
          ],
          [
           0.7777777777777778,
           "#fb9f3a"
          ],
          [
           0.8888888888888888,
           "#fdca26"
          ],
          [
           1,
           "#f0f921"
          ]
         ]
        },
        "height": 1000,
        "margin": {
         "t": 60
        },
        "template": {
         "data": {
          "bar": [
           {
            "error_x": {
             "color": "#2a3f5f"
            },
            "error_y": {
             "color": "#2a3f5f"
            },
            "marker": {
             "line": {
              "color": "#E5ECF6",
              "width": 0.5
             },
             "pattern": {
              "fillmode": "overlay",
              "size": 10,
              "solidity": 0.2
             }
            },
            "type": "bar"
           }
          ],
          "barpolar": [
           {
            "marker": {
             "line": {
              "color": "#E5ECF6",
              "width": 0.5
             },
             "pattern": {
              "fillmode": "overlay",
              "size": 10,
              "solidity": 0.2
             }
            },
            "type": "barpolar"
           }
          ],
          "carpet": [
           {
            "aaxis": {
             "endlinecolor": "#2a3f5f",
             "gridcolor": "white",
             "linecolor": "white",
             "minorgridcolor": "white",
             "startlinecolor": "#2a3f5f"
            },
            "baxis": {
             "endlinecolor": "#2a3f5f",
             "gridcolor": "white",
             "linecolor": "white",
             "minorgridcolor": "white",
             "startlinecolor": "#2a3f5f"
            },
            "type": "carpet"
           }
          ],
          "choropleth": [
           {
            "colorbar": {
             "outlinewidth": 0,
             "ticks": ""
            },
            "type": "choropleth"
           }
          ],
          "contour": [
           {
            "colorbar": {
             "outlinewidth": 0,
             "ticks": ""
            },
            "colorscale": [
             [
              0,
              "#0d0887"
             ],
             [
              0.1111111111111111,
              "#46039f"
             ],
             [
              0.2222222222222222,
              "#7201a8"
             ],
             [
              0.3333333333333333,
              "#9c179e"
             ],
             [
              0.4444444444444444,
              "#bd3786"
             ],
             [
              0.5555555555555556,
              "#d8576b"
             ],
             [
              0.6666666666666666,
              "#ed7953"
             ],
             [
              0.7777777777777778,
              "#fb9f3a"
             ],
             [
              0.8888888888888888,
              "#fdca26"
             ],
             [
              1,
              "#f0f921"
             ]
            ],
            "type": "contour"
           }
          ],
          "contourcarpet": [
           {
            "colorbar": {
             "outlinewidth": 0,
             "ticks": ""
            },
            "type": "contourcarpet"
           }
          ],
          "heatmap": [
           {
            "colorbar": {
             "outlinewidth": 0,
             "ticks": ""
            },
            "colorscale": [
             [
              0,
              "#0d0887"
             ],
             [
              0.1111111111111111,
              "#46039f"
             ],
             [
              0.2222222222222222,
              "#7201a8"
             ],
             [
              0.3333333333333333,
              "#9c179e"
             ],
             [
              0.4444444444444444,
              "#bd3786"
             ],
             [
              0.5555555555555556,
              "#d8576b"
             ],
             [
              0.6666666666666666,
              "#ed7953"
             ],
             [
              0.7777777777777778,
              "#fb9f3a"
             ],
             [
              0.8888888888888888,
              "#fdca26"
             ],
             [
              1,
              "#f0f921"
             ]
            ],
            "type": "heatmap"
           }
          ],
          "heatmapgl": [
           {
            "colorbar": {
             "outlinewidth": 0,
             "ticks": ""
            },
            "colorscale": [
             [
              0,
              "#0d0887"
             ],
             [
              0.1111111111111111,
              "#46039f"
             ],
             [
              0.2222222222222222,
              "#7201a8"
             ],
             [
              0.3333333333333333,
              "#9c179e"
             ],
             [
              0.4444444444444444,
              "#bd3786"
             ],
             [
              0.5555555555555556,
              "#d8576b"
             ],
             [
              0.6666666666666666,
              "#ed7953"
             ],
             [
              0.7777777777777778,
              "#fb9f3a"
             ],
             [
              0.8888888888888888,
              "#fdca26"
             ],
             [
              1,
              "#f0f921"
             ]
            ],
            "type": "heatmapgl"
           }
          ],
          "histogram": [
           {
            "marker": {
             "pattern": {
              "fillmode": "overlay",
              "size": 10,
              "solidity": 0.2
             }
            },
            "type": "histogram"
           }
          ],
          "histogram2d": [
           {
            "colorbar": {
             "outlinewidth": 0,
             "ticks": ""
            },
            "colorscale": [
             [
              0,
              "#0d0887"
             ],
             [
              0.1111111111111111,
              "#46039f"
             ],
             [
              0.2222222222222222,
              "#7201a8"
             ],
             [
              0.3333333333333333,
              "#9c179e"
             ],
             [
              0.4444444444444444,
              "#bd3786"
             ],
             [
              0.5555555555555556,
              "#d8576b"
             ],
             [
              0.6666666666666666,
              "#ed7953"
             ],
             [
              0.7777777777777778,
              "#fb9f3a"
             ],
             [
              0.8888888888888888,
              "#fdca26"
             ],
             [
              1,
              "#f0f921"
             ]
            ],
            "type": "histogram2d"
           }
          ],
          "histogram2dcontour": [
           {
            "colorbar": {
             "outlinewidth": 0,
             "ticks": ""
            },
            "colorscale": [
             [
              0,
              "#0d0887"
             ],
             [
              0.1111111111111111,
              "#46039f"
             ],
             [
              0.2222222222222222,
              "#7201a8"
             ],
             [
              0.3333333333333333,
              "#9c179e"
             ],
             [
              0.4444444444444444,
              "#bd3786"
             ],
             [
              0.5555555555555556,
              "#d8576b"
             ],
             [
              0.6666666666666666,
              "#ed7953"
             ],
             [
              0.7777777777777778,
              "#fb9f3a"
             ],
             [
              0.8888888888888888,
              "#fdca26"
             ],
             [
              1,
              "#f0f921"
             ]
            ],
            "type": "histogram2dcontour"
           }
          ],
          "mesh3d": [
           {
            "colorbar": {
             "outlinewidth": 0,
             "ticks": ""
            },
            "type": "mesh3d"
           }
          ],
          "parcoords": [
           {
            "line": {
             "colorbar": {
              "outlinewidth": 0,
              "ticks": ""
             }
            },
            "type": "parcoords"
           }
          ],
          "pie": [
           {
            "automargin": true,
            "type": "pie"
           }
          ],
          "scatter": [
           {
            "fillpattern": {
             "fillmode": "overlay",
             "size": 10,
             "solidity": 0.2
            },
            "type": "scatter"
           }
          ],
          "scatter3d": [
           {
            "line": {
             "colorbar": {
              "outlinewidth": 0,
              "ticks": ""
             }
            },
            "marker": {
             "colorbar": {
              "outlinewidth": 0,
              "ticks": ""
             }
            },
            "type": "scatter3d"
           }
          ],
          "scattercarpet": [
           {
            "marker": {
             "colorbar": {
              "outlinewidth": 0,
              "ticks": ""
             }
            },
            "type": "scattercarpet"
           }
          ],
          "scattergeo": [
           {
            "marker": {
             "colorbar": {
              "outlinewidth": 0,
              "ticks": ""
             }
            },
            "type": "scattergeo"
           }
          ],
          "scattergl": [
           {
            "marker": {
             "colorbar": {
              "outlinewidth": 0,
              "ticks": ""
             }
            },
            "type": "scattergl"
           }
          ],
          "scattermapbox": [
           {
            "marker": {
             "colorbar": {
              "outlinewidth": 0,
              "ticks": ""
             }
            },
            "type": "scattermapbox"
           }
          ],
          "scatterpolar": [
           {
            "marker": {
             "colorbar": {
              "outlinewidth": 0,
              "ticks": ""
             }
            },
            "type": "scatterpolar"
           }
          ],
          "scatterpolargl": [
           {
            "marker": {
             "colorbar": {
              "outlinewidth": 0,
              "ticks": ""
             }
            },
            "type": "scatterpolargl"
           }
          ],
          "scatterternary": [
           {
            "marker": {
             "colorbar": {
              "outlinewidth": 0,
              "ticks": ""
             }
            },
            "type": "scatterternary"
           }
          ],
          "surface": [
           {
            "colorbar": {
             "outlinewidth": 0,
             "ticks": ""
            },
            "colorscale": [
             [
              0,
              "#0d0887"
             ],
             [
              0.1111111111111111,
              "#46039f"
             ],
             [
              0.2222222222222222,
              "#7201a8"
             ],
             [
              0.3333333333333333,
              "#9c179e"
             ],
             [
              0.4444444444444444,
              "#bd3786"
             ],
             [
              0.5555555555555556,
              "#d8576b"
             ],
             [
              0.6666666666666666,
              "#ed7953"
             ],
             [
              0.7777777777777778,
              "#fb9f3a"
             ],
             [
              0.8888888888888888,
              "#fdca26"
             ],
             [
              1,
              "#f0f921"
             ]
            ],
            "type": "surface"
           }
          ],
          "table": [
           {
            "cells": {
             "fill": {
              "color": "#EBF0F8"
             },
             "line": {
              "color": "white"
             }
            },
            "header": {
             "fill": {
              "color": "#C8D4E3"
             },
             "line": {
              "color": "white"
             }
            },
            "type": "table"
           }
          ]
         },
         "layout": {
          "annotationdefaults": {
           "arrowcolor": "#2a3f5f",
           "arrowhead": 0,
           "arrowwidth": 1
          },
          "autotypenumbers": "strict",
          "coloraxis": {
           "colorbar": {
            "outlinewidth": 0,
            "ticks": ""
           }
          },
          "colorscale": {
           "diverging": [
            [
             0,
             "#8e0152"
            ],
            [
             0.1,
             "#c51b7d"
            ],
            [
             0.2,
             "#de77ae"
            ],
            [
             0.3,
             "#f1b6da"
            ],
            [
             0.4,
             "#fde0ef"
            ],
            [
             0.5,
             "#f7f7f7"
            ],
            [
             0.6,
             "#e6f5d0"
            ],
            [
             0.7,
             "#b8e186"
            ],
            [
             0.8,
             "#7fbc41"
            ],
            [
             0.9,
             "#4d9221"
            ],
            [
             1,
             "#276419"
            ]
           ],
           "sequential": [
            [
             0,
             "#0d0887"
            ],
            [
             0.1111111111111111,
             "#46039f"
            ],
            [
             0.2222222222222222,
             "#7201a8"
            ],
            [
             0.3333333333333333,
             "#9c179e"
            ],
            [
             0.4444444444444444,
             "#bd3786"
            ],
            [
             0.5555555555555556,
             "#d8576b"
            ],
            [
             0.6666666666666666,
             "#ed7953"
            ],
            [
             0.7777777777777778,
             "#fb9f3a"
            ],
            [
             0.8888888888888888,
             "#fdca26"
            ],
            [
             1,
             "#f0f921"
            ]
           ],
           "sequentialminus": [
            [
             0,
             "#0d0887"
            ],
            [
             0.1111111111111111,
             "#46039f"
            ],
            [
             0.2222222222222222,
             "#7201a8"
            ],
            [
             0.3333333333333333,
             "#9c179e"
            ],
            [
             0.4444444444444444,
             "#bd3786"
            ],
            [
             0.5555555555555556,
             "#d8576b"
            ],
            [
             0.6666666666666666,
             "#ed7953"
            ],
            [
             0.7777777777777778,
             "#fb9f3a"
            ],
            [
             0.8888888888888888,
             "#fdca26"
            ],
            [
             1,
             "#f0f921"
            ]
           ]
          },
          "colorway": [
           "#636efa",
           "#EF553B",
           "#00cc96",
           "#ab63fa",
           "#FFA15A",
           "#19d3f3",
           "#FF6692",
           "#B6E880",
           "#FF97FF",
           "#FECB52"
          ],
          "font": {
           "color": "#2a3f5f"
          },
          "geo": {
           "bgcolor": "white",
           "lakecolor": "white",
           "landcolor": "#E5ECF6",
           "showlakes": true,
           "showland": true,
           "subunitcolor": "white"
          },
          "hoverlabel": {
           "align": "left"
          },
          "hovermode": "closest",
          "mapbox": {
           "style": "light"
          },
          "paper_bgcolor": "white",
          "plot_bgcolor": "#E5ECF6",
          "polar": {
           "angularaxis": {
            "gridcolor": "white",
            "linecolor": "white",
            "ticks": ""
           },
           "bgcolor": "#E5ECF6",
           "radialaxis": {
            "gridcolor": "white",
            "linecolor": "white",
            "ticks": ""
           }
          },
          "scene": {
           "xaxis": {
            "backgroundcolor": "#E5ECF6",
            "gridcolor": "white",
            "gridwidth": 2,
            "linecolor": "white",
            "showbackground": true,
            "ticks": "",
            "zerolinecolor": "white"
           },
           "yaxis": {
            "backgroundcolor": "#E5ECF6",
            "gridcolor": "white",
            "gridwidth": 2,
            "linecolor": "white",
            "showbackground": true,
            "ticks": "",
            "zerolinecolor": "white"
           },
           "zaxis": {
            "backgroundcolor": "#E5ECF6",
            "gridcolor": "white",
            "gridwidth": 2,
            "linecolor": "white",
            "showbackground": true,
            "ticks": "",
            "zerolinecolor": "white"
           }
          },
          "shapedefaults": {
           "line": {
            "color": "#2a3f5f"
           }
          },
          "ternary": {
           "aaxis": {
            "gridcolor": "white",
            "linecolor": "white",
            "ticks": ""
           },
           "baxis": {
            "gridcolor": "white",
            "linecolor": "white",
            "ticks": ""
           },
           "bgcolor": "#E5ECF6",
           "caxis": {
            "gridcolor": "white",
            "linecolor": "white",
            "ticks": ""
           }
          },
          "title": {
           "x": 0.05
          },
          "xaxis": {
           "automargin": true,
           "gridcolor": "white",
           "linecolor": "white",
           "ticks": "",
           "title": {
            "standoff": 15
           },
           "zerolinecolor": "white",
           "zerolinewidth": 2
          },
          "yaxis": {
           "automargin": true,
           "gridcolor": "white",
           "linecolor": "white",
           "ticks": "",
           "title": {
            "standoff": 15
           },
           "zerolinecolor": "white",
           "zerolinewidth": 2
          }
         }
        },
        "width": 1000,
        "xaxis": {
         "anchor": "y",
         "constrain": "domain",
         "domain": [
          0,
          1
         ],
         "scaleanchor": "y"
        },
        "yaxis": {
         "anchor": "x",
         "autorange": "reversed",
         "constrain": "domain",
         "domain": [
          0,
          1
         ]
        }
       }
      }
     },
     "metadata": {},
     "output_type": "display_data"
    }
   ],
   "source": [
    "fig = px.imshow(dataset_df_wo_nan[params[\"columns_X\"]].corr(method='spearman'), height=1000, width=1000, text_auto='.2f')\n",
    "fig.show()"
   ]
  },
  {
   "cell_type": "code",
   "execution_count": 4,
   "metadata": {},
   "outputs": [
    {
     "data": {
      "text/html": [
       "<div>\n",
       "<style scoped>\n",
       "    .dataframe tbody tr th:only-of-type {\n",
       "        vertical-align: middle;\n",
       "    }\n",
       "\n",
       "    .dataframe tbody tr th {\n",
       "        vertical-align: top;\n",
       "    }\n",
       "\n",
       "    .dataframe thead th {\n",
       "        text-align: right;\n",
       "    }\n",
       "</style>\n",
       "<table border=\"1\" class=\"dataframe\">\n",
       "  <thead>\n",
       "    <tr style=\"text-align: right;\">\n",
       "      <th></th>\n",
       "      <th>Age</th>\n",
       "      <th>Annual Income</th>\n",
       "      <th>Number of Dependents</th>\n",
       "      <th>Health Score</th>\n",
       "      <th>Vehicle Age</th>\n",
       "      <th>Insurance Duration</th>\n",
       "      <th>Policy Start Month</th>\n",
       "      <th>Gender_Female</th>\n",
       "      <th>Gender_Male</th>\n",
       "      <th>Marital Status_Divorced</th>\n",
       "      <th>...</th>\n",
       "      <th>Location_Urban</th>\n",
       "      <th>Property Type_Apartment</th>\n",
       "      <th>Property Type_Condo</th>\n",
       "      <th>Property Type_House</th>\n",
       "      <th>Smoking Status_No</th>\n",
       "      <th>Smoking Status_Yes</th>\n",
       "      <th>Education Level_ordered</th>\n",
       "      <th>Policy Type_ordered</th>\n",
       "      <th>Customer Feedback_ordered</th>\n",
       "      <th>Exercise Frequency_ordered</th>\n",
       "    </tr>\n",
       "  </thead>\n",
       "  <tbody>\n",
       "    <tr>\n",
       "      <th>0</th>\n",
       "      <td>19.0</td>\n",
       "      <td>10049.0</td>\n",
       "      <td>1.0</td>\n",
       "      <td>22.598761</td>\n",
       "      <td>17.0</td>\n",
       "      <td>5.0</td>\n",
       "      <td>12</td>\n",
       "      <td>1.0</td>\n",
       "      <td>0.0</td>\n",
       "      <td>0.0</td>\n",
       "      <td>...</td>\n",
       "      <td>1.0</td>\n",
       "      <td>0.0</td>\n",
       "      <td>0.0</td>\n",
       "      <td>1.0</td>\n",
       "      <td>1.0</td>\n",
       "      <td>0.0</td>\n",
       "      <td>1.0</td>\n",
       "      <td>2.0</td>\n",
       "      <td>0.0</td>\n",
       "      <td>1.0</td>\n",
       "    </tr>\n",
       "    <tr>\n",
       "      <th>1</th>\n",
       "      <td>39.0</td>\n",
       "      <td>31678.0</td>\n",
       "      <td>3.0</td>\n",
       "      <td>15.569731</td>\n",
       "      <td>12.0</td>\n",
       "      <td>2.0</td>\n",
       "      <td>6</td>\n",
       "      <td>1.0</td>\n",
       "      <td>0.0</td>\n",
       "      <td>1.0</td>\n",
       "      <td>...</td>\n",
       "      <td>0.0</td>\n",
       "      <td>0.0</td>\n",
       "      <td>0.0</td>\n",
       "      <td>1.0</td>\n",
       "      <td>0.0</td>\n",
       "      <td>1.0</td>\n",
       "      <td>2.0</td>\n",
       "      <td>1.0</td>\n",
       "      <td>1.0</td>\n",
       "      <td>2.0</td>\n",
       "    </tr>\n",
       "    <tr>\n",
       "      <th>2</th>\n",
       "      <td>23.0</td>\n",
       "      <td>25602.0</td>\n",
       "      <td>3.0</td>\n",
       "      <td>47.177549</td>\n",
       "      <td>14.0</td>\n",
       "      <td>3.0</td>\n",
       "      <td>9</td>\n",
       "      <td>0.0</td>\n",
       "      <td>1.0</td>\n",
       "      <td>1.0</td>\n",
       "      <td>...</td>\n",
       "      <td>0.0</td>\n",
       "      <td>0.0</td>\n",
       "      <td>0.0</td>\n",
       "      <td>1.0</td>\n",
       "      <td>0.0</td>\n",
       "      <td>1.0</td>\n",
       "      <td>0.0</td>\n",
       "      <td>2.0</td>\n",
       "      <td>2.0</td>\n",
       "      <td>1.0</td>\n",
       "    </tr>\n",
       "    <tr>\n",
       "      <th>3</th>\n",
       "      <td>21.0</td>\n",
       "      <td>141855.0</td>\n",
       "      <td>2.0</td>\n",
       "      <td>10.938144</td>\n",
       "      <td>0.0</td>\n",
       "      <td>1.0</td>\n",
       "      <td>6</td>\n",
       "      <td>0.0</td>\n",
       "      <td>1.0</td>\n",
       "      <td>0.0</td>\n",
       "      <td>...</td>\n",
       "      <td>0.0</td>\n",
       "      <td>1.0</td>\n",
       "      <td>0.0</td>\n",
       "      <td>0.0</td>\n",
       "      <td>0.0</td>\n",
       "      <td>1.0</td>\n",
       "      <td>1.0</td>\n",
       "      <td>0.0</td>\n",
       "      <td>0.0</td>\n",
       "      <td>3.0</td>\n",
       "    </tr>\n",
       "    <tr>\n",
       "      <th>4</th>\n",
       "      <td>21.0</td>\n",
       "      <td>39651.0</td>\n",
       "      <td>1.0</td>\n",
       "      <td>20.376094</td>\n",
       "      <td>8.0</td>\n",
       "      <td>4.0</td>\n",
       "      <td>12</td>\n",
       "      <td>0.0</td>\n",
       "      <td>1.0</td>\n",
       "      <td>0.0</td>\n",
       "      <td>...</td>\n",
       "      <td>0.0</td>\n",
       "      <td>0.0</td>\n",
       "      <td>0.0</td>\n",
       "      <td>1.0</td>\n",
       "      <td>0.0</td>\n",
       "      <td>1.0</td>\n",
       "      <td>1.0</td>\n",
       "      <td>2.0</td>\n",
       "      <td>0.0</td>\n",
       "      <td>1.0</td>\n",
       "    </tr>\n",
       "    <tr>\n",
       "      <th>...</th>\n",
       "      <td>...</td>\n",
       "      <td>...</td>\n",
       "      <td>...</td>\n",
       "      <td>...</td>\n",
       "      <td>...</td>\n",
       "      <td>...</td>\n",
       "      <td>...</td>\n",
       "      <td>...</td>\n",
       "      <td>...</td>\n",
       "      <td>...</td>\n",
       "      <td>...</td>\n",
       "      <td>...</td>\n",
       "      <td>...</td>\n",
       "      <td>...</td>\n",
       "      <td>...</td>\n",
       "      <td>...</td>\n",
       "      <td>...</td>\n",
       "      <td>...</td>\n",
       "      <td>...</td>\n",
       "      <td>...</td>\n",
       "      <td>...</td>\n",
       "    </tr>\n",
       "    <tr>\n",
       "      <th>893178</th>\n",
       "      <td>53.0</td>\n",
       "      <td>6837.0</td>\n",
       "      <td>2.0</td>\n",
       "      <td>17.844235</td>\n",
       "      <td>15.0</td>\n",
       "      <td>4.0</td>\n",
       "      <td>1</td>\n",
       "      <td>1.0</td>\n",
       "      <td>0.0</td>\n",
       "      <td>0.0</td>\n",
       "      <td>...</td>\n",
       "      <td>1.0</td>\n",
       "      <td>0.0</td>\n",
       "      <td>0.0</td>\n",
       "      <td>1.0</td>\n",
       "      <td>1.0</td>\n",
       "      <td>0.0</td>\n",
       "      <td>0.0</td>\n",
       "      <td>1.0</td>\n",
       "      <td>2.0</td>\n",
       "      <td>0.0</td>\n",
       "    </tr>\n",
       "    <tr>\n",
       "      <th>893179</th>\n",
       "      <td>38.0</td>\n",
       "      <td>1607.0</td>\n",
       "      <td>1.0</td>\n",
       "      <td>18.552314</td>\n",
       "      <td>12.0</td>\n",
       "      <td>2.0</td>\n",
       "      <td>8</td>\n",
       "      <td>0.0</td>\n",
       "      <td>1.0</td>\n",
       "      <td>0.0</td>\n",
       "      <td>...</td>\n",
       "      <td>0.0</td>\n",
       "      <td>0.0</td>\n",
       "      <td>0.0</td>\n",
       "      <td>1.0</td>\n",
       "      <td>1.0</td>\n",
       "      <td>0.0</td>\n",
       "      <td>0.0</td>\n",
       "      <td>1.0</td>\n",
       "      <td>2.0</td>\n",
       "      <td>0.0</td>\n",
       "    </tr>\n",
       "    <tr>\n",
       "      <th>893180</th>\n",
       "      <td>34.0</td>\n",
       "      <td>23456.0</td>\n",
       "      <td>4.0</td>\n",
       "      <td>14.783439</td>\n",
       "      <td>12.0</td>\n",
       "      <td>9.0</td>\n",
       "      <td>6</td>\n",
       "      <td>0.0</td>\n",
       "      <td>1.0</td>\n",
       "      <td>0.0</td>\n",
       "      <td>...</td>\n",
       "      <td>0.0</td>\n",
       "      <td>1.0</td>\n",
       "      <td>0.0</td>\n",
       "      <td>0.0</td>\n",
       "      <td>1.0</td>\n",
       "      <td>0.0</td>\n",
       "      <td>2.0</td>\n",
       "      <td>0.0</td>\n",
       "      <td>2.0</td>\n",
       "      <td>2.0</td>\n",
       "    </tr>\n",
       "    <tr>\n",
       "      <th>893181</th>\n",
       "      <td>36.0</td>\n",
       "      <td>27316.0</td>\n",
       "      <td>0.0</td>\n",
       "      <td>13.772907</td>\n",
       "      <td>5.0</td>\n",
       "      <td>3.0</td>\n",
       "      <td>5</td>\n",
       "      <td>1.0</td>\n",
       "      <td>0.0</td>\n",
       "      <td>0.0</td>\n",
       "      <td>...</td>\n",
       "      <td>1.0</td>\n",
       "      <td>1.0</td>\n",
       "      <td>0.0</td>\n",
       "      <td>0.0</td>\n",
       "      <td>1.0</td>\n",
       "      <td>0.0</td>\n",
       "      <td>2.0</td>\n",
       "      <td>2.0</td>\n",
       "      <td>0.0</td>\n",
       "      <td>3.0</td>\n",
       "    </tr>\n",
       "    <tr>\n",
       "      <th>893182</th>\n",
       "      <td>19.0</td>\n",
       "      <td>51884.0</td>\n",
       "      <td>0.0</td>\n",
       "      <td>14.724469</td>\n",
       "      <td>19.0</td>\n",
       "      <td>6.0</td>\n",
       "      <td>5</td>\n",
       "      <td>0.0</td>\n",
       "      <td>1.0</td>\n",
       "      <td>1.0</td>\n",
       "      <td>...</td>\n",
       "      <td>0.0</td>\n",
       "      <td>0.0</td>\n",
       "      <td>1.0</td>\n",
       "      <td>0.0</td>\n",
       "      <td>1.0</td>\n",
       "      <td>0.0</td>\n",
       "      <td>2.0</td>\n",
       "      <td>0.0</td>\n",
       "      <td>2.0</td>\n",
       "      <td>2.0</td>\n",
       "    </tr>\n",
       "  </tbody>\n",
       "</table>\n",
       "<p>893183 rows × 24 columns</p>\n",
       "</div>"
      ],
      "text/plain": [
       "         Age  Annual Income  Number of Dependents  Health Score  Vehicle Age  \\\n",
       "0       19.0        10049.0                   1.0     22.598761         17.0   \n",
       "1       39.0        31678.0                   3.0     15.569731         12.0   \n",
       "2       23.0        25602.0                   3.0     47.177549         14.0   \n",
       "3       21.0       141855.0                   2.0     10.938144          0.0   \n",
       "4       21.0        39651.0                   1.0     20.376094          8.0   \n",
       "...      ...            ...                   ...           ...          ...   \n",
       "893178  53.0         6837.0                   2.0     17.844235         15.0   \n",
       "893179  38.0         1607.0                   1.0     18.552314         12.0   \n",
       "893180  34.0        23456.0                   4.0     14.783439         12.0   \n",
       "893181  36.0        27316.0                   0.0     13.772907          5.0   \n",
       "893182  19.0        51884.0                   0.0     14.724469         19.0   \n",
       "\n",
       "        Insurance Duration  Policy Start Month  Gender_Female  Gender_Male  \\\n",
       "0                      5.0                  12            1.0          0.0   \n",
       "1                      2.0                   6            1.0          0.0   \n",
       "2                      3.0                   9            0.0          1.0   \n",
       "3                      1.0                   6            0.0          1.0   \n",
       "4                      4.0                  12            0.0          1.0   \n",
       "...                    ...                 ...            ...          ...   \n",
       "893178                 4.0                   1            1.0          0.0   \n",
       "893179                 2.0                   8            0.0          1.0   \n",
       "893180                 9.0                   6            0.0          1.0   \n",
       "893181                 3.0                   5            1.0          0.0   \n",
       "893182                 6.0                   5            0.0          1.0   \n",
       "\n",
       "        Marital Status_Divorced  ...  Location_Urban  Property Type_Apartment  \\\n",
       "0                           0.0  ...             1.0                      0.0   \n",
       "1                           1.0  ...             0.0                      0.0   \n",
       "2                           1.0  ...             0.0                      0.0   \n",
       "3                           0.0  ...             0.0                      1.0   \n",
       "4                           0.0  ...             0.0                      0.0   \n",
       "...                         ...  ...             ...                      ...   \n",
       "893178                      0.0  ...             1.0                      0.0   \n",
       "893179                      0.0  ...             0.0                      0.0   \n",
       "893180                      0.0  ...             0.0                      1.0   \n",
       "893181                      0.0  ...             1.0                      1.0   \n",
       "893182                      1.0  ...             0.0                      0.0   \n",
       "\n",
       "        Property Type_Condo  Property Type_House  Smoking Status_No  \\\n",
       "0                       0.0                  1.0                1.0   \n",
       "1                       0.0                  1.0                0.0   \n",
       "2                       0.0                  1.0                0.0   \n",
       "3                       0.0                  0.0                0.0   \n",
       "4                       0.0                  1.0                0.0   \n",
       "...                     ...                  ...                ...   \n",
       "893178                  0.0                  1.0                1.0   \n",
       "893179                  0.0                  1.0                1.0   \n",
       "893180                  0.0                  0.0                1.0   \n",
       "893181                  0.0                  0.0                1.0   \n",
       "893182                  1.0                  0.0                1.0   \n",
       "\n",
       "        Smoking Status_Yes  Education Level_ordered  Policy Type_ordered  \\\n",
       "0                      0.0                      1.0                  2.0   \n",
       "1                      1.0                      2.0                  1.0   \n",
       "2                      1.0                      0.0                  2.0   \n",
       "3                      1.0                      1.0                  0.0   \n",
       "4                      1.0                      1.0                  2.0   \n",
       "...                    ...                      ...                  ...   \n",
       "893178                 0.0                      0.0                  1.0   \n",
       "893179                 0.0                      0.0                  1.0   \n",
       "893180                 0.0                      2.0                  0.0   \n",
       "893181                 0.0                      2.0                  2.0   \n",
       "893182                 0.0                      2.0                  0.0   \n",
       "\n",
       "        Customer Feedback_ordered  Exercise Frequency_ordered  \n",
       "0                             0.0                         1.0  \n",
       "1                             1.0                         2.0  \n",
       "2                             2.0                         1.0  \n",
       "3                             0.0                         3.0  \n",
       "4                             0.0                         1.0  \n",
       "...                           ...                         ...  \n",
       "893178                        2.0                         0.0  \n",
       "893179                        2.0                         0.0  \n",
       "893180                        2.0                         2.0  \n",
       "893181                        0.0                         3.0  \n",
       "893182                        2.0                         2.0  \n",
       "\n",
       "[893183 rows x 24 columns]"
      ]
     },
     "execution_count": 4,
     "metadata": {},
     "output_type": "execute_result"
    }
   ],
   "source": [
    "dataset_df_wo_nan[params[\"columns_X\"]]"
   ]
  }
 ],
 "metadata": {
  "kernelspec": {
   "display_name": ".venv",
   "language": "python",
   "name": "python3"
  },
  "language_info": {
   "codemirror_mode": {
    "name": "ipython",
    "version": 3
   },
   "file_extension": ".py",
   "mimetype": "text/x-python",
   "name": "python",
   "nbconvert_exporter": "python",
   "pygments_lexer": "ipython3",
   "version": "3.12.3"
  }
 },
 "nbformat": 4,
 "nbformat_minor": 2
}
