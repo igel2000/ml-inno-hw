{
 "cells": [
  {
   "cell_type": "markdown",
   "metadata": {},
   "source": [
    "# Разделение набора данных"
   ]
  },
  {
   "cell_type": "code",
   "execution_count": 6,
   "metadata": {},
   "outputs": [],
   "source": [
    "import warnings\n",
    "warnings.filterwarnings('ignore')\n",
    "import pandas as pd\n",
    "from pandas.api.types import is_numeric_dtype\n",
    "import numpy as np\n",
    "from pprint import pprint, pformat\n",
    "import copy\n",
    "import zipfile\n",
    "from pathlib import Path\n",
    "\n",
    "\n",
    "import missingno as msno\n",
    "import joblib\n",
    "\n",
    "from my_lib import *\n",
    "from my_config import *\n",
    "\n",
    "from sklearn.model_selection import train_test_split\n",
    "\n",
    "from sklearn.preprocessing import StandardScaler, MinMaxScaler, MaxAbsScaler, RobustScaler"
   ]
  },
  {
   "cell_type": "code",
   "execution_count": 2,
   "metadata": {},
   "outputs": [],
   "source": [
    "dataset_df = joblib.load(Path(result_foler, dataset_filename_05_after_CatEncoder))\n",
    "dataset_df_wo_nan = joblib.load(Path(result_foler, dataset_wo_nan_filename_05_after_CatEncoder))\n",
    "params = joblib.load(Path(result_foler, params_filename_05_after_CatEncoder))"
   ]
  },
  {
   "cell_type": "code",
   "execution_count": null,
   "metadata": {},
   "outputs": [],
   "source": [
    "# добавить масшабирование признаков и целевых переменных"
   ]
  },
  {
   "cell_type": "code",
   "execution_count": 8,
   "metadata": {},
   "outputs": [],
   "source": [
    "X_StandardScaler = StandardScaler().fit_transform(dataset_df_wo_nan[params[\"columns_X\"]])\n",
    "X_MinMaxScaler = MinMaxScaler().fit_transform(dataset_df_wo_nan[params[\"columns_X\"]])\n",
    "X_MaxAbsScaler = MaxAbsScaler().fit_transform(dataset_df_wo_nan[params[\"columns_X\"]])\n",
    "X_RobustScaler = RobustScaler().fit_transform(dataset_df_wo_nan[params[\"columns_X\"]])"
   ]
  },
  {
   "cell_type": "code",
   "execution_count": null,
   "metadata": {},
   "outputs": [],
   "source": [
    "for X in [X_StandardScaler, X_MinMaxScaler, X_MaxAbsScaler, X_RobustScaler]:\n",
    "    X_train, X_test, y_train, y_test = train_test_split(X, \n",
    "                                                        dataset_df_wo_nan[params[\"target_columns\"]],\n",
    "                                                        test_size=0.2, random_state=42)\n",
    "    print(f'X_train.shape={X_train.shape},  X_test.shape={X_test.shape}')\n",
    "    print(f'y_train.mean()={y_train.mean()}, y_test.mean()={y_test.mean()}')    \n",
    "    \n",
    "    joblib.dump(X_train, Path(result_foler, X_train_filename_07_after_split), compress=3)\n",
    "    joblib.dump(X_test, Path(result_foler, X_test_filename_07_after_split), compress=3)\n",
    "    joblib.dump(y_train, Path(result_foler, y_train_filename_07_after_split), compress=3)\n",
    "    joblib.dump(y_test, Path(result_foler, y_test_filename_07_after_split), compress=3)    "
   ]
  },
  {
   "cell_type": "code",
   "execution_count": 3,
   "metadata": {},
   "outputs": [
    {
     "name": "stdout",
     "output_type": "stream",
     "text": [
      "X_train.shape=(714546, 24),  X_test.shape=(178637, 24)\n",
      "y_train.mean()=1096.0888788125608, y_test.mean()=1099.621870049318\n"
     ]
    }
   ],
   "source": [
    "X_train, X_test, y_train, y_test = train_test_split(dataset_df_wo_nan[params[\"columns_X\"]], \n",
    "                                                    dataset_df_wo_nan[params[\"target_columns\"]],\n",
    "                                                    test_size=0.2, random_state=42)\n",
    "print(f'X_train.shape={X_train.shape},  X_test.shape={X_test.shape}')\n",
    "print(f'y_train.mean()={y_train.mean()}, y_test.mean()={y_test.mean()}')"
   ]
  },
  {
   "cell_type": "code",
   "execution_count": null,
   "metadata": {},
   "outputs": [],
   "source": []
  },
  {
   "cell_type": "code",
   "execution_count": 4,
   "metadata": {},
   "outputs": [
    {
     "data": {
      "text/plain": [
       "['/home/igel/Projects/ml/ml-inno-hw/3. Machine Learning/3.03. Полиноминальная регрессия/result/07_y_test_after_split.joblib']"
      ]
     },
     "execution_count": 4,
     "metadata": {},
     "output_type": "execute_result"
    }
   ],
   "source": [
    "# сохранить промежуточные результаты\n",
    "joblib.dump(X_train, Path(result_foler, X_train_filename_07_after_split), compress=3)\n",
    "joblib.dump(X_test, Path(result_foler, X_test_filename_07_after_split), compress=3)\n",
    "joblib.dump(y_train, Path(result_foler, y_train_filename_07_after_split), compress=3)\n",
    "joblib.dump(y_test, Path(result_foler, y_test_filename_07_after_split), compress=3)"
   ]
  }
 ],
 "metadata": {
  "kernelspec": {
   "display_name": ".venv",
   "language": "python",
   "name": "python3"
  },
  "language_info": {
   "codemirror_mode": {
    "name": "ipython",
    "version": 3
   },
   "file_extension": ".py",
   "mimetype": "text/x-python",
   "name": "python",
   "nbconvert_exporter": "python",
   "pygments_lexer": "ipython3",
   "version": "3.12.3"
  }
 },
 "nbformat": 4,
 "nbformat_minor": 2
}
