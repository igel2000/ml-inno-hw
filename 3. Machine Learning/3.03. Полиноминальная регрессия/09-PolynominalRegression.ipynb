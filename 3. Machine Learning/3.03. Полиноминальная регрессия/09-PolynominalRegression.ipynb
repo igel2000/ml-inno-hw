{
 "cells": [
  {
   "cell_type": "markdown",
   "metadata": {},
   "source": [
    "# Линейная регрессия"
   ]
  },
  {
   "cell_type": "code",
   "execution_count": 1,
   "metadata": {},
   "outputs": [],
   "source": [
    "import warnings\n",
    "warnings.filterwarnings('ignore')\n",
    "import pandas as pd\n",
    "from pandas.api.types import is_numeric_dtype\n",
    "import numpy as np\n",
    "from pprint import pprint, pformat\n",
    "import copy\n",
    "import zipfile\n",
    "from pathlib import Path\n",
    "\n",
    "\n",
    "import joblib\n",
    "\n",
    "from my_lib import *\n",
    "from my_config import *"
   ]
  },
  {
   "cell_type": "code",
   "execution_count": 2,
   "metadata": {},
   "outputs": [],
   "source": [
    "from sklearn.linear_model import LinearRegression # для построения моделей линейной регрессии\n",
    "from sklearn.preprocessing import PolynomialFeatures # для преобразования исходных признаков в полиномиальные, для построения моделей полиномиальной регрессии\n",
    "\n",
    "from sklearn.model_selection import train_test_split, cross_val_score\n",
    "from sklearn.preprocessing import StandardScaler,MinMaxScaler\n",
    "from sklearn.linear_model import LogisticRegression\n"
   ]
  },
  {
   "cell_type": "code",
   "execution_count": 3,
   "metadata": {},
   "outputs": [],
   "source": [
    "dataset_df = joblib.load(Path(result_foler, dataset_filename_05_after_CatEncoder))\n",
    "dataset_df_wo_nan = joblib.load(Path(result_foler, dataset_wo_nan_filename_05_after_CatEncoder))\n",
    "params = joblib.load(Path(result_foler, params_filename_05_after_CatEncoder))\n",
    "\n",
    "X_train =joblib.load(Path(result_foler, X_train_StandardScaler_filename_07_after_split))\n",
    "X_test = joblib.load(Path(result_foler, X_test_StandardScaler_filename_07_after_split))\n",
    "y_train =joblib.load(Path(result_foler, y_train_StandardScaler_filename_07_after_split))\n",
    "y_test = joblib.load(Path(result_foler, y_test_StandardScaler_filename_07_after_split))\n"
   ]
  },
  {
   "cell_type": "code",
   "execution_count": 4,
   "metadata": {},
   "outputs": [],
   "source": [
    "lin_reg = LinearRegression()\n",
    "lin_reg.fit(X_train, y_train)\n",
    "Y_pred_train_lin = lin_reg.predict(X_train) # train\n",
    "Y_pred_test_lin = lin_reg.predict(X_test) # test"
   ]
  },
  {
   "cell_type": "code",
   "execution_count": null,
   "metadata": {},
   "outputs": [],
   "source": [
    "poly_features = PolynomialFeatures(degree=3) # степень до 7, долго\n",
    "X_train_poly = poly_features.fit_transform(X_train)\n",
    "X_test_poly = poly_features.transform(X_test)\n",
    "poly_reg = LinearRegression()\n",
    "poly_reg.fit(X_train_poly, y_train)"
   ]
  },
  {
   "cell_type": "code",
   "execution_count": 6,
   "metadata": {},
   "outputs": [],
   "source": [
    "Y_pred_train_poly = poly_reg.predict(X_train_poly)\n",
    "Y_pred_test_poly = poly_reg.predict(X_test_poly)"
   ]
  },
  {
   "cell_type": "code",
   "execution_count": 7,
   "metadata": {},
   "outputs": [
    {
     "name": "stdout",
     "output_type": "stream",
     "text": [
      "Линейная регрессия:\n",
      "Тренировочный R^2: 0.0017185154323847707\n",
      "Тестовый R^2: 0.001306202475712781\n",
      "\n",
      "Полиномиальная регрессия:\n",
      "Тренировочный R^2: 0.003614609090058618\n",
      "Тестовый R^2: 0.0027591682594511058\n"
     ]
    }
   ],
   "source": [
    "# Вывод результатов\n",
    "print(\"Линейная регрессия:\")\n",
    "print(\"Тренировочный R^2:\", r2_score(y_train, Y_pred_train_lin))\n",
    "print(\"Тестовый R^2:\", r2_score(y_test, Y_pred_test_lin))\n",
    "print(\"\\nПолиномиальная регрессия:\")\n",
    "print(\"Тренировочный R^2:\", r2_score(y_train, Y_pred_train_poly))\n",
    "print(\"Тестовый R^2:\", r2_score(y_test, Y_pred_test_poly))"
   ]
  },
  {
   "cell_type": "code",
   "execution_count": null,
   "metadata": {},
   "outputs": [],
   "source": [
    "def build_LR_model(X_train, y_train, X_test, y_test, columns):\n",
    "    \"\"\"Построить LinearRegression-модель\"\"\"\n",
    "    X_train_LR = copy.deepcopy(X_train[columns])\n",
    "    X_test_LR = copy.deepcopy(X_test[columns])\n",
    "    y_train_LR = copy.deepcopy(y_train)\n",
    "    y_test_LR = copy.deepcopy(y_test)    \n",
    "\n",
    "    model_LR = LinearRegression()\n",
    "    res_LR = model_LR.fit(X_train_LR, y_train_LR)\n",
    "    return model_LR, res_LR, X_train_LR, X_test_LR, y_train_LR, y_test_LR\n",
    "\n",
    "def show_LR_coef(model_LR):\n",
    "    print('Коэффициенты модели:')\n",
    "    for i in range(len(model_LR.feature_names_in_)):\n",
    "        print(f'  {model_LR.feature_names_in_[i]}={round(model_LR.coef_[i],4)}')\n",
    "    print(f'  const={round(model_LR.intercept_, 4)}')"
   ]
  },
  {
   "cell_type": "code",
   "execution_count": null,
   "metadata": {},
   "outputs": [],
   "source": [
    "params[\"columns_X\"]"
   ]
  },
  {
   "cell_type": "code",
   "execution_count": null,
   "metadata": {},
   "outputs": [],
   "source": [
    "X_train[params[\"columns_X\"]]"
   ]
  },
  {
   "cell_type": "code",
   "execution_count": null,
   "metadata": {},
   "outputs": [],
   "source": [
    "model_LR, res_LR, X_train_LR, X_test_LR, y_train_LR, y_test_LR = build_LR_model(X_train, y_train, X_test, y_test, params[\"columns_X\"])\n",
    "check_model(res_LR, X_train_LR, y_train, X_test_LR, y_test_LR)\n",
    "show_LR_coef(res_LR)"
   ]
  }
 ],
 "metadata": {
  "kernelspec": {
   "display_name": ".venv",
   "language": "python",
   "name": "python3"
  },
  "language_info": {
   "codemirror_mode": {
    "name": "ipython",
    "version": 3
   },
   "file_extension": ".py",
   "mimetype": "text/x-python",
   "name": "python",
   "nbconvert_exporter": "python",
   "pygments_lexer": "ipython3",
   "version": "3.12.3"
  }
 },
 "nbformat": 4,
 "nbformat_minor": 2
}
