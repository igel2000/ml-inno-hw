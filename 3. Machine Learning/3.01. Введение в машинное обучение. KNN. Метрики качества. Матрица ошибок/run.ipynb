{
 "cells": [
  {
   "cell_type": "code",
   "execution_count": 1,
   "metadata": {},
   "outputs": [],
   "source": [
    "import pandas as pd\n",
    "import numpy as np\n",
    "\n",
    "import plotly.express as px\n",
    "import plotly.graph_objects as go\n",
    "from plotly.subplots import make_subplots\n",
    "\n",
    "\n",
    "from sklearn.model_selection import train_test_split, GridSearchCV\n",
    "from sklearn.neighbors import KNeighborsClassifier\n",
    "from sklearn.metrics import accuracy_score, mean_squared_error, confusion_matrix, precision_score, recall_score, roc_auc_score, roc_curve\n",
    "from sklearn.preprocessing import StandardScaler, MinMaxScaler\n",
    "\n",
    "from sklearn.metrics import mean_absolute_error, mean_squared_error\n",
    "\n",
    "import missingno as msno\n",
    "\n",
    "from pprint import pprint\n",
    "\n",
    "import matplotlib.pyplot as plt"
   ]
  },
  {
   "cell_type": "code",
   "execution_count": 2,
   "metadata": {},
   "outputs": [],
   "source": [
    "\n",
    "def eda_df(df):\n",
    "    \"\"\"Провести EDA для датафрейма\"\"\"\n",
    "    df_describe = df.describe(percentiles=[0.1, 0.25, 0.5, 0.75, 0.9])\n",
    "    # посчитать долю пропусков\n",
    "    df_describe.loc[\"%nan\"] = (df.isna().mean()*100).to_list()\n",
    "    # посчитать дисперсию\n",
    "    columns_var = []\n",
    "    for column in df_describe.columns:\n",
    "        columns_var.append(df[column].var())\n",
    "    df_describe.loc['var'] = columns_var\n",
    "    return df_describe\n",
    "\n",
    "\n",
    "def remove_outliers(df, columns):\n",
    "    \"\"\"Убираем выбросы - добавим новое свойство {column}_without_outliers, \n",
    "    в котором выбросы будут заменены на пустые значения\"\"\"\n",
    "    for column in columns:\n",
    "        Q3 = np.quantile(df[column], 0.75, axis=0)\n",
    "        Q1 = np.quantile(df[column], 0.25, axis=0)\n",
    "        IQR = Q3 - Q1\n",
    "        upper = Q3 + 1.5 * IQR\n",
    "        lower = Q1 - 1.5 * IQR\n",
    "\n",
    "        df[f'{column}_without_outliers'] = df[column].map(lambda x: np.nan if x<lower else x if x<=upper else np.nan)\n",
    "\n",
    "def show_boxes(df, columns, ncols = 3):\n",
    "    nrows = int(round((len(columns) + 0.5) / ncols, 0))\n",
    "\n",
    "    fig = make_subplots(rows=nrows, cols=ncols)\n",
    "    fig.update_layout(\n",
    "        title_x=0.5,\n",
    "        title_text=\"Ящики с усами\",\n",
    "        height=500*nrows, \n",
    "        width=1200\n",
    "    )\n",
    "    i = 0\n",
    "    for r in range(nrows):\n",
    "        for c in range(ncols):\n",
    "            fig.add_box(y=df[columns[i]], name=columns[i], row=r+1, col=c+1)\n",
    "            i += 1\n",
    "            if i >= len(columns):\n",
    "                break\n",
    "        if i >= len(columns):\n",
    "            break\n",
    "    fig.show()            \n",
    "    \n",
    "def train_model(dataset, columns, target_column, param_grid):\n",
    "    X_train, X_test, y_train, y_test = train_test_split(dataset[columns],\n",
    "                                                        dataset[target_column],\n",
    "                                                        stratify=dataset[target_column],\n",
    "                                                        test_size=0.2, random_state=42)\n",
    "\n",
    "    knn = KNeighborsClassifier()\n",
    "    grid_search = GridSearchCV(knn, param_grid, cv=5, scoring='roc_auc')\n",
    "    grid_search.fit(X_train, y_train)    \n",
    "    \n",
    "    knn_best = KNeighborsClassifier(**grid_search.best_params_)\n",
    "    knn_best_fit = knn_best.fit(X_train, y_train)\n",
    "    \n",
    "    model_cl = KNeighborsClassifier(n_neighbors = knn_best_fit.n_neighbors)\n",
    "    model_cl.fit(X_train, y_train) # тренировка модели fit\n",
    "\n",
    "    \n",
    "    return X_train, X_test, y_train, y_test, grid_search, knn_best, knn_best_fit, model_cl\n",
    "    \n",
    "def check_model(X_train, X_test, y_train, y_test, knn_best):\n",
    "    y_test_pred = knn_best.predict(X_test)\n",
    "    y_test_prob = knn_best.predict_proba(X_test)[:, 1]\n",
    "    y_train_pred = knn_best.predict(X_train)\n",
    "    y_train_prob = knn_best.predict_proba(X_train)[:, 1]\n",
    "    \n",
    "    # матрица ошибок\n",
    "    conf_matrix_test = confusion_matrix(y_test, y_test_pred)\n",
    "    conf_matrix_train = confusion_matrix(y_train, y_train_pred)\n",
    "    \n",
    "    #Accuracy - доля всех верных предсказаний (как положительных, так и отрицательных) относительно общего числа прогнозов.\n",
    "    accuracy_score_test = accuracy_score(y_test, y_test_pred)\n",
    "    accuracy_score_train = accuracy_score(y_train, y_train_pred)\n",
    "    \n",
    "    #Precision - доля верных положительных предсказаний среди всех случаев, когда модель предсказала положительный класс.\n",
    "    precision_score_test = precision_score(y_test, y_test_pred)\n",
    "    precision_score_train = precision_score(y_train, y_train_pred)\n",
    "\n",
    "    # Recall - полнота, Способность модели находить все реальные положительные примеры\n",
    "    recall_score_test = recall_score(y_test, y_test_pred)\n",
    "    recall_score_train = recall_score(y_train, y_train_pred)\n",
    "    \n",
    "    # AUC ROC - Способность модели разделять два класса (например, \"больной\" vs \"здоровый\") на всех возможных порогах классификации\n",
    "    roc_auc_score_test = roc_auc_score(y_test, y_test_prob)\n",
    "    roc_auc_score_train = roc_auc_score(y_train, y_train_prob)\n",
    "    \n",
    "    result = {'y_test_pred': y_test_pred, \n",
    "              'y_test_prob': y_test_prob, \n",
    "              'y_train_pred': y_train_pred, \n",
    "              'y_train_prob': y_train_prob,\n",
    "              'conf_matrix_test': conf_matrix_test, \n",
    "              'conf_matrix_train': conf_matrix_train, \n",
    "              'accuracy_score_test': accuracy_score_test, \n",
    "              'accuracy_score_train': accuracy_score_train,\n",
    "              'precision_score_test': precision_score_test,\n",
    "              'precision_score_train': precision_score_train,\n",
    "              'recall_score_test': recall_score_test,\n",
    "              'recall_score_train': recall_score_train,\n",
    "              'roc_auc_score_test': roc_auc_score_test,\n",
    "              'roc_auc_score_train': roc_auc_score_train\n",
    "              }\n",
    "    \n",
    "    return result    \n",
    "\n",
    "def show_quality(X_train, X_test, y_train, y_test, check_result, title):\n",
    "    # Матрица ошибок\n",
    "    r = lambda x: round(x, 3)\n",
    "    #print(\"Confusion Matrix Test:\")\n",
    "    #print(f'TN: {check_result['conf_matrix_test'][0][0]:3} | FP: {check_result['conf_matrix_test'][0][1]:3}')\n",
    "    #print(f'FN: {check_result['conf_matrix_test'][1][0]:3} | TP: {check_result['conf_matrix_test'][1][1]:3}')\n",
    "    #print()\n",
    "\n",
    "    #print(\"Confusion Matrix Train:\")\n",
    "    #print(f'TN: {check_result['conf_matrix_train'][0][0]:3} | FP: {check_result['conf_matrix_train'][0][1]:3}')\n",
    "    #print(f'FN: {check_result['conf_matrix_train'][1][0]:3} | TP: {check_result['conf_matrix_train'][1][1]:3}')\n",
    "    #print()\n",
    "\n",
    "    # Построение ROC кривой\n",
    "    fpr_test, tpr_test, thresholds = roc_curve(y_test, check_result[\"y_test_prob\"])\n",
    "    fpr_train, tpr_train, thresholds = roc_curve(y_train, check_result[\"y_train_prob\"])\n",
    "    fig = go.Figure(data = [go.Scatter(x=fpr_test, y=tpr_test, name=\"ROC curve Test\", line={'color':'blue'},), \n",
    "                            go.Scatter(x=fpr_train, y=tpr_train, name=\"ROC curve Train\", line={'color':'green'}),\n",
    "                            go.Scatter(x=[0, 1], y=[0, 1], line={'color':'gray', 'dash': 'dash'}, showlegend=False)\n",
    "                        ] )\n",
    "    fig.update_xaxes(title_text=\"False Positive Rate\")\n",
    "    fig.update_yaxes(title_text='True Positive Rate')\n",
    "    \n",
    "    df_metrics = pd.DataFrame([[check_result[\"accuracy_score_test\"], check_result[\"accuracy_score_train\"]],\n",
    "                    [check_result[\"precision_score_test\"], check_result[\"precision_score_train\"]],\n",
    "                    [check_result[\"recall_score_test\"], check_result[\"recall_score_train\"]],\n",
    "                    [check_result[\"roc_auc_score_test\"], check_result[\"roc_auc_score_train\"]]\n",
    "                    ], columns = [\"Test\", \"Train\"], index=[\"accuracy\", \"precision\", \"recall\", \"ROC AUC\"])\n",
    "    trace1 = go.Bar(x=df_metrics.index, y=df_metrics.Test, \n",
    "                    showlegend=True, text=round(df_metrics.Test,4), textangle=0, \n",
    "                    xaxis='x2', yaxis='y2', name=\"Test Metrics\")\n",
    "    trace2 = go.Bar(x=df_metrics.index, y=df_metrics.Train, \n",
    "                    showlegend=True, text=round(df_metrics.Train,4), textangle=0, \n",
    "                    xaxis='x2', yaxis='y2', name=\"Train Metrics\")\n",
    "\n",
    "    fig.add_traces([trace1, trace2]) \n",
    "\n",
    "    fig['layout']['xaxis2'] = {}\n",
    "    fig['layout']['yaxis2'] = {}\n",
    "    \n",
    "    # Edit layout for subplots\n",
    "    fig.layout.xaxis.update({'domain': [0, .5]})\n",
    "    fig.layout.xaxis2.update({'domain': [0.6, 1.]})    \n",
    "    # The graph's yaxis MUST BE anchored to the graph's xaxis\n",
    "    fig.layout.yaxis2.update({'anchor': 'x2'})\n",
    "    fig.layout.yaxis2.update({'title': 'Goals'})    \n",
    "\n",
    "\n",
    "    # Update the margins to add a title and see graph x-labels.\n",
    "    fig.update_layout(\n",
    "        title_x=0.5,\n",
    "        title_text=title,\n",
    "        width = 1200,\n",
    "        height = 530,\n",
    "        legend= dict(yanchor=\"bottom\", y=0.01, xanchor=\"right\", x=0.49)\n",
    "    )    \n",
    "    \n",
    "    fig.layout.margin.update({'t':50, 'b':100})\n",
    "\n",
    "    fig.show()\n"
   ]
  },
  {
   "cell_type": "raw",
   "metadata": {},
   "source": [
    "print(f'X_train.shape={X_train.shape},  X_test.shape={X_test.shape}')\n",
    "print(f'y_train.mean()={y_train.mean()}, y_test.mean()={y_test.mean()}')\n",
    "print(f'grid_search={grid_search}')\n",
    "print(f'grid_search.best_estimator_={grid_search.best_estimator_}')\n",
    "print(f'grid_search.best_params_={grid_search.best_params_}')\n",
    "print(f'knn_best_fit={knn_best_fit}')\n",
    "print(f'model_cl={model_cl}')\n",
    "pd.DataFrame(grid_search.cv_results_)"
   ]
  },
  {
   "cell_type": "markdown",
   "metadata": {},
   "source": [
    "# 1. Загрузить датасет"
   ]
  },
  {
   "cell_type": "code",
   "execution_count": 3,
   "metadata": {},
   "outputs": [],
   "source": [
    "# https://www.kaggle.com/competitions/playground-series-s3e12/data\n",
    "dataset_df = pd.read_csv('dataset/train.csv', index_col=\"id\")"
   ]
  },
  {
   "cell_type": "markdown",
   "metadata": {},
   "source": [
    "# 2. EDA датасета"
   ]
  },
  {
   "cell_type": "code",
   "execution_count": 4,
   "metadata": {},
   "outputs": [
    {
     "name": "stdout",
     "output_type": "stream",
     "text": [
      "<class 'pandas.core.frame.DataFrame'>\n",
      "Index: 414 entries, 0 to 413\n",
      "Data columns (total 7 columns):\n",
      " #   Column   Non-Null Count  Dtype  \n",
      "---  ------   --------------  -----  \n",
      " 0   gravity  414 non-null    float64\n",
      " 1   ph       414 non-null    float64\n",
      " 2   osmo     414 non-null    int64  \n",
      " 3   cond     414 non-null    float64\n",
      " 4   urea     414 non-null    int64  \n",
      " 5   calc     414 non-null    float64\n",
      " 6   target   414 non-null    int64  \n",
      "dtypes: float64(4), int64(3)\n",
      "memory usage: 25.9 KB\n"
     ]
    }
   ],
   "source": [
    "dataset_df.info()"
   ]
  },
  {
   "cell_type": "markdown",
   "metadata": {},
   "source": [
    "Описание свойств:\n",
    "* graviti - удельный вес, плотность мочи по отношению к воде;\n",
    "* pH - рН, отрицательный логарифм иона водорода\n",
    "* osmo - осмолярность (mOsm) - единица измерения, используемая в биологии и медицине, но не в физической химии. \n",
    "Осмолярность пропорциональна концентрации молекул в растворе.\n",
    "* cond - электропроводность (mMho, миллимехо). Один Mho равен одному обратному Ому. \n",
    "Электропроводность пропорциональна концентрации заряженных ионов в растворе;\n",
    "* urea - концентрация мочевины в миллимолях на литр\n",
    "* calc - концентрация кальция (CALC) в миллиметровом литре.\n",
    "* target - целевая переменная"
   ]
  },
  {
   "cell_type": "code",
   "execution_count": 5,
   "metadata": {},
   "outputs": [
    {
     "data": {
      "text/html": [
       "<div>\n",
       "<style scoped>\n",
       "    .dataframe tbody tr th:only-of-type {\n",
       "        vertical-align: middle;\n",
       "    }\n",
       "\n",
       "    .dataframe tbody tr th {\n",
       "        vertical-align: top;\n",
       "    }\n",
       "\n",
       "    .dataframe thead th {\n",
       "        text-align: right;\n",
       "    }\n",
       "</style>\n",
       "<table border=\"1\" class=\"dataframe\">\n",
       "  <thead>\n",
       "    <tr style=\"text-align: right;\">\n",
       "      <th></th>\n",
       "      <th>gravity</th>\n",
       "      <th>ph</th>\n",
       "      <th>osmo</th>\n",
       "      <th>cond</th>\n",
       "      <th>urea</th>\n",
       "      <th>calc</th>\n",
       "      <th>target</th>\n",
       "    </tr>\n",
       "    <tr>\n",
       "      <th>id</th>\n",
       "      <th></th>\n",
       "      <th></th>\n",
       "      <th></th>\n",
       "      <th></th>\n",
       "      <th></th>\n",
       "      <th></th>\n",
       "      <th></th>\n",
       "    </tr>\n",
       "  </thead>\n",
       "  <tbody>\n",
       "    <tr>\n",
       "      <th>291</th>\n",
       "      <td>1.017</td>\n",
       "      <td>5.94</td>\n",
       "      <td>559</td>\n",
       "      <td>15.5</td>\n",
       "      <td>317</td>\n",
       "      <td>6.96</td>\n",
       "      <td>1</td>\n",
       "    </tr>\n",
       "    <tr>\n",
       "      <th>262</th>\n",
       "      <td>1.008</td>\n",
       "      <td>5.53</td>\n",
       "      <td>876</td>\n",
       "      <td>27.6</td>\n",
       "      <td>301</td>\n",
       "      <td>6.96</td>\n",
       "      <td>1</td>\n",
       "    </tr>\n",
       "    <tr>\n",
       "      <th>326</th>\n",
       "      <td>1.019</td>\n",
       "      <td>5.53</td>\n",
       "      <td>487</td>\n",
       "      <td>20.0</td>\n",
       "      <td>199</td>\n",
       "      <td>3.34</td>\n",
       "      <td>1</td>\n",
       "    </tr>\n",
       "    <tr>\n",
       "      <th>21</th>\n",
       "      <td>1.018</td>\n",
       "      <td>5.35</td>\n",
       "      <td>874</td>\n",
       "      <td>29.0</td>\n",
       "      <td>457</td>\n",
       "      <td>4.18</td>\n",
       "      <td>1</td>\n",
       "    </tr>\n",
       "    <tr>\n",
       "      <th>96</th>\n",
       "      <td>1.018</td>\n",
       "      <td>5.66</td>\n",
       "      <td>543</td>\n",
       "      <td>21.9</td>\n",
       "      <td>170</td>\n",
       "      <td>1.45</td>\n",
       "      <td>0</td>\n",
       "    </tr>\n",
       "  </tbody>\n",
       "</table>\n",
       "</div>"
      ],
      "text/plain": [
       "     gravity    ph  osmo  cond  urea  calc  target\n",
       "id                                                \n",
       "291    1.017  5.94   559  15.5   317  6.96       1\n",
       "262    1.008  5.53   876  27.6   301  6.96       1\n",
       "326    1.019  5.53   487  20.0   199  3.34       1\n",
       "21     1.018  5.35   874  29.0   457  4.18       1\n",
       "96     1.018  5.66   543  21.9   170  1.45       0"
      ]
     },
     "execution_count": 5,
     "metadata": {},
     "output_type": "execute_result"
    }
   ],
   "source": [
    "dataset_df.sample(5)"
   ]
  },
  {
   "cell_type": "code",
   "execution_count": 6,
   "metadata": {},
   "outputs": [
    {
     "data": {
      "text/html": [
       "<div>\n",
       "<style scoped>\n",
       "    .dataframe tbody tr th:only-of-type {\n",
       "        vertical-align: middle;\n",
       "    }\n",
       "\n",
       "    .dataframe tbody tr th {\n",
       "        vertical-align: top;\n",
       "    }\n",
       "\n",
       "    .dataframe thead th {\n",
       "        text-align: right;\n",
       "    }\n",
       "</style>\n",
       "<table border=\"1\" class=\"dataframe\">\n",
       "  <thead>\n",
       "    <tr style=\"text-align: right;\">\n",
       "      <th></th>\n",
       "      <th>gravity</th>\n",
       "      <th>ph</th>\n",
       "      <th>osmo</th>\n",
       "      <th>cond</th>\n",
       "      <th>urea</th>\n",
       "      <th>calc</th>\n",
       "      <th>target</th>\n",
       "    </tr>\n",
       "  </thead>\n",
       "  <tbody>\n",
       "    <tr>\n",
       "      <th>count</th>\n",
       "      <td>414.000000</td>\n",
       "      <td>414.000000</td>\n",
       "      <td>414.000000</td>\n",
       "      <td>414.000000</td>\n",
       "      <td>414.000000</td>\n",
       "      <td>414.000000</td>\n",
       "      <td>414.000000</td>\n",
       "    </tr>\n",
       "    <tr>\n",
       "      <th>mean</th>\n",
       "      <td>1.017894</td>\n",
       "      <td>5.955459</td>\n",
       "      <td>651.545894</td>\n",
       "      <td>21.437923</td>\n",
       "      <td>278.657005</td>\n",
       "      <td>4.114638</td>\n",
       "      <td>0.444444</td>\n",
       "    </tr>\n",
       "    <tr>\n",
       "      <th>std</th>\n",
       "      <td>0.006675</td>\n",
       "      <td>0.642260</td>\n",
       "      <td>234.676567</td>\n",
       "      <td>7.514750</td>\n",
       "      <td>136.442249</td>\n",
       "      <td>3.217641</td>\n",
       "      <td>0.497505</td>\n",
       "    </tr>\n",
       "    <tr>\n",
       "      <th>min</th>\n",
       "      <td>1.005000</td>\n",
       "      <td>4.760000</td>\n",
       "      <td>187.000000</td>\n",
       "      <td>5.100000</td>\n",
       "      <td>10.000000</td>\n",
       "      <td>0.170000</td>\n",
       "      <td>0.000000</td>\n",
       "    </tr>\n",
       "    <tr>\n",
       "      <th>10%</th>\n",
       "      <td>1.008000</td>\n",
       "      <td>5.330000</td>\n",
       "      <td>343.600000</td>\n",
       "      <td>10.900000</td>\n",
       "      <td>95.000000</td>\n",
       "      <td>1.053000</td>\n",
       "      <td>0.000000</td>\n",
       "    </tr>\n",
       "    <tr>\n",
       "      <th>25%</th>\n",
       "      <td>1.012000</td>\n",
       "      <td>5.530000</td>\n",
       "      <td>455.250000</td>\n",
       "      <td>15.500000</td>\n",
       "      <td>170.000000</td>\n",
       "      <td>1.450000</td>\n",
       "      <td>0.000000</td>\n",
       "    </tr>\n",
       "    <tr>\n",
       "      <th>50%</th>\n",
       "      <td>1.018000</td>\n",
       "      <td>5.740000</td>\n",
       "      <td>679.500000</td>\n",
       "      <td>22.200000</td>\n",
       "      <td>277.000000</td>\n",
       "      <td>3.130000</td>\n",
       "      <td>0.000000</td>\n",
       "    </tr>\n",
       "    <tr>\n",
       "      <th>75%</th>\n",
       "      <td>1.022000</td>\n",
       "      <td>6.280000</td>\n",
       "      <td>840.000000</td>\n",
       "      <td>27.600000</td>\n",
       "      <td>385.000000</td>\n",
       "      <td>6.630000</td>\n",
       "      <td>1.000000</td>\n",
       "    </tr>\n",
       "    <tr>\n",
       "      <th>90%</th>\n",
       "      <td>1.025000</td>\n",
       "      <td>6.810000</td>\n",
       "      <td>925.200000</td>\n",
       "      <td>29.000000</td>\n",
       "      <td>443.000000</td>\n",
       "      <td>8.515000</td>\n",
       "      <td>1.000000</td>\n",
       "    </tr>\n",
       "    <tr>\n",
       "      <th>max</th>\n",
       "      <td>1.040000</td>\n",
       "      <td>7.940000</td>\n",
       "      <td>1236.000000</td>\n",
       "      <td>38.000000</td>\n",
       "      <td>620.000000</td>\n",
       "      <td>14.340000</td>\n",
       "      <td>1.000000</td>\n",
       "    </tr>\n",
       "    <tr>\n",
       "      <th>%nan</th>\n",
       "      <td>0.000000</td>\n",
       "      <td>0.000000</td>\n",
       "      <td>0.000000</td>\n",
       "      <td>0.000000</td>\n",
       "      <td>0.000000</td>\n",
       "      <td>0.000000</td>\n",
       "      <td>0.000000</td>\n",
       "    </tr>\n",
       "    <tr>\n",
       "      <th>var</th>\n",
       "      <td>0.000045</td>\n",
       "      <td>0.412498</td>\n",
       "      <td>55073.091109</td>\n",
       "      <td>56.471464</td>\n",
       "      <td>18616.487396</td>\n",
       "      <td>10.353210</td>\n",
       "      <td>0.247511</td>\n",
       "    </tr>\n",
       "  </tbody>\n",
       "</table>\n",
       "</div>"
      ],
      "text/plain": [
       "          gravity          ph          osmo        cond          urea  \\\n",
       "count  414.000000  414.000000    414.000000  414.000000    414.000000   \n",
       "mean     1.017894    5.955459    651.545894   21.437923    278.657005   \n",
       "std      0.006675    0.642260    234.676567    7.514750    136.442249   \n",
       "min      1.005000    4.760000    187.000000    5.100000     10.000000   \n",
       "10%      1.008000    5.330000    343.600000   10.900000     95.000000   \n",
       "25%      1.012000    5.530000    455.250000   15.500000    170.000000   \n",
       "50%      1.018000    5.740000    679.500000   22.200000    277.000000   \n",
       "75%      1.022000    6.280000    840.000000   27.600000    385.000000   \n",
       "90%      1.025000    6.810000    925.200000   29.000000    443.000000   \n",
       "max      1.040000    7.940000   1236.000000   38.000000    620.000000   \n",
       "%nan     0.000000    0.000000      0.000000    0.000000      0.000000   \n",
       "var      0.000045    0.412498  55073.091109   56.471464  18616.487396   \n",
       "\n",
       "             calc      target  \n",
       "count  414.000000  414.000000  \n",
       "mean     4.114638    0.444444  \n",
       "std      3.217641    0.497505  \n",
       "min      0.170000    0.000000  \n",
       "10%      1.053000    0.000000  \n",
       "25%      1.450000    0.000000  \n",
       "50%      3.130000    0.000000  \n",
       "75%      6.630000    1.000000  \n",
       "90%      8.515000    1.000000  \n",
       "max     14.340000    1.000000  \n",
       "%nan     0.000000    0.000000  \n",
       "var     10.353210    0.247511  "
      ]
     },
     "execution_count": 6,
     "metadata": {},
     "output_type": "execute_result"
    }
   ],
   "source": [
    "dataset_df_describe = eda_df(dataset_df)\n",
    "dataset_df_describe"
   ]
  },
  {
   "cell_type": "code",
   "execution_count": 7,
   "metadata": {},
   "outputs": [
    {
     "data": {
      "image/png": "[encoded data removed]",
      "text/plain": [
       "<Figure size 900x200 with 2 Axes>"
      ]
     },
     "metadata": {},
     "output_type": "display_data"
    }
   ],
   "source": [
    "_ = msno.matrix(dataset_df, figsize=(9,2))"
   ]
  },
  {
   "cell_type": "markdown",
   "metadata": {},
   "source": [
    "Выводы по набору данных:\n",
    "  * все переменные числовые, с непрерывными значениями\n",
    "  * пропусков нет ни в тренировочном, ни в тестовом наборе данных"
   ]
  },
  {
   "cell_type": "markdown",
   "metadata": {},
   "source": [
    "# 3. Доли значений целевой переменной"
   ]
  },
  {
   "cell_type": "code",
   "execution_count": 8,
   "metadata": {},
   "outputs": [
    {
     "name": "stdout",
     "output_type": "stream",
     "text": [
      "target\n",
      "0    0.555556\n",
      "1    0.444444\n",
      "Name: proportion, dtype: float64\n"
     ]
    }
   ],
   "source": [
    "print(dataset_df[\"target\"].value_counts(normalize=True))"
   ]
  },
  {
   "cell_type": "markdown",
   "metadata": {},
   "source": [
    "# 4. Графики для анализа"
   ]
  },
  {
   "cell_type": "code",
   "execution_count": 9,
   "metadata": {},
   "outputs": [
    {
     "data": {
      "application/vnd.plotly.v1+json": {
       "config": {
        "plotlyServerURL": "https://plot.ly"
       },
       "data": [
        {
         "coloraxis": "coloraxis",
         "hovertemplate": "x: %{x}<br>y: %{y}<br>color: %{z}<extra></extra>",
         "name": "0",
         "texttemplate": "%{z:.2f}",
         "type": "heatmap",
         "x": [
          "gravity",
          "ph",
          "osmo",
          "cond",
          "urea",
          "calc",
          "target"
         ],
         "xaxis": "x",
         "y": [
          "gravity",
          "ph",
          "osmo",
          "cond",
          "urea",
          "calc",
          "target"
         ],
         "yaxis": "y",
         "z": [
          [
           1,
           -0.29034882816173013,
           0.6923170211626488,
           0.4704327603599046,
           0.6317102822958587,
           0.49430419241793844,
           0.28257697758137473
          ],
          [
           -0.29034882816173013,
           1,
           -0.30949491174789984,
           -0.1901852435390578,
           -0.2797488115136847,
           -0.21440176527350163,
           -0.09498313410917981
          ],
          [
           0.6923170211626488,
           -0.30949491174789984,
           1,
           0.7084800555218453,
           0.8098795592112938,
           0.4721140496743729,
           0.24477025601419156
          ],
          [
           0.4704327603599046,
           -0.1901852435390578,
           0.7084800555218453,
           1,
           0.499108706957672,
           0.33060876383174403,
           0.1722235049419217
          ],
          [
           0.6317102822958587,
           -0.2797488115136847,
           0.8098795592112938,
           0.499108706957672,
           1,
           0.4898790766155553,
           0.26521061824790154
          ],
          [
           0.49430419241793844,
           -0.21440176527350163,
           0.4721140496743729,
           0.33060876383174403,
           0.4898790766155553,
           1,
           0.46743885125082557
          ],
          [
           0.28257697758137473,
           -0.09498313410917981,
           0.24477025601419156,
           0.1722235049419217,
           0.26521061824790154,
           0.46743885125082557,
           1
          ]
         ]
        }
       ],
       "layout": {
        "coloraxis": {
         "colorscale": [
          [
           0,
           "#0d0887"
          ],
          [
           0.1111111111111111,
           "#46039f"
          ],
          [
           0.2222222222222222,
           "#7201a8"
          ],
          [
           0.3333333333333333,
           "#9c179e"
          ],
          [
           0.4444444444444444,
           "#bd3786"
          ],
          [
           0.5555555555555556,
           "#d8576b"
          ],
          [
           0.6666666666666666,
           "#ed7953"
          ],
          [
           0.7777777777777778,
           "#fb9f3a"
          ],
          [
           0.8888888888888888,
           "#fdca26"
          ],
          [
           1,
           "#f0f921"
          ]
         ]
        },
        "height": 600,
        "margin": {
         "t": 60
        },
        "template": {
         "data": {
          "bar": [
           {
            "error_x": {
             "color": "#2a3f5f"
            },
            "error_y": {
             "color": "#2a3f5f"
            },
            "marker": {
             "line": {
              "color": "#E5ECF6",
              "width": 0.5
             },
             "pattern": {
              "fillmode": "overlay",
              "size": 10,
              "solidity": 0.2
             }
            },
            "type": "bar"
           }
          ],
          "barpolar": [
           {
            "marker": {
             "line": {
              "color": "#E5ECF6",
              "width": 0.5
             },
             "pattern": {
              "fillmode": "overlay",
              "size": 10,
              "solidity": 0.2
             }
            },
            "type": "barpolar"
           }
          ],
          "carpet": [
           {
            "aaxis": {
             "endlinecolor": "#2a3f5f",
             "gridcolor": "white",
             "linecolor": "white",
             "minorgridcolor": "white",
             "startlinecolor": "#2a3f5f"
            },
            "baxis": {
             "endlinecolor": "#2a3f5f",
             "gridcolor": "white",
             "linecolor": "white",
             "minorgridcolor": "white",
             "startlinecolor": "#2a3f5f"
            },
            "type": "carpet"
           }
          ],
          "choropleth": [
           {
            "colorbar": {
             "outlinewidth": 0,
             "ticks": ""
            },
            "type": "choropleth"
           }
          ],
          "contour": [
           {
            "colorbar": {
             "outlinewidth": 0,
             "ticks": ""
            },
            "colorscale": [
             [
              0,
              "#0d0887"
             ],
             [
              0.1111111111111111,
              "#46039f"
             ],
             [
              0.2222222222222222,
              "#7201a8"
             ],
             [
              0.3333333333333333,
              "#9c179e"
             ],
             [
              0.4444444444444444,
              "#bd3786"
             ],
             [
              0.5555555555555556,
              "#d8576b"
             ],
             [
              0.6666666666666666,
              "#ed7953"
             ],
             [
              0.7777777777777778,
              "#fb9f3a"
             ],
             [
              0.8888888888888888,
              "#fdca26"
             ],
             [
              1,
              "#f0f921"
             ]
            ],
            "type": "contour"
           }
          ],
          "contourcarpet": [
           {
            "colorbar": {
             "outlinewidth": 0,
             "ticks": ""
            },
            "type": "contourcarpet"
           }
          ],
          "heatmap": [
           {
            "colorbar": {
             "outlinewidth": 0,
             "ticks": ""
            },
            "colorscale": [
             [
              0,
              "#0d0887"
             ],
             [
              0.1111111111111111,
              "#46039f"
             ],
             [
              0.2222222222222222,
              "#7201a8"
             ],
             [
              0.3333333333333333,
              "#9c179e"
             ],
             [
              0.4444444444444444,
              "#bd3786"
             ],
             [
              0.5555555555555556,
              "#d8576b"
             ],
             [
              0.6666666666666666,
              "#ed7953"
             ],
             [
              0.7777777777777778,
              "#fb9f3a"
             ],
             [
              0.8888888888888888,
              "#fdca26"
             ],
             [
              1,
              "#f0f921"
             ]
            ],
            "type": "heatmap"
           }
          ],
          "heatmapgl": [
           {
            "colorbar": {
             "outlinewidth": 0,
             "ticks": ""
            },
            "colorscale": [
             [
              0,
              "#0d0887"
             ],
             [
              0.1111111111111111,
              "#46039f"
             ],
             [
              0.2222222222222222,
              "#7201a8"
             ],
             [
              0.3333333333333333,
              "#9c179e"
             ],
             [
              0.4444444444444444,
              "#bd3786"
             ],
             [
              0.5555555555555556,
              "#d8576b"
             ],
             [
              0.6666666666666666,
              "#ed7953"
             ],
             [
              0.7777777777777778,
              "#fb9f3a"
             ],
             [
              0.8888888888888888,
              "#fdca26"
             ],
             [
              1,
              "#f0f921"
             ]
            ],
            "type": "heatmapgl"
           }
          ],
          "histogram": [
           {
            "marker": {
             "pattern": {
              "fillmode": "overlay",
              "size": 10,
              "solidity": 0.2
             }
            },
            "type": "histogram"
           }
          ],
          "histogram2d": [
           {
            "colorbar": {
             "outlinewidth": 0,
             "ticks": ""
            },
            "colorscale": [
             [
              0,
              "#0d0887"
             ],
             [
              0.1111111111111111,
              "#46039f"
             ],
             [
              0.2222222222222222,
              "#7201a8"
             ],
             [
              0.3333333333333333,
              "#9c179e"
             ],
             [
              0.4444444444444444,
              "#bd3786"
             ],
             [
              0.5555555555555556,
              "#d8576b"
             ],
             [
              0.6666666666666666,
              "#ed7953"
             ],
             [
              0.7777777777777778,
              "#fb9f3a"
             ],
             [
              0.8888888888888888,
              "#fdca26"
             ],
             [
              1,
              "#f0f921"
             ]
            ],
            "type": "histogram2d"
           }
          ],
          "histogram2dcontour": [
           {
            "colorbar": {
             "outlinewidth": 0,
             "ticks": ""
            },
            "colorscale": [
             [
              0,
              "#0d0887"
             ],
             [
              0.1111111111111111,
              "#46039f"
             ],
             [
              0.2222222222222222,
              "#7201a8"
             ],
             [
              0.3333333333333333,
              "#9c179e"
             ],
             [
              0.4444444444444444,
              "#bd3786"
             ],
             [
              0.5555555555555556,
              "#d8576b"
             ],
             [
              0.6666666666666666,
              "#ed7953"
             ],
             [
              0.7777777777777778,
              "#fb9f3a"
             ],
             [
              0.8888888888888888,
              "#fdca26"
             ],
             [
              1,
              "#f0f921"
             ]
            ],
            "type": "histogram2dcontour"
           }
          ],
          "mesh3d": [
           {
            "colorbar": {
             "outlinewidth": 0,
             "ticks": ""
            },
            "type": "mesh3d"
           }
          ],
          "parcoords": [
           {
            "line": {
             "colorbar": {
              "outlinewidth": 0,
              "ticks": ""
             }
            },
            "type": "parcoords"
           }
          ],
          "pie": [
           {
            "automargin": true,
            "type": "pie"
           }
          ],
          "scatter": [
           {
            "fillpattern": {
             "fillmode": "overlay",
             "size": 10,
             "solidity": 0.2
            },
            "type": "scatter"
           }
          ],
          "scatter3d": [
           {
            "line": {
             "colorbar": {
              "outlinewidth": 0,
              "ticks": ""
             }
            },
            "marker": {
             "colorbar": {
              "outlinewidth": 0,
              "ticks": ""
             }
            },
            "type": "scatter3d"
           }
          ],
          "scattercarpet": [
           {
            "marker": {
             "colorbar": {
              "outlinewidth": 0,
              "ticks": ""
             }
            },
            "type": "scattercarpet"
           }
          ],
          "scattergeo": [
           {
            "marker": {
             "colorbar": {
              "outlinewidth": 0,
              "ticks": ""
             }
            },
            "type": "scattergeo"
           }
          ],
          "scattergl": [
           {
            "marker": {
             "colorbar": {
              "outlinewidth": 0,
              "ticks": ""
             }
            },
            "type": "scattergl"
           }
          ],
          "scattermapbox": [
           {
            "marker": {
             "colorbar": {
              "outlinewidth": 0,
              "ticks": ""
             }
            },
            "type": "scattermapbox"
           }
          ],
          "scatterpolar": [
           {
            "marker": {
             "colorbar": {
              "outlinewidth": 0,
              "ticks": ""
             }
            },
            "type": "scatterpolar"
           }
          ],
          "scatterpolargl": [
           {
            "marker": {
             "colorbar": {
              "outlinewidth": 0,
              "ticks": ""
             }
            },
            "type": "scatterpolargl"
           }
          ],
          "scatterternary": [
           {
            "marker": {
             "colorbar": {
              "outlinewidth": 0,
              "ticks": ""
             }
            },
            "type": "scatterternary"
           }
          ],
          "surface": [
           {
            "colorbar": {
             "outlinewidth": 0,
             "ticks": ""
            },
            "colorscale": [
             [
              0,
              "#0d0887"
             ],
             [
              0.1111111111111111,
              "#46039f"
             ],
             [
              0.2222222222222222,
              "#7201a8"
             ],
             [
              0.3333333333333333,
              "#9c179e"
             ],
             [
              0.4444444444444444,
              "#bd3786"
             ],
             [
              0.5555555555555556,
              "#d8576b"
             ],
             [
              0.6666666666666666,
              "#ed7953"
             ],
             [
              0.7777777777777778,
              "#fb9f3a"
             ],
             [
              0.8888888888888888,
              "#fdca26"
             ],
             [
              1,
              "#f0f921"
             ]
            ],
            "type": "surface"
           }
          ],
          "table": [
           {
            "cells": {
             "fill": {
              "color": "#EBF0F8"
             },
             "line": {
              "color": "white"
             }
            },
            "header": {
             "fill": {
              "color": "#C8D4E3"
             },
             "line": {
              "color": "white"
             }
            },
            "type": "table"
           }
          ]
         },
         "layout": {
          "annotationdefaults": {
           "arrowcolor": "#2a3f5f",
           "arrowhead": 0,
           "arrowwidth": 1
          },
          "autotypenumbers": "strict",
          "coloraxis": {
           "colorbar": {
            "outlinewidth": 0,
            "ticks": ""
           }
          },
          "colorscale": {
           "diverging": [
            [
             0,
             "#8e0152"
            ],
            [
             0.1,
             "#c51b7d"
            ],
            [
             0.2,
             "#de77ae"
            ],
            [
             0.3,
             "#f1b6da"
            ],
            [
             0.4,
             "#fde0ef"
            ],
            [
             0.5,
             "#f7f7f7"
            ],
            [
             0.6,
             "#e6f5d0"
            ],
            [
             0.7,
             "#b8e186"
            ],
            [
             0.8,
             "#7fbc41"
            ],
            [
             0.9,
             "#4d9221"
            ],
            [
             1,
             "#276419"
            ]
           ],
           "sequential": [
            [
             0,
             "#0d0887"
            ],
            [
             0.1111111111111111,
             "#46039f"
            ],
            [
             0.2222222222222222,
             "#7201a8"
            ],
            [
             0.3333333333333333,
             "#9c179e"
            ],
            [
             0.4444444444444444,
             "#bd3786"
            ],
            [
             0.5555555555555556,
             "#d8576b"
            ],
            [
             0.6666666666666666,
             "#ed7953"
            ],
            [
             0.7777777777777778,
             "#fb9f3a"
            ],
            [
             0.8888888888888888,
             "#fdca26"
            ],
            [
             1,
             "#f0f921"
            ]
           ],
           "sequentialminus": [
            [
             0,
             "#0d0887"
            ],
            [
             0.1111111111111111,
             "#46039f"
            ],
            [
             0.2222222222222222,
             "#7201a8"
            ],
            [
             0.3333333333333333,
             "#9c179e"
            ],
            [
             0.4444444444444444,
             "#bd3786"
            ],
            [
             0.5555555555555556,
             "#d8576b"
            ],
            [
             0.6666666666666666,
             "#ed7953"
            ],
            [
             0.7777777777777778,
             "#fb9f3a"
            ],
            [
             0.8888888888888888,
             "#fdca26"
            ],
            [
             1,
             "#f0f921"
            ]
           ]
          },
          "colorway": [
           "#636efa",
           "#EF553B",
           "#00cc96",
           "#ab63fa",
           "#FFA15A",
           "#19d3f3",
           "#FF6692",
           "#B6E880",
           "#FF97FF",
           "#FECB52"
          ],
          "font": {
           "color": "#2a3f5f"
          },
          "geo": {
           "bgcolor": "white",
           "lakecolor": "white",
           "landcolor": "#E5ECF6",
           "showlakes": true,
           "showland": true,
           "subunitcolor": "white"
          },
          "hoverlabel": {
           "align": "left"
          },
          "hovermode": "closest",
          "mapbox": {
           "style": "light"
          },
          "paper_bgcolor": "white",
          "plot_bgcolor": "#E5ECF6",
          "polar": {
           "angularaxis": {
            "gridcolor": "white",
            "linecolor": "white",
            "ticks": ""
           },
           "bgcolor": "#E5ECF6",
           "radialaxis": {
            "gridcolor": "white",
            "linecolor": "white",
            "ticks": ""
           }
          },
          "scene": {
           "xaxis": {
            "backgroundcolor": "#E5ECF6",
            "gridcolor": "white",
            "gridwidth": 2,
            "linecolor": "white",
            "showbackground": true,
            "ticks": "",
            "zerolinecolor": "white"
           },
           "yaxis": {
            "backgroundcolor": "#E5ECF6",
            "gridcolor": "white",
            "gridwidth": 2,
            "linecolor": "white",
            "showbackground": true,
            "ticks": "",
            "zerolinecolor": "white"
           },
           "zaxis": {
            "backgroundcolor": "#E5ECF6",
            "gridcolor": "white",
            "gridwidth": 2,
            "linecolor": "white",
            "showbackground": true,
            "ticks": "",
            "zerolinecolor": "white"
           }
          },
          "shapedefaults": {
           "line": {
            "color": "#2a3f5f"
           }
          },
          "ternary": {
           "aaxis": {
            "gridcolor": "white",
            "linecolor": "white",
            "ticks": ""
           },
           "baxis": {
            "gridcolor": "white",
            "linecolor": "white",
            "ticks": ""
           },
           "bgcolor": "#E5ECF6",
           "caxis": {
            "gridcolor": "white",
            "linecolor": "white",
            "ticks": ""
           }
          },
          "title": {
           "x": 0.05
          },
          "xaxis": {
           "automargin": true,
           "gridcolor": "white",
           "linecolor": "white",
           "ticks": "",
           "title": {
            "standoff": 15
           },
           "zerolinecolor": "white",
           "zerolinewidth": 2
          },
          "yaxis": {
           "automargin": true,
           "gridcolor": "white",
           "linecolor": "white",
           "ticks": "",
           "title": {
            "standoff": 15
           },
           "zerolinecolor": "white",
           "zerolinewidth": 2
          }
         }
        },
        "width": 600,
        "xaxis": {
         "anchor": "y",
         "constrain": "domain",
         "domain": [
          0,
          1
         ],
         "scaleanchor": "y"
        },
        "yaxis": {
         "anchor": "x",
         "autorange": "reversed",
         "constrain": "domain",
         "domain": [
          0,
          1
         ]
        }
       }
      }
     },
     "metadata": {},
     "output_type": "display_data"
    }
   ],
   "source": [
    "fig = px.imshow(dataset_df.corr(), height=600, width=600, text_auto='.2f' )\n",
    "fig.show()"
   ]
  },
  {
   "cell_type": "markdown",
   "metadata": {},
   "source": [
    "Довольно высокая зависимость между osmo-urea (0.81), osmo-cond (0.71 ) и osmo-gravity (0.69).\n",
    "\n",
    "Это ожидаемо, т.к. чем выше концентрация мочевины, тем больше молекул в единице объема, лучше электропроводность и выше плотность, по сравнению с просто водой."
   ]
  },
  {
   "cell_type": "code",
   "execution_count": 10,
   "metadata": {},
   "outputs": [
    {
     "data": {
      "application/vnd.plotly.v1+json": {
       "config": {
        "plotlyServerURL": "https://plot.ly"
       },
       "data": [
        {
         "name": "urea",
         "type": "box",
         "xaxis": "x",
         "y": [
          124,
          394,
          159,
          398,
          385,
          395,
          159,
          170,
          418,
          75,
          282,
          159,
          187,
          418,
          72,
          141,
          224,
          199,
          178,
          430,
          95,
          457,
          473,
          260,
          443,
          125,
          382,
          349,
          443,
          178,
          252,
          311,
          75,
          349,
          124,
          87,
          385,
          64,
          395,
          124,
          170,
          448,
          195,
          224,
          349,
          418,
          199,
          430,
          620,
          170,
          443,
          430,
          398,
          360,
          159,
          422,
          87,
          301,
          443,
          301,
          159,
          178,
          418,
          214,
          398,
          188,
          360,
          224,
          10,
          195,
          398,
          382,
          550,
          620,
          214,
          126,
          380,
          457,
          360,
          301,
          126,
          214,
          385,
          104,
          364,
          214,
          252,
          124,
          380,
          385,
          297,
          170,
          159,
          349,
          457,
          398,
          170,
          178,
          255,
          550,
          430,
          270,
          422,
          398,
          75,
          301,
          418,
          152,
          239,
          214,
          398,
          199,
          380,
          308,
          14,
          301,
          91,
          550,
          147,
          164,
          302,
          302,
          296,
          448,
          224,
          214,
          133,
          382,
          443,
          396,
          297,
          133,
          87,
          349,
          125,
          317,
          104,
          195,
          72,
          270,
          164,
          87,
          187,
          308,
          164,
          448,
          620,
          418,
          284,
          87,
          330,
          385,
          311,
          516,
          311,
          284,
          516,
          164,
          214,
          385,
          141,
          308,
          198,
          422,
          516,
          87,
          282,
          301,
          330,
          164,
          95,
          164,
          382,
          199,
          159,
          133,
          360,
          252,
          239,
          395,
          159,
          124,
          252,
          195,
          398,
          354,
          199,
          195,
          325,
          75,
          159,
          224,
          195,
          239,
          214,
          382,
          87,
          75,
          198,
          124,
          486,
          75,
          126,
          297,
          252,
          448,
          282,
          330,
          349,
          395,
          296,
          124,
          325,
          296,
          430,
          486,
          550,
          394,
          159,
          239,
          284,
          382,
          214,
          178,
          239,
          385,
          282,
          395,
          64,
          197,
          270,
          430,
          64,
          620,
          270,
          385,
          330,
          282,
          448,
          620,
          382,
          516,
          170,
          197,
          195,
          364,
          198,
          198,
          385,
          188,
          308,
          296,
          395,
          385,
          272,
          301,
          330,
          170,
          159,
          101,
          91,
          430,
          301,
          362,
          159,
          125,
          620,
          184,
          130,
          380,
          301,
          141,
          443,
          486,
          364,
          161,
          354,
          394,
          620,
          152,
          385,
          187,
          395,
          317,
          178,
          354,
          87,
          255,
          224,
          396,
          395,
          317,
          364,
          325,
          64,
          382,
          550,
          187,
          516,
          457,
          133,
          198,
          64,
          349,
          330,
          325,
          64,
          124,
          188,
          302,
          239,
          64,
          187,
          380,
          457,
          260,
          395,
          550,
          364,
          239,
          195,
          362,
          382,
          75,
          239,
          430,
          199,
          199,
          395,
          87,
          170,
          311,
          395,
          159,
          188,
          195,
          126,
          64,
          325,
          75,
          516,
          516,
          422,
          311,
          224,
          448,
          199,
          87,
          385,
          272,
          382,
          198,
          620,
          178,
          308,
          178,
          360,
          385,
          473,
          133,
          394,
          87,
          282,
          178,
          87,
          159,
          301,
          104,
          349,
          159,
          187,
          395,
          398,
          443,
          87,
          516,
          255,
          75,
          101,
          95,
          195,
          330,
          349,
          308,
          199,
          418,
          620,
          152,
          95,
          398,
          308,
          550,
          364,
          187,
          224,
          87,
          395,
          164,
          239,
          317,
          147,
          272,
          252,
          133,
          620,
          72,
          212,
          212,
          380,
          75,
          224,
          270,
          75,
          159
         ],
         "yaxis": "y"
        },
        {
         "name": "gravity",
         "type": "box",
         "xaxis": "x2",
         "y": [
          1.013,
          1.025,
          1.009,
          1.021,
          1.021,
          1.025,
          1.008,
          1.015,
          1.025,
          1.017,
          1.017,
          1.009,
          1.017,
          1.021,
          1.007,
          1.011,
          1.01,
          1.012,
          1.018,
          1.026,
          1.011,
          1.018,
          1.021,
          1.007,
          1.021,
          1.008,
          1.021,
          1.02,
          1.021,
          1.015,
          1.02,
          1.008,
          1.017,
          1.021,
          1.011,
          1.009,
          1.024,
          1.009,
          1.025,
          1.01,
          1.015,
          1.021,
          1.012,
          1.021,
          1.019,
          1.008,
          1.02,
          1.021,
          1.034,
          1.019,
          1.021,
          1.025,
          1.015,
          1.024,
          1.008,
          1.02,
          1.017,
          1.021,
          1.022,
          1.025,
          1.028,
          1.014,
          1.024,
          1.018,
          1.022,
          1.014,
          1.023,
          1.021,
          1.02,
          1.012,
          1.025,
          1.028,
          1.024,
          1.024,
          1.01,
          1.008,
          1.021,
          1.017,
          1.024,
          1.021,
          1.01,
          1.014,
          1.024,
          1.014,
          1.029,
          1.02,
          1.02,
          1.008,
          1.015,
          1.024,
          1.017,
          1.017,
          1.011,
          1.021,
          1.011,
          1.021,
          1.018,
          1.015,
          1.017,
          1.02,
          1.033,
          1.018,
          1.028,
          1.021,
          1.017,
          1.014,
          1.019,
          1.011,
          1.02,
          1.021,
          1.025,
          1.017,
          1.024,
          1.024,
          1.007,
          1.017,
          1.005,
          1.031,
          1.008,
          1.015,
          1.021,
          1.021,
          1.026,
          1.026,
          1.017,
          1.014,
          1.007,
          1.021,
          1.017,
          1.025,
          1.017,
          1.026,
          1.015,
          1.02,
          1.013,
          1.017,
          1.009,
          1.008,
          1.01,
          1.018,
          1.013,
          1.008,
          1.025,
          1.023,
          1.01,
          1.008,
          1.025,
          1.026,
          1.015,
          1.017,
          1.022,
          1.025,
          1.017,
          1.021,
          1.021,
          1.017,
          1.02,
          1.026,
          1.008,
          1.025,
          1.015,
          1.025,
          1.015,
          1.02,
          1.018,
          1.023,
          1.007,
          1.021,
          1.017,
          1.011,
          1.033,
          1.017,
          1.023,
          1.008,
          1.011,
          1.007,
          1.024,
          1.02,
          1.01,
          1.025,
          1.01,
          1.011,
          1.017,
          1.012,
          1.022,
          1.023,
          1.012,
          1.012,
          1.02,
          1.008,
          1.011,
          1.031,
          1.012,
          1.021,
          1.012,
          1.021,
          1.015,
          1.01,
          1.01,
          1.01,
          1.04,
          1.018,
          1.01,
          1.019,
          1.02,
          1.026,
          1.008,
          1.018,
          1.021,
          1.023,
          1.017,
          1.011,
          1.025,
          1.017,
          1.017,
          1.02,
          1.02,
          1.021,
          1.022,
          1.01,
          1.018,
          1.023,
          1.008,
          1.019,
          1.009,
          1.021,
          1.021,
          1.025,
          1.01,
          1.015,
          1.017,
          1.028,
          1.008,
          1.02,
          1.017,
          1.021,
          1.025,
          1.025,
          1.025,
          1.034,
          1.021,
          1.024,
          1.011,
          1.014,
          1.012,
          1.031,
          1.014,
          1.017,
          1.021,
          1.015,
          1.02,
          1.015,
          1.034,
          1.017,
          1.02,
          1.025,
          1.021,
          1.011,
          1.014,
          1.011,
          1.006,
          1.033,
          1.008,
          1.021,
          1.017,
          1.008,
          1.025,
          1.013,
          1.005,
          1.031,
          1.015,
          1.007,
          1.013,
          1.021,
          1.024,
          1.034,
          1.021,
          1.022,
          1.013,
          1.017,
          1.022,
          1.017,
          1.025,
          1.017,
          1.015,
          1.023,
          1.017,
          1.017,
          1.011,
          1.025,
          1.028,
          1.017,
          1.024,
          1.021,
          1.008,
          1.021,
          1.033,
          1.017,
          1.02,
          1.026,
          1.008,
          1.034,
          1.008,
          1.024,
          1.02,
          1.021,
          1.01,
          1.011,
          1.013,
          1.019,
          1.021,
          1.011,
          1.015,
          1.022,
          1.021,
          1.04,
          1.02,
          1.028,
          1.02,
          1.009,
          1.017,
          1.024,
          1.021,
          1.017,
          1.007,
          1.024,
          1.019,
          1.019,
          1.025,
          1.017,
          1.015,
          1.021,
          1.025,
          1.01,
          1.013,
          1.014,
          1.01,
          1.01,
          1.025,
          1.021,
          1.023,
          1.017,
          1.008,
          1.023,
          1.019,
          1.026,
          1.021,
          1.008,
          1.025,
          1.018,
          1.021,
          1.01,
          1.026,
          1.02,
          1.02,
          1.006,
          1.024,
          1.018,
          1.025,
          1.008,
          1.024,
          1.011,
          1.017,
          1.015,
          1.017,
          1.007,
          1.021,
          1.009,
          1.02,
          1.011,
          1.015,
          1.027,
          1.013,
          1.021,
          1.011,
          1.017,
          1.014,
          1.01,
          1.008,
          1.008,
          1.017,
          1.02,
          1.024,
          1.02,
          1.008,
          1.02,
          1.034,
          1.011,
          1.011,
          1.017,
          1.02,
          1.019,
          1.024,
          1.024,
          1.018,
          1.017,
          1.022,
          1.011,
          1.011,
          1.017,
          1.011,
          1.025,
          1.017,
          1.011,
          1.04,
          1.005,
          1.014,
          1.014,
          1.024,
          1.011,
          1.024,
          1.018,
          1.008,
          1.011
         ],
         "yaxis": "y2"
        },
        {
         "name": "osmo",
         "type": "box",
         "xaxis": "x3",
         "y": [
          443,
          703,
          371,
          442,
          874,
          947,
          371,
          450,
          736,
          527,
          680,
          364,
          541,
          703,
          516,
          251,
          408,
          760,
          416,
          1032,
          395,
          874,
          956,
          704,
          725,
          341,
          779,
          781,
          725,
          416,
          668,
          694,
          527,
          781,
          443,
          242,
          874,
          225,
          840,
          443,
          450,
          907,
          461,
          658,
          781,
          779,
          702,
          1032,
          1236,
          456,
          725,
          1032,
          956,
          866,
          364,
          631,
          781,
          774,
          907,
          822,
          461,
          416,
          874,
          577,
          442,
          371,
          866,
          658,
          312,
          461,
          442,
          970,
          1107,
          1236,
          565,
          343,
          874,
          631,
          866,
          822,
          343,
          565,
          854,
          386,
          703,
          567,
          668,
          443,
          698,
          874,
          364,
          527,
          364,
          781,
          933,
          947,
          543,
          416,
          487,
          1107,
          1032,
          854,
          631,
          442,
          527,
          721,
          594,
          345,
          658,
          577,
          442,
          760,
          874,
          876,
          242,
          567,
          187,
          1107,
          283,
          577,
          775,
          775,
          866,
          907,
          594,
          565,
          253,
          779,
          577,
          945,
          559,
          822,
          531,
          781,
          341,
          559,
          325,
          242,
          187,
          704,
          456,
          577,
          702,
          876,
          456,
          907,
          1236,
          736,
          694,
          577,
          702,
          815,
          658,
          873,
          779,
          684,
          874,
          577,
          781,
          854,
          253,
          876,
          487,
          631,
          779,
          487,
          680,
          822,
          702,
          456,
          947,
          456,
          970,
          341,
          443,
          253,
          853,
          668,
          631,
          840,
          241,
          343,
          410,
          461,
          442,
          775,
          760,
          442,
          774,
          410,
          364,
          658,
          461,
          774,
          567,
          779,
          577,
          577,
          487,
          443,
          838,
          527,
          343,
          579,
          668,
          907,
          680,
          702,
          781,
          840,
          577,
          443,
          721,
          577,
          874,
          945,
          1107,
          970,
          822,
          631,
          704,
          970,
          725,
          416,
          679,
          874,
          694,
          840,
          242,
          487,
          455,
          1032,
          242,
          1236,
          704,
          815,
          702,
          694,
          907,
          1236,
          779,
          874,
          455,
          541,
          410,
          703,
          442,
          487,
          815,
          371,
          876,
          577,
          840,
          838,
          703,
          721,
          702,
          543,
          364,
          443,
          241,
          1032,
          876,
          970,
          364,
          341,
          1236,
          516,
          256,
          874,
          559,
          253,
          631,
          838,
          947,
          577,
          698,
          970,
          577,
          577,
          721,
          461,
          840,
          559,
          416,
          698,
          577,
          874,
          408,
          945,
          840,
          559,
          853,
          774,
          242,
          779,
          1107,
          541,
          874,
          833,
          253,
          577,
          450,
          781,
          702,
          774,
          242,
          443,
          371,
          775,
          721,
          242,
          531,
          874,
          833,
          704,
          947,
          1236,
          853,
          631,
          461,
          970,
          779,
          527,
          321,
          1032,
          487,
          443,
          840,
          577,
          594,
          694,
          840,
          364,
          531,
          694,
          343,
          225,
          774,
          577,
          874,
          774,
          874,
          779,
          408,
          907,
          760,
          395,
          854,
          703,
          874,
          487,
          1236,
          803,
          876,
          874,
          866,
          815,
          956,
          253,
          781,
          187,
          680,
          416,
          527,
          241,
          579,
          386,
          781,
          364,
          531,
          840,
          442,
          725,
          577,
          874,
          543,
          527,
          321,
          395,
          461,
          702,
          781,
          876,
          760,
          874,
          1236,
          345,
          395,
          874,
          876,
          1107,
          853,
          694,
          408,
          577,
          840,
          456,
          579,
          559,
          283,
          703,
          668,
          253,
          1236,
          225,
          577,
          749,
          874,
          527,
          577,
          455,
          325,
          364
         ],
         "yaxis": "y3"
        },
        {
         "name": "calc",
         "type": "box",
         "xaxis": "x4",
         "y": [
          1.45,
          4.18,
          9.04,
          6.63,
          2.21,
          2.64,
          2.17,
          1.16,
          1.52,
          4.49,
          0.17,
          1.22,
          6.96,
          4.18,
          1.22,
          0.17,
          2.17,
          1.05,
          3.01,
          8.94,
          1.53,
          4.18,
          4.45,
          1.53,
          2.45,
          1.02,
          2.21,
          3.04,
          2.45,
          3.98,
          2.33,
          1.02,
          2.17,
          2.21,
          1.45,
          1.19,
          4.74,
          1.16,
          4.54,
          1.05,
          2.64,
          2.45,
          2.17,
          2.31,
          2.45,
          6.99,
          1.38,
          7.18,
          12.68,
          2.45,
          2.45,
          7.64,
          1.16,
          7.82,
          2.36,
          5.67,
          1.16,
          6.99,
          4.49,
          4.49,
          2.31,
          1.52,
          7.68,
          6.63,
          4.49,
          2.5,
          1.47,
          3.01,
          0.27,
          1.4,
          9.39,
          4.49,
          5.54,
          7.82,
          2.31,
          1.22,
          7.18,
          4.49,
          4.49,
          7.31,
          1.06,
          2.45,
          7.82,
          3.46,
          8.48,
          3.34,
          3.34,
          1.06,
          12.2,
          3.02,
          12.68,
          2.17,
          2.64,
          7.64,
          2.21,
          8.94,
          1.45,
          3.93,
          12.68,
          4.49,
          8.94,
          3.46,
          2.15,
          3.16,
          3.98,
          2.45,
          1.49,
          1.16,
          2.31,
          9.39,
          4.49,
          0.58,
          4.49,
          4.49,
          0.65,
          3.46,
          1.47,
          8.94,
          0.83,
          2.31,
          6.19,
          3.34,
          8.48,
          9.39,
          3.01,
          1.45,
          1.16,
          2.21,
          5.64,
          7.68,
          6.99,
          1.06,
          0.65,
          3.46,
          1.06,
          5.38,
          3.98,
          1.16,
          1.16,
          1.27,
          3.3,
          1.03,
          0.81,
          4.49,
          2.31,
          1.27,
          5.54,
          9.04,
          9.39,
          2.17,
          4.49,
          1.27,
          8.94,
          13,
          2.21,
          5.38,
          3.46,
          1.16,
          3.98,
          14.34,
          1.45,
          4.49,
          1.55,
          8.94,
          2.21,
          1.53,
          0.17,
          13,
          4.49,
          6.99,
          8.94,
          8.94,
          1.27,
          1.45,
          7.68,
          1.03,
          7.82,
          3.98,
          1.19,
          2.17,
          1.06,
          1.27,
          2.46,
          1.4,
          4.18,
          3.34,
          1.47,
          3.16,
          3.98,
          1.16,
          4.49,
          3.46,
          1.4,
          4.54,
          1.27,
          4.45,
          1.16,
          2.31,
          2.33,
          1.17,
          8.53,
          3.98,
          2.31,
          3.93,
          3.34,
          3.53,
          0.17,
          1.2,
          6.96,
          7.64,
          3.34,
          1.16,
          7.64,
          3.34,
          1.52,
          8.28,
          6.96,
          12.68,
          7.68,
          1.17,
          6.96,
          5.54,
          1.16,
          0.81,
          1.52,
          8.48,
          6.63,
          14.34,
          1.03,
          2.64,
          0.77,
          8.28,
          1.03,
          3.46,
          3.46,
          2.66,
          4.49,
          9.39,
          8.48,
          12.68,
          2.21,
          7.18,
          1.16,
          3.16,
          1.53,
          12.68,
          6.96,
          0.58,
          2.66,
          2.64,
          8.48,
          4.49,
          7.18,
          4.49,
          6.63,
          12.2,
          4.18,
          3.1,
          0.83,
          1.27,
          0.83,
          2.33,
          6.96,
          2.36,
          1.4,
          1.05,
          12.68,
          4.74,
          1.05,
          1.27,
          3.98,
          0.83,
          2.31,
          0.58,
          12.68,
          3.16,
          13,
          12.68,
          2.45,
          1.06,
          9.39,
          6.99,
          7.18,
          9.39,
          9.39,
          14.34,
          1.45,
          4.49,
          6.99,
          4.54,
          7.64,
          6.96,
          4.18,
          6.96,
          0.83,
          2.31,
          4.49,
          6.99,
          8.28,
          8.94,
          0.65,
          2.64,
          6.96,
          7.18,
          2.33,
          6.99,
          1.27,
          1.27,
          1.21,
          8.48,
          2.45,
          1.27,
          4.74,
          3.98,
          2.15,
          3.34,
          3.34,
          14.34,
          7.31,
          0.17,
          1.27,
          1.27,
          4.18,
          1.16,
          0.58,
          4.74,
          3.34,
          0.83,
          7.64,
          1.32,
          2.45,
          5.54,
          2.03,
          2.5,
          4.74,
          1.19,
          1.16,
          1.27,
          1.27,
          3.34,
          7.31,
          3.01,
          1.58,
          4.54,
          2.21,
          6.81,
          2.33,
          2.03,
          3.98,
          6.63,
          6.99,
          1.19,
          5.38,
          3.04,
          8.48,
          5.68,
          5.54,
          5.64,
          9.39,
          1.02,
          8.48,
          1.93,
          3.46,
          2.45,
          1.06,
          1.53,
          2.64,
          1.93,
          3.04,
          2.64,
          3.16,
          4.54,
          4.49,
          3.53,
          1.46,
          3.01,
          7.64,
          1.27,
          2.21,
          1.52,
          0.81,
          0.77,
          6.96,
          5.09,
          0.83,
          2.36,
          12.68,
          1.93,
          1.53,
          8.48,
          4.49,
          3.01,
          7.31,
          8.68,
          6.63,
          0.58,
          4.18,
          3.01,
          1.53,
          5.38,
          1.93,
          8.48,
          0.65,
          1.02,
          3.98,
          1.16,
          3.53,
          3.04,
          8.94,
          1.53,
          0.77,
          7.68,
          1.03,
          0.27
         ],
         "yaxis": "y4"
        },
        {
         "name": "cond",
         "type": "box",
         "xaxis": "x5",
         "y": [
          14.8,
          23.6,
          24.5,
          20.8,
          17.8,
          28.4,
          15.5,
          8.1,
          25.3,
          20,
          25.7,
          8.8,
          20,
          22.2,
          20,
          9.8,
          11.2,
          25.7,
          12.8,
          29.1,
          26,
          29,
          27.6,
          23.6,
          19.7,
          14,
          25.7,
          23.6,
          11.2,
          11.2,
          25.3,
          17.7,
          21.4,
          23.6,
          25.7,
          12.2,
          20,
          8.1,
          32.6,
          17.9,
          11.2,
          23.6,
          17.4,
          23.6,
          25.8,
          17.8,
          19.7,
          27,
          27.3,
          17.8,
          29,
          27.9,
          35.9,
          29.5,
          9.9,
          21.4,
          33.8,
          23.6,
          26.1,
          25.7,
          12.2,
          11.2,
          27.6,
          21.4,
          20.6,
          17.9,
          29,
          25.7,
          8.8,
          17.4,
          21.4,
          35.9,
          31.2,
          27.6,
          21.4,
          8.8,
          29.5,
          29,
          29.5,
          19.5,
          11.3,
          23.6,
          17.4,
          17.7,
          27.6,
          25.3,
          25.3,
          13.3,
          27.6,
          17.4,
          23.6,
          8.1,
          10.9,
          29,
          21.9,
          26,
          21.9,
          11.5,
          15.5,
          35.8,
          26.1,
          22.2,
          11.2,
          25.7,
          25.8,
          25.8,
          27.6,
          12.2,
          17.4,
          14.3,
          20,
          25.3,
          29.9,
          29,
          10.9,
          21.4,
          9.9,
          17.4,
          9.9,
          20,
          29,
          29,
          26.1,
          26,
          33.6,
          23.3,
          5.1,
          25.7,
          20.9,
          32.6,
          17.9,
          27.6,
          15.8,
          26,
          14.6,
          15.8,
          11.2,
          11.3,
          8.4,
          23.6,
          17.8,
          26,
          14.8,
          35.8,
          17.9,
          27.6,
          27.6,
          20.9,
          25.7,
          14,
          23.6,
          26,
          21.4,
          17.7,
          25.7,
          27.6,
          17.8,
          17.9,
          29,
          29,
          17.7,
          29,
          13.3,
          11.2,
          25.3,
          9.8,
          25.3,
          14.6,
          20.8,
          15.8,
          27.3,
          17.8,
          38,
          11.3,
          8.8,
          8.4,
          29.5,
          23.6,
          8.8,
          24.5,
          5.1,
          13.4,
          23.6,
          20.9,
          21.4,
          23.3,
          33.8,
          20.9,
          29,
          33.8,
          14.3,
          23.6,
          17.4,
          23.6,
          21.4,
          23.6,
          29,
          25.7,
          14.9,
          17.8,
          14.3,
          20.8,
          11.2,
          23.6,
          25.3,
          29,
          25.3,
          11.2,
          29,
          29,
          15.5,
          21.4,
          25.7,
          20,
          22.2,
          38,
          29,
          38,
          21.4,
          25.3,
          26.1,
          29,
          30.1,
          12.6,
          31.2,
          14.6,
          21.4,
          26.1,
          11.3,
          8.8,
          12.8,
          27.3,
          8.8,
          25.3,
          24.5,
          27.6,
          22.2,
          25.7,
          17.8,
          23.6,
          29,
          27.6,
          10.9,
          20.9,
          13.4,
          23.6,
          15.5,
          14,
          27.9,
          11.2,
          29,
          20,
          26,
          27.9,
          21.4,
          23.6,
          23.6,
          20.8,
          5.1,
          20.9,
          5.1,
          24.5,
          27.6,
          35.8,
          5.1,
          12.2,
          29,
          20.8,
          8.1,
          29,
          8.1,
          5.1,
          19.7,
          14,
          27.6,
          20.9,
          19.5,
          38,
          27.5,
          33.8,
          20.6,
          17.8,
          27.6,
          15.8,
          11.3,
          26,
          20,
          17.6,
          15.5,
          38,
          26.1,
          15.5,
          27.6,
          29,
          10.9,
          25.7,
          25.7,
          21.8,
          17.4,
          29,
          9.8,
          23.6,
          11.2,
          29,
          33.8,
          27.9,
          12.8,
          21.4,
          13.3,
          15.6,
          29,
          8.8,
          20.8,
          14.8,
          29,
          24.5,
          28.4,
          27.6,
          29,
          8.8,
          21.4,
          38,
          21.4,
          23.6,
          11.2,
          29,
          20,
          11.2,
          24.5,
          17.4,
          20,
          19.7,
          8.8,
          11.2,
          20.8,
          12.4,
          9.9,
          8.8,
          27.9,
          29,
          27.6,
          20.8,
          25.3,
          29,
          11.3,
          26,
          25.7,
          8.1,
          29,
          23.6,
          29,
          17.7,
          32.6,
          26,
          38,
          27.9,
          29,
          26.1,
          27.6,
          8.4,
          19.5,
          10.9,
          25.3,
          11.2,
          25.3,
          5.1,
          23.6,
          14.9,
          29,
          15.5,
          20.8,
          29,
          20.6,
          21.4,
          30.1,
          17.7,
          35.8,
          25.8,
          21.4,
          23.6,
          8.1,
          23.6,
          29,
          29,
          33.8,
          27.9,
          29,
          12.2,
          24.5,
          27.9,
          33.6,
          30.1,
          24.5,
          29,
          23.6,
          14,
          24.5,
          17.9,
          20.9,
          15.8,
          9.9,
          29,
          25.3,
          8.4,
          27,
          9.9,
          20.9,
          29,
          29,
          21.4,
          19.7,
          22.2,
          12.6,
          9.9
         ],
         "yaxis": "y5"
        },
        {
         "name": "ph",
         "type": "box",
         "xaxis": "x6",
         "y": [
          6.19,
          5.4,
          6.13,
          4.91,
          5.53,
          6.9,
          5.09,
          5.53,
          7.38,
          6.61,
          6.81,
          6.37,
          6.79,
          6.56,
          7.01,
          6.81,
          6.63,
          7.38,
          6.13,
          5.66,
          7.01,
          5.35,
          5.94,
          5.87,
          6.29,
          6.75,
          5.53,
          5.44,
          4.91,
          6.61,
          5.58,
          6.81,
          7.61,
          5.53,
          7.01,
          6.29,
          5.51,
          6.63,
          6.75,
          6.63,
          5.41,
          6.13,
          5.62,
          5.53,
          5.53,
          5.98,
          5.16,
          5.66,
          5.68,
          5.98,
          6.29,
          5.68,
          5.61,
          5.6,
          6.63,
          6.03,
          5.58,
          5.35,
          7.92,
          6.79,
          5.58,
          6.29,
          5.98,
          6.19,
          5.96,
          6.14,
          5.68,
          5.51,
          4.76,
          6.81,
          6.03,
          6.28,
          5.4,
          5.24,
          6.52,
          5.97,
          5.47,
          6.24,
          5.6,
          5.53,
          7.2,
          6.14,
          5.62,
          5.85,
          6.76,
          5.86,
          5.77,
          7.01,
          5.51,
          5.56,
          6.19,
          5.58,
          6.13,
          5.67,
          6.29,
          5.16,
          5.66,
          6.79,
          5.97,
          5.68,
          5.58,
          5.85,
          6.76,
          5.53,
          7.61,
          7.38,
          6.13,
          6.27,
          5.71,
          5.66,
          6.27,
          6.79,
          5.77,
          5.68,
          6.88,
          6.76,
          6.37,
          5.87,
          7.12,
          5.74,
          5.51,
          5.53,
          7.3,
          6.03,
          6.13,
          5.68,
          5.87,
          5.98,
          6.79,
          5.58,
          5.41,
          5.53,
          5.53,
          5.53,
          6.3,
          6.76,
          5.41,
          6.13,
          6.52,
          7.38,
          5.41,
          7.38,
          5.24,
          5.64,
          5.51,
          5.47,
          6.19,
          5.09,
          6.03,
          6.81,
          5.36,
          5.33,
          5.71,
          5.44,
          5.33,
          5.47,
          5.85,
          6.19,
          5.87,
          5.16,
          5.87,
          5.68,
          5.98,
          5.94,
          6.14,
          6.19,
          4.9,
          4.81,
          5.66,
          5.16,
          5.56,
          6.76,
          5.47,
          6.13,
          6.79,
          6.63,
          5.4,
          7.9,
          6.37,
          6.3,
          5.51,
          5.97,
          5.87,
          5.87,
          5.71,
          5.36,
          5.35,
          5.62,
          5.94,
          5.66,
          5.9,
          5.64,
          5.77,
          6.29,
          4.81,
          5.71,
          5.21,
          7.38,
          5.68,
          5.41,
          6.28,
          7.61,
          5.97,
          5.53,
          5.27,
          5.85,
          6.37,
          5.61,
          5.94,
          5.58,
          5.53,
          5.51,
          5.53,
          5.74,
          5.68,
          6.28,
          5.71,
          5.24,
          5.64,
          7.2,
          5.44,
          5.77,
          5.74,
          5.47,
          6.37,
          5.53,
          5.21,
          5.16,
          6.88,
          5.62,
          6.76,
          5.58,
          6.28,
          7.94,
          5.71,
          5.53,
          5.66,
          6.03,
          5.53,
          5.24,
          5.21,
          5.62,
          5.53,
          6.28,
          5.53,
          5.24,
          5.98,
          6.27,
          5.33,
          6.79,
          5.44,
          5.73,
          5.73,
          5.87,
          5.86,
          7.9,
          5.33,
          6.19,
          5.41,
          7.01,
          6.56,
          5.53,
          5.53,
          5.33,
          6.81,
          6.13,
          5.67,
          5.21,
          6.56,
          5.53,
          5.35,
          5.41,
          5.94,
          4.81,
          5.36,
          5.58,
          5.77,
          5.4,
          6.19,
          5.86,
          7.2,
          5.56,
          5.53,
          5.53,
          6.76,
          6.13,
          6.28,
          5.16,
          5.53,
          5.53,
          5.98,
          5.94,
          5.6,
          5.44,
          6.88,
          5.94,
          5.24,
          5.86,
          5.58,
          6.29,
          6.88,
          5.67,
          5.51,
          5.44,
          5.66,
          5.62,
          6.27,
          6.27,
          5.62,
          5.4,
          5.44,
          5.64,
          5.68,
          4.9,
          6.29,
          5.73,
          5.58,
          6.76,
          5.36,
          5.86,
          7.2,
          5.77,
          5.71,
          7.61,
          5.68,
          5.56,
          5.53,
          6.79,
          5.6,
          5.21,
          5.94,
          6.21,
          5.56,
          6.27,
          6.03,
          6.19,
          6.13,
          6.27,
          5.58,
          5.53,
          5.58,
          5.71,
          5.67,
          5.62,
          6.21,
          5.27,
          5.71,
          6.88,
          5.68,
          5.71,
          5.09,
          5.98,
          5.27,
          5.27,
          5.74,
          5.53,
          5.53,
          6.88,
          6.03,
          6.79,
          5.53,
          7.38,
          7.92,
          6.28,
          7.38,
          5.94,
          5.41,
          7.2,
          5.36,
          6.79,
          7.92,
          5.24,
          5.62,
          5.21,
          5.51,
          6.19,
          5.68,
          7.61,
          6.58,
          6.76,
          5.87,
          5.77,
          5.74,
          6.79,
          5.87,
          5.63,
          5.24,
          6.19,
          7.9,
          5.87,
          5.68,
          5.56,
          5.36,
          5.09,
          5.53,
          4.76,
          6.29,
          5.44,
          5.21,
          6.56,
          6.63,
          5.24,
          4.91,
          6.19,
          5.74,
          6.13,
          5.85,
          5.68,
          5.68,
          5.21,
          5.53,
          6.28,
          7.12,
          6.13
         ],
         "yaxis": "y6"
        }
       ],
       "layout": {
        "height": 1000,
        "template": {
         "data": {
          "bar": [
           {
            "error_x": {
             "color": "#2a3f5f"
            },
            "error_y": {
             "color": "#2a3f5f"
            },
            "marker": {
             "line": {
              "color": "#E5ECF6",
              "width": 0.5
             },
             "pattern": {
              "fillmode": "overlay",
              "size": 10,
              "solidity": 0.2
             }
            },
            "type": "bar"
           }
          ],
          "barpolar": [
           {
            "marker": {
             "line": {
              "color": "#E5ECF6",
              "width": 0.5
             },
             "pattern": {
              "fillmode": "overlay",
              "size": 10,
              "solidity": 0.2
             }
            },
            "type": "barpolar"
           }
          ],
          "carpet": [
           {
            "aaxis": {
             "endlinecolor": "#2a3f5f",
             "gridcolor": "white",
             "linecolor": "white",
             "minorgridcolor": "white",
             "startlinecolor": "#2a3f5f"
            },
            "baxis": {
             "endlinecolor": "#2a3f5f",
             "gridcolor": "white",
             "linecolor": "white",
             "minorgridcolor": "white",
             "startlinecolor": "#2a3f5f"
            },
            "type": "carpet"
           }
          ],
          "choropleth": [
           {
            "colorbar": {
             "outlinewidth": 0,
             "ticks": ""
            },
            "type": "choropleth"
           }
          ],
          "contour": [
           {
            "colorbar": {
             "outlinewidth": 0,
             "ticks": ""
            },
            "colorscale": [
             [
              0,
              "#0d0887"
             ],
             [
              0.1111111111111111,
              "#46039f"
             ],
             [
              0.2222222222222222,
              "#7201a8"
             ],
             [
              0.3333333333333333,
              "#9c179e"
             ],
             [
              0.4444444444444444,
              "#bd3786"
             ],
             [
              0.5555555555555556,
              "#d8576b"
             ],
             [
              0.6666666666666666,
              "#ed7953"
             ],
             [
              0.7777777777777778,
              "#fb9f3a"
             ],
             [
              0.8888888888888888,
              "#fdca26"
             ],
             [
              1,
              "#f0f921"
             ]
            ],
            "type": "contour"
           }
          ],
          "contourcarpet": [
           {
            "colorbar": {
             "outlinewidth": 0,
             "ticks": ""
            },
            "type": "contourcarpet"
           }
          ],
          "heatmap": [
           {
            "colorbar": {
             "outlinewidth": 0,
             "ticks": ""
            },
            "colorscale": [
             [
              0,
              "#0d0887"
             ],
             [
              0.1111111111111111,
              "#46039f"
             ],
             [
              0.2222222222222222,
              "#7201a8"
             ],
             [
              0.3333333333333333,
              "#9c179e"
             ],
             [
              0.4444444444444444,
              "#bd3786"
             ],
             [
              0.5555555555555556,
              "#d8576b"
             ],
             [
              0.6666666666666666,
              "#ed7953"
             ],
             [
              0.7777777777777778,
              "#fb9f3a"
             ],
             [
              0.8888888888888888,
              "#fdca26"
             ],
             [
              1,
              "#f0f921"
             ]
            ],
            "type": "heatmap"
           }
          ],
          "heatmapgl": [
           {
            "colorbar": {
             "outlinewidth": 0,
             "ticks": ""
            },
            "colorscale": [
             [
              0,
              "#0d0887"
             ],
             [
              0.1111111111111111,
              "#46039f"
             ],
             [
              0.2222222222222222,
              "#7201a8"
             ],
             [
              0.3333333333333333,
              "#9c179e"
             ],
             [
              0.4444444444444444,
              "#bd3786"
             ],
             [
              0.5555555555555556,
              "#d8576b"
             ],
             [
              0.6666666666666666,
              "#ed7953"
             ],
             [
              0.7777777777777778,
              "#fb9f3a"
             ],
             [
              0.8888888888888888,
              "#fdca26"
             ],
             [
              1,
              "#f0f921"
             ]
            ],
            "type": "heatmapgl"
           }
          ],
          "histogram": [
           {
            "marker": {
             "pattern": {
              "fillmode": "overlay",
              "size": 10,
              "solidity": 0.2
             }
            },
            "type": "histogram"
           }
          ],
          "histogram2d": [
           {
            "colorbar": {
             "outlinewidth": 0,
             "ticks": ""
            },
            "colorscale": [
             [
              0,
              "#0d0887"
             ],
             [
              0.1111111111111111,
              "#46039f"
             ],
             [
              0.2222222222222222,
              "#7201a8"
             ],
             [
              0.3333333333333333,
              "#9c179e"
             ],
             [
              0.4444444444444444,
              "#bd3786"
             ],
             [
              0.5555555555555556,
              "#d8576b"
             ],
             [
              0.6666666666666666,
              "#ed7953"
             ],
             [
              0.7777777777777778,
              "#fb9f3a"
             ],
             [
              0.8888888888888888,
              "#fdca26"
             ],
             [
              1,
              "#f0f921"
             ]
            ],
            "type": "histogram2d"
           }
          ],
          "histogram2dcontour": [
           {
            "colorbar": {
             "outlinewidth": 0,
             "ticks": ""
            },
            "colorscale": [
             [
              0,
              "#0d0887"
             ],
             [
              0.1111111111111111,
              "#46039f"
             ],
             [
              0.2222222222222222,
              "#7201a8"
             ],
             [
              0.3333333333333333,
              "#9c179e"
             ],
             [
              0.4444444444444444,
              "#bd3786"
             ],
             [
              0.5555555555555556,
              "#d8576b"
             ],
             [
              0.6666666666666666,
              "#ed7953"
             ],
             [
              0.7777777777777778,
              "#fb9f3a"
             ],
             [
              0.8888888888888888,
              "#fdca26"
             ],
             [
              1,
              "#f0f921"
             ]
            ],
            "type": "histogram2dcontour"
           }
          ],
          "mesh3d": [
           {
            "colorbar": {
             "outlinewidth": 0,
             "ticks": ""
            },
            "type": "mesh3d"
           }
          ],
          "parcoords": [
           {
            "line": {
             "colorbar": {
              "outlinewidth": 0,
              "ticks": ""
             }
            },
            "type": "parcoords"
           }
          ],
          "pie": [
           {
            "automargin": true,
            "type": "pie"
           }
          ],
          "scatter": [
           {
            "fillpattern": {
             "fillmode": "overlay",
             "size": 10,
             "solidity": 0.2
            },
            "type": "scatter"
           }
          ],
          "scatter3d": [
           {
            "line": {
             "colorbar": {
              "outlinewidth": 0,
              "ticks": ""
             }
            },
            "marker": {
             "colorbar": {
              "outlinewidth": 0,
              "ticks": ""
             }
            },
            "type": "scatter3d"
           }
          ],
          "scattercarpet": [
           {
            "marker": {
             "colorbar": {
              "outlinewidth": 0,
              "ticks": ""
             }
            },
            "type": "scattercarpet"
           }
          ],
          "scattergeo": [
           {
            "marker": {
             "colorbar": {
              "outlinewidth": 0,
              "ticks": ""
             }
            },
            "type": "scattergeo"
           }
          ],
          "scattergl": [
           {
            "marker": {
             "colorbar": {
              "outlinewidth": 0,
              "ticks": ""
             }
            },
            "type": "scattergl"
           }
          ],
          "scattermapbox": [
           {
            "marker": {
             "colorbar": {
              "outlinewidth": 0,
              "ticks": ""
             }
            },
            "type": "scattermapbox"
           }
          ],
          "scatterpolar": [
           {
            "marker": {
             "colorbar": {
              "outlinewidth": 0,
              "ticks": ""
             }
            },
            "type": "scatterpolar"
           }
          ],
          "scatterpolargl": [
           {
            "marker": {
             "colorbar": {
              "outlinewidth": 0,
              "ticks": ""
             }
            },
            "type": "scatterpolargl"
           }
          ],
          "scatterternary": [
           {
            "marker": {
             "colorbar": {
              "outlinewidth": 0,
              "ticks": ""
             }
            },
            "type": "scatterternary"
           }
          ],
          "surface": [
           {
            "colorbar": {
             "outlinewidth": 0,
             "ticks": ""
            },
            "colorscale": [
             [
              0,
              "#0d0887"
             ],
             [
              0.1111111111111111,
              "#46039f"
             ],
             [
              0.2222222222222222,
              "#7201a8"
             ],
             [
              0.3333333333333333,
              "#9c179e"
             ],
             [
              0.4444444444444444,
              "#bd3786"
             ],
             [
              0.5555555555555556,
              "#d8576b"
             ],
             [
              0.6666666666666666,
              "#ed7953"
             ],
             [
              0.7777777777777778,
              "#fb9f3a"
             ],
             [
              0.8888888888888888,
              "#fdca26"
             ],
             [
              1,
              "#f0f921"
             ]
            ],
            "type": "surface"
           }
          ],
          "table": [
           {
            "cells": {
             "fill": {
              "color": "#EBF0F8"
             },
             "line": {
              "color": "white"
             }
            },
            "header": {
             "fill": {
              "color": "#C8D4E3"
             },
             "line": {
              "color": "white"
             }
            },
            "type": "table"
           }
          ]
         },
         "layout": {
          "annotationdefaults": {
           "arrowcolor": "#2a3f5f",
           "arrowhead": 0,
           "arrowwidth": 1
          },
          "autotypenumbers": "strict",
          "coloraxis": {
           "colorbar": {
            "outlinewidth": 0,
            "ticks": ""
           }
          },
          "colorscale": {
           "diverging": [
            [
             0,
             "#8e0152"
            ],
            [
             0.1,
             "#c51b7d"
            ],
            [
             0.2,
             "#de77ae"
            ],
            [
             0.3,
             "#f1b6da"
            ],
            [
             0.4,
             "#fde0ef"
            ],
            [
             0.5,
             "#f7f7f7"
            ],
            [
             0.6,
             "#e6f5d0"
            ],
            [
             0.7,
             "#b8e186"
            ],
            [
             0.8,
             "#7fbc41"
            ],
            [
             0.9,
             "#4d9221"
            ],
            [
             1,
             "#276419"
            ]
           ],
           "sequential": [
            [
             0,
             "#0d0887"
            ],
            [
             0.1111111111111111,
             "#46039f"
            ],
            [
             0.2222222222222222,
             "#7201a8"
            ],
            [
             0.3333333333333333,
             "#9c179e"
            ],
            [
             0.4444444444444444,
             "#bd3786"
            ],
            [
             0.5555555555555556,
             "#d8576b"
            ],
            [
             0.6666666666666666,
             "#ed7953"
            ],
            [
             0.7777777777777778,
             "#fb9f3a"
            ],
            [
             0.8888888888888888,
             "#fdca26"
            ],
            [
             1,
             "#f0f921"
            ]
           ],
           "sequentialminus": [
            [
             0,
             "#0d0887"
            ],
            [
             0.1111111111111111,
             "#46039f"
            ],
            [
             0.2222222222222222,
             "#7201a8"
            ],
            [
             0.3333333333333333,
             "#9c179e"
            ],
            [
             0.4444444444444444,
             "#bd3786"
            ],
            [
             0.5555555555555556,
             "#d8576b"
            ],
            [
             0.6666666666666666,
             "#ed7953"
            ],
            [
             0.7777777777777778,
             "#fb9f3a"
            ],
            [
             0.8888888888888888,
             "#fdca26"
            ],
            [
             1,
             "#f0f921"
            ]
           ]
          },
          "colorway": [
           "#636efa",
           "#EF553B",
           "#00cc96",
           "#ab63fa",
           "#FFA15A",
           "#19d3f3",
           "#FF6692",
           "#B6E880",
           "#FF97FF",
           "#FECB52"
          ],
          "font": {
           "color": "#2a3f5f"
          },
          "geo": {
           "bgcolor": "white",
           "lakecolor": "white",
           "landcolor": "#E5ECF6",
           "showlakes": true,
           "showland": true,
           "subunitcolor": "white"
          },
          "hoverlabel": {
           "align": "left"
          },
          "hovermode": "closest",
          "mapbox": {
           "style": "light"
          },
          "paper_bgcolor": "white",
          "plot_bgcolor": "#E5ECF6",
          "polar": {
           "angularaxis": {
            "gridcolor": "white",
            "linecolor": "white",
            "ticks": ""
           },
           "bgcolor": "#E5ECF6",
           "radialaxis": {
            "gridcolor": "white",
            "linecolor": "white",
            "ticks": ""
           }
          },
          "scene": {
           "xaxis": {
            "backgroundcolor": "#E5ECF6",
            "gridcolor": "white",
            "gridwidth": 2,
            "linecolor": "white",
            "showbackground": true,
            "ticks": "",
            "zerolinecolor": "white"
           },
           "yaxis": {
            "backgroundcolor": "#E5ECF6",
            "gridcolor": "white",
            "gridwidth": 2,
            "linecolor": "white",
            "showbackground": true,
            "ticks": "",
            "zerolinecolor": "white"
           },
           "zaxis": {
            "backgroundcolor": "#E5ECF6",
            "gridcolor": "white",
            "gridwidth": 2,
            "linecolor": "white",
            "showbackground": true,
            "ticks": "",
            "zerolinecolor": "white"
           }
          },
          "shapedefaults": {
           "line": {
            "color": "#2a3f5f"
           }
          },
          "ternary": {
           "aaxis": {
            "gridcolor": "white",
            "linecolor": "white",
            "ticks": ""
           },
           "baxis": {
            "gridcolor": "white",
            "linecolor": "white",
            "ticks": ""
           },
           "bgcolor": "#E5ECF6",
           "caxis": {
            "gridcolor": "white",
            "linecolor": "white",
            "ticks": ""
           }
          },
          "title": {
           "x": 0.05
          },
          "xaxis": {
           "automargin": true,
           "gridcolor": "white",
           "linecolor": "white",
           "ticks": "",
           "title": {
            "standoff": 15
           },
           "zerolinecolor": "white",
           "zerolinewidth": 2
          },
          "yaxis": {
           "automargin": true,
           "gridcolor": "white",
           "linecolor": "white",
           "ticks": "",
           "title": {
            "standoff": 15
           },
           "zerolinecolor": "white",
           "zerolinewidth": 2
          }
         }
        },
        "title": {
         "text": "Ящики с усами",
         "x": 0.5
        },
        "width": 1200,
        "xaxis": {
         "anchor": "y",
         "domain": [
          0,
          0.2888888888888889
         ]
        },
        "xaxis2": {
         "anchor": "y2",
         "domain": [
          0.35555555555555557,
          0.6444444444444445
         ]
        },
        "xaxis3": {
         "anchor": "y3",
         "domain": [
          0.7111111111111111,
          1
         ]
        },
        "xaxis4": {
         "anchor": "y4",
         "domain": [
          0,
          0.2888888888888889
         ]
        },
        "xaxis5": {
         "anchor": "y5",
         "domain": [
          0.35555555555555557,
          0.6444444444444445
         ]
        },
        "xaxis6": {
         "anchor": "y6",
         "domain": [
          0.7111111111111111,
          1
         ]
        },
        "yaxis": {
         "anchor": "x",
         "domain": [
          0.575,
          1
         ]
        },
        "yaxis2": {
         "anchor": "x2",
         "domain": [
          0.575,
          1
         ]
        },
        "yaxis3": {
         "anchor": "x3",
         "domain": [
          0.575,
          1
         ]
        },
        "yaxis4": {
         "anchor": "x4",
         "domain": [
          0,
          0.425
         ]
        },
        "yaxis5": {
         "anchor": "x5",
         "domain": [
          0,
          0.425
         ]
        },
        "yaxis6": {
         "anchor": "x6",
         "domain": [
          0,
          0.425
         ]
        }
       }
      }
     },
     "metadata": {},
     "output_type": "display_data"
    }
   ],
   "source": [
    "show_boxes(dataset_df, [\"urea\", \"gravity\", \"osmo\", \"calc\", \"cond\", \"ph\"])"
   ]
  },
  {
   "cell_type": "markdown",
   "metadata": {},
   "source": [
    "У переменных gravity и ph есть выбросы."
   ]
  },
  {
   "cell_type": "markdown",
   "metadata": {},
   "source": [
    "# 5. KNN"
   ]
  },
  {
   "cell_type": "markdown",
   "metadata": {},
   "source": [
    "## Подготовка датасета к построению моделей"
   ]
  },
  {
   "cell_type": "markdown",
   "metadata": {},
   "source": [
    "### Выбросы заменить на среднее"
   ]
  },
  {
   "cell_type": "code",
   "execution_count": 11,
   "metadata": {},
   "outputs": [
    {
     "data": {
      "application/vnd.plotly.v1+json": {
       "config": {
        "plotlyServerURL": "https://plot.ly"
       },
       "data": [
        {
         "name": "gravity",
         "type": "box",
         "xaxis": "x",
         "y": [
          1.013,
          1.025,
          1.009,
          1.021,
          1.021,
          1.025,
          1.008,
          1.015,
          1.025,
          1.017,
          1.017,
          1.009,
          1.017,
          1.021,
          1.007,
          1.011,
          1.01,
          1.012,
          1.018,
          1.026,
          1.011,
          1.018,
          1.021,
          1.007,
          1.021,
          1.008,
          1.021,
          1.02,
          1.021,
          1.015,
          1.02,
          1.008,
          1.017,
          1.021,
          1.011,
          1.009,
          1.024,
          1.009,
          1.025,
          1.01,
          1.015,
          1.021,
          1.012,
          1.021,
          1.019,
          1.008,
          1.02,
          1.021,
          1.034,
          1.019,
          1.021,
          1.025,
          1.015,
          1.024,
          1.008,
          1.02,
          1.017,
          1.021,
          1.022,
          1.025,
          1.028,
          1.014,
          1.024,
          1.018,
          1.022,
          1.014,
          1.023,
          1.021,
          1.02,
          1.012,
          1.025,
          1.028,
          1.024,
          1.024,
          1.01,
          1.008,
          1.021,
          1.017,
          1.024,
          1.021,
          1.01,
          1.014,
          1.024,
          1.014,
          1.029,
          1.02,
          1.02,
          1.008,
          1.015,
          1.024,
          1.017,
          1.017,
          1.011,
          1.021,
          1.011,
          1.021,
          1.018,
          1.015,
          1.017,
          1.02,
          1.033,
          1.018,
          1.028,
          1.021,
          1.017,
          1.014,
          1.019,
          1.011,
          1.02,
          1.021,
          1.025,
          1.017,
          1.024,
          1.024,
          1.007,
          1.017,
          1.005,
          1.031,
          1.008,
          1.015,
          1.021,
          1.021,
          1.026,
          1.026,
          1.017,
          1.014,
          1.007,
          1.021,
          1.017,
          1.025,
          1.017,
          1.026,
          1.015,
          1.02,
          1.013,
          1.017,
          1.009,
          1.008,
          1.01,
          1.018,
          1.013,
          1.008,
          1.025,
          1.023,
          1.01,
          1.008,
          1.025,
          1.026,
          1.015,
          1.017,
          1.022,
          1.025,
          1.017,
          1.021,
          1.021,
          1.017,
          1.02,
          1.026,
          1.008,
          1.025,
          1.015,
          1.025,
          1.015,
          1.02,
          1.018,
          1.023,
          1.007,
          1.021,
          1.017,
          1.011,
          1.033,
          1.017,
          1.023,
          1.008,
          1.011,
          1.007,
          1.024,
          1.02,
          1.01,
          1.025,
          1.01,
          1.011,
          1.017,
          1.012,
          1.022,
          1.023,
          1.012,
          1.012,
          1.02,
          1.008,
          1.011,
          1.031,
          1.012,
          1.021,
          1.012,
          1.021,
          1.015,
          1.01,
          1.01,
          1.01,
          1.04,
          1.018,
          1.01,
          1.019,
          1.02,
          1.026,
          1.008,
          1.018,
          1.021,
          1.023,
          1.017,
          1.011,
          1.025,
          1.017,
          1.017,
          1.02,
          1.02,
          1.021,
          1.022,
          1.01,
          1.018,
          1.023,
          1.008,
          1.019,
          1.009,
          1.021,
          1.021,
          1.025,
          1.01,
          1.015,
          1.017,
          1.028,
          1.008,
          1.02,
          1.017,
          1.021,
          1.025,
          1.025,
          1.025,
          1.034,
          1.021,
          1.024,
          1.011,
          1.014,
          1.012,
          1.031,
          1.014,
          1.017,
          1.021,
          1.015,
          1.02,
          1.015,
          1.034,
          1.017,
          1.02,
          1.025,
          1.021,
          1.011,
          1.014,
          1.011,
          1.006,
          1.033,
          1.008,
          1.021,
          1.017,
          1.008,
          1.025,
          1.013,
          1.005,
          1.031,
          1.015,
          1.007,
          1.013,
          1.021,
          1.024,
          1.034,
          1.021,
          1.022,
          1.013,
          1.017,
          1.022,
          1.017,
          1.025,
          1.017,
          1.015,
          1.023,
          1.017,
          1.017,
          1.011,
          1.025,
          1.028,
          1.017,
          1.024,
          1.021,
          1.008,
          1.021,
          1.033,
          1.017,
          1.02,
          1.026,
          1.008,
          1.034,
          1.008,
          1.024,
          1.02,
          1.021,
          1.01,
          1.011,
          1.013,
          1.019,
          1.021,
          1.011,
          1.015,
          1.022,
          1.021,
          1.04,
          1.02,
          1.028,
          1.02,
          1.009,
          1.017,
          1.024,
          1.021,
          1.017,
          1.007,
          1.024,
          1.019,
          1.019,
          1.025,
          1.017,
          1.015,
          1.021,
          1.025,
          1.01,
          1.013,
          1.014,
          1.01,
          1.01,
          1.025,
          1.021,
          1.023,
          1.017,
          1.008,
          1.023,
          1.019,
          1.026,
          1.021,
          1.008,
          1.025,
          1.018,
          1.021,
          1.01,
          1.026,
          1.02,
          1.02,
          1.006,
          1.024,
          1.018,
          1.025,
          1.008,
          1.024,
          1.011,
          1.017,
          1.015,
          1.017,
          1.007,
          1.021,
          1.009,
          1.02,
          1.011,
          1.015,
          1.027,
          1.013,
          1.021,
          1.011,
          1.017,
          1.014,
          1.01,
          1.008,
          1.008,
          1.017,
          1.02,
          1.024,
          1.02,
          1.008,
          1.02,
          1.034,
          1.011,
          1.011,
          1.017,
          1.02,
          1.019,
          1.024,
          1.024,
          1.018,
          1.017,
          1.022,
          1.011,
          1.011,
          1.017,
          1.011,
          1.025,
          1.017,
          1.011,
          1.04,
          1.005,
          1.014,
          1.014,
          1.024,
          1.011,
          1.024,
          1.018,
          1.008,
          1.011
         ],
         "yaxis": "y"
        },
        {
         "name": "gravity_without_outliers",
         "type": "box",
         "xaxis": "x2",
         "y": [
          1.013,
          1.025,
          1.009,
          1.021,
          1.021,
          1.025,
          1.008,
          1.015,
          1.025,
          1.017,
          1.017,
          1.009,
          1.017,
          1.021,
          1.007,
          1.011,
          1.01,
          1.012,
          1.018,
          1.026,
          1.011,
          1.018,
          1.021,
          1.007,
          1.021,
          1.008,
          1.021,
          1.02,
          1.021,
          1.015,
          1.02,
          1.008,
          1.017,
          1.021,
          1.011,
          1.009,
          1.024,
          1.009,
          1.025,
          1.01,
          1.015,
          1.021,
          1.012,
          1.021,
          1.019,
          1.008,
          1.02,
          1.021,
          1.034,
          1.019,
          1.021,
          1.025,
          1.015,
          1.024,
          1.008,
          1.02,
          1.017,
          1.021,
          1.022,
          1.025,
          1.028,
          1.014,
          1.024,
          1.018,
          1.022,
          1.014,
          1.023,
          1.021,
          1.02,
          1.012,
          1.025,
          1.028,
          1.024,
          1.024,
          1.01,
          1.008,
          1.021,
          1.017,
          1.024,
          1.021,
          1.01,
          1.014,
          1.024,
          1.014,
          1.029,
          1.02,
          1.02,
          1.008,
          1.015,
          1.024,
          1.017,
          1.017,
          1.011,
          1.021,
          1.011,
          1.021,
          1.018,
          1.015,
          1.017,
          1.02,
          1.033,
          1.018,
          1.028,
          1.021,
          1.017,
          1.014,
          1.019,
          1.011,
          1.02,
          1.021,
          1.025,
          1.017,
          1.024,
          1.024,
          1.007,
          1.017,
          1.005,
          1.031,
          1.008,
          1.015,
          1.021,
          1.021,
          1.026,
          1.026,
          1.017,
          1.014,
          1.007,
          1.021,
          1.017,
          1.025,
          1.017,
          1.026,
          1.015,
          1.02,
          1.013,
          1.017,
          1.009,
          1.008,
          1.01,
          1.018,
          1.013,
          1.008,
          1.025,
          1.023,
          1.01,
          1.008,
          1.025,
          1.026,
          1.015,
          1.017,
          1.022,
          1.025,
          1.017,
          1.021,
          1.021,
          1.017,
          1.02,
          1.026,
          1.008,
          1.025,
          1.015,
          1.025,
          1.015,
          1.02,
          1.018,
          1.023,
          1.007,
          1.021,
          1.017,
          1.011,
          1.033,
          1.017,
          1.023,
          1.008,
          1.011,
          1.007,
          1.024,
          1.02,
          1.01,
          1.025,
          1.01,
          1.011,
          1.017,
          1.012,
          1.022,
          1.023,
          1.012,
          1.012,
          1.02,
          1.008,
          1.011,
          1.031,
          1.012,
          1.021,
          1.012,
          1.021,
          1.015,
          1.01,
          1.01,
          1.01,
          null,
          1.018,
          1.01,
          1.019,
          1.02,
          1.026,
          1.008,
          1.018,
          1.021,
          1.023,
          1.017,
          1.011,
          1.025,
          1.017,
          1.017,
          1.02,
          1.02,
          1.021,
          1.022,
          1.01,
          1.018,
          1.023,
          1.008,
          1.019,
          1.009,
          1.021,
          1.021,
          1.025,
          1.01,
          1.015,
          1.017,
          1.028,
          1.008,
          1.02,
          1.017,
          1.021,
          1.025,
          1.025,
          1.025,
          1.034,
          1.021,
          1.024,
          1.011,
          1.014,
          1.012,
          1.031,
          1.014,
          1.017,
          1.021,
          1.015,
          1.02,
          1.015,
          1.034,
          1.017,
          1.02,
          1.025,
          1.021,
          1.011,
          1.014,
          1.011,
          1.006,
          1.033,
          1.008,
          1.021,
          1.017,
          1.008,
          1.025,
          1.013,
          1.005,
          1.031,
          1.015,
          1.007,
          1.013,
          1.021,
          1.024,
          1.034,
          1.021,
          1.022,
          1.013,
          1.017,
          1.022,
          1.017,
          1.025,
          1.017,
          1.015,
          1.023,
          1.017,
          1.017,
          1.011,
          1.025,
          1.028,
          1.017,
          1.024,
          1.021,
          1.008,
          1.021,
          1.033,
          1.017,
          1.02,
          1.026,
          1.008,
          1.034,
          1.008,
          1.024,
          1.02,
          1.021,
          1.01,
          1.011,
          1.013,
          1.019,
          1.021,
          1.011,
          1.015,
          1.022,
          1.021,
          null,
          1.02,
          1.028,
          1.02,
          1.009,
          1.017,
          1.024,
          1.021,
          1.017,
          1.007,
          1.024,
          1.019,
          1.019,
          1.025,
          1.017,
          1.015,
          1.021,
          1.025,
          1.01,
          1.013,
          1.014,
          1.01,
          1.01,
          1.025,
          1.021,
          1.023,
          1.017,
          1.008,
          1.023,
          1.019,
          1.026,
          1.021,
          1.008,
          1.025,
          1.018,
          1.021,
          1.01,
          1.026,
          1.02,
          1.02,
          1.006,
          1.024,
          1.018,
          1.025,
          1.008,
          1.024,
          1.011,
          1.017,
          1.015,
          1.017,
          1.007,
          1.021,
          1.009,
          1.02,
          1.011,
          1.015,
          1.027,
          1.013,
          1.021,
          1.011,
          1.017,
          1.014,
          1.01,
          1.008,
          1.008,
          1.017,
          1.02,
          1.024,
          1.02,
          1.008,
          1.02,
          1.034,
          1.011,
          1.011,
          1.017,
          1.02,
          1.019,
          1.024,
          1.024,
          1.018,
          1.017,
          1.022,
          1.011,
          1.011,
          1.017,
          1.011,
          1.025,
          1.017,
          1.011,
          null,
          1.005,
          1.014,
          1.014,
          1.024,
          1.011,
          1.024,
          1.018,
          1.008,
          1.011
         ],
         "yaxis": "y2"
        },
        {
         "name": "ph",
         "type": "box",
         "xaxis": "x3",
         "y": [
          6.19,
          5.4,
          6.13,
          4.91,
          5.53,
          6.9,
          5.09,
          5.53,
          7.38,
          6.61,
          6.81,
          6.37,
          6.79,
          6.56,
          7.01,
          6.81,
          6.63,
          7.38,
          6.13,
          5.66,
          7.01,
          5.35,
          5.94,
          5.87,
          6.29,
          6.75,
          5.53,
          5.44,
          4.91,
          6.61,
          5.58,
          6.81,
          7.61,
          5.53,
          7.01,
          6.29,
          5.51,
          6.63,
          6.75,
          6.63,
          5.41,
          6.13,
          5.62,
          5.53,
          5.53,
          5.98,
          5.16,
          5.66,
          5.68,
          5.98,
          6.29,
          5.68,
          5.61,
          5.6,
          6.63,
          6.03,
          5.58,
          5.35,
          7.92,
          6.79,
          5.58,
          6.29,
          5.98,
          6.19,
          5.96,
          6.14,
          5.68,
          5.51,
          4.76,
          6.81,
          6.03,
          6.28,
          5.4,
          5.24,
          6.52,
          5.97,
          5.47,
          6.24,
          5.6,
          5.53,
          7.2,
          6.14,
          5.62,
          5.85,
          6.76,
          5.86,
          5.77,
          7.01,
          5.51,
          5.56,
          6.19,
          5.58,
          6.13,
          5.67,
          6.29,
          5.16,
          5.66,
          6.79,
          5.97,
          5.68,
          5.58,
          5.85,
          6.76,
          5.53,
          7.61,
          7.38,
          6.13,
          6.27,
          5.71,
          5.66,
          6.27,
          6.79,
          5.77,
          5.68,
          6.88,
          6.76,
          6.37,
          5.87,
          7.12,
          5.74,
          5.51,
          5.53,
          7.3,
          6.03,
          6.13,
          5.68,
          5.87,
          5.98,
          6.79,
          5.58,
          5.41,
          5.53,
          5.53,
          5.53,
          6.3,
          6.76,
          5.41,
          6.13,
          6.52,
          7.38,
          5.41,
          7.38,
          5.24,
          5.64,
          5.51,
          5.47,
          6.19,
          5.09,
          6.03,
          6.81,
          5.36,
          5.33,
          5.71,
          5.44,
          5.33,
          5.47,
          5.85,
          6.19,
          5.87,
          5.16,
          5.87,
          5.68,
          5.98,
          5.94,
          6.14,
          6.19,
          4.9,
          4.81,
          5.66,
          5.16,
          5.56,
          6.76,
          5.47,
          6.13,
          6.79,
          6.63,
          5.4,
          7.9,
          6.37,
          6.3,
          5.51,
          5.97,
          5.87,
          5.87,
          5.71,
          5.36,
          5.35,
          5.62,
          5.94,
          5.66,
          5.9,
          5.64,
          5.77,
          6.29,
          4.81,
          5.71,
          5.21,
          7.38,
          5.68,
          5.41,
          6.28,
          7.61,
          5.97,
          5.53,
          5.27,
          5.85,
          6.37,
          5.61,
          5.94,
          5.58,
          5.53,
          5.51,
          5.53,
          5.74,
          5.68,
          6.28,
          5.71,
          5.24,
          5.64,
          7.2,
          5.44,
          5.77,
          5.74,
          5.47,
          6.37,
          5.53,
          5.21,
          5.16,
          6.88,
          5.62,
          6.76,
          5.58,
          6.28,
          7.94,
          5.71,
          5.53,
          5.66,
          6.03,
          5.53,
          5.24,
          5.21,
          5.62,
          5.53,
          6.28,
          5.53,
          5.24,
          5.98,
          6.27,
          5.33,
          6.79,
          5.44,
          5.73,
          5.73,
          5.87,
          5.86,
          7.9,
          5.33,
          6.19,
          5.41,
          7.01,
          6.56,
          5.53,
          5.53,
          5.33,
          6.81,
          6.13,
          5.67,
          5.21,
          6.56,
          5.53,
          5.35,
          5.41,
          5.94,
          4.81,
          5.36,
          5.58,
          5.77,
          5.4,
          6.19,
          5.86,
          7.2,
          5.56,
          5.53,
          5.53,
          6.76,
          6.13,
          6.28,
          5.16,
          5.53,
          5.53,
          5.98,
          5.94,
          5.6,
          5.44,
          6.88,
          5.94,
          5.24,
          5.86,
          5.58,
          6.29,
          6.88,
          5.67,
          5.51,
          5.44,
          5.66,
          5.62,
          6.27,
          6.27,
          5.62,
          5.4,
          5.44,
          5.64,
          5.68,
          4.9,
          6.29,
          5.73,
          5.58,
          6.76,
          5.36,
          5.86,
          7.2,
          5.77,
          5.71,
          7.61,
          5.68,
          5.56,
          5.53,
          6.79,
          5.6,
          5.21,
          5.94,
          6.21,
          5.56,
          6.27,
          6.03,
          6.19,
          6.13,
          6.27,
          5.58,
          5.53,
          5.58,
          5.71,
          5.67,
          5.62,
          6.21,
          5.27,
          5.71,
          6.88,
          5.68,
          5.71,
          5.09,
          5.98,
          5.27,
          5.27,
          5.74,
          5.53,
          5.53,
          6.88,
          6.03,
          6.79,
          5.53,
          7.38,
          7.92,
          6.28,
          7.38,
          5.94,
          5.41,
          7.2,
          5.36,
          6.79,
          7.92,
          5.24,
          5.62,
          5.21,
          5.51,
          6.19,
          5.68,
          7.61,
          6.58,
          6.76,
          5.87,
          5.77,
          5.74,
          6.79,
          5.87,
          5.63,
          5.24,
          6.19,
          7.9,
          5.87,
          5.68,
          5.56,
          5.36,
          5.09,
          5.53,
          4.76,
          6.29,
          5.44,
          5.21,
          6.56,
          6.63,
          5.24,
          4.91,
          6.19,
          5.74,
          6.13,
          5.85,
          5.68,
          5.68,
          5.21,
          5.53,
          6.28,
          7.12,
          6.13
         ],
         "yaxis": "y3"
        },
        {
         "name": "ph_without_outliers",
         "type": "box",
         "xaxis": "x4",
         "y": [
          6.19,
          5.4,
          6.13,
          4.91,
          5.53,
          6.9,
          5.09,
          5.53,
          7.38,
          6.61,
          6.81,
          6.37,
          6.79,
          6.56,
          7.01,
          6.81,
          6.63,
          7.38,
          6.13,
          5.66,
          7.01,
          5.35,
          5.94,
          5.87,
          6.29,
          6.75,
          5.53,
          5.44,
          4.91,
          6.61,
          5.58,
          6.81,
          null,
          5.53,
          7.01,
          6.29,
          5.51,
          6.63,
          6.75,
          6.63,
          5.41,
          6.13,
          5.62,
          5.53,
          5.53,
          5.98,
          5.16,
          5.66,
          5.68,
          5.98,
          6.29,
          5.68,
          5.61,
          5.6,
          6.63,
          6.03,
          5.58,
          5.35,
          null,
          6.79,
          5.58,
          6.29,
          5.98,
          6.19,
          5.96,
          6.14,
          5.68,
          5.51,
          4.76,
          6.81,
          6.03,
          6.28,
          5.4,
          5.24,
          6.52,
          5.97,
          5.47,
          6.24,
          5.6,
          5.53,
          7.2,
          6.14,
          5.62,
          5.85,
          6.76,
          5.86,
          5.77,
          7.01,
          5.51,
          5.56,
          6.19,
          5.58,
          6.13,
          5.67,
          6.29,
          5.16,
          5.66,
          6.79,
          5.97,
          5.68,
          5.58,
          5.85,
          6.76,
          5.53,
          null,
          7.38,
          6.13,
          6.27,
          5.71,
          5.66,
          6.27,
          6.79,
          5.77,
          5.68,
          6.88,
          6.76,
          6.37,
          5.87,
          7.12,
          5.74,
          5.51,
          5.53,
          7.3,
          6.03,
          6.13,
          5.68,
          5.87,
          5.98,
          6.79,
          5.58,
          5.41,
          5.53,
          5.53,
          5.53,
          6.3,
          6.76,
          5.41,
          6.13,
          6.52,
          7.38,
          5.41,
          7.38,
          5.24,
          5.64,
          5.51,
          5.47,
          6.19,
          5.09,
          6.03,
          6.81,
          5.36,
          5.33,
          5.71,
          5.44,
          5.33,
          5.47,
          5.85,
          6.19,
          5.87,
          5.16,
          5.87,
          5.68,
          5.98,
          5.94,
          6.14,
          6.19,
          4.9,
          4.81,
          5.66,
          5.16,
          5.56,
          6.76,
          5.47,
          6.13,
          6.79,
          6.63,
          5.4,
          null,
          6.37,
          6.3,
          5.51,
          5.97,
          5.87,
          5.87,
          5.71,
          5.36,
          5.35,
          5.62,
          5.94,
          5.66,
          5.9,
          5.64,
          5.77,
          6.29,
          4.81,
          5.71,
          5.21,
          7.38,
          5.68,
          5.41,
          6.28,
          null,
          5.97,
          5.53,
          5.27,
          5.85,
          6.37,
          5.61,
          5.94,
          5.58,
          5.53,
          5.51,
          5.53,
          5.74,
          5.68,
          6.28,
          5.71,
          5.24,
          5.64,
          7.2,
          5.44,
          5.77,
          5.74,
          5.47,
          6.37,
          5.53,
          5.21,
          5.16,
          6.88,
          5.62,
          6.76,
          5.58,
          6.28,
          null,
          5.71,
          5.53,
          5.66,
          6.03,
          5.53,
          5.24,
          5.21,
          5.62,
          5.53,
          6.28,
          5.53,
          5.24,
          5.98,
          6.27,
          5.33,
          6.79,
          5.44,
          5.73,
          5.73,
          5.87,
          5.86,
          null,
          5.33,
          6.19,
          5.41,
          7.01,
          6.56,
          5.53,
          5.53,
          5.33,
          6.81,
          6.13,
          5.67,
          5.21,
          6.56,
          5.53,
          5.35,
          5.41,
          5.94,
          4.81,
          5.36,
          5.58,
          5.77,
          5.4,
          6.19,
          5.86,
          7.2,
          5.56,
          5.53,
          5.53,
          6.76,
          6.13,
          6.28,
          5.16,
          5.53,
          5.53,
          5.98,
          5.94,
          5.6,
          5.44,
          6.88,
          5.94,
          5.24,
          5.86,
          5.58,
          6.29,
          6.88,
          5.67,
          5.51,
          5.44,
          5.66,
          5.62,
          6.27,
          6.27,
          5.62,
          5.4,
          5.44,
          5.64,
          5.68,
          4.9,
          6.29,
          5.73,
          5.58,
          6.76,
          5.36,
          5.86,
          7.2,
          5.77,
          5.71,
          null,
          5.68,
          5.56,
          5.53,
          6.79,
          5.6,
          5.21,
          5.94,
          6.21,
          5.56,
          6.27,
          6.03,
          6.19,
          6.13,
          6.27,
          5.58,
          5.53,
          5.58,
          5.71,
          5.67,
          5.62,
          6.21,
          5.27,
          5.71,
          6.88,
          5.68,
          5.71,
          5.09,
          5.98,
          5.27,
          5.27,
          5.74,
          5.53,
          5.53,
          6.88,
          6.03,
          6.79,
          5.53,
          7.38,
          null,
          6.28,
          7.38,
          5.94,
          5.41,
          7.2,
          5.36,
          6.79,
          null,
          5.24,
          5.62,
          5.21,
          5.51,
          6.19,
          5.68,
          null,
          6.58,
          6.76,
          5.87,
          5.77,
          5.74,
          6.79,
          5.87,
          5.63,
          5.24,
          6.19,
          null,
          5.87,
          5.68,
          5.56,
          5.36,
          5.09,
          5.53,
          4.76,
          6.29,
          5.44,
          5.21,
          6.56,
          6.63,
          5.24,
          4.91,
          6.19,
          5.74,
          6.13,
          5.85,
          5.68,
          5.68,
          5.21,
          5.53,
          6.28,
          7.12,
          6.13
         ],
         "yaxis": "y4"
        }
       ],
       "layout": {
        "height": 1000,
        "template": {
         "data": {
          "bar": [
           {
            "error_x": {
             "color": "#2a3f5f"
            },
            "error_y": {
             "color": "#2a3f5f"
            },
            "marker": {
             "line": {
              "color": "#E5ECF6",
              "width": 0.5
             },
             "pattern": {
              "fillmode": "overlay",
              "size": 10,
              "solidity": 0.2
             }
            },
            "type": "bar"
           }
          ],
          "barpolar": [
           {
            "marker": {
             "line": {
              "color": "#E5ECF6",
              "width": 0.5
             },
             "pattern": {
              "fillmode": "overlay",
              "size": 10,
              "solidity": 0.2
             }
            },
            "type": "barpolar"
           }
          ],
          "carpet": [
           {
            "aaxis": {
             "endlinecolor": "#2a3f5f",
             "gridcolor": "white",
             "linecolor": "white",
             "minorgridcolor": "white",
             "startlinecolor": "#2a3f5f"
            },
            "baxis": {
             "endlinecolor": "#2a3f5f",
             "gridcolor": "white",
             "linecolor": "white",
             "minorgridcolor": "white",
             "startlinecolor": "#2a3f5f"
            },
            "type": "carpet"
           }
          ],
          "choropleth": [
           {
            "colorbar": {
             "outlinewidth": 0,
             "ticks": ""
            },
            "type": "choropleth"
           }
          ],
          "contour": [
           {
            "colorbar": {
             "outlinewidth": 0,
             "ticks": ""
            },
            "colorscale": [
             [
              0,
              "#0d0887"
             ],
             [
              0.1111111111111111,
              "#46039f"
             ],
             [
              0.2222222222222222,
              "#7201a8"
             ],
             [
              0.3333333333333333,
              "#9c179e"
             ],
             [
              0.4444444444444444,
              "#bd3786"
             ],
             [
              0.5555555555555556,
              "#d8576b"
             ],
             [
              0.6666666666666666,
              "#ed7953"
             ],
             [
              0.7777777777777778,
              "#fb9f3a"
             ],
             [
              0.8888888888888888,
              "#fdca26"
             ],
             [
              1,
              "#f0f921"
             ]
            ],
            "type": "contour"
           }
          ],
          "contourcarpet": [
           {
            "colorbar": {
             "outlinewidth": 0,
             "ticks": ""
            },
            "type": "contourcarpet"
           }
          ],
          "heatmap": [
           {
            "colorbar": {
             "outlinewidth": 0,
             "ticks": ""
            },
            "colorscale": [
             [
              0,
              "#0d0887"
             ],
             [
              0.1111111111111111,
              "#46039f"
             ],
             [
              0.2222222222222222,
              "#7201a8"
             ],
             [
              0.3333333333333333,
              "#9c179e"
             ],
             [
              0.4444444444444444,
              "#bd3786"
             ],
             [
              0.5555555555555556,
              "#d8576b"
             ],
             [
              0.6666666666666666,
              "#ed7953"
             ],
             [
              0.7777777777777778,
              "#fb9f3a"
             ],
             [
              0.8888888888888888,
              "#fdca26"
             ],
             [
              1,
              "#f0f921"
             ]
            ],
            "type": "heatmap"
           }
          ],
          "heatmapgl": [
           {
            "colorbar": {
             "outlinewidth": 0,
             "ticks": ""
            },
            "colorscale": [
             [
              0,
              "#0d0887"
             ],
             [
              0.1111111111111111,
              "#46039f"
             ],
             [
              0.2222222222222222,
              "#7201a8"
             ],
             [
              0.3333333333333333,
              "#9c179e"
             ],
             [
              0.4444444444444444,
              "#bd3786"
             ],
             [
              0.5555555555555556,
              "#d8576b"
             ],
             [
              0.6666666666666666,
              "#ed7953"
             ],
             [
              0.7777777777777778,
              "#fb9f3a"
             ],
             [
              0.8888888888888888,
              "#fdca26"
             ],
             [
              1,
              "#f0f921"
             ]
            ],
            "type": "heatmapgl"
           }
          ],
          "histogram": [
           {
            "marker": {
             "pattern": {
              "fillmode": "overlay",
              "size": 10,
              "solidity": 0.2
             }
            },
            "type": "histogram"
           }
          ],
          "histogram2d": [
           {
            "colorbar": {
             "outlinewidth": 0,
             "ticks": ""
            },
            "colorscale": [
             [
              0,
              "#0d0887"
             ],
             [
              0.1111111111111111,
              "#46039f"
             ],
             [
              0.2222222222222222,
              "#7201a8"
             ],
             [
              0.3333333333333333,
              "#9c179e"
             ],
             [
              0.4444444444444444,
              "#bd3786"
             ],
             [
              0.5555555555555556,
              "#d8576b"
             ],
             [
              0.6666666666666666,
              "#ed7953"
             ],
             [
              0.7777777777777778,
              "#fb9f3a"
             ],
             [
              0.8888888888888888,
              "#fdca26"
             ],
             [
              1,
              "#f0f921"
             ]
            ],
            "type": "histogram2d"
           }
          ],
          "histogram2dcontour": [
           {
            "colorbar": {
             "outlinewidth": 0,
             "ticks": ""
            },
            "colorscale": [
             [
              0,
              "#0d0887"
             ],
             [
              0.1111111111111111,
              "#46039f"
             ],
             [
              0.2222222222222222,
              "#7201a8"
             ],
             [
              0.3333333333333333,
              "#9c179e"
             ],
             [
              0.4444444444444444,
              "#bd3786"
             ],
             [
              0.5555555555555556,
              "#d8576b"
             ],
             [
              0.6666666666666666,
              "#ed7953"
             ],
             [
              0.7777777777777778,
              "#fb9f3a"
             ],
             [
              0.8888888888888888,
              "#fdca26"
             ],
             [
              1,
              "#f0f921"
             ]
            ],
            "type": "histogram2dcontour"
           }
          ],
          "mesh3d": [
           {
            "colorbar": {
             "outlinewidth": 0,
             "ticks": ""
            },
            "type": "mesh3d"
           }
          ],
          "parcoords": [
           {
            "line": {
             "colorbar": {
              "outlinewidth": 0,
              "ticks": ""
             }
            },
            "type": "parcoords"
           }
          ],
          "pie": [
           {
            "automargin": true,
            "type": "pie"
           }
          ],
          "scatter": [
           {
            "fillpattern": {
             "fillmode": "overlay",
             "size": 10,
             "solidity": 0.2
            },
            "type": "scatter"
           }
          ],
          "scatter3d": [
           {
            "line": {
             "colorbar": {
              "outlinewidth": 0,
              "ticks": ""
             }
            },
            "marker": {
             "colorbar": {
              "outlinewidth": 0,
              "ticks": ""
             }
            },
            "type": "scatter3d"
           }
          ],
          "scattercarpet": [
           {
            "marker": {
             "colorbar": {
              "outlinewidth": 0,
              "ticks": ""
             }
            },
            "type": "scattercarpet"
           }
          ],
          "scattergeo": [
           {
            "marker": {
             "colorbar": {
              "outlinewidth": 0,
              "ticks": ""
             }
            },
            "type": "scattergeo"
           }
          ],
          "scattergl": [
           {
            "marker": {
             "colorbar": {
              "outlinewidth": 0,
              "ticks": ""
             }
            },
            "type": "scattergl"
           }
          ],
          "scattermapbox": [
           {
            "marker": {
             "colorbar": {
              "outlinewidth": 0,
              "ticks": ""
             }
            },
            "type": "scattermapbox"
           }
          ],
          "scatterpolar": [
           {
            "marker": {
             "colorbar": {
              "outlinewidth": 0,
              "ticks": ""
             }
            },
            "type": "scatterpolar"
           }
          ],
          "scatterpolargl": [
           {
            "marker": {
             "colorbar": {
              "outlinewidth": 0,
              "ticks": ""
             }
            },
            "type": "scatterpolargl"
           }
          ],
          "scatterternary": [
           {
            "marker": {
             "colorbar": {
              "outlinewidth": 0,
              "ticks": ""
             }
            },
            "type": "scatterternary"
           }
          ],
          "surface": [
           {
            "colorbar": {
             "outlinewidth": 0,
             "ticks": ""
            },
            "colorscale": [
             [
              0,
              "#0d0887"
             ],
             [
              0.1111111111111111,
              "#46039f"
             ],
             [
              0.2222222222222222,
              "#7201a8"
             ],
             [
              0.3333333333333333,
              "#9c179e"
             ],
             [
              0.4444444444444444,
              "#bd3786"
             ],
             [
              0.5555555555555556,
              "#d8576b"
             ],
             [
              0.6666666666666666,
              "#ed7953"
             ],
             [
              0.7777777777777778,
              "#fb9f3a"
             ],
             [
              0.8888888888888888,
              "#fdca26"
             ],
             [
              1,
              "#f0f921"
             ]
            ],
            "type": "surface"
           }
          ],
          "table": [
           {
            "cells": {
             "fill": {
              "color": "#EBF0F8"
             },
             "line": {
              "color": "white"
             }
            },
            "header": {
             "fill": {
              "color": "#C8D4E3"
             },
             "line": {
              "color": "white"
             }
            },
            "type": "table"
           }
          ]
         },
         "layout": {
          "annotationdefaults": {
           "arrowcolor": "#2a3f5f",
           "arrowhead": 0,
           "arrowwidth": 1
          },
          "autotypenumbers": "strict",
          "coloraxis": {
           "colorbar": {
            "outlinewidth": 0,
            "ticks": ""
           }
          },
          "colorscale": {
           "diverging": [
            [
             0,
             "#8e0152"
            ],
            [
             0.1,
             "#c51b7d"
            ],
            [
             0.2,
             "#de77ae"
            ],
            [
             0.3,
             "#f1b6da"
            ],
            [
             0.4,
             "#fde0ef"
            ],
            [
             0.5,
             "#f7f7f7"
            ],
            [
             0.6,
             "#e6f5d0"
            ],
            [
             0.7,
             "#b8e186"
            ],
            [
             0.8,
             "#7fbc41"
            ],
            [
             0.9,
             "#4d9221"
            ],
            [
             1,
             "#276419"
            ]
           ],
           "sequential": [
            [
             0,
             "#0d0887"
            ],
            [
             0.1111111111111111,
             "#46039f"
            ],
            [
             0.2222222222222222,
             "#7201a8"
            ],
            [
             0.3333333333333333,
             "#9c179e"
            ],
            [
             0.4444444444444444,
             "#bd3786"
            ],
            [
             0.5555555555555556,
             "#d8576b"
            ],
            [
             0.6666666666666666,
             "#ed7953"
            ],
            [
             0.7777777777777778,
             "#fb9f3a"
            ],
            [
             0.8888888888888888,
             "#fdca26"
            ],
            [
             1,
             "#f0f921"
            ]
           ],
           "sequentialminus": [
            [
             0,
             "#0d0887"
            ],
            [
             0.1111111111111111,
             "#46039f"
            ],
            [
             0.2222222222222222,
             "#7201a8"
            ],
            [
             0.3333333333333333,
             "#9c179e"
            ],
            [
             0.4444444444444444,
             "#bd3786"
            ],
            [
             0.5555555555555556,
             "#d8576b"
            ],
            [
             0.6666666666666666,
             "#ed7953"
            ],
            [
             0.7777777777777778,
             "#fb9f3a"
            ],
            [
             0.8888888888888888,
             "#fdca26"
            ],
            [
             1,
             "#f0f921"
            ]
           ]
          },
          "colorway": [
           "#636efa",
           "#EF553B",
           "#00cc96",
           "#ab63fa",
           "#FFA15A",
           "#19d3f3",
           "#FF6692",
           "#B6E880",
           "#FF97FF",
           "#FECB52"
          ],
          "font": {
           "color": "#2a3f5f"
          },
          "geo": {
           "bgcolor": "white",
           "lakecolor": "white",
           "landcolor": "#E5ECF6",
           "showlakes": true,
           "showland": true,
           "subunitcolor": "white"
          },
          "hoverlabel": {
           "align": "left"
          },
          "hovermode": "closest",
          "mapbox": {
           "style": "light"
          },
          "paper_bgcolor": "white",
          "plot_bgcolor": "#E5ECF6",
          "polar": {
           "angularaxis": {
            "gridcolor": "white",
            "linecolor": "white",
            "ticks": ""
           },
           "bgcolor": "#E5ECF6",
           "radialaxis": {
            "gridcolor": "white",
            "linecolor": "white",
            "ticks": ""
           }
          },
          "scene": {
           "xaxis": {
            "backgroundcolor": "#E5ECF6",
            "gridcolor": "white",
            "gridwidth": 2,
            "linecolor": "white",
            "showbackground": true,
            "ticks": "",
            "zerolinecolor": "white"
           },
           "yaxis": {
            "backgroundcolor": "#E5ECF6",
            "gridcolor": "white",
            "gridwidth": 2,
            "linecolor": "white",
            "showbackground": true,
            "ticks": "",
            "zerolinecolor": "white"
           },
           "zaxis": {
            "backgroundcolor": "#E5ECF6",
            "gridcolor": "white",
            "gridwidth": 2,
            "linecolor": "white",
            "showbackground": true,
            "ticks": "",
            "zerolinecolor": "white"
           }
          },
          "shapedefaults": {
           "line": {
            "color": "#2a3f5f"
           }
          },
          "ternary": {
           "aaxis": {
            "gridcolor": "white",
            "linecolor": "white",
            "ticks": ""
           },
           "baxis": {
            "gridcolor": "white",
            "linecolor": "white",
            "ticks": ""
           },
           "bgcolor": "#E5ECF6",
           "caxis": {
            "gridcolor": "white",
            "linecolor": "white",
            "ticks": ""
           }
          },
          "title": {
           "x": 0.05
          },
          "xaxis": {
           "automargin": true,
           "gridcolor": "white",
           "linecolor": "white",
           "ticks": "",
           "title": {
            "standoff": 15
           },
           "zerolinecolor": "white",
           "zerolinewidth": 2
          },
          "yaxis": {
           "automargin": true,
           "gridcolor": "white",
           "linecolor": "white",
           "ticks": "",
           "title": {
            "standoff": 15
           },
           "zerolinecolor": "white",
           "zerolinewidth": 2
          }
         }
        },
        "title": {
         "text": "Ящики с усами",
         "x": 0.5
        },
        "width": 1200,
        "xaxis": {
         "anchor": "y",
         "domain": [
          0,
          0.45
         ]
        },
        "xaxis2": {
         "anchor": "y2",
         "domain": [
          0.55,
          1
         ]
        },
        "xaxis3": {
         "anchor": "y3",
         "domain": [
          0,
          0.45
         ]
        },
        "xaxis4": {
         "anchor": "y4",
         "domain": [
          0.55,
          1
         ]
        },
        "yaxis": {
         "anchor": "x",
         "domain": [
          0.575,
          1
         ]
        },
        "yaxis2": {
         "anchor": "x2",
         "domain": [
          0.575,
          1
         ]
        },
        "yaxis3": {
         "anchor": "x3",
         "domain": [
          0,
          0.425
         ]
        },
        "yaxis4": {
         "anchor": "x4",
         "domain": [
          0,
          0.425
         ]
        }
       }
      }
     },
     "metadata": {},
     "output_type": "display_data"
    }
   ],
   "source": [
    "remove_outliers(dataset_df, [\"gravity\", \"ph\"])\n",
    "show_boxes(dataset_df, [\"gravity\", \"gravity_without_outliers\", \"ph\", \"ph_without_outliers\"], ncols=2)"
   ]
  },
  {
   "cell_type": "code",
   "execution_count": 12,
   "metadata": {},
   "outputs": [
    {
     "data": {
      "text/html": [
       "<div>\n",
       "<style scoped>\n",
       "    .dataframe tbody tr th:only-of-type {\n",
       "        vertical-align: middle;\n",
       "    }\n",
       "\n",
       "    .dataframe tbody tr th {\n",
       "        vertical-align: top;\n",
       "    }\n",
       "\n",
       "    .dataframe thead th {\n",
       "        text-align: right;\n",
       "    }\n",
       "</style>\n",
       "<table border=\"1\" class=\"dataframe\">\n",
       "  <thead>\n",
       "    <tr style=\"text-align: right;\">\n",
       "      <th></th>\n",
       "      <th>gravity</th>\n",
       "      <th>ph</th>\n",
       "      <th>gravity_without_outliers</th>\n",
       "      <th>ph_without_outliers</th>\n",
       "    </tr>\n",
       "  </thead>\n",
       "  <tbody>\n",
       "    <tr>\n",
       "      <th>count</th>\n",
       "      <td>414.000000</td>\n",
       "      <td>414.000000</td>\n",
       "      <td>411.000000</td>\n",
       "      <td>402.000000</td>\n",
       "    </tr>\n",
       "    <tr>\n",
       "      <th>mean</th>\n",
       "      <td>1.017894</td>\n",
       "      <td>5.955459</td>\n",
       "      <td>1.017732</td>\n",
       "      <td>5.900771</td>\n",
       "    </tr>\n",
       "    <tr>\n",
       "      <th>std</th>\n",
       "      <td>0.006675</td>\n",
       "      <td>0.642260</td>\n",
       "      <td>0.006425</td>\n",
       "      <td>0.566327</td>\n",
       "    </tr>\n",
       "    <tr>\n",
       "      <th>min</th>\n",
       "      <td>1.005000</td>\n",
       "      <td>4.760000</td>\n",
       "      <td>1.005000</td>\n",
       "      <td>4.760000</td>\n",
       "    </tr>\n",
       "    <tr>\n",
       "      <th>10%</th>\n",
       "      <td>1.008000</td>\n",
       "      <td>5.330000</td>\n",
       "      <td>1.008000</td>\n",
       "      <td>5.276000</td>\n",
       "    </tr>\n",
       "    <tr>\n",
       "      <th>25%</th>\n",
       "      <td>1.012000</td>\n",
       "      <td>5.530000</td>\n",
       "      <td>1.012000</td>\n",
       "      <td>5.530000</td>\n",
       "    </tr>\n",
       "    <tr>\n",
       "      <th>50%</th>\n",
       "      <td>1.018000</td>\n",
       "      <td>5.740000</td>\n",
       "      <td>1.018000</td>\n",
       "      <td>5.710000</td>\n",
       "    </tr>\n",
       "    <tr>\n",
       "      <th>75%</th>\n",
       "      <td>1.022000</td>\n",
       "      <td>6.280000</td>\n",
       "      <td>1.022000</td>\n",
       "      <td>6.270000</td>\n",
       "    </tr>\n",
       "    <tr>\n",
       "      <th>90%</th>\n",
       "      <td>1.025000</td>\n",
       "      <td>6.810000</td>\n",
       "      <td>1.025000</td>\n",
       "      <td>6.790000</td>\n",
       "    </tr>\n",
       "    <tr>\n",
       "      <th>max</th>\n",
       "      <td>1.040000</td>\n",
       "      <td>7.940000</td>\n",
       "      <td>1.034000</td>\n",
       "      <td>7.380000</td>\n",
       "    </tr>\n",
       "    <tr>\n",
       "      <th>%nan</th>\n",
       "      <td>0.000000</td>\n",
       "      <td>0.000000</td>\n",
       "      <td>0.724638</td>\n",
       "      <td>2.898551</td>\n",
       "    </tr>\n",
       "    <tr>\n",
       "      <th>var</th>\n",
       "      <td>0.000045</td>\n",
       "      <td>0.412498</td>\n",
       "      <td>0.000041</td>\n",
       "      <td>0.320727</td>\n",
       "    </tr>\n",
       "  </tbody>\n",
       "</table>\n",
       "</div>"
      ],
      "text/plain": [
       "          gravity          ph  gravity_without_outliers  ph_without_outliers\n",
       "count  414.000000  414.000000                411.000000           402.000000\n",
       "mean     1.017894    5.955459                  1.017732             5.900771\n",
       "std      0.006675    0.642260                  0.006425             0.566327\n",
       "min      1.005000    4.760000                  1.005000             4.760000\n",
       "10%      1.008000    5.330000                  1.008000             5.276000\n",
       "25%      1.012000    5.530000                  1.012000             5.530000\n",
       "50%      1.018000    5.740000                  1.018000             5.710000\n",
       "75%      1.022000    6.280000                  1.022000             6.270000\n",
       "90%      1.025000    6.810000                  1.025000             6.790000\n",
       "max      1.040000    7.940000                  1.034000             7.380000\n",
       "%nan     0.000000    0.000000                  0.724638             2.898551\n",
       "var      0.000045    0.412498                  0.000041             0.320727"
      ]
     },
     "execution_count": 12,
     "metadata": {},
     "output_type": "execute_result"
    }
   ],
   "source": [
    "train_df_describe = eda_df(dataset_df[[\"gravity\", \"ph\", \"gravity_without_outliers\", \"ph_without_outliers\"]])\n",
    "train_df_describe"
   ]
  },
  {
   "cell_type": "code",
   "execution_count": 13,
   "metadata": {},
   "outputs": [],
   "source": [
    "# заменим образовавшиеся пропуски \n",
    "dataset_df = dataset_df.fillna({\"gravity_without_outliers\": dataset_df[\"gravity_without_outliers\"].median(), \n",
    "                            \"ph_without_outliers\": dataset_df[\"ph_without_outliers\"].median()})"
   ]
  },
  {
   "cell_type": "code",
   "execution_count": 14,
   "metadata": {},
   "outputs": [
    {
     "data": {
      "text/html": [
       "<div>\n",
       "<style scoped>\n",
       "    .dataframe tbody tr th:only-of-type {\n",
       "        vertical-align: middle;\n",
       "    }\n",
       "\n",
       "    .dataframe tbody tr th {\n",
       "        vertical-align: top;\n",
       "    }\n",
       "\n",
       "    .dataframe thead th {\n",
       "        text-align: right;\n",
       "    }\n",
       "</style>\n",
       "<table border=\"1\" class=\"dataframe\">\n",
       "  <thead>\n",
       "    <tr style=\"text-align: right;\">\n",
       "      <th></th>\n",
       "      <th>gravity</th>\n",
       "      <th>ph</th>\n",
       "      <th>gravity_without_outliers</th>\n",
       "      <th>ph_without_outliers</th>\n",
       "    </tr>\n",
       "  </thead>\n",
       "  <tbody>\n",
       "    <tr>\n",
       "      <th>count</th>\n",
       "      <td>414.000000</td>\n",
       "      <td>414.000000</td>\n",
       "      <td>414.000000</td>\n",
       "      <td>414.000000</td>\n",
       "    </tr>\n",
       "    <tr>\n",
       "      <th>mean</th>\n",
       "      <td>1.017894</td>\n",
       "      <td>5.955459</td>\n",
       "      <td>1.017734</td>\n",
       "      <td>5.895242</td>\n",
       "    </tr>\n",
       "    <tr>\n",
       "      <th>std</th>\n",
       "      <td>0.006675</td>\n",
       "      <td>0.642260</td>\n",
       "      <td>0.006402</td>\n",
       "      <td>0.558959</td>\n",
       "    </tr>\n",
       "    <tr>\n",
       "      <th>min</th>\n",
       "      <td>1.005000</td>\n",
       "      <td>4.760000</td>\n",
       "      <td>1.005000</td>\n",
       "      <td>4.760000</td>\n",
       "    </tr>\n",
       "    <tr>\n",
       "      <th>10%</th>\n",
       "      <td>1.008000</td>\n",
       "      <td>5.330000</td>\n",
       "      <td>1.008000</td>\n",
       "      <td>5.330000</td>\n",
       "    </tr>\n",
       "    <tr>\n",
       "      <th>25%</th>\n",
       "      <td>1.012000</td>\n",
       "      <td>5.530000</td>\n",
       "      <td>1.012000</td>\n",
       "      <td>5.530000</td>\n",
       "    </tr>\n",
       "    <tr>\n",
       "      <th>50%</th>\n",
       "      <td>1.018000</td>\n",
       "      <td>5.740000</td>\n",
       "      <td>1.018000</td>\n",
       "      <td>5.710000</td>\n",
       "    </tr>\n",
       "    <tr>\n",
       "      <th>75%</th>\n",
       "      <td>1.022000</td>\n",
       "      <td>6.280000</td>\n",
       "      <td>1.022000</td>\n",
       "      <td>6.210000</td>\n",
       "    </tr>\n",
       "    <tr>\n",
       "      <th>90%</th>\n",
       "      <td>1.025000</td>\n",
       "      <td>6.810000</td>\n",
       "      <td>1.025000</td>\n",
       "      <td>6.790000</td>\n",
       "    </tr>\n",
       "    <tr>\n",
       "      <th>max</th>\n",
       "      <td>1.040000</td>\n",
       "      <td>7.940000</td>\n",
       "      <td>1.034000</td>\n",
       "      <td>7.380000</td>\n",
       "    </tr>\n",
       "    <tr>\n",
       "      <th>%nan</th>\n",
       "      <td>0.000000</td>\n",
       "      <td>0.000000</td>\n",
       "      <td>0.000000</td>\n",
       "      <td>0.000000</td>\n",
       "    </tr>\n",
       "    <tr>\n",
       "      <th>var</th>\n",
       "      <td>0.000045</td>\n",
       "      <td>0.412498</td>\n",
       "      <td>0.000041</td>\n",
       "      <td>0.312435</td>\n",
       "    </tr>\n",
       "  </tbody>\n",
       "</table>\n",
       "</div>"
      ],
      "text/plain": [
       "          gravity          ph  gravity_without_outliers  ph_without_outliers\n",
       "count  414.000000  414.000000                414.000000           414.000000\n",
       "mean     1.017894    5.955459                  1.017734             5.895242\n",
       "std      0.006675    0.642260                  0.006402             0.558959\n",
       "min      1.005000    4.760000                  1.005000             4.760000\n",
       "10%      1.008000    5.330000                  1.008000             5.330000\n",
       "25%      1.012000    5.530000                  1.012000             5.530000\n",
       "50%      1.018000    5.740000                  1.018000             5.710000\n",
       "75%      1.022000    6.280000                  1.022000             6.210000\n",
       "90%      1.025000    6.810000                  1.025000             6.790000\n",
       "max      1.040000    7.940000                  1.034000             7.380000\n",
       "%nan     0.000000    0.000000                  0.000000             0.000000\n",
       "var      0.000045    0.412498                  0.000041             0.312435"
      ]
     },
     "execution_count": 14,
     "metadata": {},
     "output_type": "execute_result"
    }
   ],
   "source": [
    "dataset_df_describe2 = eda_df(dataset_df[[\"gravity\", \"ph\", \"gravity_without_outliers\", \"ph_without_outliers\"]])\n",
    "dataset_df_describe2"
   ]
  },
  {
   "cell_type": "code",
   "execution_count": 15,
   "metadata": {},
   "outputs": [
    {
     "data": {
      "image/png": "[encoded data removed]",
      "text/plain": [
       "<Figure size 900x300 with 2 Axes>"
      ]
     },
     "metadata": {},
     "output_type": "display_data"
    }
   ],
   "source": [
    "_ = msno.matrix(dataset_df, figsize=(9,3))"
   ]
  },
  {
   "cell_type": "markdown",
   "metadata": {},
   "source": [
    "## Выполнить нормализацию датасета"
   ]
  },
  {
   "cell_type": "code",
   "execution_count": 16,
   "metadata": {},
   "outputs": [
    {
     "data": {
      "text/html": [
       "<div>\n",
       "<style scoped>\n",
       "    .dataframe tbody tr th:only-of-type {\n",
       "        vertical-align: middle;\n",
       "    }\n",
       "\n",
       "    .dataframe tbody tr th {\n",
       "        vertical-align: top;\n",
       "    }\n",
       "\n",
       "    .dataframe thead th {\n",
       "        text-align: right;\n",
       "    }\n",
       "</style>\n",
       "<table border=\"1\" class=\"dataframe\">\n",
       "  <thead>\n",
       "    <tr style=\"text-align: right;\">\n",
       "      <th></th>\n",
       "      <th>gravity</th>\n",
       "      <th>ph</th>\n",
       "      <th>osmo</th>\n",
       "      <th>cond</th>\n",
       "      <th>urea</th>\n",
       "      <th>calc</th>\n",
       "      <th>target</th>\n",
       "      <th>gravity_without_outliers</th>\n",
       "      <th>ph_without_outliers</th>\n",
       "    </tr>\n",
       "    <tr>\n",
       "      <th>id</th>\n",
       "      <th></th>\n",
       "      <th></th>\n",
       "      <th></th>\n",
       "      <th></th>\n",
       "      <th></th>\n",
       "      <th></th>\n",
       "      <th></th>\n",
       "      <th></th>\n",
       "      <th></th>\n",
       "    </tr>\n",
       "  </thead>\n",
       "  <tbody>\n",
       "    <tr>\n",
       "      <th>0</th>\n",
       "      <td>1.013</td>\n",
       "      <td>6.19</td>\n",
       "      <td>443</td>\n",
       "      <td>14.8</td>\n",
       "      <td>124</td>\n",
       "      <td>1.45</td>\n",
       "      <td>0</td>\n",
       "      <td>1.013</td>\n",
       "      <td>6.19</td>\n",
       "    </tr>\n",
       "    <tr>\n",
       "      <th>1</th>\n",
       "      <td>1.025</td>\n",
       "      <td>5.40</td>\n",
       "      <td>703</td>\n",
       "      <td>23.6</td>\n",
       "      <td>394</td>\n",
       "      <td>4.18</td>\n",
       "      <td>0</td>\n",
       "      <td>1.025</td>\n",
       "      <td>5.40</td>\n",
       "    </tr>\n",
       "    <tr>\n",
       "      <th>2</th>\n",
       "      <td>1.009</td>\n",
       "      <td>6.13</td>\n",
       "      <td>371</td>\n",
       "      <td>24.5</td>\n",
       "      <td>159</td>\n",
       "      <td>9.04</td>\n",
       "      <td>0</td>\n",
       "      <td>1.009</td>\n",
       "      <td>6.13</td>\n",
       "    </tr>\n",
       "    <tr>\n",
       "      <th>3</th>\n",
       "      <td>1.021</td>\n",
       "      <td>4.91</td>\n",
       "      <td>442</td>\n",
       "      <td>20.8</td>\n",
       "      <td>398</td>\n",
       "      <td>6.63</td>\n",
       "      <td>1</td>\n",
       "      <td>1.021</td>\n",
       "      <td>4.91</td>\n",
       "    </tr>\n",
       "    <tr>\n",
       "      <th>4</th>\n",
       "      <td>1.021</td>\n",
       "      <td>5.53</td>\n",
       "      <td>874</td>\n",
       "      <td>17.8</td>\n",
       "      <td>385</td>\n",
       "      <td>2.21</td>\n",
       "      <td>1</td>\n",
       "      <td>1.021</td>\n",
       "      <td>5.53</td>\n",
       "    </tr>\n",
       "    <tr>\n",
       "      <th>5</th>\n",
       "      <td>1.025</td>\n",
       "      <td>6.90</td>\n",
       "      <td>947</td>\n",
       "      <td>28.4</td>\n",
       "      <td>395</td>\n",
       "      <td>2.64</td>\n",
       "      <td>1</td>\n",
       "      <td>1.025</td>\n",
       "      <td>6.90</td>\n",
       "    </tr>\n",
       "    <tr>\n",
       "      <th>6</th>\n",
       "      <td>1.008</td>\n",
       "      <td>5.09</td>\n",
       "      <td>371</td>\n",
       "      <td>15.5</td>\n",
       "      <td>159</td>\n",
       "      <td>2.17</td>\n",
       "      <td>1</td>\n",
       "      <td>1.008</td>\n",
       "      <td>5.09</td>\n",
       "    </tr>\n",
       "    <tr>\n",
       "      <th>7</th>\n",
       "      <td>1.015</td>\n",
       "      <td>5.53</td>\n",
       "      <td>450</td>\n",
       "      <td>8.1</td>\n",
       "      <td>170</td>\n",
       "      <td>1.16</td>\n",
       "      <td>0</td>\n",
       "      <td>1.015</td>\n",
       "      <td>5.53</td>\n",
       "    </tr>\n",
       "    <tr>\n",
       "      <th>8</th>\n",
       "      <td>1.025</td>\n",
       "      <td>7.38</td>\n",
       "      <td>736</td>\n",
       "      <td>25.3</td>\n",
       "      <td>418</td>\n",
       "      <td>1.52</td>\n",
       "      <td>0</td>\n",
       "      <td>1.025</td>\n",
       "      <td>7.38</td>\n",
       "    </tr>\n",
       "    <tr>\n",
       "      <th>9</th>\n",
       "      <td>1.017</td>\n",
       "      <td>6.61</td>\n",
       "      <td>527</td>\n",
       "      <td>20.0</td>\n",
       "      <td>75</td>\n",
       "      <td>4.49</td>\n",
       "      <td>1</td>\n",
       "      <td>1.017</td>\n",
       "      <td>6.61</td>\n",
       "    </tr>\n",
       "  </tbody>\n",
       "</table>\n",
       "</div>"
      ],
      "text/plain": [
       "    gravity    ph  osmo  cond  urea  calc  target  gravity_without_outliers  \\\n",
       "id                                                                            \n",
       "0     1.013  6.19   443  14.8   124  1.45       0                     1.013   \n",
       "1     1.025  5.40   703  23.6   394  4.18       0                     1.025   \n",
       "2     1.009  6.13   371  24.5   159  9.04       0                     1.009   \n",
       "3     1.021  4.91   442  20.8   398  6.63       1                     1.021   \n",
       "4     1.021  5.53   874  17.8   385  2.21       1                     1.021   \n",
       "5     1.025  6.90   947  28.4   395  2.64       1                     1.025   \n",
       "6     1.008  5.09   371  15.5   159  2.17       1                     1.008   \n",
       "7     1.015  5.53   450   8.1   170  1.16       0                     1.015   \n",
       "8     1.025  7.38   736  25.3   418  1.52       0                     1.025   \n",
       "9     1.017  6.61   527  20.0    75  4.49       1                     1.017   \n",
       "\n",
       "    ph_without_outliers  \n",
       "id                       \n",
       "0                  6.19  \n",
       "1                  5.40  \n",
       "2                  6.13  \n",
       "3                  4.91  \n",
       "4                  5.53  \n",
       "5                  6.90  \n",
       "6                  5.09  \n",
       "7                  5.53  \n",
       "8                  7.38  \n",
       "9                  6.61  "
      ]
     },
     "execution_count": 16,
     "metadata": {},
     "output_type": "execute_result"
    }
   ],
   "source": [
    "dataset_df.head(10)"
   ]
  },
  {
   "cell_type": "code",
   "execution_count": 17,
   "metadata": {},
   "outputs": [
    {
     "data": {
      "text/html": [
       "<div>\n",
       "<style scoped>\n",
       "    .dataframe tbody tr th:only-of-type {\n",
       "        vertical-align: middle;\n",
       "    }\n",
       "\n",
       "    .dataframe tbody tr th {\n",
       "        vertical-align: top;\n",
       "    }\n",
       "\n",
       "    .dataframe thead th {\n",
       "        text-align: right;\n",
       "    }\n",
       "</style>\n",
       "<table border=\"1\" class=\"dataframe\">\n",
       "  <thead>\n",
       "    <tr style=\"text-align: right;\">\n",
       "      <th></th>\n",
       "      <th>gravity</th>\n",
       "      <th>ph</th>\n",
       "      <th>osmo</th>\n",
       "      <th>cond</th>\n",
       "      <th>urea</th>\n",
       "      <th>calc</th>\n",
       "      <th>target</th>\n",
       "      <th>gravity_without_outliers</th>\n",
       "      <th>ph_without_outliers</th>\n",
       "    </tr>\n",
       "    <tr>\n",
       "      <th>id</th>\n",
       "      <th></th>\n",
       "      <th></th>\n",
       "      <th></th>\n",
       "      <th></th>\n",
       "      <th></th>\n",
       "      <th></th>\n",
       "      <th></th>\n",
       "      <th></th>\n",
       "      <th></th>\n",
       "    </tr>\n",
       "  </thead>\n",
       "  <tbody>\n",
       "    <tr>\n",
       "      <th>0</th>\n",
       "      <td>0.228571</td>\n",
       "      <td>0.449686</td>\n",
       "      <td>0.244042</td>\n",
       "      <td>0.294833</td>\n",
       "      <td>0.186885</td>\n",
       "      <td>0.090332</td>\n",
       "      <td>0.0</td>\n",
       "      <td>0.275862</td>\n",
       "      <td>0.545802</td>\n",
       "    </tr>\n",
       "    <tr>\n",
       "      <th>1</th>\n",
       "      <td>0.571429</td>\n",
       "      <td>0.201258</td>\n",
       "      <td>0.491897</td>\n",
       "      <td>0.562310</td>\n",
       "      <td>0.629508</td>\n",
       "      <td>0.282992</td>\n",
       "      <td>0.0</td>\n",
       "      <td>0.689655</td>\n",
       "      <td>0.244275</td>\n",
       "    </tr>\n",
       "    <tr>\n",
       "      <th>2</th>\n",
       "      <td>0.114286</td>\n",
       "      <td>0.430818</td>\n",
       "      <td>0.175405</td>\n",
       "      <td>0.589666</td>\n",
       "      <td>0.244262</td>\n",
       "      <td>0.625970</td>\n",
       "      <td>0.0</td>\n",
       "      <td>0.137931</td>\n",
       "      <td>0.522901</td>\n",
       "    </tr>\n",
       "    <tr>\n",
       "      <th>3</th>\n",
       "      <td>0.457143</td>\n",
       "      <td>0.047170</td>\n",
       "      <td>0.243089</td>\n",
       "      <td>0.477204</td>\n",
       "      <td>0.636066</td>\n",
       "      <td>0.455893</td>\n",
       "      <td>1.0</td>\n",
       "      <td>0.551724</td>\n",
       "      <td>0.057252</td>\n",
       "    </tr>\n",
       "    <tr>\n",
       "      <th>4</th>\n",
       "      <td>0.457143</td>\n",
       "      <td>0.242138</td>\n",
       "      <td>0.654909</td>\n",
       "      <td>0.386018</td>\n",
       "      <td>0.614754</td>\n",
       "      <td>0.143966</td>\n",
       "      <td>1.0</td>\n",
       "      <td>0.551724</td>\n",
       "      <td>0.293893</td>\n",
       "    </tr>\n",
       "    <tr>\n",
       "      <th>...</th>\n",
       "      <td>...</td>\n",
       "      <td>...</td>\n",
       "      <td>...</td>\n",
       "      <td>...</td>\n",
       "      <td>...</td>\n",
       "      <td>...</td>\n",
       "      <td>...</td>\n",
       "      <td>...</td>\n",
       "      <td>...</td>\n",
       "    </tr>\n",
       "    <tr>\n",
       "      <th>409</th>\n",
       "      <td>0.171429</td>\n",
       "      <td>0.141509</td>\n",
       "      <td>0.324118</td>\n",
       "      <td>0.495441</td>\n",
       "      <td>0.106557</td>\n",
       "      <td>0.095977</td>\n",
       "      <td>0.0</td>\n",
       "      <td>0.206897</td>\n",
       "      <td>0.171756</td>\n",
       "    </tr>\n",
       "    <tr>\n",
       "      <th>410</th>\n",
       "      <td>0.542857</td>\n",
       "      <td>0.242138</td>\n",
       "      <td>0.371783</td>\n",
       "      <td>0.443769</td>\n",
       "      <td>0.350820</td>\n",
       "      <td>0.042343</td>\n",
       "      <td>0.0</td>\n",
       "      <td>0.655172</td>\n",
       "      <td>0.293893</td>\n",
       "    </tr>\n",
       "    <tr>\n",
       "      <th>411</th>\n",
       "      <td>0.371429</td>\n",
       "      <td>0.477987</td>\n",
       "      <td>0.255481</td>\n",
       "      <td>0.519757</td>\n",
       "      <td>0.426230</td>\n",
       "      <td>0.529993</td>\n",
       "      <td>1.0</td>\n",
       "      <td>0.448276</td>\n",
       "      <td>0.580153</td>\n",
       "    </tr>\n",
       "    <tr>\n",
       "      <th>412</th>\n",
       "      <td>0.085714</td>\n",
       "      <td>0.742138</td>\n",
       "      <td>0.131554</td>\n",
       "      <td>0.227964</td>\n",
       "      <td>0.106557</td>\n",
       "      <td>0.060692</td>\n",
       "      <td>1.0</td>\n",
       "      <td>0.103448</td>\n",
       "      <td>0.900763</td>\n",
       "    </tr>\n",
       "    <tr>\n",
       "      <th>413</th>\n",
       "      <td>0.171429</td>\n",
       "      <td>0.430818</td>\n",
       "      <td>0.168732</td>\n",
       "      <td>0.145897</td>\n",
       "      <td>0.244262</td>\n",
       "      <td>0.007057</td>\n",
       "      <td>0.0</td>\n",
       "      <td>0.206897</td>\n",
       "      <td>0.522901</td>\n",
       "    </tr>\n",
       "  </tbody>\n",
       "</table>\n",
       "<p>414 rows × 9 columns</p>\n",
       "</div>"
      ],
      "text/plain": [
       "      gravity        ph      osmo      cond      urea      calc  target  \\\n",
       "id                                                                        \n",
       "0    0.228571  0.449686  0.244042  0.294833  0.186885  0.090332     0.0   \n",
       "1    0.571429  0.201258  0.491897  0.562310  0.629508  0.282992     0.0   \n",
       "2    0.114286  0.430818  0.175405  0.589666  0.244262  0.625970     0.0   \n",
       "3    0.457143  0.047170  0.243089  0.477204  0.636066  0.455893     1.0   \n",
       "4    0.457143  0.242138  0.654909  0.386018  0.614754  0.143966     1.0   \n",
       "..        ...       ...       ...       ...       ...       ...     ...   \n",
       "409  0.171429  0.141509  0.324118  0.495441  0.106557  0.095977     0.0   \n",
       "410  0.542857  0.242138  0.371783  0.443769  0.350820  0.042343     0.0   \n",
       "411  0.371429  0.477987  0.255481  0.519757  0.426230  0.529993     1.0   \n",
       "412  0.085714  0.742138  0.131554  0.227964  0.106557  0.060692     1.0   \n",
       "413  0.171429  0.430818  0.168732  0.145897  0.244262  0.007057     0.0   \n",
       "\n",
       "     gravity_without_outliers  ph_without_outliers  \n",
       "id                                                  \n",
       "0                    0.275862             0.545802  \n",
       "1                    0.689655             0.244275  \n",
       "2                    0.137931             0.522901  \n",
       "3                    0.551724             0.057252  \n",
       "4                    0.551724             0.293893  \n",
       "..                        ...                  ...  \n",
       "409                  0.206897             0.171756  \n",
       "410                  0.655172             0.293893  \n",
       "411                  0.448276             0.580153  \n",
       "412                  0.103448             0.900763  \n",
       "413                  0.206897             0.522901  \n",
       "\n",
       "[414 rows x 9 columns]"
      ]
     },
     "execution_count": 17,
     "metadata": {},
     "output_type": "execute_result"
    }
   ],
   "source": [
    "scaler = MinMaxScaler()\n",
    "#scaler = StandardScaler()\n",
    "normalized_dataset_df = dataset_df.copy(deep=True)\n",
    "columns_for_normalize = normalized_dataset_df.columns.to_list()\n",
    "columns_for_normalize.remove(\"target\")\n",
    "normalized_dataset_df[normalized_dataset_df.columns] = scaler.fit_transform(normalized_dataset_df[normalized_dataset_df.columns])\n",
    "normalized_dataset_df "
   ]
  },
  {
   "cell_type": "markdown",
   "metadata": {},
   "source": [
    "## Разделить набор данных на обучающую и тестовую выборки"
   ]
  },
  {
   "cell_type": "code",
   "execution_count": 20,
   "metadata": {},
   "outputs": [],
   "source": [
    "columns_original = [\"gravity\", \"ph\", \"osmo\", \"cond\", \"urea\", \"calc\"]\n",
    "columns_without_outliners = [\"gravity_without_outliers\", \"ph_without_outliers\", \"osmo\", \"cond\", \"urea\", \"calc\"]\n",
    "target_column = 'target'\n",
    "param_grid = {'n_neighbors': range(1, 21, 5),\n",
    "            'p': [1, 2]}\n",
    "set_1 = {'dataset': dataset_df,\n",
    "         'columns': columns_original,\n",
    "         'param_grid': {'n_neighbors': range(1, 21, 5), 'p': [1, 2]},\n",
    "         'set_name': 'Набор 1: Исходный датасет и столбцы'}\n",
    "set_2 = {'dataset': dataset_df,\n",
    "         'columns': columns_without_outliners,\n",
    "         'param_grid': {'n_neighbors': range(1, 21, 5), 'p': [1, 2]},\n",
    "         'set_name': 'Набор 2: Исходный датасет и столбцы без выбросов'}\n",
    "set_3 = {'dataset': normalized_dataset_df,\n",
    "         'columns': columns_original,\n",
    "         'param_grid': {'n_neighbors': range(1, 21, 5), 'p': [1, 2]},\n",
    "         'set_name': 'Набор 3: Нормализованный датасет и исходные столбцы'}\n",
    "set_4 = {'dataset': normalized_dataset_df,\n",
    "         'columns': columns_without_outliners,\n",
    "         'param_grid': {'n_neighbors': range(1, 21, 5), 'p': [1, 2]},\n",
    "         'set_name': 'Набор 4: Нормализованный датасет и столбцы без выбросов'}\n",
    "set_5 = {'dataset': normalized_dataset_df,\n",
    "         'columns': columns_original,\n",
    "         'param_grid': {'n_neighbors': range(1, 21, 7), 'p': [1, 2]},\n",
    "         'set_name': 'Набор 5: Нормализованный датасет и исходные столбцы (\"n_neighbors\": range(1, 21, 3))'}\n",
    "sets = [set_1, set_2, set_3, set_4, set_5]\n"
   ]
  },
  {
   "cell_type": "code",
   "execution_count": 21,
   "metadata": {},
   "outputs": [
    {
     "data": {
      "application/vnd.plotly.v1+json": {
       "config": {
        "plotlyServerURL": "https://plot.ly"
       },
       "data": [
        {
         "line": {
          "color": "blue"
         },
         "name": "ROC curve Test",
         "type": "scatter",
         "x": [
          0,
          0.021739130434782608,
          0.10869565217391304,
          0.21739130434782608,
          0.41304347826086957,
          0.5434782608695652,
          0.8478260869565217,
          1
         ],
         "y": [
          0,
          0.02702702702702703,
          0.08108108108108109,
          0.35135135135135137,
          0.5675675675675675,
          0.7837837837837838,
          0.972972972972973,
          1
         ]
        },
        {
         "line": {
          "color": "green"
         },
         "name": "ROC curve Train",
         "type": "scatter",
         "x": [
          0,
          0,
          0.021739130434782608,
          0.1358695652173913,
          0.34782608695652173,
          0.5434782608695652,
          0.8913043478260869,
          1
         ],
         "y": [
          0,
          0.08163265306122448,
          0.2857142857142857,
          0.564625850340136,
          0.8027210884353742,
          0.9319727891156463,
          1,
          1
         ]
        },
        {
         "line": {
          "color": "gray",
          "dash": "dash"
         },
         "showlegend": false,
         "type": "scatter",
         "x": [
          0,
          1
         ],
         "y": [
          0,
          1
         ]
        },
        {
         "name": "Test Metrics",
         "showlegend": true,
         "text": [
          0.5904,
          0.5652,
          0.3514,
          0.624
         ],
         "textangle": 0,
         "type": "bar",
         "x": [
          "accuracy",
          "precision",
          "recall",
          "ROC AUC"
         ],
         "xaxis": "x2",
         "y": [
          0.5903614457831325,
          0.5652173913043478,
          0.35135135135135137,
          0.6239717978848414
         ],
         "yaxis": "y2"
        },
        {
         "name": "Train Metrics",
         "showlegend": true,
         "text": [
          0.7311,
          0.7685,
          0.5646,
          0.8118
         ],
         "textangle": 0,
         "type": "bar",
         "x": [
          "accuracy",
          "precision",
          "recall",
          "ROC AUC"
         ],
         "xaxis": "x2",
         "y": [
          0.7311178247734139,
          0.7685185185185185,
          0.564625850340136,
          0.8118160307601301
         ],
         "yaxis": "y2"
        }
       ],
       "layout": {
        "height": 530,
        "legend": {
         "x": 0.49,
         "xanchor": "right",
         "y": 0.01,
         "yanchor": "bottom"
        },
        "margin": {
         "b": 100,
         "t": 50
        },
        "template": {
         "data": {
          "bar": [
           {
            "error_x": {
             "color": "#2a3f5f"
            },
            "error_y": {
             "color": "#2a3f5f"
            },
            "marker": {
             "line": {
              "color": "#E5ECF6",
              "width": 0.5
             },
             "pattern": {
              "fillmode": "overlay",
              "size": 10,
              "solidity": 0.2
             }
            },
            "type": "bar"
           }
          ],
          "barpolar": [
           {
            "marker": {
             "line": {
              "color": "#E5ECF6",
              "width": 0.5
             },
             "pattern": {
              "fillmode": "overlay",
              "size": 10,
              "solidity": 0.2
             }
            },
            "type": "barpolar"
           }
          ],
          "carpet": [
           {
            "aaxis": {
             "endlinecolor": "#2a3f5f",
             "gridcolor": "white",
             "linecolor": "white",
             "minorgridcolor": "white",
             "startlinecolor": "#2a3f5f"
            },
            "baxis": {
             "endlinecolor": "#2a3f5f",
             "gridcolor": "white",
             "linecolor": "white",
             "minorgridcolor": "white",
             "startlinecolor": "#2a3f5f"
            },
            "type": "carpet"
           }
          ],
          "choropleth": [
           {
            "colorbar": {
             "outlinewidth": 0,
             "ticks": ""
            },
            "type": "choropleth"
           }
          ],
          "contour": [
           {
            "colorbar": {
             "outlinewidth": 0,
             "ticks": ""
            },
            "colorscale": [
             [
              0,
              "#0d0887"
             ],
             [
              0.1111111111111111,
              "#46039f"
             ],
             [
              0.2222222222222222,
              "#7201a8"
             ],
             [
              0.3333333333333333,
              "#9c179e"
             ],
             [
              0.4444444444444444,
              "#bd3786"
             ],
             [
              0.5555555555555556,
              "#d8576b"
             ],
             [
              0.6666666666666666,
              "#ed7953"
             ],
             [
              0.7777777777777778,
              "#fb9f3a"
             ],
             [
              0.8888888888888888,
              "#fdca26"
             ],
             [
              1,
              "#f0f921"
             ]
            ],
            "type": "contour"
           }
          ],
          "contourcarpet": [
           {
            "colorbar": {
             "outlinewidth": 0,
             "ticks": ""
            },
            "type": "contourcarpet"
           }
          ],
          "heatmap": [
           {
            "colorbar": {
             "outlinewidth": 0,
             "ticks": ""
            },
            "colorscale": [
             [
              0,
              "#0d0887"
             ],
             [
              0.1111111111111111,
              "#46039f"
             ],
             [
              0.2222222222222222,
              "#7201a8"
             ],
             [
              0.3333333333333333,
              "#9c179e"
             ],
             [
              0.4444444444444444,
              "#bd3786"
             ],
             [
              0.5555555555555556,
              "#d8576b"
             ],
             [
              0.6666666666666666,
              "#ed7953"
             ],
             [
              0.7777777777777778,
              "#fb9f3a"
             ],
             [
              0.8888888888888888,
              "#fdca26"
             ],
             [
              1,
              "#f0f921"
             ]
            ],
            "type": "heatmap"
           }
          ],
          "heatmapgl": [
           {
            "colorbar": {
             "outlinewidth": 0,
             "ticks": ""
            },
            "colorscale": [
             [
              0,
              "#0d0887"
             ],
             [
              0.1111111111111111,
              "#46039f"
             ],
             [
              0.2222222222222222,
              "#7201a8"
             ],
             [
              0.3333333333333333,
              "#9c179e"
             ],
             [
              0.4444444444444444,
              "#bd3786"
             ],
             [
              0.5555555555555556,
              "#d8576b"
             ],
             [
              0.6666666666666666,
              "#ed7953"
             ],
             [
              0.7777777777777778,
              "#fb9f3a"
             ],
             [
              0.8888888888888888,
              "#fdca26"
             ],
             [
              1,
              "#f0f921"
             ]
            ],
            "type": "heatmapgl"
           }
          ],
          "histogram": [
           {
            "marker": {
             "pattern": {
              "fillmode": "overlay",
              "size": 10,
              "solidity": 0.2
             }
            },
            "type": "histogram"
           }
          ],
          "histogram2d": [
           {
            "colorbar": {
             "outlinewidth": 0,
             "ticks": ""
            },
            "colorscale": [
             [
              0,
              "#0d0887"
             ],
             [
              0.1111111111111111,
              "#46039f"
             ],
             [
              0.2222222222222222,
              "#7201a8"
             ],
             [
              0.3333333333333333,
              "#9c179e"
             ],
             [
              0.4444444444444444,
              "#bd3786"
             ],
             [
              0.5555555555555556,
              "#d8576b"
             ],
             [
              0.6666666666666666,
              "#ed7953"
             ],
             [
              0.7777777777777778,
              "#fb9f3a"
             ],
             [
              0.8888888888888888,
              "#fdca26"
             ],
             [
              1,
              "#f0f921"
             ]
            ],
            "type": "histogram2d"
           }
          ],
          "histogram2dcontour": [
           {
            "colorbar": {
             "outlinewidth": 0,
             "ticks": ""
            },
            "colorscale": [
             [
              0,
              "#0d0887"
             ],
             [
              0.1111111111111111,
              "#46039f"
             ],
             [
              0.2222222222222222,
              "#7201a8"
             ],
             [
              0.3333333333333333,
              "#9c179e"
             ],
             [
              0.4444444444444444,
              "#bd3786"
             ],
             [
              0.5555555555555556,
              "#d8576b"
             ],
             [
              0.6666666666666666,
              "#ed7953"
             ],
             [
              0.7777777777777778,
              "#fb9f3a"
             ],
             [
              0.8888888888888888,
              "#fdca26"
             ],
             [
              1,
              "#f0f921"
             ]
            ],
            "type": "histogram2dcontour"
           }
          ],
          "mesh3d": [
           {
            "colorbar": {
             "outlinewidth": 0,
             "ticks": ""
            },
            "type": "mesh3d"
           }
          ],
          "parcoords": [
           {
            "line": {
             "colorbar": {
              "outlinewidth": 0,
              "ticks": ""
             }
            },
            "type": "parcoords"
           }
          ],
          "pie": [
           {
            "automargin": true,
            "type": "pie"
           }
          ],
          "scatter": [
           {
            "fillpattern": {
             "fillmode": "overlay",
             "size": 10,
             "solidity": 0.2
            },
            "type": "scatter"
           }
          ],
          "scatter3d": [
           {
            "line": {
             "colorbar": {
              "outlinewidth": 0,
              "ticks": ""
             }
            },
            "marker": {
             "colorbar": {
              "outlinewidth": 0,
              "ticks": ""
             }
            },
            "type": "scatter3d"
           }
          ],
          "scattercarpet": [
           {
            "marker": {
             "colorbar": {
              "outlinewidth": 0,
              "ticks": ""
             }
            },
            "type": "scattercarpet"
           }
          ],
          "scattergeo": [
           {
            "marker": {
             "colorbar": {
              "outlinewidth": 0,
              "ticks": ""
             }
            },
            "type": "scattergeo"
           }
          ],
          "scattergl": [
           {
            "marker": {
             "colorbar": {
              "outlinewidth": 0,
              "ticks": ""
             }
            },
            "type": "scattergl"
           }
          ],
          "scattermapbox": [
           {
            "marker": {
             "colorbar": {
              "outlinewidth": 0,
              "ticks": ""
             }
            },
            "type": "scattermapbox"
           }
          ],
          "scatterpolar": [
           {
            "marker": {
             "colorbar": {
              "outlinewidth": 0,
              "ticks": ""
             }
            },
            "type": "scatterpolar"
           }
          ],
          "scatterpolargl": [
           {
            "marker": {
             "colorbar": {
              "outlinewidth": 0,
              "ticks": ""
             }
            },
            "type": "scatterpolargl"
           }
          ],
          "scatterternary": [
           {
            "marker": {
             "colorbar": {
              "outlinewidth": 0,
              "ticks": ""
             }
            },
            "type": "scatterternary"
           }
          ],
          "surface": [
           {
            "colorbar": {
             "outlinewidth": 0,
             "ticks": ""
            },
            "colorscale": [
             [
              0,
              "#0d0887"
             ],
             [
              0.1111111111111111,
              "#46039f"
             ],
             [
              0.2222222222222222,
              "#7201a8"
             ],
             [
              0.3333333333333333,
              "#9c179e"
             ],
             [
              0.4444444444444444,
              "#bd3786"
             ],
             [
              0.5555555555555556,
              "#d8576b"
             ],
             [
              0.6666666666666666,
              "#ed7953"
             ],
             [
              0.7777777777777778,
              "#fb9f3a"
             ],
             [
              0.8888888888888888,
              "#fdca26"
             ],
             [
              1,
              "#f0f921"
             ]
            ],
            "type": "surface"
           }
          ],
          "table": [
           {
            "cells": {
             "fill": {
              "color": "#EBF0F8"
             },
             "line": {
              "color": "white"
             }
            },
            "header": {
             "fill": {
              "color": "#C8D4E3"
             },
             "line": {
              "color": "white"
             }
            },
            "type": "table"
           }
          ]
         },
         "layout": {
          "annotationdefaults": {
           "arrowcolor": "#2a3f5f",
           "arrowhead": 0,
           "arrowwidth": 1
          },
          "autotypenumbers": "strict",
          "coloraxis": {
           "colorbar": {
            "outlinewidth": 0,
            "ticks": ""
           }
          },
          "colorscale": {
           "diverging": [
            [
             0,
             "#8e0152"
            ],
            [
             0.1,
             "#c51b7d"
            ],
            [
             0.2,
             "#de77ae"
            ],
            [
             0.3,
             "#f1b6da"
            ],
            [
             0.4,
             "#fde0ef"
            ],
            [
             0.5,
             "#f7f7f7"
            ],
            [
             0.6,
             "#e6f5d0"
            ],
            [
             0.7,
             "#b8e186"
            ],
            [
             0.8,
             "#7fbc41"
            ],
            [
             0.9,
             "#4d9221"
            ],
            [
             1,
             "#276419"
            ]
           ],
           "sequential": [
            [
             0,
             "#0d0887"
            ],
            [
             0.1111111111111111,
             "#46039f"
            ],
            [
             0.2222222222222222,
             "#7201a8"
            ],
            [
             0.3333333333333333,
             "#9c179e"
            ],
            [
             0.4444444444444444,
             "#bd3786"
            ],
            [
             0.5555555555555556,
             "#d8576b"
            ],
            [
             0.6666666666666666,
             "#ed7953"
            ],
            [
             0.7777777777777778,
             "#fb9f3a"
            ],
            [
             0.8888888888888888,
             "#fdca26"
            ],
            [
             1,
             "#f0f921"
            ]
           ],
           "sequentialminus": [
            [
             0,
             "#0d0887"
            ],
            [
             0.1111111111111111,
             "#46039f"
            ],
            [
             0.2222222222222222,
             "#7201a8"
            ],
            [
             0.3333333333333333,
             "#9c179e"
            ],
            [
             0.4444444444444444,
             "#bd3786"
            ],
            [
             0.5555555555555556,
             "#d8576b"
            ],
            [
             0.6666666666666666,
             "#ed7953"
            ],
            [
             0.7777777777777778,
             "#fb9f3a"
            ],
            [
             0.8888888888888888,
             "#fdca26"
            ],
            [
             1,
             "#f0f921"
            ]
           ]
          },
          "colorway": [
           "#636efa",
           "#EF553B",
           "#00cc96",
           "#ab63fa",
           "#FFA15A",
           "#19d3f3",
           "#FF6692",
           "#B6E880",
           "#FF97FF",
           "#FECB52"
          ],
          "font": {
           "color": "#2a3f5f"
          },
          "geo": {
           "bgcolor": "white",
           "lakecolor": "white",
           "landcolor": "#E5ECF6",
           "showlakes": true,
           "showland": true,
           "subunitcolor": "white"
          },
          "hoverlabel": {
           "align": "left"
          },
          "hovermode": "closest",
          "mapbox": {
           "style": "light"
          },
          "paper_bgcolor": "white",
          "plot_bgcolor": "#E5ECF6",
          "polar": {
           "angularaxis": {
            "gridcolor": "white",
            "linecolor": "white",
            "ticks": ""
           },
           "bgcolor": "#E5ECF6",
           "radialaxis": {
            "gridcolor": "white",
            "linecolor": "white",
            "ticks": ""
           }
          },
          "scene": {
           "xaxis": {
            "backgroundcolor": "#E5ECF6",
            "gridcolor": "white",
            "gridwidth": 2,
            "linecolor": "white",
            "showbackground": true,
            "ticks": "",
            "zerolinecolor": "white"
           },
           "yaxis": {
            "backgroundcolor": "#E5ECF6",
            "gridcolor": "white",
            "gridwidth": 2,
            "linecolor": "white",
            "showbackground": true,
            "ticks": "",
            "zerolinecolor": "white"
           },
           "zaxis": {
            "backgroundcolor": "#E5ECF6",
            "gridcolor": "white",
            "gridwidth": 2,
            "linecolor": "white",
            "showbackground": true,
            "ticks": "",
            "zerolinecolor": "white"
           }
          },
          "shapedefaults": {
           "line": {
            "color": "#2a3f5f"
           }
          },
          "ternary": {
           "aaxis": {
            "gridcolor": "white",
            "linecolor": "white",
            "ticks": ""
           },
           "baxis": {
            "gridcolor": "white",
            "linecolor": "white",
            "ticks": ""
           },
           "bgcolor": "#E5ECF6",
           "caxis": {
            "gridcolor": "white",
            "linecolor": "white",
            "ticks": ""
           }
          },
          "title": {
           "x": 0.05
          },
          "xaxis": {
           "automargin": true,
           "gridcolor": "white",
           "linecolor": "white",
           "ticks": "",
           "title": {
            "standoff": 15
           },
           "zerolinecolor": "white",
           "zerolinewidth": 2
          },
          "yaxis": {
           "automargin": true,
           "gridcolor": "white",
           "linecolor": "white",
           "ticks": "",
           "title": {
            "standoff": 15
           },
           "zerolinecolor": "white",
           "zerolinewidth": 2
          }
         }
        },
        "title": {
         "text": "Набор 1: Исходный датасет и столбцы",
         "x": 0.5
        },
        "width": 1200,
        "xaxis": {
         "domain": [
          0,
          0.5
         ],
         "title": {
          "text": "False Positive Rate"
         }
        },
        "xaxis2": {
         "domain": [
          0.6,
          1
         ]
        },
        "yaxis": {
         "title": {
          "text": "True Positive Rate"
         }
        },
        "yaxis2": {
         "anchor": "x2",
         "title": {
          "text": "Goals"
         }
        }
       }
      }
     },
     "metadata": {},
     "output_type": "display_data"
    },
    {
     "data": {
      "application/vnd.plotly.v1+json": {
       "config": {
        "plotlyServerURL": "https://plot.ly"
       },
       "data": [
        {
         "line": {
          "color": "blue"
         },
         "name": "ROC curve Test",
         "type": "scatter",
         "x": [
          0,
          0.021739130434782608,
          0.10869565217391304,
          0.21739130434782608,
          0.41304347826086957,
          0.5434782608695652,
          0.8478260869565217,
          1
         ],
         "y": [
          0,
          0.02702702702702703,
          0.08108108108108109,
          0.35135135135135137,
          0.5675675675675675,
          0.7837837837837838,
          0.972972972972973,
          1
         ]
        },
        {
         "line": {
          "color": "green"
         },
         "name": "ROC curve Train",
         "type": "scatter",
         "x": [
          0,
          0,
          0.021739130434782608,
          0.13043478260869565,
          0.34782608695652173,
          0.5380434782608695,
          0.8858695652173914,
          1
         ],
         "y": [
          0,
          0.07482993197278912,
          0.2857142857142857,
          0.564625850340136,
          0.8027210884353742,
          0.9319727891156463,
          1,
          1
         ]
        },
        {
         "line": {
          "color": "gray",
          "dash": "dash"
         },
         "showlegend": false,
         "type": "scatter",
         "x": [
          0,
          1
         ],
         "y": [
          0,
          1
         ]
        },
        {
         "name": "Test Metrics",
         "showlegend": true,
         "text": [
          0.5904,
          0.5652,
          0.3514,
          0.624
         ],
         "textangle": 0,
         "type": "bar",
         "x": [
          "accuracy",
          "precision",
          "recall",
          "ROC AUC"
         ],
         "xaxis": "x2",
         "y": [
          0.5903614457831325,
          0.5652173913043478,
          0.35135135135135137,
          0.6239717978848414
         ],
         "yaxis": "y2"
        },
        {
         "name": "Train Metrics",
         "showlegend": true,
         "text": [
          0.7341,
          0.7757,
          0.5646,
          0.8139
         ],
         "textangle": 0,
         "type": "bar",
         "x": [
          "accuracy",
          "precision",
          "recall",
          "ROC AUC"
         ],
         "xaxis": "x2",
         "y": [
          0.7341389728096677,
          0.7757009345794392,
          0.564625850340136,
          0.8138679384797397
         ],
         "yaxis": "y2"
        }
       ],
       "layout": {
        "height": 530,
        "legend": {
         "x": 0.49,
         "xanchor": "right",
         "y": 0.01,
         "yanchor": "bottom"
        },
        "margin": {
         "b": 100,
         "t": 50
        },
        "template": {
         "data": {
          "bar": [
           {
            "error_x": {
             "color": "#2a3f5f"
            },
            "error_y": {
             "color": "#2a3f5f"
            },
            "marker": {
             "line": {
              "color": "#E5ECF6",
              "width": 0.5
             },
             "pattern": {
              "fillmode": "overlay",
              "size": 10,
              "solidity": 0.2
             }
            },
            "type": "bar"
           }
          ],
          "barpolar": [
           {
            "marker": {
             "line": {
              "color": "#E5ECF6",
              "width": 0.5
             },
             "pattern": {
              "fillmode": "overlay",
              "size": 10,
              "solidity": 0.2
             }
            },
            "type": "barpolar"
           }
          ],
          "carpet": [
           {
            "aaxis": {
             "endlinecolor": "#2a3f5f",
             "gridcolor": "white",
             "linecolor": "white",
             "minorgridcolor": "white",
             "startlinecolor": "#2a3f5f"
            },
            "baxis": {
             "endlinecolor": "#2a3f5f",
             "gridcolor": "white",
             "linecolor": "white",
             "minorgridcolor": "white",
             "startlinecolor": "#2a3f5f"
            },
            "type": "carpet"
           }
          ],
          "choropleth": [
           {
            "colorbar": {
             "outlinewidth": 0,
             "ticks": ""
            },
            "type": "choropleth"
           }
          ],
          "contour": [
           {
            "colorbar": {
             "outlinewidth": 0,
             "ticks": ""
            },
            "colorscale": [
             [
              0,
              "#0d0887"
             ],
             [
              0.1111111111111111,
              "#46039f"
             ],
             [
              0.2222222222222222,
              "#7201a8"
             ],
             [
              0.3333333333333333,
              "#9c179e"
             ],
             [
              0.4444444444444444,
              "#bd3786"
             ],
             [
              0.5555555555555556,
              "#d8576b"
             ],
             [
              0.6666666666666666,
              "#ed7953"
             ],
             [
              0.7777777777777778,
              "#fb9f3a"
             ],
             [
              0.8888888888888888,
              "#fdca26"
             ],
             [
              1,
              "#f0f921"
             ]
            ],
            "type": "contour"
           }
          ],
          "contourcarpet": [
           {
            "colorbar": {
             "outlinewidth": 0,
             "ticks": ""
            },
            "type": "contourcarpet"
           }
          ],
          "heatmap": [
           {
            "colorbar": {
             "outlinewidth": 0,
             "ticks": ""
            },
            "colorscale": [
             [
              0,
              "#0d0887"
             ],
             [
              0.1111111111111111,
              "#46039f"
             ],
             [
              0.2222222222222222,
              "#7201a8"
             ],
             [
              0.3333333333333333,
              "#9c179e"
             ],
             [
              0.4444444444444444,
              "#bd3786"
             ],
             [
              0.5555555555555556,
              "#d8576b"
             ],
             [
              0.6666666666666666,
              "#ed7953"
             ],
             [
              0.7777777777777778,
              "#fb9f3a"
             ],
             [
              0.8888888888888888,
              "#fdca26"
             ],
             [
              1,
              "#f0f921"
             ]
            ],
            "type": "heatmap"
           }
          ],
          "heatmapgl": [
           {
            "colorbar": {
             "outlinewidth": 0,
             "ticks": ""
            },
            "colorscale": [
             [
              0,
              "#0d0887"
             ],
             [
              0.1111111111111111,
              "#46039f"
             ],
             [
              0.2222222222222222,
              "#7201a8"
             ],
             [
              0.3333333333333333,
              "#9c179e"
             ],
             [
              0.4444444444444444,
              "#bd3786"
             ],
             [
              0.5555555555555556,
              "#d8576b"
             ],
             [
              0.6666666666666666,
              "#ed7953"
             ],
             [
              0.7777777777777778,
              "#fb9f3a"
             ],
             [
              0.8888888888888888,
              "#fdca26"
             ],
             [
              1,
              "#f0f921"
             ]
            ],
            "type": "heatmapgl"
           }
          ],
          "histogram": [
           {
            "marker": {
             "pattern": {
              "fillmode": "overlay",
              "size": 10,
              "solidity": 0.2
             }
            },
            "type": "histogram"
           }
          ],
          "histogram2d": [
           {
            "colorbar": {
             "outlinewidth": 0,
             "ticks": ""
            },
            "colorscale": [
             [
              0,
              "#0d0887"
             ],
             [
              0.1111111111111111,
              "#46039f"
             ],
             [
              0.2222222222222222,
              "#7201a8"
             ],
             [
              0.3333333333333333,
              "#9c179e"
             ],
             [
              0.4444444444444444,
              "#bd3786"
             ],
             [
              0.5555555555555556,
              "#d8576b"
             ],
             [
              0.6666666666666666,
              "#ed7953"
             ],
             [
              0.7777777777777778,
              "#fb9f3a"
             ],
             [
              0.8888888888888888,
              "#fdca26"
             ],
             [
              1,
              "#f0f921"
             ]
            ],
            "type": "histogram2d"
           }
          ],
          "histogram2dcontour": [
           {
            "colorbar": {
             "outlinewidth": 0,
             "ticks": ""
            },
            "colorscale": [
             [
              0,
              "#0d0887"
             ],
             [
              0.1111111111111111,
              "#46039f"
             ],
             [
              0.2222222222222222,
              "#7201a8"
             ],
             [
              0.3333333333333333,
              "#9c179e"
             ],
             [
              0.4444444444444444,
              "#bd3786"
             ],
             [
              0.5555555555555556,
              "#d8576b"
             ],
             [
              0.6666666666666666,
              "#ed7953"
             ],
             [
              0.7777777777777778,
              "#fb9f3a"
             ],
             [
              0.8888888888888888,
              "#fdca26"
             ],
             [
              1,
              "#f0f921"
             ]
            ],
            "type": "histogram2dcontour"
           }
          ],
          "mesh3d": [
           {
            "colorbar": {
             "outlinewidth": 0,
             "ticks": ""
            },
            "type": "mesh3d"
           }
          ],
          "parcoords": [
           {
            "line": {
             "colorbar": {
              "outlinewidth": 0,
              "ticks": ""
             }
            },
            "type": "parcoords"
           }
          ],
          "pie": [
           {
            "automargin": true,
            "type": "pie"
           }
          ],
          "scatter": [
           {
            "fillpattern": {
             "fillmode": "overlay",
             "size": 10,
             "solidity": 0.2
            },
            "type": "scatter"
           }
          ],
          "scatter3d": [
           {
            "line": {
             "colorbar": {
              "outlinewidth": 0,
              "ticks": ""
             }
            },
            "marker": {
             "colorbar": {
              "outlinewidth": 0,
              "ticks": ""
             }
            },
            "type": "scatter3d"
           }
          ],
          "scattercarpet": [
           {
            "marker": {
             "colorbar": {
              "outlinewidth": 0,
              "ticks": ""
             }
            },
            "type": "scattercarpet"
           }
          ],
          "scattergeo": [
           {
            "marker": {
             "colorbar": {
              "outlinewidth": 0,
              "ticks": ""
             }
            },
            "type": "scattergeo"
           }
          ],
          "scattergl": [
           {
            "marker": {
             "colorbar": {
              "outlinewidth": 0,
              "ticks": ""
             }
            },
            "type": "scattergl"
           }
          ],
          "scattermapbox": [
           {
            "marker": {
             "colorbar": {
              "outlinewidth": 0,
              "ticks": ""
             }
            },
            "type": "scattermapbox"
           }
          ],
          "scatterpolar": [
           {
            "marker": {
             "colorbar": {
              "outlinewidth": 0,
              "ticks": ""
             }
            },
            "type": "scatterpolar"
           }
          ],
          "scatterpolargl": [
           {
            "marker": {
             "colorbar": {
              "outlinewidth": 0,
              "ticks": ""
             }
            },
            "type": "scatterpolargl"
           }
          ],
          "scatterternary": [
           {
            "marker": {
             "colorbar": {
              "outlinewidth": 0,
              "ticks": ""
             }
            },
            "type": "scatterternary"
           }
          ],
          "surface": [
           {
            "colorbar": {
             "outlinewidth": 0,
             "ticks": ""
            },
            "colorscale": [
             [
              0,
              "#0d0887"
             ],
             [
              0.1111111111111111,
              "#46039f"
             ],
             [
              0.2222222222222222,
              "#7201a8"
             ],
             [
              0.3333333333333333,
              "#9c179e"
             ],
             [
              0.4444444444444444,
              "#bd3786"
             ],
             [
              0.5555555555555556,
              "#d8576b"
             ],
             [
              0.6666666666666666,
              "#ed7953"
             ],
             [
              0.7777777777777778,
              "#fb9f3a"
             ],
             [
              0.8888888888888888,
              "#fdca26"
             ],
             [
              1,
              "#f0f921"
             ]
            ],
            "type": "surface"
           }
          ],
          "table": [
           {
            "cells": {
             "fill": {
              "color": "#EBF0F8"
             },
             "line": {
              "color": "white"
             }
            },
            "header": {
             "fill": {
              "color": "#C8D4E3"
             },
             "line": {
              "color": "white"
             }
            },
            "type": "table"
           }
          ]
         },
         "layout": {
          "annotationdefaults": {
           "arrowcolor": "#2a3f5f",
           "arrowhead": 0,
           "arrowwidth": 1
          },
          "autotypenumbers": "strict",
          "coloraxis": {
           "colorbar": {
            "outlinewidth": 0,
            "ticks": ""
           }
          },
          "colorscale": {
           "diverging": [
            [
             0,
             "#8e0152"
            ],
            [
             0.1,
             "#c51b7d"
            ],
            [
             0.2,
             "#de77ae"
            ],
            [
             0.3,
             "#f1b6da"
            ],
            [
             0.4,
             "#fde0ef"
            ],
            [
             0.5,
             "#f7f7f7"
            ],
            [
             0.6,
             "#e6f5d0"
            ],
            [
             0.7,
             "#b8e186"
            ],
            [
             0.8,
             "#7fbc41"
            ],
            [
             0.9,
             "#4d9221"
            ],
            [
             1,
             "#276419"
            ]
           ],
           "sequential": [
            [
             0,
             "#0d0887"
            ],
            [
             0.1111111111111111,
             "#46039f"
            ],
            [
             0.2222222222222222,
             "#7201a8"
            ],
            [
             0.3333333333333333,
             "#9c179e"
            ],
            [
             0.4444444444444444,
             "#bd3786"
            ],
            [
             0.5555555555555556,
             "#d8576b"
            ],
            [
             0.6666666666666666,
             "#ed7953"
            ],
            [
             0.7777777777777778,
             "#fb9f3a"
            ],
            [
             0.8888888888888888,
             "#fdca26"
            ],
            [
             1,
             "#f0f921"
            ]
           ],
           "sequentialminus": [
            [
             0,
             "#0d0887"
            ],
            [
             0.1111111111111111,
             "#46039f"
            ],
            [
             0.2222222222222222,
             "#7201a8"
            ],
            [
             0.3333333333333333,
             "#9c179e"
            ],
            [
             0.4444444444444444,
             "#bd3786"
            ],
            [
             0.5555555555555556,
             "#d8576b"
            ],
            [
             0.6666666666666666,
             "#ed7953"
            ],
            [
             0.7777777777777778,
             "#fb9f3a"
            ],
            [
             0.8888888888888888,
             "#fdca26"
            ],
            [
             1,
             "#f0f921"
            ]
           ]
          },
          "colorway": [
           "#636efa",
           "#EF553B",
           "#00cc96",
           "#ab63fa",
           "#FFA15A",
           "#19d3f3",
           "#FF6692",
           "#B6E880",
           "#FF97FF",
           "#FECB52"
          ],
          "font": {
           "color": "#2a3f5f"
          },
          "geo": {
           "bgcolor": "white",
           "lakecolor": "white",
           "landcolor": "#E5ECF6",
           "showlakes": true,
           "showland": true,
           "subunitcolor": "white"
          },
          "hoverlabel": {
           "align": "left"
          },
          "hovermode": "closest",
          "mapbox": {
           "style": "light"
          },
          "paper_bgcolor": "white",
          "plot_bgcolor": "#E5ECF6",
          "polar": {
           "angularaxis": {
            "gridcolor": "white",
            "linecolor": "white",
            "ticks": ""
           },
           "bgcolor": "#E5ECF6",
           "radialaxis": {
            "gridcolor": "white",
            "linecolor": "white",
            "ticks": ""
           }
          },
          "scene": {
           "xaxis": {
            "backgroundcolor": "#E5ECF6",
            "gridcolor": "white",
            "gridwidth": 2,
            "linecolor": "white",
            "showbackground": true,
            "ticks": "",
            "zerolinecolor": "white"
           },
           "yaxis": {
            "backgroundcolor": "#E5ECF6",
            "gridcolor": "white",
            "gridwidth": 2,
            "linecolor": "white",
            "showbackground": true,
            "ticks": "",
            "zerolinecolor": "white"
           },
           "zaxis": {
            "backgroundcolor": "#E5ECF6",
            "gridcolor": "white",
            "gridwidth": 2,
            "linecolor": "white",
            "showbackground": true,
            "ticks": "",
            "zerolinecolor": "white"
           }
          },
          "shapedefaults": {
           "line": {
            "color": "#2a3f5f"
           }
          },
          "ternary": {
           "aaxis": {
            "gridcolor": "white",
            "linecolor": "white",
            "ticks": ""
           },
           "baxis": {
            "gridcolor": "white",
            "linecolor": "white",
            "ticks": ""
           },
           "bgcolor": "#E5ECF6",
           "caxis": {
            "gridcolor": "white",
            "linecolor": "white",
            "ticks": ""
           }
          },
          "title": {
           "x": 0.05
          },
          "xaxis": {
           "automargin": true,
           "gridcolor": "white",
           "linecolor": "white",
           "ticks": "",
           "title": {
            "standoff": 15
           },
           "zerolinecolor": "white",
           "zerolinewidth": 2
          },
          "yaxis": {
           "automargin": true,
           "gridcolor": "white",
           "linecolor": "white",
           "ticks": "",
           "title": {
            "standoff": 15
           },
           "zerolinecolor": "white",
           "zerolinewidth": 2
          }
         }
        },
        "title": {
         "text": "Набор 2: Исходный датасет и столбцы без выбросов",
         "x": 0.5
        },
        "width": 1200,
        "xaxis": {
         "domain": [
          0,
          0.5
         ],
         "title": {
          "text": "False Positive Rate"
         }
        },
        "xaxis2": {
         "domain": [
          0.6,
          1
         ]
        },
        "yaxis": {
         "title": {
          "text": "True Positive Rate"
         }
        },
        "yaxis2": {
         "anchor": "x2",
         "title": {
          "text": "Goals"
         }
        }
       }
      }
     },
     "metadata": {},
     "output_type": "display_data"
    },
    {
     "data": {
      "application/vnd.plotly.v1+json": {
       "config": {
        "plotlyServerURL": "https://plot.ly"
       },
       "data": [
        {
         "line": {
          "color": "blue"
         },
         "name": "ROC curve Test",
         "type": "scatter",
         "x": [
          0,
          0,
          0,
          0.08695652173913043,
          0.10869565217391304,
          0.13043478260869565,
          0.21739130434782608,
          0.2826086956521739,
          0.3695652173913043,
          0.41304347826086957,
          0.5217391304347826,
          0.5869565217391305,
          0.717391304347826,
          0.8695652173913043,
          1
         ],
         "y": [
          0,
          0.02702702702702703,
          0.13513513513513514,
          0.40540540540540543,
          0.5675675675675675,
          0.6486486486486487,
          0.6756756756756757,
          0.7567567567567568,
          0.7837837837837838,
          0.8108108108108109,
          0.8918918918918919,
          0.918918918918919,
          0.9459459459459459,
          0.972972972972973,
          1
         ]
        },
        {
         "line": {
          "color": "green"
         },
         "name": "ROC curve Train",
         "type": "scatter",
         "x": [
          0,
          0,
          0.005434782608695652,
          0.03260869565217391,
          0.07608695652173914,
          0.11413043478260869,
          0.1358695652173913,
          0.16847826086956522,
          0.21739130434782608,
          0.29347826086956524,
          0.3641304347826087,
          0.47282608695652173,
          0.5760869565217391,
          0.7282608695652174,
          0.875,
          0.9782608695652174,
          1
         ],
         "y": [
          0,
          0.013605442176870748,
          0.10884353741496598,
          0.272108843537415,
          0.42857142857142855,
          0.5102040816326531,
          0.5782312925170068,
          0.6598639455782312,
          0.7142857142857143,
          0.8027210884353742,
          0.8435374149659864,
          0.891156462585034,
          0.9183673469387755,
          0.9523809523809523,
          0.9863945578231292,
          1,
          1
         ]
        },
        {
         "line": {
          "color": "gray",
          "dash": "dash"
         },
         "showlegend": false,
         "type": "scatter",
         "x": [
          0,
          1
         ],
         "y": [
          0,
          1
         ]
        },
        {
         "name": "Test Metrics",
         "showlegend": true,
         "text": [
          0.7349,
          0.7143,
          0.6757,
          0.8011
         ],
         "textangle": 0,
         "type": "bar",
         "x": [
          "accuracy",
          "precision",
          "recall",
          "ROC AUC"
         ],
         "xaxis": "x2",
         "y": [
          0.7349397590361446,
          0.7142857142857143,
          0.6756756756756757,
          0.8011163337250293
         ],
         "yaxis": "y2"
        },
        {
         "name": "Train Metrics",
         "showlegend": true,
         "text": [
          0.7553,
          0.7578,
          0.6599,
          0.8167
         ],
         "textangle": 0,
         "type": "bar",
         "x": [
          "accuracy",
          "precision",
          "recall",
          "ROC AUC"
         ],
         "xaxis": "x2",
         "y": [
          0.7552870090634441,
          0.7578125,
          0.6598639455782312,
          0.8166777580597456
         ],
         "yaxis": "y2"
        }
       ],
       "layout": {
        "height": 530,
        "legend": {
         "x": 0.49,
         "xanchor": "right",
         "y": 0.01,
         "yanchor": "bottom"
        },
        "margin": {
         "b": 100,
         "t": 50
        },
        "template": {
         "data": {
          "bar": [
           {
            "error_x": {
             "color": "#2a3f5f"
            },
            "error_y": {
             "color": "#2a3f5f"
            },
            "marker": {
             "line": {
              "color": "#E5ECF6",
              "width": 0.5
             },
             "pattern": {
              "fillmode": "overlay",
              "size": 10,
              "solidity": 0.2
             }
            },
            "type": "bar"
           }
          ],
          "barpolar": [
           {
            "marker": {
             "line": {
              "color": "#E5ECF6",
              "width": 0.5
             },
             "pattern": {
              "fillmode": "overlay",
              "size": 10,
              "solidity": 0.2
             }
            },
            "type": "barpolar"
           }
          ],
          "carpet": [
           {
            "aaxis": {
             "endlinecolor": "#2a3f5f",
             "gridcolor": "white",
             "linecolor": "white",
             "minorgridcolor": "white",
             "startlinecolor": "#2a3f5f"
            },
            "baxis": {
             "endlinecolor": "#2a3f5f",
             "gridcolor": "white",
             "linecolor": "white",
             "minorgridcolor": "white",
             "startlinecolor": "#2a3f5f"
            },
            "type": "carpet"
           }
          ],
          "choropleth": [
           {
            "colorbar": {
             "outlinewidth": 0,
             "ticks": ""
            },
            "type": "choropleth"
           }
          ],
          "contour": [
           {
            "colorbar": {
             "outlinewidth": 0,
             "ticks": ""
            },
            "colorscale": [
             [
              0,
              "#0d0887"
             ],
             [
              0.1111111111111111,
              "#46039f"
             ],
             [
              0.2222222222222222,
              "#7201a8"
             ],
             [
              0.3333333333333333,
              "#9c179e"
             ],
             [
              0.4444444444444444,
              "#bd3786"
             ],
             [
              0.5555555555555556,
              "#d8576b"
             ],
             [
              0.6666666666666666,
              "#ed7953"
             ],
             [
              0.7777777777777778,
              "#fb9f3a"
             ],
             [
              0.8888888888888888,
              "#fdca26"
             ],
             [
              1,
              "#f0f921"
             ]
            ],
            "type": "contour"
           }
          ],
          "contourcarpet": [
           {
            "colorbar": {
             "outlinewidth": 0,
             "ticks": ""
            },
            "type": "contourcarpet"
           }
          ],
          "heatmap": [
           {
            "colorbar": {
             "outlinewidth": 0,
             "ticks": ""
            },
            "colorscale": [
             [
              0,
              "#0d0887"
             ],
             [
              0.1111111111111111,
              "#46039f"
             ],
             [
              0.2222222222222222,
              "#7201a8"
             ],
             [
              0.3333333333333333,
              "#9c179e"
             ],
             [
              0.4444444444444444,
              "#bd3786"
             ],
             [
              0.5555555555555556,
              "#d8576b"
             ],
             [
              0.6666666666666666,
              "#ed7953"
             ],
             [
              0.7777777777777778,
              "#fb9f3a"
             ],
             [
              0.8888888888888888,
              "#fdca26"
             ],
             [
              1,
              "#f0f921"
             ]
            ],
            "type": "heatmap"
           }
          ],
          "heatmapgl": [
           {
            "colorbar": {
             "outlinewidth": 0,
             "ticks": ""
            },
            "colorscale": [
             [
              0,
              "#0d0887"
             ],
             [
              0.1111111111111111,
              "#46039f"
             ],
             [
              0.2222222222222222,
              "#7201a8"
             ],
             [
              0.3333333333333333,
              "#9c179e"
             ],
             [
              0.4444444444444444,
              "#bd3786"
             ],
             [
              0.5555555555555556,
              "#d8576b"
             ],
             [
              0.6666666666666666,
              "#ed7953"
             ],
             [
              0.7777777777777778,
              "#fb9f3a"
             ],
             [
              0.8888888888888888,
              "#fdca26"
             ],
             [
              1,
              "#f0f921"
             ]
            ],
            "type": "heatmapgl"
           }
          ],
          "histogram": [
           {
            "marker": {
             "pattern": {
              "fillmode": "overlay",
              "size": 10,
              "solidity": 0.2
             }
            },
            "type": "histogram"
           }
          ],
          "histogram2d": [
           {
            "colorbar": {
             "outlinewidth": 0,
             "ticks": ""
            },
            "colorscale": [
             [
              0,
              "#0d0887"
             ],
             [
              0.1111111111111111,
              "#46039f"
             ],
             [
              0.2222222222222222,
              "#7201a8"
             ],
             [
              0.3333333333333333,
              "#9c179e"
             ],
             [
              0.4444444444444444,
              "#bd3786"
             ],
             [
              0.5555555555555556,
              "#d8576b"
             ],
             [
              0.6666666666666666,
              "#ed7953"
             ],
             [
              0.7777777777777778,
              "#fb9f3a"
             ],
             [
              0.8888888888888888,
              "#fdca26"
             ],
             [
              1,
              "#f0f921"
             ]
            ],
            "type": "histogram2d"
           }
          ],
          "histogram2dcontour": [
           {
            "colorbar": {
             "outlinewidth": 0,
             "ticks": ""
            },
            "colorscale": [
             [
              0,
              "#0d0887"
             ],
             [
              0.1111111111111111,
              "#46039f"
             ],
             [
              0.2222222222222222,
              "#7201a8"
             ],
             [
              0.3333333333333333,
              "#9c179e"
             ],
             [
              0.4444444444444444,
              "#bd3786"
             ],
             [
              0.5555555555555556,
              "#d8576b"
             ],
             [
              0.6666666666666666,
              "#ed7953"
             ],
             [
              0.7777777777777778,
              "#fb9f3a"
             ],
             [
              0.8888888888888888,
              "#fdca26"
             ],
             [
              1,
              "#f0f921"
             ]
            ],
            "type": "histogram2dcontour"
           }
          ],
          "mesh3d": [
           {
            "colorbar": {
             "outlinewidth": 0,
             "ticks": ""
            },
            "type": "mesh3d"
           }
          ],
          "parcoords": [
           {
            "line": {
             "colorbar": {
              "outlinewidth": 0,
              "ticks": ""
             }
            },
            "type": "parcoords"
           }
          ],
          "pie": [
           {
            "automargin": true,
            "type": "pie"
           }
          ],
          "scatter": [
           {
            "fillpattern": {
             "fillmode": "overlay",
             "size": 10,
             "solidity": 0.2
            },
            "type": "scatter"
           }
          ],
          "scatter3d": [
           {
            "line": {
             "colorbar": {
              "outlinewidth": 0,
              "ticks": ""
             }
            },
            "marker": {
             "colorbar": {
              "outlinewidth": 0,
              "ticks": ""
             }
            },
            "type": "scatter3d"
           }
          ],
          "scattercarpet": [
           {
            "marker": {
             "colorbar": {
              "outlinewidth": 0,
              "ticks": ""
             }
            },
            "type": "scattercarpet"
           }
          ],
          "scattergeo": [
           {
            "marker": {
             "colorbar": {
              "outlinewidth": 0,
              "ticks": ""
             }
            },
            "type": "scattergeo"
           }
          ],
          "scattergl": [
           {
            "marker": {
             "colorbar": {
              "outlinewidth": 0,
              "ticks": ""
             }
            },
            "type": "scattergl"
           }
          ],
          "scattermapbox": [
           {
            "marker": {
             "colorbar": {
              "outlinewidth": 0,
              "ticks": ""
             }
            },
            "type": "scattermapbox"
           }
          ],
          "scatterpolar": [
           {
            "marker": {
             "colorbar": {
              "outlinewidth": 0,
              "ticks": ""
             }
            },
            "type": "scatterpolar"
           }
          ],
          "scatterpolargl": [
           {
            "marker": {
             "colorbar": {
              "outlinewidth": 0,
              "ticks": ""
             }
            },
            "type": "scatterpolargl"
           }
          ],
          "scatterternary": [
           {
            "marker": {
             "colorbar": {
              "outlinewidth": 0,
              "ticks": ""
             }
            },
            "type": "scatterternary"
           }
          ],
          "surface": [
           {
            "colorbar": {
             "outlinewidth": 0,
             "ticks": ""
            },
            "colorscale": [
             [
              0,
              "#0d0887"
             ],
             [
              0.1111111111111111,
              "#46039f"
             ],
             [
              0.2222222222222222,
              "#7201a8"
             ],
             [
              0.3333333333333333,
              "#9c179e"
             ],
             [
              0.4444444444444444,
              "#bd3786"
             ],
             [
              0.5555555555555556,
              "#d8576b"
             ],
             [
              0.6666666666666666,
              "#ed7953"
             ],
             [
              0.7777777777777778,
              "#fb9f3a"
             ],
             [
              0.8888888888888888,
              "#fdca26"
             ],
             [
              1,
              "#f0f921"
             ]
            ],
            "type": "surface"
           }
          ],
          "table": [
           {
            "cells": {
             "fill": {
              "color": "#EBF0F8"
             },
             "line": {
              "color": "white"
             }
            },
            "header": {
             "fill": {
              "color": "#C8D4E3"
             },
             "line": {
              "color": "white"
             }
            },
            "type": "table"
           }
          ]
         },
         "layout": {
          "annotationdefaults": {
           "arrowcolor": "#2a3f5f",
           "arrowhead": 0,
           "arrowwidth": 1
          },
          "autotypenumbers": "strict",
          "coloraxis": {
           "colorbar": {
            "outlinewidth": 0,
            "ticks": ""
           }
          },
          "colorscale": {
           "diverging": [
            [
             0,
             "#8e0152"
            ],
            [
             0.1,
             "#c51b7d"
            ],
            [
             0.2,
             "#de77ae"
            ],
            [
             0.3,
             "#f1b6da"
            ],
            [
             0.4,
             "#fde0ef"
            ],
            [
             0.5,
             "#f7f7f7"
            ],
            [
             0.6,
             "#e6f5d0"
            ],
            [
             0.7,
             "#b8e186"
            ],
            [
             0.8,
             "#7fbc41"
            ],
            [
             0.9,
             "#4d9221"
            ],
            [
             1,
             "#276419"
            ]
           ],
           "sequential": [
            [
             0,
             "#0d0887"
            ],
            [
             0.1111111111111111,
             "#46039f"
            ],
            [
             0.2222222222222222,
             "#7201a8"
            ],
            [
             0.3333333333333333,
             "#9c179e"
            ],
            [
             0.4444444444444444,
             "#bd3786"
            ],
            [
             0.5555555555555556,
             "#d8576b"
            ],
            [
             0.6666666666666666,
             "#ed7953"
            ],
            [
             0.7777777777777778,
             "#fb9f3a"
            ],
            [
             0.8888888888888888,
             "#fdca26"
            ],
            [
             1,
             "#f0f921"
            ]
           ],
           "sequentialminus": [
            [
             0,
             "#0d0887"
            ],
            [
             0.1111111111111111,
             "#46039f"
            ],
            [
             0.2222222222222222,
             "#7201a8"
            ],
            [
             0.3333333333333333,
             "#9c179e"
            ],
            [
             0.4444444444444444,
             "#bd3786"
            ],
            [
             0.5555555555555556,
             "#d8576b"
            ],
            [
             0.6666666666666666,
             "#ed7953"
            ],
            [
             0.7777777777777778,
             "#fb9f3a"
            ],
            [
             0.8888888888888888,
             "#fdca26"
            ],
            [
             1,
             "#f0f921"
            ]
           ]
          },
          "colorway": [
           "#636efa",
           "#EF553B",
           "#00cc96",
           "#ab63fa",
           "#FFA15A",
           "#19d3f3",
           "#FF6692",
           "#B6E880",
           "#FF97FF",
           "#FECB52"
          ],
          "font": {
           "color": "#2a3f5f"
          },
          "geo": {
           "bgcolor": "white",
           "lakecolor": "white",
           "landcolor": "#E5ECF6",
           "showlakes": true,
           "showland": true,
           "subunitcolor": "white"
          },
          "hoverlabel": {
           "align": "left"
          },
          "hovermode": "closest",
          "mapbox": {
           "style": "light"
          },
          "paper_bgcolor": "white",
          "plot_bgcolor": "#E5ECF6",
          "polar": {
           "angularaxis": {
            "gridcolor": "white",
            "linecolor": "white",
            "ticks": ""
           },
           "bgcolor": "#E5ECF6",
           "radialaxis": {
            "gridcolor": "white",
            "linecolor": "white",
            "ticks": ""
           }
          },
          "scene": {
           "xaxis": {
            "backgroundcolor": "#E5ECF6",
            "gridcolor": "white",
            "gridwidth": 2,
            "linecolor": "white",
            "showbackground": true,
            "ticks": "",
            "zerolinecolor": "white"
           },
           "yaxis": {
            "backgroundcolor": "#E5ECF6",
            "gridcolor": "white",
            "gridwidth": 2,
            "linecolor": "white",
            "showbackground": true,
            "ticks": "",
            "zerolinecolor": "white"
           },
           "zaxis": {
            "backgroundcolor": "#E5ECF6",
            "gridcolor": "white",
            "gridwidth": 2,
            "linecolor": "white",
            "showbackground": true,
            "ticks": "",
            "zerolinecolor": "white"
           }
          },
          "shapedefaults": {
           "line": {
            "color": "#2a3f5f"
           }
          },
          "ternary": {
           "aaxis": {
            "gridcolor": "white",
            "linecolor": "white",
            "ticks": ""
           },
           "baxis": {
            "gridcolor": "white",
            "linecolor": "white",
            "ticks": ""
           },
           "bgcolor": "#E5ECF6",
           "caxis": {
            "gridcolor": "white",
            "linecolor": "white",
            "ticks": ""
           }
          },
          "title": {
           "x": 0.05
          },
          "xaxis": {
           "automargin": true,
           "gridcolor": "white",
           "linecolor": "white",
           "ticks": "",
           "title": {
            "standoff": 15
           },
           "zerolinecolor": "white",
           "zerolinewidth": 2
          },
          "yaxis": {
           "automargin": true,
           "gridcolor": "white",
           "linecolor": "white",
           "ticks": "",
           "title": {
            "standoff": 15
           },
           "zerolinecolor": "white",
           "zerolinewidth": 2
          }
         }
        },
        "title": {
         "text": "Набор 3: Нормализованный датасет и исходные столбцы",
         "x": 0.5
        },
        "width": 1200,
        "xaxis": {
         "domain": [
          0,
          0.5
         ],
         "title": {
          "text": "False Positive Rate"
         }
        },
        "xaxis2": {
         "domain": [
          0.6,
          1
         ]
        },
        "yaxis": {
         "title": {
          "text": "True Positive Rate"
         }
        },
        "yaxis2": {
         "anchor": "x2",
         "title": {
          "text": "Goals"
         }
        }
       }
      }
     },
     "metadata": {},
     "output_type": "display_data"
    },
    {
     "data": {
      "application/vnd.plotly.v1+json": {
       "config": {
        "plotlyServerURL": "https://plot.ly"
       },
       "data": [
        {
         "line": {
          "color": "blue"
         },
         "name": "ROC curve Test",
         "type": "scatter",
         "x": [
          0,
          0,
          0.043478260869565216,
          0.08695652173913043,
          0.13043478260869565,
          0.1956521739130435,
          0.2608695652173913,
          0.34782608695652173,
          0.391304347826087,
          0.45652173913043476,
          0.5434782608695652,
          0.6521739130434783,
          0.7391304347826086,
          1
         ],
         "y": [
          0,
          0.16216216216216217,
          0.2702702702702703,
          0.5135135135135135,
          0.5675675675675675,
          0.5945945945945946,
          0.7297297297297297,
          0.7567567567567568,
          0.7837837837837838,
          0.8108108108108109,
          0.8918918918918919,
          0.9459459459459459,
          0.9459459459459459,
          1
         ]
        },
        {
         "line": {
          "color": "green"
         },
         "name": "ROC curve Train",
         "type": "scatter",
         "x": [
          0,
          0,
          0,
          0,
          0.03804347826086957,
          0.07608695652173914,
          0.11956521739130435,
          0.14673913043478262,
          0.18478260869565216,
          0.21739130434782608,
          0.30434782608695654,
          0.41304347826086957,
          0.4945652173913043,
          0.5978260869565217,
          0.7065217391304348,
          0.8858695652173914,
          0.9836956521739131,
          1
         ],
         "y": [
          0,
          0.006802721088435374,
          0.02040816326530612,
          0.10204081632653061,
          0.2585034013605442,
          0.3741496598639456,
          0.48299319727891155,
          0.5782312925170068,
          0.6598639455782312,
          0.7687074829931972,
          0.8231292517006803,
          0.8639455782312925,
          0.9047619047619048,
          0.9183673469387755,
          0.9523809523809523,
          0.9863945578231292,
          1,
          1
         ]
        },
        {
         "line": {
          "color": "gray",
          "dash": "dash"
         },
         "showlegend": false,
         "type": "scatter",
         "x": [
          0,
          1
         ],
         "y": [
          0,
          1
         ]
        },
        {
         "name": "Test Metrics",
         "showlegend": true,
         "text": [
          0.7349,
          0.6923,
          0.7297,
          0.7911
         ],
         "textangle": 0,
         "type": "bar",
         "x": [
          "accuracy",
          "precision",
          "recall",
          "ROC AUC"
         ],
         "xaxis": "x2",
         "y": [
          0.7349397590361446,
          0.6923076923076923,
          0.7297297297297297,
          0.7911280846063455
         ],
         "yaxis": "y2"
        },
        {
         "name": "Train Metrics",
         "showlegend": true,
         "text": [
          0.7462,
          0.7405,
          0.6599,
          0.8149
         ],
         "textangle": 0,
         "type": "bar",
         "x": [
          "accuracy",
          "precision",
          "recall",
          "ROC AUC"
         ],
         "xaxis": "x2",
         "y": [
          0.7462235649546828,
          0.7404580152671756,
          0.6598639455782312,
          0.8149031351671103
         ],
         "yaxis": "y2"
        }
       ],
       "layout": {
        "height": 530,
        "legend": {
         "x": 0.49,
         "xanchor": "right",
         "y": 0.01,
         "yanchor": "bottom"
        },
        "margin": {
         "b": 100,
         "t": 50
        },
        "template": {
         "data": {
          "bar": [
           {
            "error_x": {
             "color": "#2a3f5f"
            },
            "error_y": {
             "color": "#2a3f5f"
            },
            "marker": {
             "line": {
              "color": "#E5ECF6",
              "width": 0.5
             },
             "pattern": {
              "fillmode": "overlay",
              "size": 10,
              "solidity": 0.2
             }
            },
            "type": "bar"
           }
          ],
          "barpolar": [
           {
            "marker": {
             "line": {
              "color": "#E5ECF6",
              "width": 0.5
             },
             "pattern": {
              "fillmode": "overlay",
              "size": 10,
              "solidity": 0.2
             }
            },
            "type": "barpolar"
           }
          ],
          "carpet": [
           {
            "aaxis": {
             "endlinecolor": "#2a3f5f",
             "gridcolor": "white",
             "linecolor": "white",
             "minorgridcolor": "white",
             "startlinecolor": "#2a3f5f"
            },
            "baxis": {
             "endlinecolor": "#2a3f5f",
             "gridcolor": "white",
             "linecolor": "white",
             "minorgridcolor": "white",
             "startlinecolor": "#2a3f5f"
            },
            "type": "carpet"
           }
          ],
          "choropleth": [
           {
            "colorbar": {
             "outlinewidth": 0,
             "ticks": ""
            },
            "type": "choropleth"
           }
          ],
          "contour": [
           {
            "colorbar": {
             "outlinewidth": 0,
             "ticks": ""
            },
            "colorscale": [
             [
              0,
              "#0d0887"
             ],
             [
              0.1111111111111111,
              "#46039f"
             ],
             [
              0.2222222222222222,
              "#7201a8"
             ],
             [
              0.3333333333333333,
              "#9c179e"
             ],
             [
              0.4444444444444444,
              "#bd3786"
             ],
             [
              0.5555555555555556,
              "#d8576b"
             ],
             [
              0.6666666666666666,
              "#ed7953"
             ],
             [
              0.7777777777777778,
              "#fb9f3a"
             ],
             [
              0.8888888888888888,
              "#fdca26"
             ],
             [
              1,
              "#f0f921"
             ]
            ],
            "type": "contour"
           }
          ],
          "contourcarpet": [
           {
            "colorbar": {
             "outlinewidth": 0,
             "ticks": ""
            },
            "type": "contourcarpet"
           }
          ],
          "heatmap": [
           {
            "colorbar": {
             "outlinewidth": 0,
             "ticks": ""
            },
            "colorscale": [
             [
              0,
              "#0d0887"
             ],
             [
              0.1111111111111111,
              "#46039f"
             ],
             [
              0.2222222222222222,
              "#7201a8"
             ],
             [
              0.3333333333333333,
              "#9c179e"
             ],
             [
              0.4444444444444444,
              "#bd3786"
             ],
             [
              0.5555555555555556,
              "#d8576b"
             ],
             [
              0.6666666666666666,
              "#ed7953"
             ],
             [
              0.7777777777777778,
              "#fb9f3a"
             ],
             [
              0.8888888888888888,
              "#fdca26"
             ],
             [
              1,
              "#f0f921"
             ]
            ],
            "type": "heatmap"
           }
          ],
          "heatmapgl": [
           {
            "colorbar": {
             "outlinewidth": 0,
             "ticks": ""
            },
            "colorscale": [
             [
              0,
              "#0d0887"
             ],
             [
              0.1111111111111111,
              "#46039f"
             ],
             [
              0.2222222222222222,
              "#7201a8"
             ],
             [
              0.3333333333333333,
              "#9c179e"
             ],
             [
              0.4444444444444444,
              "#bd3786"
             ],
             [
              0.5555555555555556,
              "#d8576b"
             ],
             [
              0.6666666666666666,
              "#ed7953"
             ],
             [
              0.7777777777777778,
              "#fb9f3a"
             ],
             [
              0.8888888888888888,
              "#fdca26"
             ],
             [
              1,
              "#f0f921"
             ]
            ],
            "type": "heatmapgl"
           }
          ],
          "histogram": [
           {
            "marker": {
             "pattern": {
              "fillmode": "overlay",
              "size": 10,
              "solidity": 0.2
             }
            },
            "type": "histogram"
           }
          ],
          "histogram2d": [
           {
            "colorbar": {
             "outlinewidth": 0,
             "ticks": ""
            },
            "colorscale": [
             [
              0,
              "#0d0887"
             ],
             [
              0.1111111111111111,
              "#46039f"
             ],
             [
              0.2222222222222222,
              "#7201a8"
             ],
             [
              0.3333333333333333,
              "#9c179e"
             ],
             [
              0.4444444444444444,
              "#bd3786"
             ],
             [
              0.5555555555555556,
              "#d8576b"
             ],
             [
              0.6666666666666666,
              "#ed7953"
             ],
             [
              0.7777777777777778,
              "#fb9f3a"
             ],
             [
              0.8888888888888888,
              "#fdca26"
             ],
             [
              1,
              "#f0f921"
             ]
            ],
            "type": "histogram2d"
           }
          ],
          "histogram2dcontour": [
           {
            "colorbar": {
             "outlinewidth": 0,
             "ticks": ""
            },
            "colorscale": [
             [
              0,
              "#0d0887"
             ],
             [
              0.1111111111111111,
              "#46039f"
             ],
             [
              0.2222222222222222,
              "#7201a8"
             ],
             [
              0.3333333333333333,
              "#9c179e"
             ],
             [
              0.4444444444444444,
              "#bd3786"
             ],
             [
              0.5555555555555556,
              "#d8576b"
             ],
             [
              0.6666666666666666,
              "#ed7953"
             ],
             [
              0.7777777777777778,
              "#fb9f3a"
             ],
             [
              0.8888888888888888,
              "#fdca26"
             ],
             [
              1,
              "#f0f921"
             ]
            ],
            "type": "histogram2dcontour"
           }
          ],
          "mesh3d": [
           {
            "colorbar": {
             "outlinewidth": 0,
             "ticks": ""
            },
            "type": "mesh3d"
           }
          ],
          "parcoords": [
           {
            "line": {
             "colorbar": {
              "outlinewidth": 0,
              "ticks": ""
             }
            },
            "type": "parcoords"
           }
          ],
          "pie": [
           {
            "automargin": true,
            "type": "pie"
           }
          ],
          "scatter": [
           {
            "fillpattern": {
             "fillmode": "overlay",
             "size": 10,
             "solidity": 0.2
            },
            "type": "scatter"
           }
          ],
          "scatter3d": [
           {
            "line": {
             "colorbar": {
              "outlinewidth": 0,
              "ticks": ""
             }
            },
            "marker": {
             "colorbar": {
              "outlinewidth": 0,
              "ticks": ""
             }
            },
            "type": "scatter3d"
           }
          ],
          "scattercarpet": [
           {
            "marker": {
             "colorbar": {
              "outlinewidth": 0,
              "ticks": ""
             }
            },
            "type": "scattercarpet"
           }
          ],
          "scattergeo": [
           {
            "marker": {
             "colorbar": {
              "outlinewidth": 0,
              "ticks": ""
             }
            },
            "type": "scattergeo"
           }
          ],
          "scattergl": [
           {
            "marker": {
             "colorbar": {
              "outlinewidth": 0,
              "ticks": ""
             }
            },
            "type": "scattergl"
           }
          ],
          "scattermapbox": [
           {
            "marker": {
             "colorbar": {
              "outlinewidth": 0,
              "ticks": ""
             }
            },
            "type": "scattermapbox"
           }
          ],
          "scatterpolar": [
           {
            "marker": {
             "colorbar": {
              "outlinewidth": 0,
              "ticks": ""
             }
            },
            "type": "scatterpolar"
           }
          ],
          "scatterpolargl": [
           {
            "marker": {
             "colorbar": {
              "outlinewidth": 0,
              "ticks": ""
             }
            },
            "type": "scatterpolargl"
           }
          ],
          "scatterternary": [
           {
            "marker": {
             "colorbar": {
              "outlinewidth": 0,
              "ticks": ""
             }
            },
            "type": "scatterternary"
           }
          ],
          "surface": [
           {
            "colorbar": {
             "outlinewidth": 0,
             "ticks": ""
            },
            "colorscale": [
             [
              0,
              "#0d0887"
             ],
             [
              0.1111111111111111,
              "#46039f"
             ],
             [
              0.2222222222222222,
              "#7201a8"
             ],
             [
              0.3333333333333333,
              "#9c179e"
             ],
             [
              0.4444444444444444,
              "#bd3786"
             ],
             [
              0.5555555555555556,
              "#d8576b"
             ],
             [
              0.6666666666666666,
              "#ed7953"
             ],
             [
              0.7777777777777778,
              "#fb9f3a"
             ],
             [
              0.8888888888888888,
              "#fdca26"
             ],
             [
              1,
              "#f0f921"
             ]
            ],
            "type": "surface"
           }
          ],
          "table": [
           {
            "cells": {
             "fill": {
              "color": "#EBF0F8"
             },
             "line": {
              "color": "white"
             }
            },
            "header": {
             "fill": {
              "color": "#C8D4E3"
             },
             "line": {
              "color": "white"
             }
            },
            "type": "table"
           }
          ]
         },
         "layout": {
          "annotationdefaults": {
           "arrowcolor": "#2a3f5f",
           "arrowhead": 0,
           "arrowwidth": 1
          },
          "autotypenumbers": "strict",
          "coloraxis": {
           "colorbar": {
            "outlinewidth": 0,
            "ticks": ""
           }
          },
          "colorscale": {
           "diverging": [
            [
             0,
             "#8e0152"
            ],
            [
             0.1,
             "#c51b7d"
            ],
            [
             0.2,
             "#de77ae"
            ],
            [
             0.3,
             "#f1b6da"
            ],
            [
             0.4,
             "#fde0ef"
            ],
            [
             0.5,
             "#f7f7f7"
            ],
            [
             0.6,
             "#e6f5d0"
            ],
            [
             0.7,
             "#b8e186"
            ],
            [
             0.8,
             "#7fbc41"
            ],
            [
             0.9,
             "#4d9221"
            ],
            [
             1,
             "#276419"
            ]
           ],
           "sequential": [
            [
             0,
             "#0d0887"
            ],
            [
             0.1111111111111111,
             "#46039f"
            ],
            [
             0.2222222222222222,
             "#7201a8"
            ],
            [
             0.3333333333333333,
             "#9c179e"
            ],
            [
             0.4444444444444444,
             "#bd3786"
            ],
            [
             0.5555555555555556,
             "#d8576b"
            ],
            [
             0.6666666666666666,
             "#ed7953"
            ],
            [
             0.7777777777777778,
             "#fb9f3a"
            ],
            [
             0.8888888888888888,
             "#fdca26"
            ],
            [
             1,
             "#f0f921"
            ]
           ],
           "sequentialminus": [
            [
             0,
             "#0d0887"
            ],
            [
             0.1111111111111111,
             "#46039f"
            ],
            [
             0.2222222222222222,
             "#7201a8"
            ],
            [
             0.3333333333333333,
             "#9c179e"
            ],
            [
             0.4444444444444444,
             "#bd3786"
            ],
            [
             0.5555555555555556,
             "#d8576b"
            ],
            [
             0.6666666666666666,
             "#ed7953"
            ],
            [
             0.7777777777777778,
             "#fb9f3a"
            ],
            [
             0.8888888888888888,
             "#fdca26"
            ],
            [
             1,
             "#f0f921"
            ]
           ]
          },
          "colorway": [
           "#636efa",
           "#EF553B",
           "#00cc96",
           "#ab63fa",
           "#FFA15A",
           "#19d3f3",
           "#FF6692",
           "#B6E880",
           "#FF97FF",
           "#FECB52"
          ],
          "font": {
           "color": "#2a3f5f"
          },
          "geo": {
           "bgcolor": "white",
           "lakecolor": "white",
           "landcolor": "#E5ECF6",
           "showlakes": true,
           "showland": true,
           "subunitcolor": "white"
          },
          "hoverlabel": {
           "align": "left"
          },
          "hovermode": "closest",
          "mapbox": {
           "style": "light"
          },
          "paper_bgcolor": "white",
          "plot_bgcolor": "#E5ECF6",
          "polar": {
           "angularaxis": {
            "gridcolor": "white",
            "linecolor": "white",
            "ticks": ""
           },
           "bgcolor": "#E5ECF6",
           "radialaxis": {
            "gridcolor": "white",
            "linecolor": "white",
            "ticks": ""
           }
          },
          "scene": {
           "xaxis": {
            "backgroundcolor": "#E5ECF6",
            "gridcolor": "white",
            "gridwidth": 2,
            "linecolor": "white",
            "showbackground": true,
            "ticks": "",
            "zerolinecolor": "white"
           },
           "yaxis": {
            "backgroundcolor": "#E5ECF6",
            "gridcolor": "white",
            "gridwidth": 2,
            "linecolor": "white",
            "showbackground": true,
            "ticks": "",
            "zerolinecolor": "white"
           },
           "zaxis": {
            "backgroundcolor": "#E5ECF6",
            "gridcolor": "white",
            "gridwidth": 2,
            "linecolor": "white",
            "showbackground": true,
            "ticks": "",
            "zerolinecolor": "white"
           }
          },
          "shapedefaults": {
           "line": {
            "color": "#2a3f5f"
           }
          },
          "ternary": {
           "aaxis": {
            "gridcolor": "white",
            "linecolor": "white",
            "ticks": ""
           },
           "baxis": {
            "gridcolor": "white",
            "linecolor": "white",
            "ticks": ""
           },
           "bgcolor": "#E5ECF6",
           "caxis": {
            "gridcolor": "white",
            "linecolor": "white",
            "ticks": ""
           }
          },
          "title": {
           "x": 0.05
          },
          "xaxis": {
           "automargin": true,
           "gridcolor": "white",
           "linecolor": "white",
           "ticks": "",
           "title": {
            "standoff": 15
           },
           "zerolinecolor": "white",
           "zerolinewidth": 2
          },
          "yaxis": {
           "automargin": true,
           "gridcolor": "white",
           "linecolor": "white",
           "ticks": "",
           "title": {
            "standoff": 15
           },
           "zerolinecolor": "white",
           "zerolinewidth": 2
          }
         }
        },
        "title": {
         "text": "Набор 4: Нормализованный датасет и столбцы без выбросов",
         "x": 0.5
        },
        "width": 1200,
        "xaxis": {
         "domain": [
          0,
          0.5
         ],
         "title": {
          "text": "False Positive Rate"
         }
        },
        "xaxis2": {
         "domain": [
          0.6,
          1
         ]
        },
        "yaxis": {
         "title": {
          "text": "True Positive Rate"
         }
        },
        "yaxis2": {
         "anchor": "x2",
         "title": {
          "text": "Goals"
         }
        }
       }
      }
     },
     "metadata": {},
     "output_type": "display_data"
    },
    {
     "data": {
      "application/vnd.plotly.v1+json": {
       "config": {
        "plotlyServerURL": "https://plot.ly"
       },
       "data": [
        {
         "line": {
          "color": "blue"
         },
         "name": "ROC curve Test",
         "type": "scatter",
         "x": [
          0,
          0,
          0.021739130434782608,
          0.043478260869565216,
          0.08695652173913043,
          0.13043478260869565,
          0.15217391304347827,
          0.21739130434782608,
          0.34782608695652173,
          0.391304347826087,
          0.5,
          0.5869565217391305,
          0.717391304347826,
          0.8478260869565217,
          1
         ],
         "y": [
          0,
          0.05405405405405406,
          0.16216216216216217,
          0.2972972972972973,
          0.4594594594594595,
          0.5945945945945946,
          0.6756756756756757,
          0.7297297297297297,
          0.7567567567567568,
          0.7837837837837838,
          0.8378378378378378,
          0.8918918918918919,
          0.9459459459459459,
          0.972972972972973,
          1
         ]
        },
        {
         "line": {
          "color": "green"
         },
         "name": "ROC curve Train",
         "type": "scatter",
         "x": [
          0,
          0,
          0,
          0.010869565217391304,
          0.04891304347826087,
          0.08152173913043478,
          0.11956521739130435,
          0.15217391304347827,
          0.1956521739130435,
          0.25,
          0.3423913043478261,
          0.42934782608695654,
          0.5597826086956522,
          0.6956521739130435,
          0.8641304347826086,
          0.9728260869565217,
          1
         ],
         "y": [
          0,
          0.006802721088435374,
          0.04081632653061224,
          0.1564625850340136,
          0.2925170068027211,
          0.4421768707482993,
          0.54421768707483,
          0.6054421768707483,
          0.7006802721088435,
          0.7551020408163265,
          0.8435374149659864,
          0.8843537414965986,
          0.9183673469387755,
          0.9387755102040817,
          0.9863945578231292,
          1,
          1
         ]
        },
        {
         "line": {
          "color": "gray",
          "dash": "dash"
         },
         "showlegend": false,
         "type": "scatter",
         "x": [
          0,
          1
         ],
         "y": [
          0,
          1
         ]
        },
        {
         "name": "Test Metrics",
         "showlegend": true,
         "text": [
          0.759,
          0.7297,
          0.7297,
          0.7952
         ],
         "textangle": 0,
         "type": "bar",
         "x": [
          "accuracy",
          "precision",
          "recall",
          "ROC AUC"
         ],
         "xaxis": "x2",
         "y": [
          0.7590361445783133,
          0.7297297297297297,
          0.7297297297297297,
          0.7952408930669801
         ],
         "yaxis": "y2"
        },
        {
         "name": "Train Metrics",
         "showlegend": true,
         "text": [
          0.7583,
          0.741,
          0.7007,
          0.8171
         ],
         "textangle": 0,
         "type": "bar",
         "x": [
          "accuracy",
          "precision",
          "recall",
          "ROC AUC"
         ],
         "xaxis": "x2",
         "y": [
          0.7583081570996979,
          0.7410071942446043,
          0.7006802721088435,
          0.8170659568175096
         ],
         "yaxis": "y2"
        }
       ],
       "layout": {
        "height": 530,
        "legend": {
         "x": 0.49,
         "xanchor": "right",
         "y": 0.01,
         "yanchor": "bottom"
        },
        "margin": {
         "b": 100,
         "t": 50
        },
        "template": {
         "data": {
          "bar": [
           {
            "error_x": {
             "color": "#2a3f5f"
            },
            "error_y": {
             "color": "#2a3f5f"
            },
            "marker": {
             "line": {
              "color": "#E5ECF6",
              "width": 0.5
             },
             "pattern": {
              "fillmode": "overlay",
              "size": 10,
              "solidity": 0.2
             }
            },
            "type": "bar"
           }
          ],
          "barpolar": [
           {
            "marker": {
             "line": {
              "color": "#E5ECF6",
              "width": 0.5
             },
             "pattern": {
              "fillmode": "overlay",
              "size": 10,
              "solidity": 0.2
             }
            },
            "type": "barpolar"
           }
          ],
          "carpet": [
           {
            "aaxis": {
             "endlinecolor": "#2a3f5f",
             "gridcolor": "white",
             "linecolor": "white",
             "minorgridcolor": "white",
             "startlinecolor": "#2a3f5f"
            },
            "baxis": {
             "endlinecolor": "#2a3f5f",
             "gridcolor": "white",
             "linecolor": "white",
             "minorgridcolor": "white",
             "startlinecolor": "#2a3f5f"
            },
            "type": "carpet"
           }
          ],
          "choropleth": [
           {
            "colorbar": {
             "outlinewidth": 0,
             "ticks": ""
            },
            "type": "choropleth"
           }
          ],
          "contour": [
           {
            "colorbar": {
             "outlinewidth": 0,
             "ticks": ""
            },
            "colorscale": [
             [
              0,
              "#0d0887"
             ],
             [
              0.1111111111111111,
              "#46039f"
             ],
             [
              0.2222222222222222,
              "#7201a8"
             ],
             [
              0.3333333333333333,
              "#9c179e"
             ],
             [
              0.4444444444444444,
              "#bd3786"
             ],
             [
              0.5555555555555556,
              "#d8576b"
             ],
             [
              0.6666666666666666,
              "#ed7953"
             ],
             [
              0.7777777777777778,
              "#fb9f3a"
             ],
             [
              0.8888888888888888,
              "#fdca26"
             ],
             [
              1,
              "#f0f921"
             ]
            ],
            "type": "contour"
           }
          ],
          "contourcarpet": [
           {
            "colorbar": {
             "outlinewidth": 0,
             "ticks": ""
            },
            "type": "contourcarpet"
           }
          ],
          "heatmap": [
           {
            "colorbar": {
             "outlinewidth": 0,
             "ticks": ""
            },
            "colorscale": [
             [
              0,
              "#0d0887"
             ],
             [
              0.1111111111111111,
              "#46039f"
             ],
             [
              0.2222222222222222,
              "#7201a8"
             ],
             [
              0.3333333333333333,
              "#9c179e"
             ],
             [
              0.4444444444444444,
              "#bd3786"
             ],
             [
              0.5555555555555556,
              "#d8576b"
             ],
             [
              0.6666666666666666,
              "#ed7953"
             ],
             [
              0.7777777777777778,
              "#fb9f3a"
             ],
             [
              0.8888888888888888,
              "#fdca26"
             ],
             [
              1,
              "#f0f921"
             ]
            ],
            "type": "heatmap"
           }
          ],
          "heatmapgl": [
           {
            "colorbar": {
             "outlinewidth": 0,
             "ticks": ""
            },
            "colorscale": [
             [
              0,
              "#0d0887"
             ],
             [
              0.1111111111111111,
              "#46039f"
             ],
             [
              0.2222222222222222,
              "#7201a8"
             ],
             [
              0.3333333333333333,
              "#9c179e"
             ],
             [
              0.4444444444444444,
              "#bd3786"
             ],
             [
              0.5555555555555556,
              "#d8576b"
             ],
             [
              0.6666666666666666,
              "#ed7953"
             ],
             [
              0.7777777777777778,
              "#fb9f3a"
             ],
             [
              0.8888888888888888,
              "#fdca26"
             ],
             [
              1,
              "#f0f921"
             ]
            ],
            "type": "heatmapgl"
           }
          ],
          "histogram": [
           {
            "marker": {
             "pattern": {
              "fillmode": "overlay",
              "size": 10,
              "solidity": 0.2
             }
            },
            "type": "histogram"
           }
          ],
          "histogram2d": [
           {
            "colorbar": {
             "outlinewidth": 0,
             "ticks": ""
            },
            "colorscale": [
             [
              0,
              "#0d0887"
             ],
             [
              0.1111111111111111,
              "#46039f"
             ],
             [
              0.2222222222222222,
              "#7201a8"
             ],
             [
              0.3333333333333333,
              "#9c179e"
             ],
             [
              0.4444444444444444,
              "#bd3786"
             ],
             [
              0.5555555555555556,
              "#d8576b"
             ],
             [
              0.6666666666666666,
              "#ed7953"
             ],
             [
              0.7777777777777778,
              "#fb9f3a"
             ],
             [
              0.8888888888888888,
              "#fdca26"
             ],
             [
              1,
              "#f0f921"
             ]
            ],
            "type": "histogram2d"
           }
          ],
          "histogram2dcontour": [
           {
            "colorbar": {
             "outlinewidth": 0,
             "ticks": ""
            },
            "colorscale": [
             [
              0,
              "#0d0887"
             ],
             [
              0.1111111111111111,
              "#46039f"
             ],
             [
              0.2222222222222222,
              "#7201a8"
             ],
             [
              0.3333333333333333,
              "#9c179e"
             ],
             [
              0.4444444444444444,
              "#bd3786"
             ],
             [
              0.5555555555555556,
              "#d8576b"
             ],
             [
              0.6666666666666666,
              "#ed7953"
             ],
             [
              0.7777777777777778,
              "#fb9f3a"
             ],
             [
              0.8888888888888888,
              "#fdca26"
             ],
             [
              1,
              "#f0f921"
             ]
            ],
            "type": "histogram2dcontour"
           }
          ],
          "mesh3d": [
           {
            "colorbar": {
             "outlinewidth": 0,
             "ticks": ""
            },
            "type": "mesh3d"
           }
          ],
          "parcoords": [
           {
            "line": {
             "colorbar": {
              "outlinewidth": 0,
              "ticks": ""
             }
            },
            "type": "parcoords"
           }
          ],
          "pie": [
           {
            "automargin": true,
            "type": "pie"
           }
          ],
          "scatter": [
           {
            "fillpattern": {
             "fillmode": "overlay",
             "size": 10,
             "solidity": 0.2
            },
            "type": "scatter"
           }
          ],
          "scatter3d": [
           {
            "line": {
             "colorbar": {
              "outlinewidth": 0,
              "ticks": ""
             }
            },
            "marker": {
             "colorbar": {
              "outlinewidth": 0,
              "ticks": ""
             }
            },
            "type": "scatter3d"
           }
          ],
          "scattercarpet": [
           {
            "marker": {
             "colorbar": {
              "outlinewidth": 0,
              "ticks": ""
             }
            },
            "type": "scattercarpet"
           }
          ],
          "scattergeo": [
           {
            "marker": {
             "colorbar": {
              "outlinewidth": 0,
              "ticks": ""
             }
            },
            "type": "scattergeo"
           }
          ],
          "scattergl": [
           {
            "marker": {
             "colorbar": {
              "outlinewidth": 0,
              "ticks": ""
             }
            },
            "type": "scattergl"
           }
          ],
          "scattermapbox": [
           {
            "marker": {
             "colorbar": {
              "outlinewidth": 0,
              "ticks": ""
             }
            },
            "type": "scattermapbox"
           }
          ],
          "scatterpolar": [
           {
            "marker": {
             "colorbar": {
              "outlinewidth": 0,
              "ticks": ""
             }
            },
            "type": "scatterpolar"
           }
          ],
          "scatterpolargl": [
           {
            "marker": {
             "colorbar": {
              "outlinewidth": 0,
              "ticks": ""
             }
            },
            "type": "scatterpolargl"
           }
          ],
          "scatterternary": [
           {
            "marker": {
             "colorbar": {
              "outlinewidth": 0,
              "ticks": ""
             }
            },
            "type": "scatterternary"
           }
          ],
          "surface": [
           {
            "colorbar": {
             "outlinewidth": 0,
             "ticks": ""
            },
            "colorscale": [
             [
              0,
              "#0d0887"
             ],
             [
              0.1111111111111111,
              "#46039f"
             ],
             [
              0.2222222222222222,
              "#7201a8"
             ],
             [
              0.3333333333333333,
              "#9c179e"
             ],
             [
              0.4444444444444444,
              "#bd3786"
             ],
             [
              0.5555555555555556,
              "#d8576b"
             ],
             [
              0.6666666666666666,
              "#ed7953"
             ],
             [
              0.7777777777777778,
              "#fb9f3a"
             ],
             [
              0.8888888888888888,
              "#fdca26"
             ],
             [
              1,
              "#f0f921"
             ]
            ],
            "type": "surface"
           }
          ],
          "table": [
           {
            "cells": {
             "fill": {
              "color": "#EBF0F8"
             },
             "line": {
              "color": "white"
             }
            },
            "header": {
             "fill": {
              "color": "#C8D4E3"
             },
             "line": {
              "color": "white"
             }
            },
            "type": "table"
           }
          ]
         },
         "layout": {
          "annotationdefaults": {
           "arrowcolor": "#2a3f5f",
           "arrowhead": 0,
           "arrowwidth": 1
          },
          "autotypenumbers": "strict",
          "coloraxis": {
           "colorbar": {
            "outlinewidth": 0,
            "ticks": ""
           }
          },
          "colorscale": {
           "diverging": [
            [
             0,
             "#8e0152"
            ],
            [
             0.1,
             "#c51b7d"
            ],
            [
             0.2,
             "#de77ae"
            ],
            [
             0.3,
             "#f1b6da"
            ],
            [
             0.4,
             "#fde0ef"
            ],
            [
             0.5,
             "#f7f7f7"
            ],
            [
             0.6,
             "#e6f5d0"
            ],
            [
             0.7,
             "#b8e186"
            ],
            [
             0.8,
             "#7fbc41"
            ],
            [
             0.9,
             "#4d9221"
            ],
            [
             1,
             "#276419"
            ]
           ],
           "sequential": [
            [
             0,
             "#0d0887"
            ],
            [
             0.1111111111111111,
             "#46039f"
            ],
            [
             0.2222222222222222,
             "#7201a8"
            ],
            [
             0.3333333333333333,
             "#9c179e"
            ],
            [
             0.4444444444444444,
             "#bd3786"
            ],
            [
             0.5555555555555556,
             "#d8576b"
            ],
            [
             0.6666666666666666,
             "#ed7953"
            ],
            [
             0.7777777777777778,
             "#fb9f3a"
            ],
            [
             0.8888888888888888,
             "#fdca26"
            ],
            [
             1,
             "#f0f921"
            ]
           ],
           "sequentialminus": [
            [
             0,
             "#0d0887"
            ],
            [
             0.1111111111111111,
             "#46039f"
            ],
            [
             0.2222222222222222,
             "#7201a8"
            ],
            [
             0.3333333333333333,
             "#9c179e"
            ],
            [
             0.4444444444444444,
             "#bd3786"
            ],
            [
             0.5555555555555556,
             "#d8576b"
            ],
            [
             0.6666666666666666,
             "#ed7953"
            ],
            [
             0.7777777777777778,
             "#fb9f3a"
            ],
            [
             0.8888888888888888,
             "#fdca26"
            ],
            [
             1,
             "#f0f921"
            ]
           ]
          },
          "colorway": [
           "#636efa",
           "#EF553B",
           "#00cc96",
           "#ab63fa",
           "#FFA15A",
           "#19d3f3",
           "#FF6692",
           "#B6E880",
           "#FF97FF",
           "#FECB52"
          ],
          "font": {
           "color": "#2a3f5f"
          },
          "geo": {
           "bgcolor": "white",
           "lakecolor": "white",
           "landcolor": "#E5ECF6",
           "showlakes": true,
           "showland": true,
           "subunitcolor": "white"
          },
          "hoverlabel": {
           "align": "left"
          },
          "hovermode": "closest",
          "mapbox": {
           "style": "light"
          },
          "paper_bgcolor": "white",
          "plot_bgcolor": "#E5ECF6",
          "polar": {
           "angularaxis": {
            "gridcolor": "white",
            "linecolor": "white",
            "ticks": ""
           },
           "bgcolor": "#E5ECF6",
           "radialaxis": {
            "gridcolor": "white",
            "linecolor": "white",
            "ticks": ""
           }
          },
          "scene": {
           "xaxis": {
            "backgroundcolor": "#E5ECF6",
            "gridcolor": "white",
            "gridwidth": 2,
            "linecolor": "white",
            "showbackground": true,
            "ticks": "",
            "zerolinecolor": "white"
           },
           "yaxis": {
            "backgroundcolor": "#E5ECF6",
            "gridcolor": "white",
            "gridwidth": 2,
            "linecolor": "white",
            "showbackground": true,
            "ticks": "",
            "zerolinecolor": "white"
           },
           "zaxis": {
            "backgroundcolor": "#E5ECF6",
            "gridcolor": "white",
            "gridwidth": 2,
            "linecolor": "white",
            "showbackground": true,
            "ticks": "",
            "zerolinecolor": "white"
           }
          },
          "shapedefaults": {
           "line": {
            "color": "#2a3f5f"
           }
          },
          "ternary": {
           "aaxis": {
            "gridcolor": "white",
            "linecolor": "white",
            "ticks": ""
           },
           "baxis": {
            "gridcolor": "white",
            "linecolor": "white",
            "ticks": ""
           },
           "bgcolor": "#E5ECF6",
           "caxis": {
            "gridcolor": "white",
            "linecolor": "white",
            "ticks": ""
           }
          },
          "title": {
           "x": 0.05
          },
          "xaxis": {
           "automargin": true,
           "gridcolor": "white",
           "linecolor": "white",
           "ticks": "",
           "title": {
            "standoff": 15
           },
           "zerolinecolor": "white",
           "zerolinewidth": 2
          },
          "yaxis": {
           "automargin": true,
           "gridcolor": "white",
           "linecolor": "white",
           "ticks": "",
           "title": {
            "standoff": 15
           },
           "zerolinecolor": "white",
           "zerolinewidth": 2
          }
         }
        },
        "title": {
         "text": "Набор 5: Нормализованный датасет и исходные столбцы (\"n_neighbors\": range(1, 21, 3))",
         "x": 0.5
        },
        "width": 1200,
        "xaxis": {
         "domain": [
          0,
          0.5
         ],
         "title": {
          "text": "False Positive Rate"
         }
        },
        "xaxis2": {
         "domain": [
          0.6,
          1
         ]
        },
        "yaxis": {
         "title": {
          "text": "True Positive Rate"
         }
        },
        "yaxis2": {
         "anchor": "x2",
         "title": {
          "text": "Goals"
         }
        }
       }
      }
     },
     "metadata": {},
     "output_type": "display_data"
    }
   ],
   "source": [
    "for set in sets:\n",
    "    X_train, X_test, y_train, y_test, grid_search, knn_best, knn_best_fit, model_cl = train_model(set[\"dataset\"], set[\"columns\"], target_column, set[\"param_grid\"])\n",
    "    check_result = check_model(X_train, X_test, y_train, y_test, knn_best)\n",
    "    show_quality(X_train, X_test, y_train, y_test, check_result, set[\"set_name\"])    "
   ]
  },
  {
   "cell_type": "raw",
   "metadata": {
    "vscode": {
     "languageId": "raw"
    }
   },
   "source": [
    "print(f'X_train.shape={X_train.shape},  X_test.shape={X_test.shape}')\n",
    "print(f'y_train.mean()={y_train.mean()}, y_test.mean()={y_test.mean()}')\n",
    "print(f'grid_search={grid_search}')\n",
    "print(f'grid_search.best_estimator_={grid_search.best_estimator_}')\n",
    "print(f'grid_search.best_params_={grid_search.best_params_}')\n",
    "print(f'knn_best_fit={knn_best_fit}')\n",
    "print(f'model_cl={model_cl}')\n",
    "pd.DataFrame(grid_search.cv_results_)"
   ]
  }
 ],
 "metadata": {
  "kernelspec": {
   "display_name": ".venv",
   "language": "python",
   "name": "python3"
  },
  "language_info": {
   "codemirror_mode": {
    "name": "ipython",
    "version": 3
   },
   "file_extension": ".py",
   "mimetype": "text/x-python",
   "name": "python",
   "nbconvert_exporter": "python",
   "pygments_lexer": "ipython3",
   "version": "3.12.3"
  }
 },
 "nbformat": 4,
 "nbformat_minor": 2
}
