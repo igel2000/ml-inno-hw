{
 "cells": [
  {
   "cell_type": "code",
   "execution_count": 1,
   "id": "fb03dfeb",
   "metadata": {},
   "outputs": [],
   "source": [
    "#!pip install git+https://github.com/pycaret/pycaret.git@master --upgrade"
   ]
  },
  {
   "cell_type": "code",
   "execution_count": 3,
   "id": "a90d680f",
   "metadata": {},
   "outputs": [],
   "source": [
    "import pycaret.time_series as pycaret_ts"
   ]
  },
  {
   "cell_type": "code",
   "execution_count": null,
   "id": "0ebd6345",
   "metadata": {},
   "outputs": [
    {
     "ename": "NameError",
     "evalue": "name 'ts' is not defined",
     "output_type": "error",
     "traceback": [
      "\u001b[31m---------------------------------------------------------------------------\u001b[39m",
      "\u001b[31mNameError\u001b[39m                                 Traceback (most recent call last)",
      "\u001b[36mCell\u001b[39m\u001b[36m \u001b[39m\u001b[32mIn[4]\u001b[39m\u001b[32m, line 1\u001b[39m\n\u001b[32m----> \u001b[39m\u001b[32m1\u001b[39m s = \u001b[43mts\u001b[49m.setup(data, fh = \u001b[32m3\u001b[39m, fold = \u001b[32m5\u001b[39m, session_id = \u001b[32m123\u001b[39m)\n",
      "\u001b[31mNameError\u001b[39m: name 'ts' is not defined"
     ]
    }
   ],
   "source": [
    "s = ts.setup(data, fh = 3, fold = 5, session_id = 123)"
   ]
  },
  {
   "cell_type": "code",
   "execution_count": null,
   "id": "a1102f01",
   "metadata": {},
   "outputs": [],
   "source": [
    "exp = TSForecastingExperiment()\n",
    "\n",
    "# Настройка параметров временного ряда:\n",
    "exp.setup(\n",
    "    data=data,\n",
    "    target='Number of airline passengers', #None, #\"Passengers\",  # Целевая переменная\n",
    "    fh=12,                # Горизонт прогнозирования (12 месяцев)\n",
    "    fold=3,               # Количество фолдов для кросс-валидации\n",
    "    session_id=42         # Для воспроизводимости\n",
    ")"
   ]
  },
  {
   "cell_type": "code",
   "execution_count": null,
   "id": "393a4ffb",
   "metadata": {},
   "outputs": [],
   "source": [
    "best_model = exp.compare_models()"
   ]
  },
  {
   "cell_type": "code",
   "execution_count": null,
   "id": "ceb22a45",
   "metadata": {},
   "outputs": [],
   "source": [
    "# Обучение модели (например, ARIMA)\n",
    "model = exp.create_model(\"exp_smooth\")\n",
    "\n",
    "# Настройка гиперпараметров\n",
    "tuned_model = exp.tune_model(model)"
   ]
  },
  {
   "cell_type": "code",
   "execution_count": null,
   "id": "4bb8b508",
   "metadata": {},
   "outputs": [],
   "source": [
    "# Финализация модели (обучение на всех данных)\n",
    "final_model = exp.finalize_model(tuned_model)\n",
    "\n",
    "# Прогноз на 12 месяцев\n",
    "predictions = exp.predict_model(final_model)\n",
    "print(predictions)"
   ]
  },
  {
   "cell_type": "code",
   "execution_count": null,
   "id": "18621914",
   "metadata": {},
   "outputs": [],
   "source": [
    "# График прогноза\n",
    "exp.plot_model(final_model, plot=\"forecast\")\n",
    "\n",
    "# Диагностика модели\n",
    "exp.plot_model(final_model, plot=\"diagnostics\")"
   ]
  },
  {
   "cell_type": "code",
   "execution_count": null,
   "id": "831ab7f8",
   "metadata": {},
   "outputs": [],
   "source": [
    "#exp.save_model(final_model, \"my_time_series_model\")"
   ]
  },
  {
   "cell_type": "code",
   "execution_count": 15,
   "id": "a4a07396",
   "metadata": {},
   "outputs": [
    {
     "data": {
      "text/plain": [
       "['pycaret @ git+https://github.com/pycaret/pycaret.git@58ec3c282d58e94727f9d5b77b49f241e9103ab3']"
      ]
     },
     "execution_count": 15,
     "metadata": {},
     "output_type": "execute_result"
    }
   ],
   "source": [
    "s = !pip freeze | grep pycaret\n",
    "s"
   ]
  },
  {
   "cell_type": "code",
   "execution_count": 14,
   "id": "21a06bbd",
   "metadata": {},
   "outputs": [
    {
     "name": "stdout",
     "output_type": "stream",
     "text": [
      "Need to install/upgrade pycaret\n"
     ]
    }
   ],
   "source": [
    "if s == [] or not s[0].startswith(\"pycaret @ git+https\"):\n",
    "    print(\"Need to install/upgrade pycaret\")\n",
    "else:\n",
    "    print(\"OK\")"
   ]
  },
  {
   "cell_type": "code",
   "execution_count": null,
   "id": "ccc38d2a",
   "metadata": {},
   "outputs": [],
   "source": [
    "def check_module(module_name, check_string):\n",
    "    pip_result = !pip freeze | grep pycaret\n",
    "    print(f'Результат проверки наличия модуля: {pip_result}')\n",
    "    if pip_result == [] or not pip_result[0].startswith(check_string):\n"
   ]
  }
 ],
 "metadata": {
  "kernelspec": {
   "display_name": "pycaret",
   "language": "python",
   "name": "python3"
  },
  "language_info": {
   "codemirror_mode": {
    "name": "ipython",
    "version": 3
   },
   "file_extension": ".py",
   "mimetype": "text/x-python",
   "name": "python",
   "nbconvert_exporter": "python",
   "pygments_lexer": "ipython3",
   "version": "3.12.9"
  }
 },
 "nbformat": 4,
 "nbformat_minor": 5
}
