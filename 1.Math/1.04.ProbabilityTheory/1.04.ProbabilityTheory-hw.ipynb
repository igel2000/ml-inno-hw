{
 "cells": [
  {
   "cell_type": "code",
   "execution_count": 2,
   "id": "748bfe2f-f498-4535-ae16-e5ebbfebba05",
   "metadata": {},
   "outputs": [],
   "source": [
    "from scipy.stats import lognorm\n",
    "import matplotlib.pyplot as plt\n",
    "import numpy as np"
   ]
  },
  {
   "cell_type": "markdown",
   "id": "994f3763-9aab-4cfa-9628-af1b57048ed3",
   "metadata": {},
   "source": [
    "# Задание 1"
   ]
  },
  {
   "cell_type": "markdown",
   "id": "b9a54e76-247a-4597-a4cc-ccf3753037de",
   "metadata": {},
   "source": [
    "В ящике находится 15 качественных и 5 бракованных деталей. Наудачу извлекаются 2 детали. \n",
    "Найти вероятность того, что:\n",
    "  * a) обе детали будут качественными; \n",
    "  * б) одна деталь будет качественной, а одна –бракованной; \n",
    "  * в) обе детали бракованны.\n",
    "\n",
    "Общее количество способов извлечь две детали $$N=C_{20}^{2}.$$"
   ]
  },
  {
   "cell_type": "markdown",
   "id": "03ca0622-013f-405d-bcb7-16d986171a84",
   "metadata": {},
   "source": [
    "По правилу умножения:\n",
    "  * число способов выбрать две качественые детали будет равно произведению числа способов выбрать 2 из 15 качественных и 0 из 5 бракованных, т.е. $$k_{good}=C_{15}^2 \\cdot C_{5}^0.$$\n",
    "  * число способов выбрать одну качественую и одну бракованную будет равно произведению числа способов выбрать 1 из 15 качественных и 1 из 5 бракованных, т.е. $$k_{goodbad}=C_{15}^1 \\cdot C_{5}^1.$$\n",
    "  * число способов выбрать две бракованные будет равно произведению числа способов выбрать 0 из 15 качественных и 2 из 5 бракованных, т.е. $$k_{bad}=C_{15}^0 \\cdot C_{5}^2.$$"
   ]
  },
  {
   "cell_type": "code",
   "execution_count": 6,
   "id": "7a16bf51-db94-4c30-8f5b-3d265f26eb2c",
   "metadata": {},
   "outputs": [
    {
     "name": "stdout",
     "output_type": "stream",
     "text": [
      "Вероятность, что обе будут качественные: 0.5526315789473685\n",
      "Вероятность, что одна будет качественная, а одна бракованная: 0.39473684210526316\n",
      "Вероятность, что обе будут бракованные: 0.05263157894736842\n"
     ]
    }
   ],
   "source": [
    "import math\n",
    "def calc_p(good_count, bad_count, extracted_good, extracted_bad):\n",
    "    # общее количество деталей\n",
    "    total_count = good_count + bad_count\n",
    "    # количество извлекаемых деталей\n",
    "    extracted_count = extracted_good + extracted_bad\n",
    "    # всего возможных способов достать детали\n",
    "    n = math.comb(total_count, extracted_count)\n",
    "    # вероятность достать заданное количество качественных и бракованных\n",
    "    p = math.comb(good_count,extracted_good) * math.comb(bad_count,extracted_bad) / n\n",
    "    return p\n",
    "\n",
    "print(f\"Вероятность, что обе будут качественные: {calc_p(15, 5, 2, 0)}\")\n",
    "print(f\"Вероятность, что одна будет качественная, а одна бракованная: {calc_p(15, 5, 1, 1)}\")\n",
    "print(f\"Вероятность, что обе будут бракованные: {calc_p(15, 5, 0, 2)}\")"
   ]
  },
  {
   "cell_type": "markdown",
   "id": "54a7418f-722a-42e9-8faf-44e8d6966c9d",
   "metadata": {},
   "source": [
    "# Задание 2."
   ]
  },
  {
   "cell_type": "markdown",
   "id": "7cc35dd1-8664-4625-9239-b0f31c64021a",
   "metadata": {},
   "source": [
    "При рентгеновском обследовании вероятность обнаружить заболевание туберкулезом у больного туберкулезом равна 0.9, \n",
    "вероятность принять здорового человека за больного равна 0.01.\n",
    "\n",
    "Доля больных туберкулезом по отношению ко всему населению равна 0.001. \n",
    "\n",
    "Найти вероятность того, что человек здоров, если он был признан больным при обследовании.\n",
    "\n",
    "Подсказка: использовать формулу Байеса:событие A–обследование показало наличие туберкулеза,В1–человек здоров, В2 –человек болен."
   ]
  },
  {
   "cell_type": "code",
   "execution_count": 9,
   "id": "a25e5125-704f-4161-99d1-b111720bc20e",
   "metadata": {},
   "outputs": [],
   "source": [
    "# Исходные данные\n",
    "\n",
    "#доля больных туберкулезом\n",
    "proportion_sick = 0.001\n",
    "# доля здоровых \n",
    "proportion_healty = 1 - proportion_sick\n",
    "# Вероятность ложноположительного результата теста - 0.01\n",
    "p_false_positiv = 0.01\n",
    "# Надежность теста (способность найти болезнь при её наличии)\n",
    "reliability = 0.9"
   ]
  },
  {
   "cell_type": "markdown",
   "id": "a85d5e5d-c4fc-48ae-8f88-c21403b7c9bb",
   "metadata": {},
   "source": [
    "Событие А = рентген нашел заболевание \\\n",
    "Гипотеза-1 (H1) - человек здоров \\\n",
    "Гипотеза-2 (H2) - человек болен\n",
    "\n",
    "Нужно найти $P(H_{1}|A)=P(H_{1})*P(A|H_{1}) / P(A)$"
   ]
  },
  {
   "cell_type": "code",
   "execution_count": 11,
   "id": "997c47da-b31b-4803-b970-c1b14319162f",
   "metadata": {},
   "outputs": [
    {
     "name": "stdout",
     "output_type": "stream",
     "text": [
      "Вероятность того, что человек здоров, хотя тест выявил заболевание: 0.9173553719008265\n"
     ]
    }
   ],
   "source": [
    "# вероятность гипотезы H1 (что проверяли здорового человека)\n",
    "p_H1 = proportion_healty\n",
    "# вероятность гипотезы H2 (что проверяли больного человека)\n",
    "p_H2 = proportion_sick\n",
    "# вероятность того, что заболевание обнаружено при условии, что человек реально здоров\n",
    "p_A_H1 = p_false_positiv\n",
    "# вероятность того, что у него обнаружено заболевание, при условии, что человек реально болен p(A|H2)\n",
    "p_A_H2 = reliability\n",
    "# полная верояность события А: P(A) = P(H1)*P(A|H1) + P(H2)*P(A|H2)\n",
    "p_A = (p_H1 * p_A_H1) + (p_H2 * p_A_H2)\n",
    "\n",
    "# вероятность P(H1|A)\n",
    "p_H1_A = p_H1 * p_A_H1 / p_A\n",
    "print(f'Вероятность того, что человек здоров, хотя тест выявил заболевание: {p_H1_A}')"
   ]
  },
  {
   "cell_type": "markdown",
   "id": "903c5906-be55-4814-8dab-3a5992a76350",
   "metadata": {},
   "source": [
    "# Задание 3."
   ]
  },
  {
   "cell_type": "markdown",
   "id": "b7e3323d-9bc2-4d27-891e-cdd8a7576705",
   "metadata": {},
   "source": [
    "Известно, что случайная величина «время до наступления отказа исследуемых изделий подчиняется \n",
    "логнормальному распределению (lognorm)с параметрами loc=0, scale=5, s=0.5.\n",
    "\n",
    "Требуется построить графики функции плотности и функции распределения, найти математическое ожидание, дисперсию и время безотказной работы с вероятностью 0.9(квантиль уровня 0.1)"
   ]
  },
  {
   "cell_type": "code",
   "execution_count": 14,
   "id": "b86e2e33-0b92-46fd-bb57-bd1e5f3d3034",
   "metadata": {},
   "outputs": [],
   "source": [
    "loc=0\n",
    "scale=5\n",
    "s=0.5\n",
    "lognorm_dist = lognorm(loc=loc, scale=scale, s=s)\n",
    "x = np.linspace(lognorm_dist.ppf(0.001), lognorm_dist.ppf(0.999), 100)"
   ]
  },
  {
   "cell_type": "code",
   "execution_count": 15,
   "id": "3f393e7a-8a19-4ff0-ba6a-15396a49698c",
   "metadata": {},
   "outputs": [],
   "source": [
    "#x"
   ]
  },
  {
   "cell_type": "markdown",
   "id": "ba9f0446-40ce-4e4e-a112-265c30ea363c",
   "metadata": {},
   "source": [
    "### График плотности"
   ]
  },
  {
   "cell_type": "code",
   "execution_count": 17,
   "id": "0ef945e3-8c01-4abe-baaf-9fddfdc2d350",
   "metadata": {},
   "outputs": [
    {
     "data": {
      "text/plain": [
       "[<matplotlib.lines.Line2D at 0x7af0665397d0>]"
      ]
     },
     "execution_count": 17,
     "metadata": {},
     "output_type": "execute_result"
    },
    {
     "data": {
      "image/png": "[encoded data removed]",
      "text/plain": [
       "<Figure size 640x480 with 1 Axes>"
      ]
     },
     "metadata": {},
     "output_type": "display_data"
    }
   ],
   "source": [
    "plt.plot(x, lognorm_dist.pdf(x), label='lognorm pdf x')"
   ]
  },
  {
   "cell_type": "markdown",
   "id": "a07455bb-6a35-42ab-a741-2763b1a8fb04",
   "metadata": {},
   "source": [
    "### График распределения"
   ]
  },
  {
   "cell_type": "code",
   "execution_count": 19,
   "id": "3e2d8f5e-909f-4f19-8cbb-75fb59de8153",
   "metadata": {},
   "outputs": [
    {
     "data": {
      "text/plain": [
       "[<matplotlib.lines.Line2D at 0x7af066697110>]"
      ]
     },
     "execution_count": 19,
     "metadata": {},
     "output_type": "execute_result"
    },
    {
     "data": {
      "image/png": "[encoded data removed]",
      "text/plain": [
       "<Figure size 640x480 with 1 Axes>"
      ]
     },
     "metadata": {},
     "output_type": "display_data"
    }
   ],
   "source": [
    "plt.plot(x, lognorm_dist.cdf(x), label='lognorm cdf')"
   ]
  },
  {
   "cell_type": "markdown",
   "id": "97cda426-24b1-41c0-ae24-e6adce728391",
   "metadata": {},
   "source": [
    "### Матожидание"
   ]
  },
  {
   "cell_type": "code",
   "execution_count": 21,
   "id": "773b2329-0465-45c4-b6f8-440b68adef60",
   "metadata": {},
   "outputs": [
    {
     "data": {
      "text/plain": [
       "5.665742265334131"
      ]
     },
     "execution_count": 21,
     "metadata": {},
     "output_type": "execute_result"
    }
   ],
   "source": [
    "lognorm_dist.mean()"
   ]
  },
  {
   "cell_type": "markdown",
   "id": "b80db275-05f9-43ea-922f-b70b02b06250",
   "metadata": {},
   "source": [
    "### Дисперсия"
   ]
  },
  {
   "cell_type": "code",
   "execution_count": 23,
   "id": "b08fa3e5-19ec-41a7-bdf7-45f7fa742331",
   "metadata": {},
   "outputs": [
    {
     "data": {
      "text/plain": [
       "9.117396350309663"
      ]
     },
     "execution_count": 23,
     "metadata": {},
     "output_type": "execute_result"
    }
   ],
   "source": [
    "lognorm_dist.var()"
   ]
  },
  {
   "cell_type": "markdown",
   "id": "3b1c8f13-eb4f-42da-9cd6-a6530dcb7379",
   "metadata": {},
   "source": [
    "### Время безотказной работы с вероятностью 0.9(квантиль уровня 0.1)"
   ]
  },
  {
   "cell_type": "code",
   "execution_count": 25,
   "id": "53a9247e-a7d7-42c1-bc91-878e2a947f0d",
   "metadata": {},
   "outputs": [
    {
     "data": {
      "text/plain": [
       "2.6344175914801826"
      ]
     },
     "execution_count": 25,
     "metadata": {},
     "output_type": "execute_result"
    }
   ],
   "source": [
    "lognorm_dist.ppf(0.1)"
   ]
  }
 ],
 "metadata": {
  "kernelspec": {
   "display_name": "Python 3 (ipykernel)",
   "language": "python",
   "name": "python3"
  },
  "language_info": {
   "codemirror_mode": {
    "name": "ipython",
    "version": 3
   },
   "file_extension": ".py",
   "mimetype": "text/x-python",
   "name": "python",
   "nbconvert_exporter": "python",
   "pygments_lexer": "ipython3",
   "version": "3.11.6"
  }
 },
 "nbformat": 4,
 "nbformat_minor": 5
}
