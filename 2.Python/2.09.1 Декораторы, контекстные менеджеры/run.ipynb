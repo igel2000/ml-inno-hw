{
 "cells": [
  {
   "cell_type": "markdown",
   "metadata": {},
   "source": [
    "# Задача 1 Права администратора"
   ]
  },
  {
   "cell_type": "code",
   "execution_count": 1,
   "metadata": {},
   "outputs": [],
   "source": [
    "import functools\n",
    "\n",
    "user_role = 'dd'\n",
    "\n",
    "def role_required(func):\n",
    "    def wrapper(*args, **kwargs):\n",
    "        global user_role\n",
    "        if user_role == \"admin\":\n",
    "            return func(*args, **kwargs)\n",
    "        else:\n",
    "            return \"Permission denied\"\n",
    "    return wrapper\n"
   ]
  },
  {
   "cell_type": "raw",
   "metadata": {
    "vscode": {
     "languageId": "raw"
    }
   },
   "source": [
    "def role_required2(role: str):\n",
    "    print(f'role_required2: {role}')\n",
    "    def decorate_func(func):\n",
    "        print(f'decorate_func: {role}')\n",
    "        @functools.wraps(func)\n",
    "        def wrapper(*args, **kwargs):\n",
    "            print(f'wrapper: {role}')\n",
    "            if role == \"admin\":\n",
    "                return func(*args, **kwargs)\n",
    "            else:\n",
    "                return \"Permission denied\"\n",
    "        return wrapper\n",
    "    return decorate_func"
   ]
  },
  {
   "cell_type": "code",
   "execution_count": 2,
   "metadata": {},
   "outputs": [],
   "source": [
    "#@role_required2(role=user_role)\n",
    "@role_required\n",
    "def secret_resource() -> str:\n",
    "    return \"Permission accepted\""
   ]
  },
  {
   "cell_type": "code",
   "execution_count": 3,
   "metadata": {},
   "outputs": [
    {
     "name": "stdout",
     "output_type": "stream",
     "text": [
      "Permission accepted\n"
     ]
    }
   ],
   "source": [
    "user_role = \"admin\"\n",
    "print(secret_resource())"
   ]
  },
  {
   "cell_type": "code",
   "execution_count": 4,
   "metadata": {},
   "outputs": [
    {
     "name": "stdout",
     "output_type": "stream",
     "text": [
      "Permission denied\n"
     ]
    }
   ],
   "source": [
    "user_role = \"user\"\n",
    "print(secret_resource())"
   ]
  },
  {
   "cell_type": "markdown",
   "metadata": {},
   "source": [
    "# Задача 2 Кэширование"
   ]
  },
  {
   "cell_type": "code",
   "execution_count": 5,
   "metadata": {},
   "outputs": [],
   "source": [
    "import random\n",
    "import functools\n",
    "\n",
    "cache_data = {}\n",
    "\n",
    "def cache(db: str, expiration: int):\n",
    "    def decorate_func(func):\n",
    "        global cache_data\n",
    "        cache_id = f'{db}:{func.__name__}'\n",
    "        if cache_id not in cache_data:\n",
    "            cache_data[cache_id] = {'expiration': expiration, 'data': {}}\n",
    "        @functools.wraps(func)\n",
    "        def wrapper(*args, **kwargs):\n",
    "            global cache_data\n",
    "            if args[0] not in cache_data[cache_id]['data']:\n",
    "                cache_data[cache_id]['data'][args[0]] = {'expire': 0, 'value': None}\n",
    "            if cache_data[cache_id]['data'][args[0]]['expire'] == 0:\n",
    "                cache_data[cache_id]['data'][args[0]]['expire'] = cache_data[cache_id]['expiration']\n",
    "                cache_data[cache_id]['data'][args[0]]['value'] = func(*args, **kwargs)\n",
    "                expire = cache_data[cache_id]['data'][args[0]]['expire']\n",
    "                value = cache_data[cache_id]['data'][args[0]]['value']\n",
    "                print(f\"Info about: {args[0]} from {db}, now cached with expire={expire}. Return value={value}\")\n",
    "            else:\n",
    "                cache_data[cache_id]['data'][args[0]]['expire'] -= 1\n",
    "                expire = cache_data[cache_id]['data'][args[0]]['expire']\n",
    "                value = cache_data[cache_id]['data'][args[0]]['value']\n",
    "                print(f\"Info about: {args[0]} cached in {db}, expire={expire}. Return value={value}\")\n",
    "            return cache_data[cache_id]['data'][args[0]]['value']\n",
    "        return wrapper\n",
    "    return decorate_func\n",
    "\n",
    "def get_info(thing: str) -> str:\n",
    "    return f'{thing}: {random.randint(1, 100)}'\n",
    "\n",
    "@cache(db=\"postgres\", expiration=5)\n",
    "def get_info_postgres(thing: str) -> str:\n",
    "    return get_info(thing)\n",
    "\n",
    "@cache(db=\"sql_lite\", expiration=3)\n",
    "def get_info_sqllite(thing: str) -> str:\n",
    "    return get_info(thing)"
   ]
  },
  {
   "cell_type": "code",
   "execution_count": 6,
   "metadata": {},
   "outputs": [
    {
     "name": "stdout",
     "output_type": "stream",
     "text": [
      "Info about: bike_store from postgres, now cached with expire=5. Return value=bike_store: 57\n",
      "Info about: bike_store cached in postgres, expire=4. Return value=bike_store: 57\n",
      "Info about: bike_store cached in postgres, expire=3. Return value=bike_store: 57\n",
      "Info about: bike_store cached in postgres, expire=2. Return value=bike_store: 57\n",
      "Info about: bike_store cached in postgres, expire=1. Return value=bike_store: 57\n",
      "Info about: bike_store cached in postgres, expire=0. Return value=bike_store: 57\n",
      "Info about: bike_store from postgres, now cached with expire=5. Return value=bike_store: 88\n",
      "Info about: bike_store cached in postgres, expire=4. Return value=bike_store: 88\n",
      "Info about: bike_store cached in postgres, expire=3. Return value=bike_store: 88\n",
      "Info about: bike_store cached in postgres, expire=2. Return value=bike_store: 88\n"
     ]
    }
   ],
   "source": [
    "for i in range(10):\n",
    "    get_info_postgres(\"bike_store\")"
   ]
  },
  {
   "cell_type": "code",
   "execution_count": 7,
   "metadata": {},
   "outputs": [
    {
     "name": "stdout",
     "output_type": "stream",
     "text": [
      "Info about: bike_store from sql_lite, now cached with expire=3. Return value=bike_store: 10\n",
      "Info about: bike_store cached in sql_lite, expire=2. Return value=bike_store: 10\n",
      "Info about: bike_store cached in sql_lite, expire=1. Return value=bike_store: 10\n",
      "Info about: bike_store cached in sql_lite, expire=0. Return value=bike_store: 10\n",
      "Info about: bike_store from sql_lite, now cached with expire=3. Return value=bike_store: 58\n",
      "Info about: bike_store cached in sql_lite, expire=2. Return value=bike_store: 58\n"
     ]
    }
   ],
   "source": [
    "for i in range(6):\n",
    "    get_info_sqllite(\"bike_store\")"
   ]
  },
  {
   "cell_type": "code",
   "execution_count": 8,
   "metadata": {},
   "outputs": [
    {
     "name": "stdout",
     "output_type": "stream",
     "text": [
      "Info about: users from postgres, now cached with expire=5. Return value=users: 43\n",
      "Info about: users cached in postgres, expire=4. Return value=users: 43\n",
      "Info about: users cached in postgres, expire=3. Return value=users: 43\n",
      "Info about: users cached in postgres, expire=2. Return value=users: 43\n",
      "Info about: users cached in postgres, expire=1. Return value=users: 43\n",
      "Info about: users cached in postgres, expire=0. Return value=users: 43\n",
      "Info about: users from postgres, now cached with expire=5. Return value=users: 47\n",
      "Info about: users cached in postgres, expire=4. Return value=users: 47\n",
      "Info about: users cached in postgres, expire=3. Return value=users: 47\n",
      "Info about: users cached in postgres, expire=2. Return value=users: 47\n"
     ]
    }
   ],
   "source": [
    "for i in range(10):    \n",
    "    get_info_postgres(\"users\")"
   ]
  },
  {
   "cell_type": "code",
   "execution_count": 9,
   "metadata": {},
   "outputs": [
    {
     "name": "stdout",
     "output_type": "stream",
     "text": [
      "Info about: users from sql_lite, now cached with expire=3. Return value=users: 8\n",
      "Info about: users cached in sql_lite, expire=2. Return value=users: 8\n",
      "Info about: users cached in sql_lite, expire=1. Return value=users: 8\n",
      "Info about: users cached in sql_lite, expire=0. Return value=users: 8\n",
      "Info about: users from sql_lite, now cached with expire=3. Return value=users: 51\n",
      "Info about: users cached in sql_lite, expire=2. Return value=users: 51\n"
     ]
    }
   ],
   "source": [
    "for i in range(6):    \n",
    "    get_info_sqllite(\"users\")\n"
   ]
  },
  {
   "cell_type": "markdown",
   "metadata": {},
   "source": [
    "# Задача 3 Контекстный менеджер safe_write"
   ]
  },
  {
   "cell_type": "code",
   "execution_count": 10,
   "metadata": {},
   "outputs": [],
   "source": [
    "import os\n",
    "class safe_write:\n",
    "    def __init__(self, filename):\n",
    "        self.filename = filename\n",
    "\n",
    "    def __enter__(self):\n",
    "        self.file = open(self.filename, 'a+')\n",
    "        self.pos = self.file.tell() # запомнить позицию в файле\n",
    "        return self.file\n",
    "\n",
    "    def __exit__(self, exc_type, exc_value, traceback):\n",
    "        if exc_type is not None:\n",
    "            print(f' ~~~ Во время записи в файл было возбуждено исключение {exc_type.__name__}! ~~~')\n",
    "            # откатить изменения в файле\n",
    "            self.file.seek(self.pos, os.SEEK_SET)\n",
    "            self.file.truncate(self.pos)\n",
    "            return True\n",
    "        self.file.close()\n",
    "        \n",
    "    def __repr__(self):\n",
    "        return f'CustomContextManager(value={repr(self.value)})' \n",
    "    \n",
    "def show_file(filename):\n",
    "    \"\"\"Показать содержимое файла filename\"\"\"\n",
    "    with open(filename) as file:\n",
    "        print(f'Содержимое файла {filename}:')\n",
    "        print(file.read())    "
   ]
  },
  {
   "cell_type": "code",
   "execution_count": 11,
   "metadata": {},
   "outputs": [
    {
     "name": "stdout",
     "output_type": "stream",
     "text": [
      "Содержимое файла undertale.txt:\n",
      "Инициализация файла \n",
      "\n"
     ]
    }
   ],
   "source": [
    "filename = 'undertale.txt'\n",
    "# сбросить состояние файла в исходное состояние\n",
    "with open(filename, 'w') as file:\n",
    "    file.write(f'Инициализация файла \\n')    \n",
    "show_file(filename)"
   ]
  },
  {
   "cell_type": "code",
   "execution_count": 12,
   "metadata": {},
   "outputs": [
    {
     "name": "stdout",
     "output_type": "stream",
     "text": [
      "Содержимое файла undertale.txt:\n",
      "Инициализация файла \n",
      "Я знаю, что ничего не знаю, но другие не знают и этого.\n",
      "\n"
     ]
    }
   ],
   "source": [
    "# записать в файл строку с использованием контекстного менеджера safe_write\n",
    "with safe_write(filename) as file:\n",
    "    file.write('Я знаю, что ничего не знаю, но другие не знают и этого.\\n')\n",
    "show_file(filename)    "
   ]
  },
  {
   "cell_type": "code",
   "execution_count": 13,
   "metadata": {},
   "outputs": [
    {
     "name": "stdout",
     "output_type": "stream",
     "text": [
      " ~~~ Во время записи в файл было возбуждено исключение ValueError! ~~~\n",
      "Содержимое файла undertale.txt:\n",
      "Инициализация файла \n",
      "Я знаю, что ничего не знаю, но другие не знают и этого.\n",
      "\n"
     ]
    }
   ],
   "source": [
    "# попытаться добавить строку с использованием контекстного менеджера safe_write и сгенерировать при записи исключение\n",
    "with safe_write(filename) as file:\n",
    "    file.write('Эта строка не должна сохраниться в файле.\\n')\n",
    "    raise ValueError    \n",
    "show_file(filename)"
   ]
  }
 ],
 "metadata": {
  "kernelspec": {
   "display_name": ".venv",
   "language": "python",
   "name": "python3"
  },
  "language_info": {
   "codemirror_mode": {
    "name": "ipython",
    "version": 3
   },
   "file_extension": ".py",
   "mimetype": "text/x-python",
   "name": "python",
   "nbconvert_exporter": "python",
   "pygments_lexer": "ipython3",
   "version": "3.12.3"
  }
 },
 "nbformat": 4,
 "nbformat_minor": 2
}
