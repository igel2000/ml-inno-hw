{
 "cells": [
  {
   "cell_type": "code",
   "execution_count": 1,
   "metadata": {},
   "outputs": [],
   "source": [
    "import pandas as pd\n",
    "from pyspark.sql import SparkSession\n",
    "import os\n",
    "from pathlib import Path\n",
    "from pyspark.sql.types import * # загрузили все типы данных\n",
    "#from pyspark.sql.functions import col,lower, upper, substring, lit, round\n",
    "import pyspark.sql.functions as F\n"
   ]
  },
  {
   "cell_type": "code",
   "execution_count": 2,
   "metadata": {},
   "outputs": [
    {
     "name": "stderr",
     "output_type": "stream",
     "text": [
      "25/01/10 01:10:33 WARN Utils: Your hostname, igel-pn64 resolves to a loopback address: 127.0.1.1; using 192.168.88.122 instead (on interface wlp3s0)\n",
      "25/01/10 01:10:33 WARN Utils: Set SPARK_LOCAL_IP if you need to bind to another address\n",
      "Setting default log level to \"WARN\".\n",
      "To adjust logging level use sc.setLogLevel(newLevel). For SparkR, use setLogLevel(newLevel).\n",
      "25/01/10 01:10:33 WARN NativeCodeLoader: Unable to load native-hadoop library for your platform... using builtin-java classes where applicable\n"
     ]
    },
    {
     "data": {
      "text/html": [
       "\n",
       "            <div>\n",
       "                <p><b>SparkSession - in-memory</b></p>\n",
       "                \n",
       "        <div>\n",
       "            <p><b>SparkContext</b></p>\n",
       "\n",
       "            <p><a href=\"http://192.168.88.122:4040\">Spark UI</a></p>\n",
       "\n",
       "            <dl>\n",
       "              <dt>Version</dt>\n",
       "                <dd><code>v3.5.4</code></dd>\n",
       "              <dt>Master</dt>\n",
       "                <dd><code>local[*]</code></dd>\n",
       "              <dt>AppName</dt>\n",
       "                <dd><code>pyspark-shell</code></dd>\n",
       "            </dl>\n",
       "        </div>\n",
       "        \n",
       "            </div>\n",
       "        "
      ],
      "text/plain": [
       "<pyspark.sql.session.SparkSession at 0x70128e8aa000>"
      ]
     },
     "execution_count": 2,
     "metadata": {},
     "output_type": "execute_result"
    }
   ],
   "source": [
    "os.environ[\"PYARROW_IGNORE_TIMEZONE\"] = \"1\" # без этой строчки у нас будет возникать постоянное предупреждение с просьбой установить эту переменную в значение 1, что мы заранее и делаем\n",
    "\n",
    "spark = SparkSession.builder.getOrCreate()\n",
    "spark.conf.set(\"spark.sql.execution.arrow.pyspark.enabled\", \"true\")\n",
    "spark"
   ]
  },
  {
   "cell_type": "code",
   "execution_count": 3,
   "metadata": {},
   "outputs": [],
   "source": [
    "table_infos = {'customers':  [('customer_id', IntegerType()),\n",
    "                              ('first_name', StringType()),\n",
    "                              ('last_name',  StringType()),\n",
    "                              ('phone',  StringType()),\n",
    "                              ('email',  StringType()),\n",
    "                              ('street', StringType()),\n",
    "                              ('city',  StringType()),\n",
    "                              ('state',  StringType()),\n",
    "                              ('zip_code',  IntegerType())],\n",
    "               'brands': [('brand_id', IntegerType()),\n",
    "                          ('brand_name', StringType())],\n",
    "               'products': [('product_id', IntegerType()),\n",
    "                            ('product_name', StringType()),\n",
    "                            ('brand_id', IntegerType()),\n",
    "                            ('category_id', IntegerType()),\n",
    "                            ('model_year', IntegerType()),\n",
    "                            ('list_price', FloatType())],\n",
    "               'categories': [('category_id', IntegerType()),\n",
    "                              ('category_name', StringType())],\n",
    "               'stores': [('store_id', IntegerType()),\n",
    "                          ('store_name', StringType()),\n",
    "                          ('phone',  StringType()),\n",
    "                          ('email',  StringType()),\n",
    "                          ('street', StringType()),\n",
    "                          ('city',  StringType()),\n",
    "                          ('state',  StringType()),\n",
    "                          ('zip_code',  IntegerType())],\n",
    "               'staffs': [('staff_id', IntegerType()),\n",
    "                          ('first_name', StringType()),\n",
    "                          ('last_name',  StringType()),\n",
    "                          ('email',  StringType()),\n",
    "                          ('phone',  StringType()),\n",
    "                          ('active',  IntegerType()),\n",
    "                          ('store_id',  IntegerType()),\n",
    "                          ('manager_id',  IntegerType())],\n",
    "               'orders': [('order_id', IntegerType()),\n",
    "                          ('customer_id', IntegerType()),\n",
    "                          ('order_status', IntegerType()),\n",
    "                          ('order_date', DateType()),\n",
    "                          ('required_date', DateType()),\n",
    "                          ('shipped_date', DateType()),\n",
    "                          ('store_id', IntegerType()),\n",
    "                          ('staff_id', IntegerType())],\n",
    "               'stocks': [('store_id', IntegerType()),\n",
    "                          ('product_id', IntegerType()),\n",
    "                          ('quantity', IntegerType())],\n",
    "               'order_items': [('order_id', IntegerType()),\n",
    "                               ('item_id', IntegerType()),\n",
    "                               ('product_id', IntegerType()),\n",
    "                               ('quantity', IntegerType()),\n",
    "                              ('list_price', FloatType()),\n",
    "                              ('discount', FloatType())]\n",
    "                 } \n"
   ]
  },
  {
   "cell_type": "code",
   "execution_count": 4,
   "metadata": {},
   "outputs": [
    {
     "name": "stdout",
     "output_type": "stream",
     "text": [
      "Загрузка данных customers\n",
      "  Загружено: 1445\n",
      "Загрузка данных brands\n",
      "  Загружено: 9\n",
      "Загрузка данных products\n",
      "  Загружено: 321\n",
      "Загрузка данных categories\n",
      "  Загружено: 7\n",
      "Загрузка данных stores\n",
      "  Загружено: 3\n",
      "Загрузка данных staffs\n",
      "  Загружено: 10\n",
      "Загрузка данных orders\n",
      "  Загружено: 1615\n",
      "Загрузка данных stocks\n",
      "  Загружено: 939\n",
      "Загрузка данных order_items\n",
      "  Загружено: 4722\n"
     ]
    }
   ],
   "source": [
    "schema = lambda t_s: StructType([StructField (x[0], x[1], True) for x in t_s])\n",
    "\n",
    "# загрузка данных\n",
    "data_directory = 'data'\n",
    "#table_names = ['brands', 'categories', 'stores', 'products', 'customers', 'staffs', 'orders', 'order_items', 'stocks']\n",
    "tables_df = {}\n",
    "for table_name, table_struct in table_infos.items():\n",
    "    print(f'Загрузка данных {table_name}')\n",
    "    filename = Path(data_directory, f'{table_name}.csv').as_posix()\n",
    "    #schema = StructType([StructField (x[0], x[1], True) for x in table_struct])\n",
    "    df = spark.read.csv(filename, header=True, sep=\",\", schema=schema(table_struct)) # добавить информацию о типах столбцов\n",
    "    tables_df[table_name] = df\n",
    "    #if table_name == 'brands':\n",
    "    #    print(schema)\n",
    "    #    print(tables_df[table_name].count())\n",
    "    #    tables_df[table_name].printSchema() # для вывода структуры (схемы) DataFrame\n",
    "    #    df.show()\n",
    "    print(f'  Загружено: {tables_df[table_name].count()}')\n"
   ]
  },
  {
   "cell_type": "code",
   "execution_count": 5,
   "metadata": {},
   "outputs": [],
   "source": [
    "customers_df = tables_df['customers']\n",
    "brands_df = tables_df['brands']\n",
    "products_df = tables_df['products']\n",
    "categories_df = tables_df['categories']\n",
    "stores_df = tables_df['stores']\n",
    "staffs_df = tables_df['staffs']\n",
    "orders_df = tables_df['orders']\n",
    "stocks_df = tables_df['stocks']\n",
    "order_items_df = tables_df['order_items']"
   ]
  },
  {
   "cell_type": "code",
   "execution_count": 6,
   "metadata": {},
   "outputs": [],
   "source": [
    "is_test_doing = True # признак тестового прогона\n",
    "if is_test_doing:\n",
    "    # Добавить категорию без продуктов\n",
    "    new_category = spark.createDataFrame([(10000, \"Категория с продуктами\")], categories_df.columns)\n",
    "    categories_df = categories_df.union(new_category)\n",
    "\n",
    "    #  Добавить заказчика без заказов  \n",
    "    new_customer = spark.createDataFrame([(10000, \"Заказчик\", \"Пустой\", \"3333\", \"1@1.1\", \"\", \"\", \"\", \"\")], customers_df.columns)\n",
    "    customers_df = customers_df.union(new_customer)\n",
    "\n",
    "    # Добавить сотрудника без магазина\n",
    "    new_staff = spark.createDataFrame([(10000, \"Сотрудник\", \"Без магазина\", \"1@1.1\", \"912\", 1, None, None)],\n",
    "                                      schema=schema(table_infos[\"staffs\"]))\n",
    "    staffs_df = staffs_df.union(new_staff)"
   ]
  },
  {
   "cell_type": "code",
   "execution_count": 7,
   "metadata": {},
   "outputs": [
    {
     "name": "stdout",
     "output_type": "stream",
     "text": [
      "+--------------------+-----------+\n",
      "|        product_name| brand_name|\n",
      "+--------------------+-----------+\n",
      "|     Trek 820 - 2016|       Trek|\n",
      "|Ritchey Timberwol...|    Ritchey|\n",
      "|Surly Wednesday F...|      Surly|\n",
      "|Trek Fuel EX 8 29...|       Trek|\n",
      "|Heller Shagamaw F...|     Heller|\n",
      "|Surly Ice Cream T...|      Surly|\n",
      "|Trek Slash 8 27.5...|       Trek|\n",
      "|Trek Remedy 29 Ca...|       Trek|\n",
      "|Trek Conduit+ - 2016|       Trek|\n",
      "|Surly Straggler -...|      Surly|\n",
      "|Surly Straggler 6...|      Surly|\n",
      "|Electra Townie Or...|    Electra|\n",
      "|Electra Cruiser 1...|    Electra|\n",
      "|Electra Girl's Ha...|    Electra|\n",
      "|Electra Moto 1 - ...|    Electra|\n",
      "|Electra Townie Or...|    Electra|\n",
      "|Pure Cycles Vine ...|Pure Cycles|\n",
      "|Pure Cycles Weste...|Pure Cycles|\n",
      "|Pure Cycles Willi...|Pure Cycles|\n",
      "|Electra Townie Or...|    Electra|\n",
      "+--------------------+-----------+\n",
      "only showing top 20 rows\n",
      "\n"
     ]
    }
   ],
   "source": [
    "# 1) Напишите запрос, чтобы получить все названия продуктов и соответствующие им торговые марки (brand).\n",
    "products_df. \\\n",
    "    join(brands_df, products_df.brand_id == brands_df.brand_id). \\\n",
    "    select(products_df.product_name, brands_df.brand_name). \\\n",
    "    show()"
   ]
  },
  {
   "cell_type": "code",
   "execution_count": 8,
   "metadata": {},
   "outputs": [
    {
     "name": "stdout",
     "output_type": "stream",
     "text": [
      "+----------+------------+----------------+\n",
      "|first_name|   last_name|      store_name|\n",
      "+----------+------------+----------------+\n",
      "| Сотрудник|Без магазина|            NULL|\n",
      "|  Jannette|       David|   Baldwin Bikes|\n",
      "| Marcelene|       Boyer|   Baldwin Bikes|\n",
      "|    Venita|      Daniel|   Baldwin Bikes|\n",
      "|Bernardine|     Houston|   Rowlett Bikes|\n",
      "|      Kali|      Vargas|   Rowlett Bikes|\n",
      "|     Layla|     Terrell|   Rowlett Bikes|\n",
      "|   Fabiola|     Jackson|Santa Cruz Bikes|\n",
      "|     Genna|     Serrano|Santa Cruz Bikes|\n",
      "|    Mireya|    Copeland|Santa Cruz Bikes|\n",
      "|    Virgie|     Wiggins|Santa Cruz Bikes|\n",
      "+----------+------------+----------------+\n",
      "\n"
     ]
    },
    {
     "name": "stderr",
     "output_type": "stream",
     "text": [
      "                                                                                \r"
     ]
    }
   ],
   "source": [
    "# 2) Напишите запрос, чтобы найти всех активных сотрудников и наименования магазинов, в которых они работают.\n",
    "staffs_df. \\\n",
    "    join(stores_df, staffs_df.store_id == stores_df.store_id, 'outer'). \\\n",
    "    select(staffs_df.first_name, staffs_df.last_name, stores_df.store_name). \\\n",
    "    filter(staffs_df.active == 1). \\\n",
    "    orderBy(stores_df.store_name, staffs_df.first_name, staffs_df.last_name). \\\n",
    "    show()"
   ]
  },
  {
   "cell_type": "code",
   "execution_count": 9,
   "metadata": {},
   "outputs": [
    {
     "name": "stdout",
     "output_type": "stream",
     "text": [
      "+----------+---------+--------------------+--------------+\n",
      "|first_name|last_name|               email|         phone|\n",
      "+----------+---------+--------------------+--------------+\n",
      "|     Aaron|    Knapp|aaron.knapp@yahoo...|(914) 402-4335|\n",
      "|     Abbey|     Pugh|abbey.pugh@gmail.com|          NULL|\n",
      "|      Abby|   Gamble| abby.gamble@aol.com|          NULL|\n",
      "|      Abby|   Gamble| abby.gamble@aol.com|          NULL|\n",
      "|      Adam| Thornton|adam.thornton@hot...|          NULL|\n",
      "|     Addie|     Hahn|addie.hahn@hotmai...|          NULL|\n",
      "|    Adelle|   Larsen|adelle.larsen@gma...|          NULL|\n",
      "|    Adelle|   Larsen|adelle.larsen@gma...|          NULL|\n",
      "|     Adena|    Blake|adena.blake@hotma...|          NULL|\n",
      "|    Adrien|   Hunter|adrien.hunter@yah...|          NULL|\n",
      "|   Adriene|  Rollins|adriene.rollins@m...|          NULL|\n",
      "|     Afton|   Juarez|afton.juarez@gmai...|          NULL|\n",
      "|    Agatha|   Melton|agatha.melton@yah...|          NULL|\n",
      "|     Agnes|     Sims|  agnes.sims@aol.com|(716) 780-9901|\n",
      "|  Agustina| Lawrence|agustina.lawrence...|          NULL|\n",
      "|        Ai|   Forbes| ai.forbes@yahoo.com|          NULL|\n",
      "|      Aida|     Koch| aida.koch@gmail.com|          NULL|\n",
      "|     Aimee|  Merritt|aimee.merritt@yah...|          NULL|\n",
      "|     Aisha|    Woods|aisha.woods@gmail...|          NULL|\n",
      "|     Alane|  Kennedy|alane.kennedy@yah...|          NULL|\n",
      "+----------+---------+--------------------+--------------+\n",
      "only showing top 20 rows\n",
      "\n"
     ]
    }
   ],
   "source": [
    "# 3) Напишите запрос, чтобы перечислить всех покупателей выбранного магазина с указанием их полных имен, \n",
    "#    электронной почты и номера телефон\n",
    "customers_df. \\\n",
    "    join(orders_df, customers_df.customer_id == orders_df.customer_id). \\\n",
    "    select(customers_df.first_name, customers_df.last_name, customers_df.email, customers_df.phone). \\\n",
    "    filter(orders_df.store_id == 2). \\\n",
    "    orderBy(customers_df.first_name, customers_df.last_name). \\\n",
    "    show()"
   ]
  },
  {
   "cell_type": "code",
   "execution_count": 10,
   "metadata": {},
   "outputs": [
    {
     "name": "stdout",
     "output_type": "stream",
     "text": [
      "+--------------------+-----+\n",
      "|       category_name|count|\n",
      "+--------------------+-----+\n",
      "|      Electric Bikes|   24|\n",
      "|      Mountain Bikes|   60|\n",
      "|    Comfort Bicycles|   30|\n",
      "|          Road Bikes|   60|\n",
      "| Cyclocross Bicycles|   10|\n",
      "|   Children Bicycles|   59|\n",
      "|   Cruisers Bicycles|   78|\n",
      "|Категория с проду...|    0|\n",
      "+--------------------+-----+\n",
      "\n"
     ]
    }
   ],
   "source": [
    "# 4) Напишите запрос для подсчета количества продуктов в каждой категории.\n",
    "categories_df. \\\n",
    "  join(products_df, products_df.category_id == categories_df.category_id). \\\n",
    "  groupBy(categories_df.category_name). \\\n",
    "  count(). \\\n",
    "  union (categories_df.\\\n",
    "          join(products_df, products_df.category_id == categories_df.category_id, how='left_anti').\\\n",
    "          select(categories_df.category_name). \\\n",
    "          withColumn('count', F.lit(0))).\\\n",
    "  show()"
   ]
  },
  {
   "cell_type": "code",
   "execution_count": 11,
   "metadata": {},
   "outputs": [
    {
     "name": "stdout",
     "output_type": "stream",
     "text": [
      "+-----------+-----+\n",
      "|customer_id|count|\n",
      "+-----------+-----+\n",
      "|      10000|    0|\n",
      "|       1371|    1|\n",
      "|       1077|    1|\n",
      "|       1409|    1|\n",
      "|        243|    1|\n",
      "|        278|    1|\n",
      "|        964|    1|\n",
      "|        367|    1|\n",
      "|        541|    1|\n",
      "|        442|    1|\n",
      "|       1010|    1|\n",
      "|        705|    1|\n",
      "|       1258|    1|\n",
      "|        720|    1|\n",
      "|       1360|    1|\n",
      "|       1175|    1|\n",
      "|        270|    1|\n",
      "|       1202|    1|\n",
      "|        730|    1|\n",
      "|        296|    1|\n",
      "+-----------+-----+\n",
      "only showing top 20 rows\n",
      "\n"
     ]
    }
   ],
   "source": [
    "# 5) Напишите запрос, чтобы указать общее количество заказов для каждого клиента.\n",
    "customers_df. \\\n",
    "  join(orders_df, customers_df.customer_id == orders_df.customer_id). \\\n",
    "  groupBy(customers_df.customer_id). \\\n",
    "  count(). \\\n",
    "  union(customers_df. \\\n",
    "    join(orders_df, customers_df.customer_id == orders_df.customer_id, how='left_anti'). \\\n",
    "    select(customers_df.customer_id). \\\n",
    "    withColumn('count', F.lit(0))).\\\n",
    "  orderBy(\"count\"). \\\n",
    "  show()"
   ]
  },
  {
   "cell_type": "code",
   "execution_count": 12,
   "metadata": {},
   "outputs": [
    {
     "name": "stdout",
     "output_type": "stream",
     "text": [
      "+-----------+---------+-----+\n",
      "| first_name|last_name|count|\n",
      "+-----------+---------+-----+\n",
      "|    Yevette|     Todd|    1|\n",
      "|    Caridad|  Compton|    1|\n",
      "|       Inge|    Olsen|    1|\n",
      "|     Loreta| Johnston|    1|\n",
      "|       Dori|  Alvarez|    1|\n",
      "|      Shara|     Pope|    1|\n",
      "|    Chasidy|  Webster|    1|\n",
      "|    Novella|    Patel|    1|\n",
      "|        Ann|    Heath|    1|\n",
      "|      Zella|Fernandez|    1|\n",
      "|      Cinda|    Rocha|    1|\n",
      "|       Ping|    Quinn|    1|\n",
      "|      Katia|    Henry|    1|\n",
      "|        Roy|     Chan|    1|\n",
      "|      Doris|  Kaufman|    1|\n",
      "|   Angelika|    Perry|    1|\n",
      "|Charlesetta|     Soto|    1|\n",
      "|      Angie|   Powers|    1|\n",
      "|   Herminia|    Reyes|    1|\n",
      "|    Mellisa|  Griffin|    1|\n",
      "+-----------+---------+-----+\n",
      "only showing top 20 rows\n",
      "\n"
     ]
    }
   ],
   "source": [
    "# 6) Напишите запрос, в котором будет указана информация о полном имени и общем количестве заказов клиентов, которые хотя бы 1 раз сделали заказ.\n",
    "customers_df. \\\n",
    "  join(orders_df, customers_df.customer_id == orders_df.customer_id). \\\n",
    "  groupBy(customers_df.first_name, customers_df.last_name). \\\n",
    "  count(). \\\n",
    "  orderBy(\"count\"). \\\n",
    "  show()"
   ]
  },
  {
   "cell_type": "code",
   "execution_count": 13,
   "metadata": {},
   "outputs": [
    {
     "name": "stdout",
     "output_type": "stream",
     "text": [
      "+----------+------------------+\n",
      "|product_id| sum(sales_volume)|\n",
      "+----------+------------------+\n",
      "|       148|   14739.970703125|\n",
      "|       243|  3875.93994140625|\n",
      "|        31|26438.090209960938|\n",
      "|        85|  8464.19970703125|\n",
      "|       251| 16649.93994140625|\n",
      "|       137|11305.650146484375|\n",
      "|        65|18681.880493164062|\n",
      "|        53| 14909.77978515625|\n",
      "|       255| 2456.969970703125|\n",
      "|       296|  295.989990234375|\n",
      "|       133| 4139.969970703125|\n",
      "|        78|22899.930541992188|\n",
      "|       108|     12622.1796875|\n",
      "|       155|   54359.951171875|\n",
      "|        34| 6781.939849853516|\n",
      "|       193|12403.949951171875|\n",
      "|       211|  2943.10009765625|\n",
      "|       101|12079.799743652344|\n",
      "|       115|14431.949951171875|\n",
      "|       126|2928.0299377441406|\n",
      "+----------+------------------+\n",
      "only showing top 20 rows\n",
      "\n"
     ]
    }
   ],
   "source": [
    "# Напишите запрос для расчета общего объема продаж по каждому продукту (с учетом количества продукта, его цены по прейскуранту и скидки).\n",
    "order_items_df = order_items_df.withColumn('sales_volume', F.round(order_items_df.list_price * order_items_df.quantity * (1 -order_items_df.discount), 2))\n",
    "order_items_df.\\\n",
    "    groupBy(order_items_df.product_id).\\\n",
    "    sum('sales_volume').\\\n",
    "    show()"
   ]
  },
  {
   "cell_type": "code",
   "execution_count": 14,
   "metadata": {},
   "outputs": [
    {
     "name": "stdout",
     "output_type": "stream",
     "text": [
      "+------------+-----+\n",
      "|order_status|count|\n",
      "+------------+-----+\n",
      "|           1|   62|\n",
      "|           3|   45|\n",
      "|           4| 1445|\n",
      "|           2|   63|\n",
      "+------------+-----+\n",
      "\n"
     ]
    }
   ],
   "source": [
    "# Напишите запрос с расчетом количества заказов по каждому статусу заказа.\n",
    "orders_df.\\\n",
    "  groupBy(orders_df.order_status).\\\n",
    "  count().\\\n",
    "  show()"
   ]
  },
  {
   "cell_type": "code",
   "execution_count": 15,
   "metadata": {},
   "outputs": [
    {
     "name": "stdout",
     "output_type": "stream",
     "text": [
      "+---------------+----------------+------------------+\n",
      "|order_date_year|order_date_month| sum(sales_volume)|\n",
      "+---------------+----------------+------------------+\n",
      "|           2016|               1|215146.22846984863|\n",
      "|           2016|               2|156112.10897827148|\n",
      "|           2016|               3|180600.12924194336|\n",
      "|           2016|               4| 167143.8988647461|\n",
      "|           2016|               5|205269.81867980957|\n",
      "|           2016|               6| 210561.9485168457|\n",
      "|           2016|               7|199556.60835266113|\n",
      "|           2016|               8| 225657.1583404541|\n",
      "|           2016|               9|273091.36808776855|\n",
      "|           2016|              10|212077.85832214355|\n",
      "|           2016|              11|182329.23866271973|\n",
      "|           2016|              12|199829.78840637207|\n",
      "|           2017|               1| 285616.2632522583|\n",
      "|           2017|               2| 312923.4736251831|\n",
      "|           2017|               3| 308911.6022415161|\n",
      "|           2017|               4|227290.63227844238|\n",
      "|           2017|               5| 268232.9924621582|\n",
      "|           2017|               6|378865.34635162354|\n",
      "|           2017|               7|229995.14126586914|\n",
      "|           2017|               8|290553.17223358154|\n",
      "+---------------+----------------+------------------+\n",
      "only showing top 20 rows\n",
      "\n"
     ]
    }
   ],
   "source": [
    "# Напишите запрос для расчета общей суммы продаж за каждый месяц.\n",
    "orders_df = orders_df.\\\n",
    "              withColumn('order_date_year', F.year(orders_df.order_date)).\\\n",
    "              withColumn('order_date_month', F.month(orders_df.order_date))\n",
    "orders_df.\\\n",
    "  join(order_items_df, orders_df.order_id == order_items_df.order_id).\\\n",
    "  groupBy(orders_df.order_date_year, orders_df.order_date_month).\\\n",
    "  sum('sales_volume').\\\n",
    "  orderBy(orders_df.order_date_year, orders_df.order_date_month).\\\n",
    "  show()"
   ]
  },
  {
   "cell_type": "code",
   "execution_count": 16,
   "metadata": {},
   "outputs": [
    {
     "name": "stdout",
     "output_type": "stream",
     "text": [
      "+----------+---------+------------------+\n",
      "|first_name|last_name| sum(sales_volume)|\n",
      "+----------+---------+------------------+\n",
      "|    Sharyn|  Hopkins|34807.931091308594|\n",
      "|   Pamelia|   Newman| 33634.24038696289|\n",
      "|      Abby|   Gamble| 32802.99040222168|\n",
      "|   Lyndsey|     Bean|32675.060485839844|\n",
      "|    Emmitt|  Sanchez|31925.870529174805|\n",
      "+----------+---------+------------------+\n",
      "only showing top 5 rows\n",
      "\n"
     ]
    },
    {
     "name": "stderr",
     "output_type": "stream",
     "text": [
      "25/01/10 01:10:50 WARN GarbageCollectionMetrics: To enable non-built-in garbage collector(s) List(G1 Concurrent GC), users should configure it(them) to spark.eventLog.gcMetrics.youngGenerationGarbageCollectors or spark.eventLog.gcMetrics.oldGenerationGarbageCollectors\n"
     ]
    }
   ],
   "source": [
    "# Напишите запрос, чтобы найти топ 5 клиентов, которые потратили больше всего денег.\n",
    "orders_df.\\\n",
    "  join(order_items_df, orders_df.order_id == order_items_df.order_id).\\\n",
    "  join(customers_df, orders_df.customer_id == customers_df.customer_id).\\\n",
    "  groupBy(customers_df.first_name, customers_df.last_name). \\\n",
    "  sum('sales_volume').\\\n",
    "  orderBy('sum(sales_volume)', ascending=False). \\\n",
    "  show(5)"
   ]
  }
 ],
 "metadata": {
  "kernelspec": {
   "display_name": ".venv",
   "language": "python",
   "name": "python3"
  },
  "language_info": {
   "codemirror_mode": {
    "name": "ipython",
    "version": 3
   },
   "file_extension": ".py",
   "mimetype": "text/x-python",
   "name": "python",
   "nbconvert_exporter": "python",
   "pygments_lexer": "ipython3",
   "version": "3.12.3"
  }
 },
 "nbformat": 4,
 "nbformat_minor": 2
}
