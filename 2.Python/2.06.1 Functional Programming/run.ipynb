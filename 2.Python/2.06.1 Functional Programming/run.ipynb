{
 "cells": [
  {
   "cell_type": "markdown",
   "metadata": {
    "vscode": {
     "languageId": "plaintext"
    }
   },
   "source": [
    "# Функциональное программирование"
   ]
  },
  {
   "cell_type": "code",
   "execution_count": 1,
   "metadata": {},
   "outputs": [],
   "source": [
    "import func"
   ]
  },
  {
   "cell_type": "code",
   "execution_count": 2,
   "metadata": {},
   "outputs": [
    {
     "name": "stdout",
     "output_type": "stream",
     "text": [
      "\u001b[1m============================= test session starts ==============================\u001b[0m\n",
      "platform linux -- Python 3.12.3, pytest-8.3.3, pluggy-1.5.0 -- /home/igel/Projects/ml/ml-inno-hw/.venv/bin/python\n",
      "cachedir: .pytest_cache\n",
      "rootdir: /home/igel/Projects/ml/ml-inno-hw/2.Python/2.06.1 Functional Programming\n",
      "collected 16 items                                                             \u001b[0m\n",
      "\n",
      "func_pytest.py::test_three_or_more[None-False] \u001b[32mPASSED\u001b[0m\u001b[32m                    [  6%]\u001b[0m\n",
      "func_pytest.py::test_three_or_more[-False] \u001b[32mPASSED\u001b[0m\u001b[32m                        [ 12%]\u001b[0m\n",
      "func_pytest.py::test_three_or_more[s-False] \u001b[32mPASSED\u001b[0m\u001b[32m                       [ 18%]\u001b[0m\n",
      "func_pytest.py::test_three_or_more[ss-False] \u001b[32mPASSED\u001b[0m\u001b[32m                      [ 25%]\u001b[0m\n",
      "func_pytest.py::test_three_or_more[sss-True] \u001b[32mPASSED\u001b[0m\u001b[32m                      [ 31%]\u001b[0m\n",
      "func_pytest.py::test_three_or_more[ssss-True] \u001b[32mPASSED\u001b[0m\u001b[32m                     [ 37%]\u001b[0m\n",
      "func_pytest.py::test_get_list[None-expected0] \u001b[32mPASSED\u001b[0m\u001b[32m                     [ 43%]\u001b[0m\n",
      "func_pytest.py::test_get_list[-expected1] \u001b[32mPASSED\u001b[0m\u001b[32m                         [ 50%]\u001b[0m\n",
      "func_pytest.py::test_get_list[1-expected2] \u001b[32mPASSED\u001b[0m\u001b[32m                        [ 56%]\u001b[0m\n",
      "func_pytest.py::test_get_list[1 2-expected3] \u001b[32mPASSED\u001b[0m\u001b[32m                      [ 62%]\u001b[0m\n",
      "func_pytest.py::test_get_list[1 2 3-expected4] \u001b[32mPASSED\u001b[0m\u001b[32m                    [ 68%]\u001b[0m\n",
      "func_pytest.py::test_sort_func[1 2 3-expected0] \u001b[32mPASSED\u001b[0m\u001b[32m                   [ 75%]\u001b[0m\n",
      "func_pytest.py::test_sort_func[3 2 1-expected1] \u001b[32mPASSED\u001b[0m\u001b[32m                   [ 81%]\u001b[0m\n",
      "func_pytest.py::test_get_permutations \u001b[32mPASSED\u001b[0m\u001b[32m                             [ 87%]\u001b[0m\n",
      "func_pytest.py::test_get_combinations \u001b[32mPASSED\u001b[0m\u001b[32m                             [ 93%]\u001b[0m\n",
      "func_pytest.py::test_sort_users \u001b[32mPASSED\u001b[0m\u001b[32m                                   [100%]\u001b[0m\n",
      "\n",
      "\u001b[32m============================== \u001b[32m\u001b[1m16 passed\u001b[0m\u001b[32m in 0.01s\u001b[0m\u001b[32m ==============================\u001b[0m\n"
     ]
    }
   ],
   "source": [
    "# Тесты pytest\n",
    "!pytest -v func_pytest.py"
   ]
  },
  {
   "cell_type": "code",
   "execution_count": 3,
   "metadata": {},
   "outputs": [
    {
     "name": "stdout",
     "output_type": "stream",
     "text": [
      "test_three_or_more_0 (func_unittest.TestTask1.test_three_or_more_0) ... ok\n",
      "test_three_or_more_1 (func_unittest.TestTask1.test_three_or_more_1) ... ok\n",
      "test_three_or_more_2 (func_unittest.TestTask1.test_three_or_more_2) ... ok\n",
      "test_three_or_more_3 (func_unittest.TestTask1.test_three_or_more_3) ... ok\n",
      "test_three_or_more_4 (func_unittest.TestTask1.test_three_or_more_4) ... ok\n",
      "test_three_or_more_5 (func_unittest.TestTask1.test_three_or_more_5) ... ok\n",
      "test_get_list_0 (func_unittest.TestTask2.test_get_list_0) ... ok\n",
      "test_get_list_1 (func_unittest.TestTask2.test_get_list_1) ... ok\n",
      "test_get_list_2 (func_unittest.TestTask2.test_get_list_2) ... ok\n",
      "test_get_list_3 (func_unittest.TestTask2.test_get_list_3) ... ok\n",
      "test_get_list_4 (func_unittest.TestTask2.test_get_list_4) ... ok\n",
      "test_sort_func_0 (func_unittest.TestTask2.test_sort_func_0) ... ok\n",
      "test_sort_func_1 (func_unittest.TestTask2.test_sort_func_1) ... ok\n",
      "test_get_permutations_0 (func_unittest.TestTask3.test_get_permutations_0) ... ok\n",
      "test_get_combinations_0 (func_unittest.TestTask4.test_get_combinations_0) ... ok\n",
      "test_sort_users_by_age_ascending (func_unittest.TestTask5.test_sort_users_by_age_ascending) ... ok\n",
      "\n",
      "----------------------------------------------------------------------\n",
      "Ran 16 tests in 0.000s\n",
      "\n",
      "OK\n"
     ]
    }
   ],
   "source": [
    "# Тесты unittest\n",
    "!python -m unittest func_unittest.py -v"
   ]
  },
  {
   "cell_type": "markdown",
   "metadata": {},
   "source": [
    "## Задача 1 Фильтрация данных"
   ]
  },
  {
   "cell_type": "code",
   "execution_count": 4,
   "metadata": {},
   "outputs": [
    {
     "name": "stdout",
     "output_type": "stream",
     "text": [
      "Исходная строка:  s ss sss ssss sssss \n",
      "Результат:\n",
      "sss\n",
      "ssss\n",
      "sssss\n"
     ]
    }
   ],
   "source": [
    "# cities = input(\"Введите названия городов:\")\n",
    "cities = \" s ss sss ssss sssss \"\n",
    "print(f\"Исходная строка: {cities}\")\n",
    "print(\"Результат:\")\n",
    "func.println(func.filter_more_than_three(cities.split(\" \")))"
   ]
  },
  {
   "cell_type": "markdown",
   "metadata": {},
   "source": [
    "## Задача 2 Вложенные функции"
   ]
  },
  {
   "cell_type": "markdown",
   "metadata": {},
   "source": [
    "Примечание. \n",
    "\n",
    "Тема задания \"Вложенные функции\", но либо я так и не смог правильно понять задание, либо лучше подходило бы название \"Функции высшего порядка\".\n",
    "Как выполнить задание через вложенные - я не придумал."
   ]
  },
  {
   "cell_type": "code",
   "execution_count": 5,
   "metadata": {},
   "outputs": [
    {
     "name": "stdout",
     "output_type": "stream",
     "text": [
      "Исходная строка: 10 5 23 11\n",
      "Результат:\n",
      "5\n",
      "10\n",
      "11\n",
      "23\n"
     ]
    }
   ],
   "source": [
    "str_int = \"10 5 23 11\"\n",
    "print(f\"Исходная строка: {str_int}\")\n",
    "print(\"Результат:\")\n",
    "func.println(func.sort_func(func.get_list, str_int))"
   ]
  },
  {
   "cell_type": "markdown",
   "metadata": {},
   "source": [
    "## Задача 3 Перестановка строк"
   ]
  },
  {
   "cell_type": "code",
   "execution_count": 6,
   "metadata": {},
   "outputs": [
    {
     "name": "stdout",
     "output_type": "stream",
     "text": [
      "Исходная строка: dbso\n",
      "Результат:\n",
      "bd\n",
      "bo\n",
      "bs\n",
      "db\n",
      "do\n",
      "ds\n",
      "ob\n",
      "od\n",
      "os\n",
      "sb\n",
      "sd\n",
      "so\n"
     ]
    }
   ],
   "source": [
    "src = \"dbso\"\n",
    "print(f\"Исходная строка: {src}\")\n",
    "print(\"Результат:\")\n",
    "func.println(func.get_permutations(src, 2))"
   ]
  },
  {
   "cell_type": "markdown",
   "metadata": {},
   "source": [
    "## Задача 4 Комбинация символов"
   ]
  },
  {
   "cell_type": "code",
   "execution_count": 7,
   "metadata": {},
   "outputs": [
    {
     "name": "stdout",
     "output_type": "stream",
     "text": [
      "Исходная строка: dbso\n",
      "Результат:\n",
      "d\n",
      "b\n",
      "s\n",
      "o\n",
      "db\n",
      "ds\n",
      "do\n",
      "bs\n",
      "bo\n",
      "so\n"
     ]
    }
   ],
   "source": [
    "src = \"dbso\"\n",
    "print(f\"Исходная строка: {src}\")\n",
    "print(\"Результат:\")\n",
    "func.println(func.get_combinations(src, 2))"
   ]
  },
  {
   "cell_type": "markdown",
   "metadata": {},
   "source": [
    "## Задача 5 Функция с частичными аргументами"
   ]
  },
  {
   "cell_type": "code",
   "execution_count": 8,
   "metadata": {},
   "outputs": [
    {
     "name": "stdout",
     "output_type": "stream",
     "text": [
      "Сортировка по возрастанию возраста:\n",
      "{'name': 'Serg', 'age': 19}\n",
      "{'name': 'Ivan', 'age': 20}\n",
      "{'name': 'Nata', 'age': 25}\n",
      "{'name': 'Petr', 'age': 30}\n",
      "{'name': 'Igor', 'age': 31}\n",
      "\n",
      "Сортировка по убыванию возраста:\n",
      "{'name': 'Igor', 'age': 31}\n",
      "{'name': 'Petr', 'age': 30}\n",
      "{'name': 'Nata', 'age': 25}\n",
      "{'name': 'Ivan', 'age': 20}\n",
      "{'name': 'Serg', 'age': 19}\n"
     ]
    }
   ],
   "source": [
    "users = [{\"name\": \"Ivan\", \"age\": 20},\n",
    "         {\"name\": \"Petr\", \"age\": 30},\n",
    "         {\"name\": \"Nata\", \"age\": 25},\n",
    "         {\"name\": \"Serg\", \"age\": 19},\n",
    "         {\"name\": \"Igor\", \"age\": 31}]\n",
    "\n",
    "print(\"Сортировка по возрастанию возраста:\")\n",
    "func.println(func.sort_users_by_age_ascending(users))\n",
    "print()\n",
    "print(\"Сортировка по убыванию возраста:\")\n",
    "func.println(func.sort_users_by_age_descending(users))"
   ]
  }
 ],
 "metadata": {
  "kernelspec": {
   "display_name": ".venv",
   "language": "python",
   "name": "python3"
  },
  "language_info": {
   "codemirror_mode": {
    "name": "ipython",
    "version": 3
   },
   "file_extension": ".py",
   "mimetype": "text/x-python",
   "name": "python",
   "nbconvert_exporter": "python",
   "pygments_lexer": "ipython3",
   "version": "3.12.3"
  }
 },
 "nbformat": 4,
 "nbformat_minor": 2
}
