{
 "cells": [
  {
   "cell_type": "markdown",
   "metadata": {},
   "source": [
    "# Задача 1 Удвоение чисел и получение первого результата"
   ]
  },
  {
   "cell_type": "code",
   "execution_count": 1,
   "metadata": {},
   "outputs": [],
   "source": [
    "import pathlib\n",
    "data_path = pathlib.Path.cwd().joinpath('data/test_list_numbers.txt')\n",
    "# Считаем содержимое файла в одну строку избавившись от переводов строк и пробелов\n",
    "data_str = \"\"\n",
    "with open(data_path, 'r') as f:\n",
    "    for line in f.readlines():\n",
    "        data_str += line.replace('\\n','').replace(' ', '')\n",
    "# убрать внешние скобки - останется только \"содержимое\" внешнего списка\n",
    "data_str = data_str[1:-1] \n",
    "# разделить на \"вложеные\" списки\n",
    "data_list = data_str.replace(\"[\",\"\").split(\"],\")\n",
    "\n",
    "def str_to_int_list(str_with_numbers):\n",
    "    \"Строку с числами преобразовать список чисел\"\n",
    "    l1 = str_with_numbers.split(\",\")\n",
    "    s2i = lambda s: int(s) if s.isdigit() else None\n",
    "    return list(map(s2i, l1))\n",
    "# преобразовать в списки с числами\n",
    "data_int = list(map(str_to_int_list,data_list))"
   ]
  },
  {
   "cell_type": "code",
   "execution_count": 2,
   "metadata": {},
   "outputs": [
    {
     "name": "stdout",
     "output_type": "stream",
     "text": [
      "Сумма чисел в первом обработанном списке: 11090\n"
     ]
    }
   ],
   "source": [
    "from concurrent.futures import ThreadPoolExecutor, as_completed\n",
    "import time\n",
    "\n",
    "def process_number(number):\n",
    "    \"\"\"Обработка одно числа из списка\"\"\"\n",
    "    result = number * 2\n",
    "    time.sleep(0.02)\n",
    "    return result\n",
    "\n",
    "def process_list(numbers):\n",
    "    \"\"\"Обработка списка чисео\"\"\"\n",
    "    result = 0\n",
    "    for number in numbers:\n",
    "        if number is not None:\n",
    "            result += process_number(number)\n",
    "    return result\n",
    "\n",
    "with ThreadPoolExecutor(max_workers=10) as executor:\n",
    "    # Создание и запуск задач\n",
    "    futures = [executor.submit(process_list, l) for l in data_int]\n",
    "\n",
    "    # Получение результатов задач\n",
    "    for future in as_completed(futures):\n",
    "        first_list_sum = future.result()\n",
    "        print(f\"Сумма чисел в первом обработанном списке: {first_list_sum}\")\n",
    "        break"
   ]
  },
  {
   "cell_type": "markdown",
   "metadata": {},
   "source": [
    "# Задача 2 Поиск и суммирование чисел через цепочку файлов"
   ]
  },
  {
   "cell_type": "code",
   "execution_count": 3,
   "metadata": {},
   "outputs": [],
   "source": [
    "import pathlib\n",
    "import zipfile\n",
    "from multiprocessing import Pool\n",
    "import platform\n",
    "\n",
    "zip_with_filenames_path = pathlib.Path.cwd().joinpath('data/path_8_8.zip')\n",
    "data_zip_path = pathlib.Path.cwd().joinpath('data/recursive_challenge_8_8.zip')"
   ]
  },
  {
   "cell_type": "code",
   "execution_count": 4,
   "metadata": {},
   "outputs": [],
   "source": [
    "def prepared_filename(filename):\n",
    "    \"\"\"Преобразование стиль пути к файлу Linux <-> Windows\"\"\"\n",
    "    if platform.system()=='Linux':\n",
    "        filename = filename.replace('\\\\','/')    \n",
    "    else:\n",
    "        filename = filename.replace('/', '\\\\')    \n",
    "    return filename\n",
    "\n",
    "def process_file(filename, zip_with_filenames_path, data_zip_path):\n",
    "    \"\"\"Обработать один файл\"\"\"\n",
    "    # откроем архив с файлами-ссылками\n",
    "    zip_with_filenames = zipfile.ZipFile(zip_with_filenames_path)\n",
    "    # считаем ссылку на файл с данными\n",
    "    data_file_path = prepared_filename(zip_with_filenames.read(filename).decode())\n",
    "    # откроем архив с данными\n",
    "    data_zip = zipfile.ZipFile(data_zip_path)\n",
    "    # считаем число из data_file_path\n",
    "    num = int(data_zip.read(data_file_path).decode())\n",
    "    return num\n"
   ]
  },
  {
   "cell_type": "code",
   "execution_count": 5,
   "metadata": {},
   "outputs": [],
   "source": [
    "# Получение списка файлов\n",
    "paths_file = zipfile.ZipFile(zip_with_filenames_path)\n",
    "files = [(p.filename, zip_with_filenames_path, data_zip_path) for p in paths_file.infolist() if not p.is_dir()]"
   ]
  },
  {
   "cell_type": "code",
   "execution_count": 6,
   "metadata": {},
   "outputs": [
    {
     "name": "stdout",
     "output_type": "stream",
     "text": [
      "Итоговая сумма: 5152208\n",
      "CPU times: user 3min 45s, sys: 12.6 s, total: 3min 57s\n",
      "Wall time: 3min 57s\n"
     ]
    }
   ],
   "source": [
    "%%time\n",
    "# Однопоточная обработка файлов (для сравнения)\n",
    "total_sum = 0\n",
    "for f in files:\n",
    "    total_sum += process_file(f[0], f[1], f[2])\n",
    "print(f'Итоговая сумма: {total_sum}')"
   ]
  },
  {
   "cell_type": "code",
   "execution_count": 7,
   "metadata": {},
   "outputs": [
    {
     "name": "stdout",
     "output_type": "stream",
     "text": [
      "Итоговая сумма: 5152208\n",
      "CPU times: user 17.6 ms, sys: 25.8 ms, total: 43.4 ms\n",
      "Wall time: 44 s\n"
     ]
    }
   ],
   "source": [
    "%%time \n",
    "# Многопроцессорная обработка файлов\n",
    "total_sum = 0\n",
    "with Pool(processes=12) as pool:\n",
    "    for r in pool.starmap(process_file, files):\n",
    "        total_sum += r\n",
    "print(f'Итоговая сумма: {total_sum}')"
   ]
  }
 ],
 "metadata": {
  "kernelspec": {
   "display_name": ".venv",
   "language": "python",
   "name": "python3"
  },
  "language_info": {
   "codemirror_mode": {
    "name": "ipython",
    "version": 3
   },
   "file_extension": ".py",
   "mimetype": "text/x-python",
   "name": "python",
   "nbconvert_exporter": "python",
   "pygments_lexer": "ipython3",
   "version": "3.12.3"
  }
 },
 "nbformat": 4,
 "nbformat_minor": 2
}
