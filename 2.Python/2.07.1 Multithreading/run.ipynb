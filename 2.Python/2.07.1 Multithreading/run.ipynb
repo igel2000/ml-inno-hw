{
 "cells": [
  {
   "cell_type": "code",
   "execution_count": 1,
   "metadata": {},
   "outputs": [],
   "source": [
    "import pathlib\n",
    "import time\n",
    "import zipfile\n",
    "from multiprocessing import Pool, Lock, Manager, cpu_count, current_process\n",
    "from concurrent.futures import ThreadPoolExecutor, as_completed\n",
    "import platform"
   ]
  },
  {
   "cell_type": "markdown",
   "metadata": {},
   "source": [
    "# Задача 1. Удвоение чисел и получение первого результата"
   ]
  },
  {
   "cell_type": "code",
   "execution_count": 2,
   "metadata": {},
   "outputs": [],
   "source": [
    "# Получение данных из файла\n",
    "data_path = pathlib.Path.cwd().joinpath('data/test_list_numbers.txt')\n",
    "# Считаем содержимое файла в одну строку избавившись от переводов строк и пробелов\n",
    "data_str = \"\"\n",
    "with open(data_path, 'r') as f:\n",
    "    for line in f.readlines():\n",
    "        data_str += line.replace('\\n','').replace(' ', '')\n",
    "# убрать внешние скобки - останется только \"содержимое\" внешнего списка\n",
    "data_str = data_str[1:-1] \n",
    "# разделить на \"вложеные\" списки\n",
    "data_list = data_str.replace(\"[\",\"\").split(\"],\")\n",
    "\n",
    "def str_to_int_list(str_with_numbers):\n",
    "    \"Строку с числами преобразовать список чисел\"\n",
    "    l1 = str_with_numbers.split(\",\")\n",
    "    s2i = lambda s: int(s) if s.isdigit() else None\n",
    "    return list(map(s2i, l1))\n",
    "# преобразовать в списки с числами\n",
    "data_int = list(map(str_to_int_list,data_list))"
   ]
  },
  {
   "cell_type": "code",
   "execution_count": 3,
   "metadata": {},
   "outputs": [],
   "source": [
    "class ProcessNumberList:\n",
    "    \"\"\"Организация параллельной обработки списков чисел\"\"\"\n",
    "    # флаг, того надо или нет прервать процесс обработки списков, выполняемых обработчиками конкретного экземпляра класса\n",
    "    __need_stop_process_list = False\n",
    "\n",
    "    def __init__(self):\n",
    "        self.reset_need_stop_process_list()\n",
    "        \n",
    "    @property\n",
    "    def need_stop_process_list(self):\n",
    "        \"\"\"Флаг необходимости прерывания соседних потоков, обрабатываемых в этом же объекте\"\"\"\n",
    "        return self.__need_stop_process_list\n",
    "\n",
    "    def reset_need_stop_process_list(self):\n",
    "        \"\"\"Сбросить флаг необходимости прерывания соседних потоков\"\"\"\n",
    "        self.__need_stop_process_list = False\n",
    "\n",
    "    def __process_number(self, number):\n",
    "        \"\"\"Обработка одно числа из списка\"\"\"\n",
    "        result = number * 2\n",
    "        time.sleep(0.1) # задержка выше, чем в задании, чтобы нагляднее была разница в длительности двух подходов\n",
    "        return result\n",
    "\n",
    "    def __process_list(self, numbers, break_after_first = False):\n",
    "        \"\"\"Обработка списка чисел\"\"\"\n",
    "        result = 0\n",
    "        for number in numbers:\n",
    "            if break_after_first and self.__need_stop_process_list:\n",
    "                # соседний поток обработал свой список - значит завершить и обработку текущего списка\n",
    "                return None\n",
    "            if number is not None:\n",
    "                result += self.__process_number(number)\n",
    "        if break_after_first:\n",
    "            # текущий список завершили обрабатывать - сообщить об этом соседним потокам\n",
    "            self.__need_stop_process_list = True\n",
    "        return result\n",
    "\n",
    "    def process_list_break_after_first(self, numbers):\n",
    "        \"\"\"Обработать список чисел, остановившись как только какой-нибудь поток обработает свой список\"\"\"\n",
    "        return self.__process_list(numbers, break_after_first = True)\n",
    "\n",
    "    def process_list_wait_all(self, numbers):\n",
    "        \"\"\"Обработать список чисел не обращая внимания на соседние потоки\"\"\"\n",
    "        return self.__process_list(numbers, break_after_first = False)    \n"
   ]
  },
  {
   "cell_type": "code",
   "execution_count": 4,
   "metadata": {},
   "outputs": [
    {
     "name": "stdout",
     "output_type": "stream",
     "text": [
      "Сумма чисел в первом обработанном списке: 11090\n",
      "CPU times: user 6.34 ms, sys: 4.21 ms, total: 10.5 ms\n",
      "Wall time: 2.81 s\n"
     ]
    }
   ],
   "source": [
    "%%time\n",
    "# Вариант без принудительного останова параллельных потоков\n",
    "first_list_sum = None\n",
    "# Запуск без принудительного останова параллельных потоков\n",
    "with ThreadPoolExecutor(max_workers=10) as executor:\n",
    "    # Создание и запуск задач\n",
    "    p = ProcessNumberList()\n",
    "    futures = [executor.submit(p.process_list_wait_all, l) for l in data_int]\n",
    "\n",
    "    # Получение результатов задач\n",
    "    for future in as_completed(futures):\n",
    "        first_list_sum = future.result()\n",
    "        break # больше результатов можно не ждать - прерываем цикл \n",
    "print(f\"Сумма чисел в первом обработанном списке: {first_list_sum}\")"
   ]
  },
  {
   "cell_type": "code",
   "execution_count": 5,
   "metadata": {},
   "outputs": [
    {
     "name": "stdout",
     "output_type": "stream",
     "text": [
      "Сумма чисел в первом обработанном списке: 11090\n",
      "CPU times: user 2.45 ms, sys: 7.5 ms, total: 9.95 ms\n",
      "Wall time: 1.3 s\n"
     ]
    }
   ],
   "source": [
    "%%time\n",
    "# Вариант с принудительным остановом обработки в параллельных потоках\n",
    "from concurrent.futures import ThreadPoolExecutor, as_completed\n",
    "first_list_sum = None\n",
    "with ThreadPoolExecutor(max_workers=10) as executor:\n",
    "    # Создание и запуск задач\n",
    "    p = ProcessNumberList()\n",
    "    futures = [executor.submit(p.process_list_break_after_first, l) for l in data_int]\n",
    "\n",
    "    # Получение результатов задач\n",
    "    for future in as_completed(futures):\n",
    "        first_list_sum = future.result()\n",
    "        break # больше результатов можно не ждать - прерываем цикл \n",
    "print(f\"Сумма чисел в первом обработанном списке: {first_list_sum}\")"
   ]
  },
  {
   "cell_type": "markdown",
   "metadata": {},
   "source": [
    "# Задача 2. Подсчет суммы на основе значений из файлов, ссылки на которых находятся в других файлах"
   ]
  },
  {
   "cell_type": "code",
   "execution_count": 6,
   "metadata": {},
   "outputs": [],
   "source": [
    "def prepared_filename(filename):\n",
    "    \"\"\"Преобразование стиль пути к файлу Linux <-> Windows\"\"\"\n",
    "    if platform.system()=='Linux':\n",
    "        filename = filename.replace('\\\\','/')    \n",
    "    else:\n",
    "        filename = filename.replace('/', '\\\\')    \n",
    "    return filename"
   ]
  },
  {
   "cell_type": "code",
   "execution_count": 7,
   "metadata": {},
   "outputs": [],
   "source": [
    "zip_with_filenames_path = pathlib.Path.cwd().joinpath('data/path_8_8.zip')\n",
    "data_zip_path = pathlib.Path.cwd().joinpath('data/recursive_challenge_8_8.zip')"
   ]
  },
  {
   "cell_type": "markdown",
   "metadata": {},
   "source": [
    "## Вариант-1. Zip-файлы открываются каждый раз в параллельной задаче"
   ]
  },
  {
   "cell_type": "code",
   "execution_count": 9,
   "metadata": {},
   "outputs": [],
   "source": [
    "def process_file(filename, zip_with_filenames_path, data_zip_path):\n",
    "    \"\"\"Обработать один файл\"\"\"\n",
    "    \n",
    "    # считаем ссылку на файл с данными из нужного файла в архиве с файлами-ссылками\n",
    "    with zipfile.ZipFile(zip_with_filenames_path) as zip_with_filenames:\n",
    "        data_file_path = prepared_filename(zip_with_filenames.read(filename).decode())\n",
    "    # найти файл в архиве с данными и считать из него число\n",
    "    with zipfile.ZipFile(data_zip_path) as data_zip:\n",
    "        num = int(data_zip.read(data_file_path).decode())\n",
    "    return num\n"
   ]
  },
  {
   "cell_type": "code",
   "execution_count": null,
   "metadata": {},
   "outputs": [],
   "source": [
    "# Получение списка файлов\n",
    "files1 = []\n",
    "with zipfile.ZipFile(zip_with_filenames_path) as paths_file:\n",
    "    files1 = [(p.filename, zip_with_filenames_path, data_zip_path) for p in paths_file.infolist() if not p.is_dir()]"
   ]
  },
  {
   "cell_type": "code",
   "execution_count": null,
   "metadata": {},
   "outputs": [
    {
     "name": "stdout",
     "output_type": "stream",
     "text": [
      "Итоговая сумма: 5152208\n",
      "CPU times: user 3min 42s, sys: 12.5 s, total: 3min 55s\n",
      "Wall time: 3min 55s\n"
     ]
    }
   ],
   "source": [
    "%%time\n",
    "# Однопоточная обработка файлов (для сравнения)\n",
    "total_sum = 0\n",
    "for f in files1:\n",
    "    total_sum += process_file(f[0], f[1], f[2])\n",
    "print(f'Итоговая сумма: {total_sum}')"
   ]
  },
  {
   "cell_type": "code",
   "execution_count": null,
   "metadata": {},
   "outputs": [
    {
     "name": "stdout",
     "output_type": "stream",
     "text": [
      "Итоговая сумма: 5152208\n",
      "CPU times: user 14.8 ms, sys: 32 ms, total: 46.8 ms\n",
      "Wall time: 49.1 s\n"
     ]
    }
   ],
   "source": [
    "%%time \n",
    "# Многопроцессная обработка файлов через multiprocessing.Pool\n",
    "total_sum = 0\n",
    "with Pool(processes=10) as pool:\n",
    "    for r in pool.starmap(process_file, files1):\n",
    "        total_sum += r\n",
    "print(f'Итоговая сумма: {total_sum}')"
   ]
  },
  {
   "cell_type": "code",
   "execution_count": null,
   "metadata": {},
   "outputs": [
    {
     "name": "stdout",
     "output_type": "stream",
     "text": [
      "Итоговая сумма: 5152208\n",
      "CPU times: user 4min 26s, sys: 5.75 s, total: 4min 31s\n",
      "Wall time: 4min 21s\n"
     ]
    }
   ],
   "source": [
    "%%time\n",
    "# Многопоточная обработка файлов через ThreadPoolExecutor\n",
    "from concurrent.futures import ThreadPoolExecutor, as_completed\n",
    "total_sum = 0\n",
    "with ThreadPoolExecutor(max_workers=10) as executor:\n",
    "    # Создание и запуск задач\n",
    "    futures = [executor.submit(process_file, f[0], f[1], f[2]) for f in files1]\n",
    "\n",
    "    # Получение результатов задач\n",
    "    for future in as_completed(futures):\n",
    "        total_sum +=  future.result()\n",
    "print(f'Итоговая сумма: {total_sum}')"
   ]
  },
  {
   "cell_type": "markdown",
   "metadata": {},
   "source": [
    "## Вариант-2. Файлы предварительно распакованы"
   ]
  },
  {
   "cell_type": "code",
   "execution_count": 14,
   "metadata": {},
   "outputs": [],
   "source": [
    "files_with_filenames_path = pathlib.Path.cwd().joinpath('extracted_data/path')\n",
    "data_files_path = pathlib.Path.cwd().joinpath('extracted_data')"
   ]
  },
  {
   "cell_type": "code",
   "execution_count": 79,
   "metadata": {},
   "outputs": [],
   "source": [
    "# Получение списка файлов-ссылок\n",
    "files4 = []\n",
    "for _, _, filenames in files_with_filenames_path.walk():\n",
    "    pass\n",
    "files4 = [(filename, files_with_filenames_path, data_files_path) for filename in filenames]\n",
    "files2 = []\n",
    "files2.extend(files4)\n",
    "# files2.extend(files4)\n",
    "# files2.extend(files4)\n",
    "# files2.extend(files4)\n",
    "# files2.extend(files4)\n",
    "# files2.extend(files4)\n",
    "# files2.extend(files4)\n",
    "# files2.extend(files4)\n",
    "# files2.extend(files4)\n",
    "# files2.extend(files4)\n"
   ]
  },
  {
   "cell_type": "code",
   "execution_count": 45,
   "metadata": {},
   "outputs": [],
   "source": [
    "def process_file2(filename, files_with_filenames_path, data_files_path):\n",
    "    \"\"\"Обработать один файл\"\"\"\n",
    "    # считаем ссылку на файл с данными из нужного файла в архиве с файлами-ссылками\n",
    "    with open(pathlib.Path(files_with_filenames_path).joinpath(filename), 'r') as file_with_link:\n",
    "        relative_link = file_with_link.readline()\n",
    "    with open(pathlib.Path(data_files_path).joinpath(prepared_filename(relative_link)), 'rb') as data_file:\n",
    "        num = int(data_file.readline())\n",
    "    return num"
   ]
  },
  {
   "cell_type": "code",
   "execution_count": 83,
   "metadata": {},
   "outputs": [
    {
     "name": "stdout",
     "output_type": "stream",
     "text": [
      "Итоговая сумма: 5152208\n",
      "CPU times: user 16.1 ms, sys: 14 ms, total: 30.1 ms\n",
      "Wall time: 29.8 ms\n"
     ]
    }
   ],
   "source": [
    "%%time\n",
    "# Однопоточная обработка файлов (для сравнения)\n",
    "total_sum = 0\n",
    "for f in files2:\n",
    "    total_sum += process_file2(f[0], f[1], f[2])\n",
    "print(f'Итоговая сумма: {total_sum}')"
   ]
  },
  {
   "cell_type": "code",
   "execution_count": 87,
   "metadata": {},
   "outputs": [
    {
     "name": "stdout",
     "output_type": "stream",
     "text": [
      "Итоговая сумма: 5152208\n",
      "CPU times: user 6.56 ms, sys: 46.6 ms, total: 53.1 ms\n",
      "Wall time: 64 ms\n"
     ]
    }
   ],
   "source": [
    "%%time \n",
    "# Многопроцессная обработка файлов через multiprocessing.Pool\n",
    "total_sum = 0\n",
    "with Pool(processes=10) as pool:\n",
    "    for r in pool.starmap(process_file2, files2):\n",
    "        total_sum += r\n",
    "print(f'Итоговая сумма: {total_sum}')"
   ]
  },
  {
   "cell_type": "code",
   "execution_count": 95,
   "metadata": {},
   "outputs": [
    {
     "name": "stdout",
     "output_type": "stream",
     "text": [
      "Итоговая сумма: 5152208\n",
      "CPU times: user 183 ms, sys: 112 ms, total: 295 ms\n",
      "Wall time: 196 ms\n"
     ]
    }
   ],
   "source": [
    "%%time\n",
    "# Многопоточная обработка файлов через ThreadPoolExecutor\n",
    "from concurrent.futures import ThreadPoolExecutor, as_completed\n",
    "total_sum = 0\n",
    "with ThreadPoolExecutor(max_workers=10) as executor:\n",
    "#with ThreadPoolExecutor() as executor:\n",
    "    # Создание и запуск задач\n",
    "    futures = [executor.submit(process_file2, f[0], f[1], f[2]) for f in files2]\n",
    "\n",
    "    # Получение результатов задач\n",
    "    for future in as_completed(futures):\n",
    "        total_sum +=  future.result()\n",
    "print(f'Итоговая сумма: {total_sum}')"
   ]
  },
  {
   "cell_type": "markdown",
   "metadata": {},
   "source": [
    "## Вариант-3. Своя копия открытого zip-файла для каждого процесса"
   ]
  },
  {
   "cell_type": "code",
   "execution_count": 118,
   "metadata": {},
   "outputs": [],
   "source": [
    "files4 = []\n",
    "with zipfile.ZipFile(zip_with_filenames_path) as paths_file:\n",
    "    files4 = [(p.filename, ) for p in paths_file.infolist() if not p.is_dir()]\n",
    "files3 = []\n",
    "files3.extend(files4)\n",
    "# files3.extend(files4)\n",
    "# files3.extend(files4)\n",
    "# files3.extend(files4)\n",
    "# files3.extend(files4)\n",
    "# files3.extend(files4)\n",
    "# files3.extend(files4)\n",
    "# files3.extend(files4)\n",
    "# files3.extend(files4)\n",
    "# files3.extend(files4)"
   ]
  },
  {
   "cell_type": "code",
   "execution_count": 106,
   "metadata": {},
   "outputs": [],
   "source": [
    "def initialize(zip_with_filenames_path, data_zip_path):\n",
    "    global zip_with_filenames_dict\n",
    "    global data_zip_dict\n",
    "    zip_with_filenames_dict[current_process().name] = zipfile.ZipFile(zip_with_filenames_path)\n",
    "    data_zip_dict[current_process().name] = zipfile.ZipFile(data_zip_path)"
   ]
  },
  {
   "cell_type": "code",
   "execution_count": 107,
   "metadata": {},
   "outputs": [],
   "source": [
    "def process_file3(filename):\n",
    "    \"\"\"Обработать один файл\"\"\"\n",
    "\n",
    "    global zip_with_filenames_dict\n",
    "    global data_zip_dict\n",
    "    \n",
    "    # считаем ссылку на файл с данными из нужного файла в архиве с файлами-ссылками\n",
    "    with zip_with_filenames_dict[current_process().name].open(filename) as file_with_link:\n",
    "        data_file_path = prepared_filename(file_with_link.read().decode())\n",
    "\n",
    "    # найти файл в архиве с данными и считать из него число\n",
    "    with data_zip_dict[current_process().name].open(data_file_path) as data_file:\n",
    "        num = int(data_file.readline().decode())\n",
    "\n",
    "    return num\n"
   ]
  },
  {
   "cell_type": "code",
   "execution_count": 122,
   "metadata": {},
   "outputs": [
    {
     "name": "stdout",
     "output_type": "stream",
     "text": [
      "Итоговая сумма: 5152208\n",
      "CPU times: user 232 ms, sys: 3.99 ms, total: 236 ms\n",
      "Wall time: 235 ms\n"
     ]
    }
   ],
   "source": [
    "%%time\n",
    "# Однопоточная обработка файлов (для сравнения)\n",
    "total_sum = 0\n",
    "zip_with_filenames_dict = {}\n",
    "data_zip_dict = {}\n",
    "initialize(zip_with_filenames_path, data_zip_path)\n",
    "for f in files3:\n",
    "    total_sum += process_file3(f[0])\n",
    "zip_with_filenames_dict = {}\n",
    "data_zip_dict = {}\n",
    "print(f'Итоговая сумма: {total_sum}')"
   ]
  },
  {
   "cell_type": "code",
   "execution_count": null,
   "metadata": {},
   "outputs": [
    {
     "name": "stdout",
     "output_type": "stream",
     "text": [
      "Итоговая сумма: 5152208\n",
      "CPU times: user 4.95 ms, sys: 9.17 ms, total: 14.1 ms\n",
      "Wall time: 295 ms\n"
     ]
    }
   ],
   "source": [
    "%%time\n",
    "# Многопроцессная обработка файлов через multiprocessing.Pool\n",
    "total_sum = 0\n",
    "zip_with_filenames_dict = {}\n",
    "data_zip_dict = {}\n",
    "with Pool(processes=10, initializer=initialize, initargs=(zip_with_filenames_path, data_zip_path)) as pool:\n",
    "    for r in pool.starmap(process_file3, files3):\n",
    "        total_sum += r\n",
    "zip_with_filenames_dict = {}\n",
    "data_zip_dict = {}\n",
    "print(f'Итоговая сумма: {total_sum}')"
   ]
  },
  {
   "cell_type": "code",
   "execution_count": null,
   "metadata": {},
   "outputs": [
    {
     "name": "stdout",
     "output_type": "stream",
     "text": [
      "Итоговая сумма: 5152208\n",
      "CPU times: user 377 ms, sys: 41 ms, total: 418 ms\n",
      "Wall time: 381 ms\n"
     ]
    }
   ],
   "source": [
    "%%time\n",
    "# Многопоточная обработка файлов через ThreadPoolExecutor\n",
    "total_sum = 0\n",
    "zip_with_filenames_dict = {}\n",
    "data_zip_dict = {}\n",
    "initialize(zip_with_filenames_path, data_zip_path)\n",
    "with ThreadPoolExecutor(max_workers=10) as executor:\n",
    "    # Создание и запуск задач\n",
    "    futures = [executor.submit(process_file3, f[0]) for f in files3]\n",
    "    # Получение результатов задач\n",
    "    for future in as_completed(futures):\n",
    "        total_sum +=  future.result()\n",
    "zip_with_filenames_dict = {}\n",
    "data_zip_dict = {}\n",
    "print(f'Итоговая сумма: {total_sum}')"
   ]
  }
 ],
 "metadata": {
  "kernelspec": {
   "display_name": ".venv",
   "language": "python",
   "name": "python3"
  },
  "language_info": {
   "codemirror_mode": {
    "name": "ipython",
    "version": 3
   },
   "file_extension": ".py",
   "mimetype": "text/x-python",
   "name": "python",
   "nbconvert_exporter": "python",
   "pygments_lexer": "ipython3",
   "version": "3.12.3"
  }
 },
 "nbformat": 4,
 "nbformat_minor": 2
}
