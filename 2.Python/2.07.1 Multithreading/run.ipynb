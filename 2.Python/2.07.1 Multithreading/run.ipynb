{
 "cells": [
  {
   "cell_type": "markdown",
   "metadata": {},
   "source": [
    "# Задача 1 Удвоение чисел и получение первого результата"
   ]
  },
  {
   "cell_type": "code",
   "execution_count": 1,
   "metadata": {},
   "outputs": [
    {
     "name": "stdout",
     "output_type": "stream",
     "text": [
      "Сумма чисел в первом обработанном списке: 11090\n"
     ]
    }
   ],
   "source": [
    "from concurrent.futures import ThreadPoolExecutor, as_completed\n",
    "import time\n",
    "\n",
    "data = [\n",
    "    [175, 790, 103, 479, 433, 406, 510, 377, 184, 777, 990, 321],\n",
    "    [466, 538, 210, 881, 873, 411, 856, 965, 537, 243, 749, 229, 545,\n",
    "     312, 651, 342, 328, 152, 473, 479, 257, 899, 362, 584, 888],\n",
    "    [393, 488, 955, 771, 536, 922, 182, 564, 581, 998, 556, 813, 482, 940, 947, 267, 721, 944, 820, 993],\n",
    "    [691, 532, 354, 831, 241, 724, 547, 580, 191, 742, 263, 149, 661, 804, 819, 246, 519, 698],\n",
    "    [373, 235, 860, 591, 592, 227, 455, 113, 426, 181, 741, 723, 998, 667, 827],\n",
    "    [924, 880, 704, 133, 538, 795, 364, 687, 775, 925, 445, 659, 883, 620, 391, \n",
    "     836, 779, 617, 528, 914, 424],\n",
    "    [324, 643, 171, 208, 330, 306, 559, 927, 871, 284, 438, 644, 447, 893, 287],\n",
    "    [993, 788, 192, 169, 549, 162, 324, 213, 277, 376, 391, 243, 749, 229, 545, 516, 260, 798],\n",
    "    [497, 971, 765, 137, 543, 498, 583, 649, 558, 488, 882, 907, 589, 151, 724, \n",
    "     689, 134, 492, 124, 114, 147, 734, 524,\n",
    "     658, 441, 908, 192, 240],\n",
    "    [575, 873, 922, 950, 375, 555, 351, 582, 659, 629, 619, 851, 661, 804, 819, \n",
    "     246, 519, 698, 286, 639, 593, 773, 157],\n",
    "]\n",
    "\n",
    "def process_number(number):\n",
    "    \"\"\"Обработка одно числа из списка\"\"\"\n",
    "    result = number * 2\n",
    "    time.sleep(0.02)\n",
    "    return result\n",
    "\n",
    "def process_list(numbers):\n",
    "    \"\"\"Обработка списка чисео\"\"\"\n",
    "    result = 0\n",
    "    for number in numbers:\n",
    "        result += process_number(number)\n",
    "    return result\n",
    "\n",
    "with ThreadPoolExecutor(max_workers=10) as executor:\n",
    "    # Создание и запуск задач\n",
    "    futures = [executor.submit(process_list, l) for l in data]\n",
    "\n",
    "    # Получение результатов задач\n",
    "    for future in as_completed(futures):\n",
    "        first_list_sum = future.result()\n",
    "        print(f\"Сумма чисел в первом обработанном списке: {first_list_sum}\")\n",
    "        break"
   ]
  },
  {
   "cell_type": "markdown",
   "metadata": {},
   "source": [
    "# Задача 2 Поиск и суммирование чисел через цепочку файлов"
   ]
  },
  {
   "cell_type": "code",
   "execution_count": 2,
   "metadata": {},
   "outputs": [],
   "source": [
    "import pathlib\n",
    "import zipfile\n",
    "from multiprocessing import Pool\n",
    "import platform\n",
    "\n",
    "zip_with_filenames_path = pathlib.Path.cwd().joinpath('data/path_8_8.zip')\n",
    "data_zip_path = pathlib.Path.cwd().joinpath('data/recursive_challenge_8_8.zip')"
   ]
  },
  {
   "cell_type": "code",
   "execution_count": 3,
   "metadata": {},
   "outputs": [],
   "source": [
    "def prepared_filename(filename):\n",
    "    \"\"\"Преобразование стиль пути к файлу Linux <-> Windows\"\"\"\n",
    "    if platform.system()=='Linux':\n",
    "        filename = filename.replace('\\\\','/')    \n",
    "    else:\n",
    "        filename = filename.replace('/', '\\\\')    \n",
    "    return filename\n",
    "\n",
    "def process_file(filename, zip_with_filenames_path, data_zip_path):\n",
    "    \"\"\"Обработать один файл\"\"\"\n",
    "    # откроем архив с файлами-ссылками\n",
    "    zip_with_filenames = zipfile.ZipFile(zip_with_filenames_path)\n",
    "    # считаем ссылку на файл с данными\n",
    "    data_file_path = prepared_filename(zip_with_filenames.read(filename).decode())\n",
    "    # откроем архив с данными\n",
    "    data_zip = zipfile.ZipFile(data_zip_path)\n",
    "    # считаем число из data_file_path\n",
    "    num = int(data_zip.read(data_file_path).decode())\n",
    "    return num\n"
   ]
  },
  {
   "cell_type": "code",
   "execution_count": 4,
   "metadata": {},
   "outputs": [],
   "source": [
    "# Получение списка файлов\n",
    "paths_file = zipfile.ZipFile(zip_with_filenames_path)\n",
    "files = [(p.filename, zip_with_filenames_path, data_zip_path) for p in paths_file.infolist() if not p.is_dir()]"
   ]
  },
  {
   "cell_type": "code",
   "execution_count": 5,
   "metadata": {},
   "outputs": [
    {
     "name": "stdout",
     "output_type": "stream",
     "text": [
      "Итоговая сумма: 5152208\n"
     ]
    }
   ],
   "source": [
    "# Однопоточная обработка файлов (для сравнения)\n",
    "total_sum = 0\n",
    "for f in files:\n",
    "    total_sum += process_file(f[0], f[1], f[2])\n",
    "print(f'Итоговая сумма: {total_sum}')"
   ]
  },
  {
   "cell_type": "code",
   "execution_count": 6,
   "metadata": {},
   "outputs": [
    {
     "name": "stdout",
     "output_type": "stream",
     "text": [
      "Итоговая сумма: 5152208\n"
     ]
    }
   ],
   "source": [
    "# Многопроцессорная обработка файлов\n",
    "total_sum = 0\n",
    "with Pool(processes=12) as pool:\n",
    "    for r in pool.starmap(process_file, files):\n",
    "        total_sum += r\n",
    "print(f'Итоговая сумма: {total_sum}')"
   ]
  }
 ],
 "metadata": {
  "kernelspec": {
   "display_name": ".venv",
   "language": "python",
   "name": "python3"
  },
  "language_info": {
   "codemirror_mode": {
    "name": "ipython",
    "version": 3
   },
   "file_extension": ".py",
   "mimetype": "text/x-python",
   "name": "python",
   "nbconvert_exporter": "python",
   "pygments_lexer": "ipython3",
   "version": "3.12.3"
  }
 },
 "nbformat": 4,
 "nbformat_minor": 2
}
