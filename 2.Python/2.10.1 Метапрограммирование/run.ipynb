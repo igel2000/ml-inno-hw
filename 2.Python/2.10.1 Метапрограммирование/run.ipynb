{
 "cells": [
  {
   "cell_type": "code",
   "execution_count": 1,
   "metadata": {},
   "outputs": [],
   "source": [
    "#!pip install wrapt"
   ]
  },
  {
   "cell_type": "code",
   "execution_count": 2,
   "metadata": {},
   "outputs": [],
   "source": [
    "import os\n",
    "import logging\n",
    "import sys\n",
    "import contextlib\n",
    "from pprint import pprint\n",
    "import wrapt  \n",
    "import functools\n"
   ]
  },
  {
   "cell_type": "markdown",
   "metadata": {},
   "source": [
    "# Задача 1 Применение метаклассов.\n",
    "\n",
    "Идея решения.\n",
    "В `__new__()` метакласса AttrLoggingMeta:\n",
    "* методы и аттрибуты начинающиеся с '__' пропускаются. Предполагаем, что приватные методы не требуется логгировать.\n",
    "* методы оборачиваются декоратором log_access() - статическим методом класса AttrLoggingMeta\n",
    "* для аттрибутов:\n",
    "    * создается аттрибут класса с именем по масске `f'__logged_by_ALG_{исходное имя аттрибута}'`\n",
    "    * сам же атрибут подменяется на экземпляр класса property(), для которого геттер и сеттер созданы с логгированием\n",
    "\n",
    "Особенности и ограничения:\n",
    "* аттрибуты экземпляра класса (добавляемые в `__init__()`) логгировать не будут, т.к. появляются после того, как отработает `__new__()` метакласса"
   ]
  },
  {
   "cell_type": "code",
   "execution_count": 3,
   "metadata": {},
   "outputs": [],
   "source": [
    "class AttrLoggingMeta(type):\n",
    "    \"\"\"Мета-класс с контролем доступа к методам и чтения-записи атрибутов\"\"\"\n",
    "    def __new__(mcs, name, bases, attrs, **extra_kwargs):\n",
    "\n",
    "        need_change_attr = []\n",
    "\n",
    "        for attr, method in attrs.items():  \n",
    "            if not attr.startswith('__'): # пропустим все приватные аттрибуты и методы\n",
    "                if callable(method):\n",
    "                    # оборачиваем все методы декоратором-логгером\n",
    "                    attrs[attr] = AttrLoggingMeta.log_access(method) \n",
    "                else:\n",
    "                    # запомним аттрибуты\n",
    "                    need_change_attr.append(attr)\n",
    "                \n",
    "        # для каждого аттрибута создадим property со специальными сеттером и геттором\n",
    "        for attr in need_change_attr:\n",
    "            attrs[f'__logged_by_ALG_{attr}'] = attrs[attr]\n",
    "            attrs[attr] = property(fget=AttrLoggingMeta.__create_getter(attr), fset=AttrLoggingMeta.__create_setter(attr))\n",
    "\n",
    "        cls_obj = super().__new__(mcs, name, bases, attrs)  \n",
    "        return cls_obj\n",
    "\n",
    "    def __init__(cls, name, bases, attrs, **extra_kwargs):  \n",
    "        super().__init__(cls)  \n",
    "\n",
    "    @classmethod  \n",
    "    def __prepare__(mcs, cls, bases, **extra_kwargs):  \n",
    "        return super().__prepare__(mcs, cls, bases, **extra_kwargs)  \n",
    "        \n",
    "    @staticmethod\n",
    "    def log_access(func):\n",
    "        \"\"\"Логгер доступа к методу\"\"\"\n",
    "        @functools.wraps(func)\n",
    "        def wrapper(*args, **kwargs):\n",
    "            print(f\"AttrLoggingMeta: Calling method {func.__qualname__}()\")\n",
    "            return func(*args, **kwargs)\n",
    "        return wrapper\n",
    "\n",
    "    @staticmethod\n",
    "    def __create_getter(name):\n",
    "        \"\"\"Создание геттера-логгера\"\"\"\n",
    "        body_getter =f\"\"\"\n",
    "def __getter(self):\n",
    "    print(f\"AttrLoggingMeta: Reading attribute: {name}\")\n",
    "    return self.__logged_by_ALG_{name}\n",
    "        \"\"\"\n",
    "        #print(body_getter)\n",
    "        exec(body_getter)\n",
    "        return locals()[f'__getter']\n",
    "\n",
    "    @staticmethod\n",
    "    def __create_setter(name):\n",
    "        \"\"\"Создание сеттера-логгера\"\"\"\n",
    "        body_setter =f\"\"\"\n",
    "def __setter(self, value):\n",
    "    print(f\"AttrLoggingMeta: Writing attribute: {name} with value {{value}}\")\n",
    "    self.__logged_by_ALG_{name} = value\n",
    "        \"\"\"\n",
    "        #print(body_setter)\n",
    "        exec(body_setter)\n",
    "        return locals()[f'__setter']\n",
    "\n",
    "    def __call__(cls, *args, **kwargs):  \n",
    "        return super().__call__(*args, **kwargs)    \n"
   ]
  },
  {
   "cell_type": "code",
   "execution_count": 4,
   "metadata": {},
   "outputs": [],
   "source": [
    "class LoggedClass(metaclass = AttrLoggingMeta): \n",
    "    \"\"\"Тестовый класс\"\"\"\n",
    "    class_attr = \"class_attr_value\"\n",
    "    \n",
    "    def __new__(cls, attr1, attr2, attr3):  \n",
    "        return super().__new__(cls)  \n",
    "        \n",
    "    def __init__(self, attr1, attr2, attr3):\n",
    "        self.instance_attr1 = attr1\n",
    "        self.__attr2 = attr2\n",
    "        self.__attr3 = attr3\n",
    "\n",
    "    def my_method(self):\n",
    "        return('LoggedClass.my_method() is runned()')\n",
    "\n",
    "    def set_instance_attr1(self, value):\n",
    "        self.instance_attr1 = value\n",
    "        print('LoggedClass.set_instance_attr1() is runned()')\n",
    "    \n",
    "    # read-only property класса\n",
    "    @property\n",
    "    def class_attr2(self):\n",
    "        print('LoggedClass.attr2 is read()')\n",
    "        return self.__attr2\n",
    "    \n",
    "    # mutable property класса\n",
    "    @property \n",
    "    def class_attr3(self):\n",
    "        print('LoggedClass.attr3 is read()')\n",
    "        # значение оборачивается в звездочки, чтобы убедиться, что заданный в классе геттер работает\n",
    "        return f'**{self.__attr3}**'\n",
    "    \n",
    "    @class_attr3.setter\n",
    "    def class_attr3(self, value):\n",
    "        print('LoggedClass.attr3 is write()')\n",
    "        # значение свойства \"удваивается\", чтобы проверить, что заданный в классе сеттер работает\n",
    "        self.__attr3 = f'{value}_{value}'\n",
    "    \n",
    "lc = LoggedClass(attr1=\"attr1_value\", attr2=\"attr2_value\", attr3 = \"attr3_value\")    "
   ]
  },
  {
   "cell_type": "markdown",
   "metadata": {},
   "source": [
    "### Проверить логгирование обращений к методам"
   ]
  },
  {
   "cell_type": "code",
   "execution_count": 5,
   "metadata": {},
   "outputs": [
    {
     "name": "stdout",
     "output_type": "stream",
     "text": [
      "AttrLoggingMeta: Calling method LoggedClass.my_method()\n",
      "LoggedClass.my_method() is runned()\n"
     ]
    }
   ],
   "source": [
    "# Проверяем логгирование возвращающего метода\n",
    "print(lc.my_method())\n"
   ]
  },
  {
   "cell_type": "code",
   "execution_count": 6,
   "metadata": {},
   "outputs": [
    {
     "name": "stdout",
     "output_type": "stream",
     "text": [
      "lc.instance_attr1 = attr1_value\n",
      "AttrLoggingMeta: Calling method LoggedClass.set_instance_attr1()\n",
      "LoggedClass.set_instance_attr1() is runned()\n",
      "lc.instance_attr1 = new_instance_attr1_value\n"
     ]
    }
   ],
   "source": [
    "# Проверяем логгирование метода без возвращаемого значения, но с параметором\n",
    "print(\"lc.instance_attr1 = \" + lc.instance_attr1)\n",
    "lc.set_instance_attr1(\"new_instance_attr1_value\")\n",
    "print(\"lc.instance_attr1 = \" + lc.instance_attr1)"
   ]
  },
  {
   "cell_type": "markdown",
   "metadata": {},
   "source": [
    "### Проверить логгирование обращений к class_attr"
   ]
  },
  {
   "cell_type": "code",
   "execution_count": 7,
   "metadata": {},
   "outputs": [
    {
     "name": "stdout",
     "output_type": "stream",
     "text": [
      "AttrLoggingMeta: Reading attribute: class_attr\n",
      "lc.class_attr=class_attr_value\n"
     ]
    }
   ],
   "source": [
    "# чтение\n",
    "print(f'lc.class_attr={lc.class_attr}')"
   ]
  },
  {
   "cell_type": "code",
   "execution_count": 8,
   "metadata": {},
   "outputs": [
    {
     "name": "stdout",
     "output_type": "stream",
     "text": [
      "AttrLoggingMeta: Writing attribute: class_attr with value class_attr_new\n"
     ]
    }
   ],
   "source": [
    "# изменение\n",
    "lc.class_attr = \"class_attr_new\"\n"
   ]
  },
  {
   "cell_type": "code",
   "execution_count": 9,
   "metadata": {},
   "outputs": [
    {
     "name": "stdout",
     "output_type": "stream",
     "text": [
      "AttrLoggingMeta: Reading attribute: class_attr\n",
      "lc.class_attr=class_attr_new\n"
     ]
    }
   ],
   "source": [
    "# повторное чтение, чтобы проверить, что изменение сработало\n",
    "print(f'lc.class_attr={lc.class_attr}')\n"
   ]
  },
  {
   "cell_type": "markdown",
   "metadata": {},
   "source": [
    "### Проверить логгирование обращений к instance_attr1\n",
    "\n",
    "Логов быть не должно, т.к. это не аттрибут класса, а атрибут экземпляра"
   ]
  },
  {
   "cell_type": "code",
   "execution_count": 10,
   "metadata": {},
   "outputs": [
    {
     "name": "stdout",
     "output_type": "stream",
     "text": [
      "lc.instance_attr1=new_instance_attr1_value\n"
     ]
    }
   ],
   "source": [
    "# чтение\n",
    "print(f'lc.instance_attr1={lc.instance_attr1}')"
   ]
  },
  {
   "cell_type": "code",
   "execution_count": 11,
   "metadata": {},
   "outputs": [],
   "source": [
    "# изменение\n",
    "lc.instance_attr1 = \"instance_attr1_new\""
   ]
  },
  {
   "cell_type": "code",
   "execution_count": 12,
   "metadata": {},
   "outputs": [
    {
     "name": "stdout",
     "output_type": "stream",
     "text": [
      "lc.instance_attr1=instance_attr1_new\n",
      "\n"
     ]
    }
   ],
   "source": [
    "# повторное чтение, чтобы проверить, что изменение сработало\n",
    "print(f'lc.instance_attr1={lc.instance_attr1}\\n')"
   ]
  },
  {
   "cell_type": "markdown",
   "metadata": {},
   "source": [
    "### Проверить логгирование обращений к class_attr2"
   ]
  },
  {
   "cell_type": "code",
   "execution_count": 13,
   "metadata": {},
   "outputs": [
    {
     "name": "stdout",
     "output_type": "stream",
     "text": [
      "AttrLoggingMeta: Reading attribute: class_attr2\n",
      "LoggedClass.attr2 is read()\n",
      "lc.class_attr2=attr2_value\n"
     ]
    }
   ],
   "source": [
    "# чтение\n",
    "print(f'lc.class_attr2={lc.class_attr2}')"
   ]
  },
  {
   "cell_type": "code",
   "execution_count": 14,
   "metadata": {},
   "outputs": [
    {
     "name": "stdout",
     "output_type": "stream",
     "text": [
      "AttrLoggingMeta: Writing attribute: class_attr2 with value class_attr2_new\n",
      "Ошибка: property '__logged_by_ALG_class_attr2' of 'LoggedClass' object has no setter\n"
     ]
    }
   ],
   "source": [
    "# Изменение. Д.б. ошибка, т.к. у свойста не задан сеттер\n",
    "try:\n",
    "    lc.class_attr2 = \"class_attr2_new\"\n",
    "except Exception as e:\n",
    "   print(f'Ошибка: {e}')"
   ]
  },
  {
   "cell_type": "code",
   "execution_count": 15,
   "metadata": {},
   "outputs": [],
   "source": [
    "### Проверить логгирование обращений к class_attr3"
   ]
  },
  {
   "cell_type": "code",
   "execution_count": 16,
   "metadata": {},
   "outputs": [
    {
     "name": "stdout",
     "output_type": "stream",
     "text": [
      "AttrLoggingMeta: Reading attribute: class_attr3\n",
      "LoggedClass.attr3 is read()\n",
      "lc.class_attr3=**attr3_value**\n"
     ]
    }
   ],
   "source": [
    "# чтение\n",
    "print(f'lc.class_attr3={lc.class_attr3}')"
   ]
  },
  {
   "cell_type": "code",
   "execution_count": 17,
   "metadata": {},
   "outputs": [
    {
     "name": "stdout",
     "output_type": "stream",
     "text": [
      "AttrLoggingMeta: Writing attribute: class_attr3 with value class_attr3_new\n",
      "LoggedClass.attr3 is write()\n"
     ]
    }
   ],
   "source": [
    "# изменение\n",
    "lc.class_attr3 = \"class_attr3_new\""
   ]
  },
  {
   "cell_type": "code",
   "execution_count": 18,
   "metadata": {},
   "outputs": [
    {
     "name": "stdout",
     "output_type": "stream",
     "text": [
      "AttrLoggingMeta: Reading attribute: class_attr3\n",
      "LoggedClass.attr3 is read()\n",
      "lc.class_attr3=**class_attr3_new_class_attr3_new**\n"
     ]
    }
   ],
   "source": [
    "# повторное чтение, чтобы проверить, что изменение сработало\n",
    "print(f'lc.class_attr3={lc.class_attr3}')"
   ]
  },
  {
   "cell_type": "code",
   "execution_count": 19,
   "metadata": {},
   "outputs": [
    {
     "data": {
      "text/plain": [
       "mappingproxy({'__module__': '__main__',\n",
       "              '__doc__': 'Тестовый класс',\n",
       "              'class_attr': <property at 0x7bc27c6af3d0>,\n",
       "              '__new__': <staticmethod(<function LoggedClass.__new__ at 0x7bc27c8594e0>)>,\n",
       "              '__init__': <function __main__.LoggedClass.__init__(self, attr1, attr2, attr3)>,\n",
       "              'my_method': <function __main__.LoggedClass.my_method(self)>,\n",
       "              'set_instance_attr1': <function __main__.LoggedClass.set_instance_attr1(self, value)>,\n",
       "              'class_attr2': <property at 0x7bc27c6af4c0>,\n",
       "              'class_attr3': <property at 0x7bc27c6af5b0>,\n",
       "              '__logged_by_ALG_class_attr': 'class_attr_value',\n",
       "              '__logged_by_ALG_class_attr2': <property at 0x7bc27ddd2520>,\n",
       "              '__logged_by_ALG_class_attr3': <property at 0x7bc27c6ae2a0>,\n",
       "              '__dict__': <attribute '__dict__' of 'LoggedClass' objects>,\n",
       "              '__weakref__': <attribute '__weakref__' of 'LoggedClass' objects>})"
      ]
     },
     "execution_count": 19,
     "metadata": {},
     "output_type": "execute_result"
    }
   ],
   "source": [
    "LoggedClass.__dict__"
   ]
  },
  {
   "cell_type": "code",
   "execution_count": 20,
   "metadata": {},
   "outputs": [
    {
     "data": {
      "text/plain": [
       "{'instance_attr1': 'instance_attr1_new',\n",
       " '_LoggedClass__attr2': 'attr2_value',\n",
       " '_LoggedClass__attr3': 'class_attr3_new_class_attr3_new',\n",
       " '__logged_by_ALG_class_attr': 'class_attr_new'}"
      ]
     },
     "execution_count": 20,
     "metadata": {},
     "output_type": "execute_result"
    }
   ],
   "source": [
    "lc.__dict__"
   ]
  },
  {
   "cell_type": "markdown",
   "metadata": {},
   "source": [
    "# Задача 2 Динамическое создание класса\n"
   ]
  },
  {
   "cell_type": "code",
   "execution_count": 21,
   "metadata": {},
   "outputs": [
    {
     "name": "stdout",
     "output_type": "stream",
     "text": [
      "Hello, I am a Human and I am 25 years old.\n"
     ]
    }
   ],
   "source": [
    "\n",
    "def  create_class_with_methods(name, attributes, methods):\n",
    "    # объеденить методы и атрибуты в однин словарь\n",
    "    new_dict = attributes | methods\n",
    "    # создать новый класс\n",
    "    new_class = type(name, (), new_dict)\n",
    "    return new_class\n",
    "\n",
    "attributes = { 'species': 'Human', 'age': 25 }\n",
    "methods = { 'greet': lambda self: f\"Hello, I am a {self.species} and I am {self.age} years old.\" }\n",
    "DynamicClass = create_class_with_methods('DynamicClass', attributes, methods) \n",
    "\n",
    "instance = DynamicClass()\n",
    "print(instance.greet())"
   ]
  },
  {
   "cell_type": "markdown",
   "metadata": {},
   "source": [
    "# Задача 3 Генерация кода\n"
   ]
  },
  {
   "cell_type": "code",
   "execution_count": 22,
   "metadata": {},
   "outputs": [],
   "source": [
    "def generate_complex_function(function_name, parameters, function_body):\n",
    "    \"\"\"Создать функцию по описанию и вернуть её\"\"\"\n",
    "    # собрать строку с параметрами\n",
    "    parameters_str = ','.join(parameters)\n",
    "    # добавить в строки с телом функции отступы\n",
    "    intendent_function_body = '\\n'.join(['    '+line for line in function_body.split('\\n')])\n",
    "    # собрать строку для формирования функции\n",
    "    exec_str = f\"def {function_name}({parameters_str}):\\n{intendent_function_body}\"\n",
    "    # создать функцию\n",
    "    exec(exec_str)\n",
    "    # извлечь функцию из локальных переменных и вернуть её\n",
    "    return locals()[function_name]"
   ]
  },
  {
   "cell_type": "code",
   "execution_count": 23,
   "metadata": {},
   "outputs": [
    {
     "name": "stdout",
     "output_type": "stream",
     "text": [
      "5\n",
      "5\n"
     ]
    }
   ],
   "source": [
    "function_name = 'complex_function'\n",
    "parameters = ['x', 'y']\n",
    "function_body = \"\"\"\n",
    "if x > y:\n",
    "   return x - y\n",
    "else:\n",
    "   return y - x\n",
    "\"\"\"\n",
    "complex_func = generate_complex_function(function_name, parameters, function_body)\n",
    "\n",
    "print(complex_func(10, 5))\n",
    "print(complex_func(5, 10))"
   ]
  },
  {
   "cell_type": "markdown",
   "metadata": {},
   "source": [
    "# "
   ]
  }
 ],
 "metadata": {
  "kernelspec": {
   "display_name": ".venv",
   "language": "python",
   "name": "python3"
  },
  "language_info": {
   "codemirror_mode": {
    "name": "ipython",
    "version": 3
   },
   "file_extension": ".py",
   "mimetype": "text/x-python",
   "name": "python",
   "nbconvert_exporter": "python",
   "pygments_lexer": "ipython3",
   "version": "3.12.3"
  }
 },
 "nbformat": 4,
 "nbformat_minor": 2
}
