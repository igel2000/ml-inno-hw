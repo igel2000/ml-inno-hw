{
 "cells": [
  {
   "cell_type": "code",
   "execution_count": 1,
   "metadata": {},
   "outputs": [],
   "source": [
    "#!pip install wrapt"
   ]
  },
  {
   "cell_type": "code",
   "execution_count": 2,
   "metadata": {},
   "outputs": [],
   "source": [
    "import os\n",
    "import logging\n",
    "import sys\n",
    "import contextlib\n",
    "from pprint import pprint\n",
    "import wrapt  \n",
    "import functools"
   ]
  },
  {
   "cell_type": "markdown",
   "metadata": {},
   "source": [
    "# Задача 1 Применение метаклассов. \n",
    "\n",
    "Три варианта решения. Наиболее оптимальным видится третий вариант.\n",
    "\n",
    "Вариант 1. В `__new__()` метакласса AttrLoggingMeta:\n",
    "* методы и аттрибуты начинающиеся с '__' пропускаются. Предполагаем, что приватные методы не требуется логгировать.\n",
    "* остальные методы оборачиваются декоратором log_access() - статическим методом класса AttrLoggingMeta\n",
    "* для аттрибутов:\n",
    "    * создается аттрибут класса с именем по масске `f'__logged_by_ALG_{исходное имя аттрибута}'`\n",
    "    * сам же атрибут подменяется на экземпляр класса property(), для которого геттер и сеттер созданы с логгированием\n",
    "\n",
    "Особенности и ограничения:\n",
    "* аттрибуты экземпляра класса (добавляемые в `__init__()`) логгировать не будут, т.к. появляются после того, как отработает `__new__()` метакласса\n",
    "\n",
    "Вриант 2. Отличия от варианта 1: логгирование чтения и обновления аттрибутов делается через декорирование методов `__getattribute__` и `__setattr__`, \n",
    "которые должны быть определены в классе.\n",
    "\n",
    "Вариант 3. Отличия от варианта 2: Избавился от обязательного объявления методов `__getattribute__` и `__setattr__` в логгируемом классе\n"
   ]
  },
  {
   "cell_type": "markdown",
   "metadata": {},
   "source": [
    "### Вариант 1"
   ]
  },
  {
   "cell_type": "code",
   "execution_count": 3,
   "metadata": {},
   "outputs": [],
   "source": [
    "class AttrLoggingMeta(type):\n",
    "    \"\"\"Мета-класс с контролем доступа к методам и чтения-записи атрибутов\"\"\"\n",
    "    def __new__(mcs, name, bases, attrs, **extra_kwargs):\n",
    "\n",
    "        need_change_attr = []\n",
    "\n",
    "        for attr, method in attrs.items():  \n",
    "            if not attr.startswith('__'): # пропустим все приватные аттрибуты и методы\n",
    "                if callable(method):\n",
    "                    # оборачиваем все методы декоратором-логгером\n",
    "                    attrs[attr] = AttrLoggingMeta.log_access(method) \n",
    "                else:\n",
    "                    # запомним аттрибуты\n",
    "                    need_change_attr.append(attr)\n",
    "                \n",
    "        # для каждого аттрибута создадим property со специальными сеттером и геттором\n",
    "        for attr in need_change_attr:\n",
    "            attrs[f'__logged_by_ALG_{attr}'] = attrs[attr]\n",
    "            attrs[attr] = property(fget=AttrLoggingMeta.__create_getter(attr), fset=AttrLoggingMeta.__create_setter(attr))\n",
    "\n",
    "        cls_obj = super().__new__(mcs, name, bases, attrs)  \n",
    "        return cls_obj\n",
    "\n",
    "    def __init__(cls, name, bases, attrs, **extra_kwargs):  \n",
    "        super().__init__(cls)  \n",
    "\n",
    "    @classmethod  \n",
    "    def __prepare__(mcs, cls, bases, **extra_kwargs):  \n",
    "        return super().__prepare__(mcs, cls, bases, **extra_kwargs)  \n",
    "        \n",
    "    @staticmethod\n",
    "    def log_access(func):\n",
    "        \"\"\"Логгер доступа к методу\"\"\"\n",
    "        @functools.wraps(func)\n",
    "        def wrapper(*args, **kwargs):\n",
    "            print(f\"AttrLoggingMeta: Calling method {func.__qualname__}()\")\n",
    "            return func(*args, **kwargs)\n",
    "        return wrapper\n",
    "\n",
    "    @staticmethod\n",
    "    def __create_getter(name):\n",
    "        \"\"\"Создание геттера-логгера\"\"\"\n",
    "        body_getter =f\"\"\"\n",
    "def __getter(self):\n",
    "    print(f\"AttrLoggingMeta: Reading attribute: {name}\")\n",
    "    return self.__logged_by_ALG_{name}\n",
    "        \"\"\"\n",
    "        #print(body_getter)\n",
    "        exec(body_getter)\n",
    "        return locals()[f'__getter']\n",
    "\n",
    "    @staticmethod\n",
    "    def __create_setter(name):\n",
    "        \"\"\"Создание сеттера-логгера\"\"\"\n",
    "        body_setter =f\"\"\"\n",
    "def __setter(self, value):\n",
    "    print(f\"AttrLoggingMeta: Writing attribute: {name} with value {{value}}\")\n",
    "    self.__logged_by_ALG_{name} = value\n",
    "        \"\"\"\n",
    "        #print(body_setter)\n",
    "        exec(body_setter)\n",
    "        return locals()[f'__setter']\n",
    "\n",
    "    def __call__(cls, *args, **kwargs):  \n",
    "        return super().__call__(*args, **kwargs)    \n"
   ]
  },
  {
   "cell_type": "code",
   "execution_count": 4,
   "metadata": {},
   "outputs": [],
   "source": [
    "class LoggedClass(metaclass = AttrLoggingMeta): \n",
    "    \"\"\"Тестовый класс\"\"\"\n",
    "    class_attr = \"class_attr_value\"\n",
    "    \n",
    "    def __new__(cls, attr1, attr2, attr3):  \n",
    "        return super().__new__(cls)  \n",
    "        \n",
    "    def __init__(self, attr1, attr2, attr3):\n",
    "        self.instance_attr1 = attr1\n",
    "        self.__attr2 = attr2\n",
    "        self.__attr3 = attr3\n",
    "\n",
    "    def my_method(self):\n",
    "        return('LoggedClass.my_method() is runned()')\n",
    "\n",
    "    def set_instance_attr1(self, value):\n",
    "        self.instance_attr1 = value\n",
    "        print('LoggedClass.set_instance_attr1() is runned()')\n",
    "    \n",
    "    # read-only property класса\n",
    "    @property\n",
    "    def class_attr2(self):\n",
    "        print('LoggedClass.attr2 is read()')\n",
    "        return self.__attr2\n",
    "    \n",
    "    # mutable property класса\n",
    "    @property \n",
    "    def class_attr3(self):\n",
    "        print('LoggedClass.attr3 is read()')\n",
    "        # значение оборачивается в звездочки, чтобы убедиться, что заданный в классе геттер работает\n",
    "        return f'**{self.__attr3}**'\n",
    "    \n",
    "    @class_attr3.setter\n",
    "    def class_attr3(self, value):\n",
    "        print('LoggedClass.attr3 is write()')\n",
    "        # значение свойства \"удваивается\", чтобы проверить, что заданный в классе сеттер работает\n",
    "        self.__attr3 = f'{value}_{value}'\n",
    "    \n",
    "lc = LoggedClass(attr1=\"attr1_value\", attr2=\"attr2_value\", attr3 = \"attr3_value\")    "
   ]
  },
  {
   "cell_type": "markdown",
   "metadata": {},
   "source": [
    "#### Проверить логгирование обращений к методам"
   ]
  },
  {
   "cell_type": "code",
   "execution_count": 5,
   "metadata": {},
   "outputs": [
    {
     "name": "stdout",
     "output_type": "stream",
     "text": [
      "AttrLoggingMeta: Calling method LoggedClass.my_method()\n",
      "LoggedClass.my_method() is runned()\n"
     ]
    }
   ],
   "source": [
    "# Проверяем логгирование возвращающего метода\n",
    "print(lc.my_method())\n"
   ]
  },
  {
   "cell_type": "code",
   "execution_count": 6,
   "metadata": {},
   "outputs": [
    {
     "name": "stdout",
     "output_type": "stream",
     "text": [
      "lc.instance_attr1 = attr1_value\n",
      "AttrLoggingMeta: Calling method LoggedClass.set_instance_attr1()\n",
      "LoggedClass.set_instance_attr1() is runned()\n",
      "lc.instance_attr1 = new_instance_attr1_value\n"
     ]
    }
   ],
   "source": [
    "# Проверяем логгирование метода без возвращаемого значения, но с параметором\n",
    "print(\"lc.instance_attr1 = \" + lc.instance_attr1)\n",
    "lc.set_instance_attr1(\"new_instance_attr1_value\")\n",
    "print(\"lc.instance_attr1 = \" + lc.instance_attr1)"
   ]
  },
  {
   "cell_type": "markdown",
   "metadata": {},
   "source": [
    "#### Проверить логгирование обращений к class_attr"
   ]
  },
  {
   "cell_type": "code",
   "execution_count": 7,
   "metadata": {},
   "outputs": [
    {
     "name": "stdout",
     "output_type": "stream",
     "text": [
      "AttrLoggingMeta: Reading attribute: class_attr\n",
      "lc.class_attr=class_attr_value\n"
     ]
    }
   ],
   "source": [
    "# чтение\n",
    "print(f'lc.class_attr={lc.class_attr}')"
   ]
  },
  {
   "cell_type": "code",
   "execution_count": 8,
   "metadata": {},
   "outputs": [
    {
     "name": "stdout",
     "output_type": "stream",
     "text": [
      "AttrLoggingMeta: Writing attribute: class_attr with value class_attr_new\n"
     ]
    }
   ],
   "source": [
    "# изменение\n",
    "lc.class_attr = \"class_attr_new\"\n"
   ]
  },
  {
   "cell_type": "code",
   "execution_count": 9,
   "metadata": {},
   "outputs": [
    {
     "name": "stdout",
     "output_type": "stream",
     "text": [
      "AttrLoggingMeta: Reading attribute: class_attr\n",
      "lc.class_attr=class_attr_new\n"
     ]
    }
   ],
   "source": [
    "# повторное чтение, чтобы проверить, что изменение сработало\n",
    "print(f'lc.class_attr={lc.class_attr}')\n"
   ]
  },
  {
   "cell_type": "markdown",
   "metadata": {},
   "source": [
    "#### Проверить логгирование обращений к instance_attr1\n",
    "\n",
    "Логов быть не должно, т.к. это не аттрибут класса, а атрибут экземпляра"
   ]
  },
  {
   "cell_type": "code",
   "execution_count": 10,
   "metadata": {},
   "outputs": [
    {
     "name": "stdout",
     "output_type": "stream",
     "text": [
      "lc.instance_attr1=new_instance_attr1_value\n"
     ]
    }
   ],
   "source": [
    "# чтение\n",
    "print(f'lc.instance_attr1={lc.instance_attr1}')"
   ]
  },
  {
   "cell_type": "code",
   "execution_count": 11,
   "metadata": {},
   "outputs": [],
   "source": [
    "# изменение\n",
    "lc.instance_attr1 = \"instance_attr1_new\""
   ]
  },
  {
   "cell_type": "code",
   "execution_count": 12,
   "metadata": {},
   "outputs": [
    {
     "name": "stdout",
     "output_type": "stream",
     "text": [
      "lc.instance_attr1=instance_attr1_new\n",
      "\n"
     ]
    }
   ],
   "source": [
    "# повторное чтение, чтобы проверить, что изменение сработало\n",
    "print(f'lc.instance_attr1={lc.instance_attr1}\\n')"
   ]
  },
  {
   "cell_type": "markdown",
   "metadata": {},
   "source": [
    "#### Проверить логгирование обращений к class_attr2"
   ]
  },
  {
   "cell_type": "code",
   "execution_count": 13,
   "metadata": {},
   "outputs": [
    {
     "name": "stdout",
     "output_type": "stream",
     "text": [
      "AttrLoggingMeta: Reading attribute: class_attr2\n",
      "LoggedClass.attr2 is read()\n",
      "lc.class_attr2=attr2_value\n"
     ]
    }
   ],
   "source": [
    "# чтение\n",
    "print(f'lc.class_attr2={lc.class_attr2}')"
   ]
  },
  {
   "cell_type": "code",
   "execution_count": 14,
   "metadata": {},
   "outputs": [
    {
     "name": "stdout",
     "output_type": "stream",
     "text": [
      "AttrLoggingMeta: Writing attribute: class_attr2 with value class_attr2_new\n",
      "Ошибка: property '__logged_by_ALG_class_attr2' of 'LoggedClass' object has no setter\n"
     ]
    }
   ],
   "source": [
    "# Изменение. Д.б. ошибка, т.к. у свойста не задан сеттер\n",
    "try:\n",
    "    lc.class_attr2 = \"class_attr2_new\"\n",
    "except Exception as e:\n",
    "   print(f'Ошибка: {e}')"
   ]
  },
  {
   "cell_type": "markdown",
   "metadata": {},
   "source": [
    "#### Проверить логгирование обращений к class_attr3"
   ]
  },
  {
   "cell_type": "code",
   "execution_count": 15,
   "metadata": {},
   "outputs": [
    {
     "name": "stdout",
     "output_type": "stream",
     "text": [
      "AttrLoggingMeta: Reading attribute: class_attr3\n",
      "LoggedClass.attr3 is read()\n",
      "lc.class_attr3=**attr3_value**\n"
     ]
    }
   ],
   "source": [
    "# чтение\n",
    "print(f'lc.class_attr3={lc.class_attr3}')"
   ]
  },
  {
   "cell_type": "code",
   "execution_count": 16,
   "metadata": {},
   "outputs": [
    {
     "name": "stdout",
     "output_type": "stream",
     "text": [
      "AttrLoggingMeta: Writing attribute: class_attr3 with value class_attr3_new\n",
      "LoggedClass.attr3 is write()\n"
     ]
    }
   ],
   "source": [
    "# изменение\n",
    "lc.class_attr3 = \"class_attr3_new\""
   ]
  },
  {
   "cell_type": "code",
   "execution_count": 17,
   "metadata": {},
   "outputs": [
    {
     "name": "stdout",
     "output_type": "stream",
     "text": [
      "AttrLoggingMeta: Reading attribute: class_attr3\n",
      "LoggedClass.attr3 is read()\n",
      "lc.class_attr3=**class_attr3_new_class_attr3_new**\n"
     ]
    }
   ],
   "source": [
    "# повторное чтение, чтобы проверить, что изменение сработало\n",
    "print(f'lc.class_attr3={lc.class_attr3}')"
   ]
  },
  {
   "cell_type": "code",
   "execution_count": 18,
   "metadata": {},
   "outputs": [
    {
     "data": {
      "text/plain": [
       "mappingproxy({'__module__': '__main__',\n",
       "              '__doc__': 'Тестовый класс',\n",
       "              'class_attr': <property at 0x71c8a9b17380>,\n",
       "              '__new__': <staticmethod(<function LoggedClass.__new__ at 0x71c8a9b25b20>)>,\n",
       "              '__init__': <function __main__.LoggedClass.__init__(self, attr1, attr2, attr3)>,\n",
       "              'my_method': <function __main__.LoggedClass.my_method(self)>,\n",
       "              'set_instance_attr1': <function __main__.LoggedClass.set_instance_attr1(self, value)>,\n",
       "              'class_attr2': <property at 0x71c8a9b17470>,\n",
       "              'class_attr3': <property at 0x71c8a9b17560>,\n",
       "              '__logged_by_ALG_class_attr': 'class_attr_value',\n",
       "              '__logged_by_ALG_class_attr2': <property at 0x71c8aa599300>,\n",
       "              '__logged_by_ALG_class_attr3': <property at 0x71c8a9b16c50>,\n",
       "              '__dict__': <attribute '__dict__' of 'LoggedClass' objects>,\n",
       "              '__weakref__': <attribute '__weakref__' of 'LoggedClass' objects>})"
      ]
     },
     "execution_count": 18,
     "metadata": {},
     "output_type": "execute_result"
    }
   ],
   "source": [
    "LoggedClass.__dict__"
   ]
  },
  {
   "cell_type": "code",
   "execution_count": 19,
   "metadata": {},
   "outputs": [
    {
     "data": {
      "text/plain": [
       "{'instance_attr1': 'instance_attr1_new',\n",
       " '_LoggedClass__attr2': 'attr2_value',\n",
       " '_LoggedClass__attr3': 'class_attr3_new_class_attr3_new',\n",
       " '__logged_by_ALG_class_attr': 'class_attr_new'}"
      ]
     },
     "execution_count": 19,
     "metadata": {},
     "output_type": "execute_result"
    }
   ],
   "source": [
    "lc.__dict__"
   ]
  },
  {
   "cell_type": "markdown",
   "metadata": {},
   "source": [
    "### Вариант 2"
   ]
  },
  {
   "cell_type": "code",
   "execution_count": 20,
   "metadata": {},
   "outputs": [],
   "source": [
    "class AttrLoggingMeta2(type):\n",
    "    \"\"\"Мета-класс с контролем доступа к методам и чтения-записи атрибутов\"\"\"\n",
    "    def __new__(mcs, name, bases, attrs, **extra_kwargs):\n",
    "\n",
    "        for attr, method in attrs.items():  \n",
    "            if attr == '__getattribute__':\n",
    "                attrs[attr] = AttrLoggingMeta2.log_read(method) \n",
    "            elif attr == '__setattr__':\n",
    "                attrs[attr] = AttrLoggingMeta2.log_write(method) \n",
    "            elif not attr.startswith('__'): # пропустим все приватные аттрибуты и методы\n",
    "                if callable(method):\n",
    "                    # оборачиваем все методы декоратором-логгером\n",
    "                    attrs[attr] = AttrLoggingMeta2.log_access(method) \n",
    "\n",
    "        cls_obj = super().__new__(mcs, name, bases, attrs)  \n",
    "\n",
    "        return cls_obj\n",
    "\n",
    "    def __init__(cls, name, bases, attrs, **extra_kwargs):  \n",
    "        super().__init__(cls)  \n",
    "\n",
    "    @classmethod  \n",
    "    def __prepare__(mcs, cls, bases, **extra_kwargs):  \n",
    "        return super().__prepare__(mcs, cls, bases, **extra_kwargs)  \n",
    "        \n",
    "    @staticmethod\n",
    "    def log_access(func):\n",
    "        \"\"\"Логгер доступа к методу\"\"\"\n",
    "        @functools.wraps(func)\n",
    "        def wrapper(*args, **kwargs):\n",
    "            print(f\"AttrLoggingMeta2: Calling method {func.__qualname__}()\")\n",
    "            return func(*args, **kwargs)\n",
    "        return wrapper\n",
    "\n",
    "    @staticmethod\n",
    "    def log_read(func):\n",
    "        \"\"\"Логгер чтения атрибутов\"\"\"\n",
    "        @functools.wraps(func)\n",
    "        def wrapper(*args, **kwargs):\n",
    "            if not args[1].startswith('__'): # пропустим все приватные аттрибуты\n",
    "                print(f\"AttrLoggingMeta2: read attribute {args[1]}\")\n",
    "            return func(*args, **kwargs)\n",
    "        return wrapper\n",
    "\n",
    "    @staticmethod\n",
    "    def log_write(func):\n",
    "        \"\"\"Логгер записи атрибутов\"\"\"\n",
    "        @functools.wraps(func)\n",
    "        def wrapper(*args, **kwargs):\n",
    "            if not args[1].startswith('__'): # пропустим все приватные аттрибуты\n",
    "                print(f\"AttrLoggingMeta2: update attribute {args[1]} to {args[2]}\")\n",
    "            return func(*args, **kwargs)\n",
    "        return wrapper\n",
    "\n",
    "    def __call__(cls, *args, **kwargs):  \n",
    "        return super().__call__(*args, **kwargs)    "
   ]
  },
  {
   "cell_type": "code",
   "execution_count": 21,
   "metadata": {},
   "outputs": [
    {
     "name": "stdout",
     "output_type": "stream",
     "text": [
      "AttrLoggingMeta2: update attribute instance_attr1 to attr1_value\n",
      "AttrLoggingMeta2: update attribute _LoggedClass2__attr2 to attr2_value\n",
      "AttrLoggingMeta2: update attribute _LoggedClass2__attr3 to attr3_value\n"
     ]
    }
   ],
   "source": [
    "\n",
    "class LoggedClass2(metaclass = AttrLoggingMeta2): \n",
    "    \"\"\"Тестовый класс\"\"\"\n",
    "    class_attr = \"class_attr_value\"\n",
    "    \n",
    "    def __new__(cls, attr1, attr2, attr3):  \n",
    "        return super().__new__(cls)  \n",
    "        \n",
    "    def __init__(self, attr1, attr2, attr3):\n",
    "        self.instance_attr1 = attr1\n",
    "        self.__attr2 = attr2\n",
    "        self.__attr3 = attr3\n",
    "\n",
    "    def my_method(self):\n",
    "        return('LoggedClass.my_method() is runned()')\n",
    "\n",
    "    def set_instance_attr1(self, value):\n",
    "        self.instance_attr1 = value\n",
    "        print('LoggedClass.set_instance_attr1() is runned()')\n",
    "    \n",
    "    # read-only property класса\n",
    "    @property\n",
    "    def class_attr2(self):\n",
    "        print('LoggedClass.attr2 is read()')\n",
    "        return self.__attr2\n",
    "    \n",
    "    # mutable property класса\n",
    "    @property \n",
    "    def class_attr3(self):\n",
    "        print('LoggedClass.attr3 is read()')\n",
    "        # значение оборачивается в звездочки, чтобы убедиться, что заданный в классе геттер работает\n",
    "        return f'**{self.__attr3}**'\n",
    "    \n",
    "    @class_attr3.setter\n",
    "    def class_attr3(self, value):\n",
    "        print('LoggedClass.attr3 is write()')\n",
    "        # значение свойства \"удваивается\", чтобы проверить, что заданный в классе сеттер работает\n",
    "        self.__attr3 = f'{value}_{value}'\n",
    "        \n",
    "    def __getattribute__(self, name):\n",
    "        return super().__getattribute__(name)\n",
    "\n",
    "    def __setattr__(self, name, value):\n",
    "        return super().__setattr__(name, value)\n",
    "\n",
    "lc2 = LoggedClass2(attr1=\"attr1_value\", attr2=\"attr2_value\", attr3 = \"attr3_value\")        "
   ]
  },
  {
   "cell_type": "markdown",
   "metadata": {},
   "source": [
    "#### Проверить логгирование обращений к методам"
   ]
  },
  {
   "cell_type": "code",
   "execution_count": 22,
   "metadata": {},
   "outputs": [
    {
     "name": "stdout",
     "output_type": "stream",
     "text": [
      "AttrLoggingMeta2: read attribute my_method\n",
      "AttrLoggingMeta2: Calling method LoggedClass2.my_method()\n",
      "LoggedClass.my_method() is runned()\n"
     ]
    }
   ],
   "source": [
    "# Проверяем логгирование возвращающего метода\n",
    "print(lc2.my_method())\n"
   ]
  },
  {
   "cell_type": "code",
   "execution_count": 23,
   "metadata": {},
   "outputs": [
    {
     "name": "stdout",
     "output_type": "stream",
     "text": [
      "AttrLoggingMeta2: read attribute instance_attr1\n",
      "lc2.instance_attr1 = attr1_value\n",
      "AttrLoggingMeta2: read attribute set_instance_attr1\n",
      "AttrLoggingMeta2: Calling method LoggedClass2.set_instance_attr1()\n",
      "AttrLoggingMeta2: update attribute instance_attr1 to new_instance_attr1_value\n",
      "LoggedClass.set_instance_attr1() is runned()\n",
      "AttrLoggingMeta2: read attribute instance_attr1\n",
      "lc2.instance_attr1 = new_instance_attr1_value\n"
     ]
    }
   ],
   "source": [
    "# Проверяем логгирование метода без возвращаемого значения, но с параметором\n",
    "print(\"lc2.instance_attr1 = \" + lc2.instance_attr1)\n",
    "lc2.set_instance_attr1(\"new_instance_attr1_value\")\n",
    "print(\"lc2.instance_attr1 = \" + lc2.instance_attr1)"
   ]
  },
  {
   "cell_type": "markdown",
   "metadata": {},
   "source": [
    "#### Проверить логгирование обращений к class_attr"
   ]
  },
  {
   "cell_type": "code",
   "execution_count": 24,
   "metadata": {},
   "outputs": [
    {
     "name": "stdout",
     "output_type": "stream",
     "text": [
      "AttrLoggingMeta2: read attribute class_attr\n",
      "lc2.class_attr=class_attr_value\n"
     ]
    }
   ],
   "source": [
    "# чтение\n",
    "print(f'lc2.class_attr={lc2.class_attr}')"
   ]
  },
  {
   "cell_type": "code",
   "execution_count": 25,
   "metadata": {},
   "outputs": [
    {
     "name": "stdout",
     "output_type": "stream",
     "text": [
      "AttrLoggingMeta2: update attribute class_attr to class_attr_new\n"
     ]
    }
   ],
   "source": [
    "# изменение\n",
    "lc2.class_attr = \"class_attr_new\"\n"
   ]
  },
  {
   "cell_type": "code",
   "execution_count": 26,
   "metadata": {},
   "outputs": [
    {
     "name": "stdout",
     "output_type": "stream",
     "text": [
      "AttrLoggingMeta2: read attribute class_attr\n",
      "lc2.class_attr=class_attr_new\n"
     ]
    }
   ],
   "source": [
    "# повторное чтение, чтобы проверить, что изменение сработало\n",
    "print(f'lc2.class_attr={lc2.class_attr}')\n"
   ]
  },
  {
   "cell_type": "markdown",
   "metadata": {},
   "source": [
    "#### Проверить логгирование обращений к instance_attr1\n",
    "\n",
    "Логов быть не должно, т.к. это не аттрибут класса, а атрибут экземпляра"
   ]
  },
  {
   "cell_type": "code",
   "execution_count": 27,
   "metadata": {},
   "outputs": [
    {
     "name": "stdout",
     "output_type": "stream",
     "text": [
      "AttrLoggingMeta2: read attribute instance_attr1\n",
      "lc2.instance_attr1=new_instance_attr1_value\n"
     ]
    }
   ],
   "source": [
    "# чтение\n",
    "print(f'lc2.instance_attr1={lc2.instance_attr1}')"
   ]
  },
  {
   "cell_type": "code",
   "execution_count": 28,
   "metadata": {},
   "outputs": [
    {
     "name": "stdout",
     "output_type": "stream",
     "text": [
      "AttrLoggingMeta2: update attribute instance_attr1 to instance_attr1_new\n"
     ]
    }
   ],
   "source": [
    "# изменение\n",
    "lc2.instance_attr1 = \"instance_attr1_new\""
   ]
  },
  {
   "cell_type": "code",
   "execution_count": 29,
   "metadata": {},
   "outputs": [
    {
     "name": "stdout",
     "output_type": "stream",
     "text": [
      "AttrLoggingMeta2: read attribute instance_attr1\n",
      "lc2.instance_attr1=instance_attr1_new\n",
      "\n"
     ]
    }
   ],
   "source": [
    "# повторное чтение, чтобы проверить, что изменение сработало\n",
    "print(f'lc2.instance_attr1={lc2.instance_attr1}\\n')"
   ]
  },
  {
   "cell_type": "markdown",
   "metadata": {},
   "source": [
    "#### Проверить логгирование обращений к class_attr2"
   ]
  },
  {
   "cell_type": "code",
   "execution_count": 30,
   "metadata": {},
   "outputs": [
    {
     "name": "stdout",
     "output_type": "stream",
     "text": [
      "AttrLoggingMeta2: read attribute class_attr2\n",
      "LoggedClass.attr2 is read()\n",
      "AttrLoggingMeta2: read attribute _LoggedClass2__attr2\n",
      "lc2.class_attr2=attr2_value\n"
     ]
    }
   ],
   "source": [
    "# чтение\n",
    "print(f'lc2.class_attr2={lc2.class_attr2}')"
   ]
  },
  {
   "cell_type": "code",
   "execution_count": 31,
   "metadata": {},
   "outputs": [
    {
     "name": "stdout",
     "output_type": "stream",
     "text": [
      "AttrLoggingMeta2: update attribute class_attr2 to class_attr2_new\n",
      "Ошибка: property 'class_attr2' of 'LoggedClass2' object has no setter\n"
     ]
    }
   ],
   "source": [
    "# Изменение. Д.б. ошибка, т.к. у свойста не задан сеттер\n",
    "try:\n",
    "    lc2.class_attr2 = \"class_attr2_new\"\n",
    "except Exception as e:\n",
    "   print(f'Ошибка: {e}')"
   ]
  },
  {
   "cell_type": "markdown",
   "metadata": {},
   "source": [
    "#### Проверить логгирование обращений к class_attr3"
   ]
  },
  {
   "cell_type": "code",
   "execution_count": 32,
   "metadata": {},
   "outputs": [
    {
     "name": "stdout",
     "output_type": "stream",
     "text": [
      "AttrLoggingMeta2: read attribute class_attr3\n",
      "LoggedClass.attr3 is read()\n",
      "AttrLoggingMeta2: read attribute _LoggedClass2__attr3\n",
      "lc2.class_attr3=**attr3_value**\n"
     ]
    }
   ],
   "source": [
    "# чтение\n",
    "print(f'lc2.class_attr3={lc2.class_attr3}')"
   ]
  },
  {
   "cell_type": "code",
   "execution_count": 33,
   "metadata": {},
   "outputs": [
    {
     "name": "stdout",
     "output_type": "stream",
     "text": [
      "AttrLoggingMeta2: update attribute class_attr3 to class_attr3_new\n",
      "LoggedClass.attr3 is write()\n",
      "AttrLoggingMeta2: update attribute _LoggedClass2__attr3 to class_attr3_new_class_attr3_new\n"
     ]
    }
   ],
   "source": [
    "# изменение\n",
    "lc2.class_attr3 = \"class_attr3_new\""
   ]
  },
  {
   "cell_type": "code",
   "execution_count": 34,
   "metadata": {},
   "outputs": [
    {
     "name": "stdout",
     "output_type": "stream",
     "text": [
      "AttrLoggingMeta2: read attribute class_attr3\n",
      "LoggedClass.attr3 is read()\n",
      "AttrLoggingMeta2: read attribute _LoggedClass2__attr3\n",
      "lc2.class_attr3=**class_attr3_new_class_attr3_new**\n"
     ]
    }
   ],
   "source": [
    "# повторное чтение, чтобы проверить, что изменение сработало\n",
    "print(f'lc2.class_attr3={lc2.class_attr3}')"
   ]
  },
  {
   "cell_type": "code",
   "execution_count": 35,
   "metadata": {},
   "outputs": [
    {
     "data": {
      "text/plain": [
       "mappingproxy({'__module__': '__main__',\n",
       "              '__doc__': 'Тестовый класс',\n",
       "              'class_attr': 'class_attr_value',\n",
       "              '__new__': <staticmethod(<function LoggedClass2.__new__ at 0x71c8a9b26ac0>)>,\n",
       "              '__init__': <function __main__.LoggedClass2.__init__(self, attr1, attr2, attr3)>,\n",
       "              'my_method': <function __main__.LoggedClass2.my_method(self)>,\n",
       "              'set_instance_attr1': <function __main__.LoggedClass2.set_instance_attr1(self, value)>,\n",
       "              'class_attr2': <property at 0x71c8a9b371a0>,\n",
       "              'class_attr3': <property at 0x71c8a9b35a30>,\n",
       "              '__getattribute__': <function __main__.LoggedClass2.__getattribute__(self, name)>,\n",
       "              '__setattr__': <function __main__.LoggedClass2.__setattr__(self, name, value)>,\n",
       "              '__dict__': <attribute '__dict__' of 'LoggedClass2' objects>,\n",
       "              '__weakref__': <attribute '__weakref__' of 'LoggedClass2' objects>})"
      ]
     },
     "execution_count": 35,
     "metadata": {},
     "output_type": "execute_result"
    }
   ],
   "source": [
    "LoggedClass2.__dict__"
   ]
  },
  {
   "cell_type": "code",
   "execution_count": 36,
   "metadata": {},
   "outputs": [
    {
     "data": {
      "text/plain": [
       "{'instance_attr1': 'instance_attr1_new',\n",
       " '_LoggedClass2__attr2': 'attr2_value',\n",
       " '_LoggedClass2__attr3': 'class_attr3_new_class_attr3_new',\n",
       " 'class_attr': 'class_attr_new'}"
      ]
     },
     "execution_count": 36,
     "metadata": {},
     "output_type": "execute_result"
    }
   ],
   "source": [
    "lc2.__dict__"
   ]
  },
  {
   "cell_type": "markdown",
   "metadata": {},
   "source": [
    "### Вариант 3"
   ]
  },
  {
   "cell_type": "code",
   "execution_count": 37,
   "metadata": {},
   "outputs": [
    {
     "data": {
      "text/plain": [
       "mappingproxy({'__module__': '__main__',\n",
       "              '__doc__': 'Мета-класс с контролем доступа к методам и чтения-записи атрибутов',\n",
       "              '__new__': <staticmethod(<function AttrLoggingMeta3.__new__ at 0x71c8a9b640e0>)>,\n",
       "              '__setattr2__': <staticmethod(<function AttrLoggingMeta3.__setattr2__ at 0x71c8a9b64180>)>,\n",
       "              '__getattr2__': <staticmethod(<function AttrLoggingMeta3.__getattr2__ at 0x71c8a9b64220>)>,\n",
       "              'log_access': <staticmethod(<function AttrLoggingMeta3.log_access at 0x71c8a9b642c0>)>,\n",
       "              'log_read': <staticmethod(<function AttrLoggingMeta3.log_read at 0x71c8a9b64360>)>,\n",
       "              'log_write': <staticmethod(<function AttrLoggingMeta3.log_write at 0x71c8a9b64400>)>})"
      ]
     },
     "execution_count": 37,
     "metadata": {},
     "output_type": "execute_result"
    }
   ],
   "source": [
    "\n",
    "class AttrLoggingMeta3(type):\n",
    "    \"\"\"Мета-класс с контролем доступа к методам и чтения-записи атрибутов\"\"\"\n",
    "    def __new__(mcs, name, bases, attrs, **extra_kwargs):\n",
    "\n",
    "        # Если нето __getattribute__ и __setattr__ - то создать их\n",
    "        if '__getattribute__' not in attrs.keys():\n",
    "            attrs['__getattribute__'] = mcs.__getattr2__\n",
    "        if '__setattr__' not in attrs.keys():\n",
    "            attrs['__setattr__'] = mcs.__setattr2__\n",
    "\n",
    "        for attr, method in attrs.items():  \n",
    "            if attr == '__getattribute__':\n",
    "                attrs[attr] = AttrLoggingMeta3.log_read(method) \n",
    "            elif attr == '__setattr__':\n",
    "                attrs[attr] = AttrLoggingMeta3.log_write(method) \n",
    "            elif not attr.startswith('__'): # пропустим все приватные аттрибуты и методы\n",
    "                if callable(method):\n",
    "                    # оборачиваем все методы декоратором-логгером\n",
    "                    attrs[attr] = AttrLoggingMeta3.log_access(method) \n",
    "\n",
    "        cls_obj = super().__new__(mcs, name, bases, attrs)  \n",
    "\n",
    "        return cls_obj\n",
    "\n",
    "    @staticmethod\n",
    "    def __setattr2__(self, key, value):\n",
    "        object.__setattr__(self, key, value)\n",
    "\n",
    "    @staticmethod\n",
    "    def __getattr2__(self, item):\n",
    "        return object.__getattribute__(self, item)\n",
    "        \n",
    "    @staticmethod\n",
    "    def log_access(func):\n",
    "        \"\"\"Логгер доступа к методу\"\"\"\n",
    "        @functools.wraps(func)\n",
    "        def wrapper(*args, **kwargs):\n",
    "            print(f\"AttrLoggingMeta3: Calling method {func.__qualname__}()\")\n",
    "            return func(*args, **kwargs)\n",
    "        return wrapper\n",
    "\n",
    "    @staticmethod\n",
    "    def log_read(func):\n",
    "        \"\"\"Логгер чтения атрибутов\"\"\"\n",
    "        @functools.wraps(func)\n",
    "        def wrapper(*args, **kwargs):\n",
    "            if not args[1].startswith('__'): # пропустим все приватные аттрибуты\n",
    "                print(f\"AttrLoggingMeta3: read attribute {args[1]}\")\n",
    "            return func(*args, **kwargs)\n",
    "        return wrapper\n",
    "\n",
    "    @staticmethod\n",
    "    def log_write(func):\n",
    "        \"\"\"Логгер записи атрибутов\"\"\"\n",
    "        @functools.wraps(func)\n",
    "        def wrapper(*args, **kwargs):\n",
    "            if not args[1].startswith('__'): # пропустим все приватные аттрибуты\n",
    "                print(f\"AttrLoggingMeta3: update attribute {args[1]} to {args[2]}\")\n",
    "            return func(*args, **kwargs)\n",
    "        return wrapper\n",
    "\n",
    "\n",
    "AttrLoggingMeta3.__dict__    "
   ]
  },
  {
   "cell_type": "code",
   "execution_count": 38,
   "metadata": {},
   "outputs": [],
   "source": [
    "\n",
    "class LoggedClass3(metaclass = AttrLoggingMeta3):\n",
    "    \"\"\"Тестовый класс\"\"\"\n",
    "    class_attr = \"class_attr_value\"\n",
    "        \n",
    "    def __init__(self, attr1, attr2, attr3):\n",
    "        self.instance_attr1 = attr1\n",
    "        self.__attr2 = attr2\n",
    "        self.__attr3 = attr3\n",
    "\n",
    "    def my_method(self):\n",
    "        return('LoggedClass.my_method() is runned()')\n",
    "\n",
    "    def set_instance_attr1(self, value):\n",
    "        self.instance_attr1 = value\n",
    "        print('LoggedClass.set_instance_attr1() is runned()')\n",
    "    \n",
    "    # read-only property класса\n",
    "    @property\n",
    "    def class_attr2(self):\n",
    "        print('LoggedClass.attr2 is read()')\n",
    "        return self.__attr2\n",
    "    \n",
    "    # mutable property класса\n",
    "    @property \n",
    "    def class_attr3(self):\n",
    "        print('LoggedClass.attr3 is read()')\n",
    "        # значение оборачивается в звездочки, чтобы убедиться, что заданный в классе геттер работает\n",
    "        return f'**{self.__attr3}**'\n",
    "    \n",
    "    @class_attr3.setter\n",
    "    def class_attr3(self, value):\n",
    "        print('LoggedClass.attr3 is write()')\n",
    "        # значение свойства \"удваивается\", чтобы проверить, что заданный в классе сеттер работает\n",
    "        self.__attr3 = f'{value}_{value}'\n"
   ]
  },
  {
   "cell_type": "code",
   "execution_count": 39,
   "metadata": {},
   "outputs": [
    {
     "data": {
      "text/plain": [
       "mappingproxy({'__module__': '__main__',\n",
       "              '__doc__': 'Тестовый класс',\n",
       "              'class_attr': 'class_attr_value',\n",
       "              '__init__': <function __main__.LoggedClass3.__init__(self, attr1, attr2, attr3)>,\n",
       "              'my_method': <function __main__.LoggedClass3.my_method(self)>,\n",
       "              'set_instance_attr1': <function __main__.LoggedClass3.set_instance_attr1(self, value)>,\n",
       "              'class_attr2': <property at 0x71c8a9b34cc0>,\n",
       "              'class_attr3': <property at 0x71c8a9b5e7f0>,\n",
       "              '__getattribute__': <function __main__.AttrLoggingMeta3.__getattr2__(self, item)>,\n",
       "              '__setattr__': <function __main__.AttrLoggingMeta3.__setattr2__(self, key, value)>,\n",
       "              '__dict__': <attribute '__dict__' of 'LoggedClass3' objects>,\n",
       "              '__weakref__': <attribute '__weakref__' of 'LoggedClass3' objects>})"
      ]
     },
     "execution_count": 39,
     "metadata": {},
     "output_type": "execute_result"
    }
   ],
   "source": [
    "LoggedClass3.__dict__"
   ]
  },
  {
   "cell_type": "code",
   "execution_count": 40,
   "metadata": {},
   "outputs": [
    {
     "name": "stdout",
     "output_type": "stream",
     "text": [
      "AttrLoggingMeta3: update attribute instance_attr1 to attr1_value\n",
      "AttrLoggingMeta3: update attribute _LoggedClass3__attr2 to attr2_value\n",
      "AttrLoggingMeta3: update attribute _LoggedClass3__attr3 to attr3_value\n"
     ]
    }
   ],
   "source": [
    "lc3 = LoggedClass3(attr1=\"attr1_value\", attr2=\"attr2_value\", attr3 = \"attr3_value\")    "
   ]
  },
  {
   "cell_type": "markdown",
   "metadata": {},
   "source": [
    "#### Проверить логгирование обращений к методам"
   ]
  },
  {
   "cell_type": "code",
   "execution_count": 41,
   "metadata": {},
   "outputs": [
    {
     "name": "stdout",
     "output_type": "stream",
     "text": [
      "AttrLoggingMeta3: read attribute my_method\n",
      "AttrLoggingMeta3: Calling method LoggedClass3.my_method()\n",
      "LoggedClass.my_method() is runned()\n"
     ]
    }
   ],
   "source": [
    "# Проверяем логгирование возвращающего метода\n",
    "print(lc3.my_method())"
   ]
  },
  {
   "cell_type": "code",
   "execution_count": 42,
   "metadata": {},
   "outputs": [
    {
     "name": "stdout",
     "output_type": "stream",
     "text": [
      "AttrLoggingMeta3: read attribute instance_attr1\n",
      "lc3.instance_attr1 = attr1_value\n",
      "AttrLoggingMeta3: read attribute set_instance_attr1\n",
      "AttrLoggingMeta3: Calling method LoggedClass3.set_instance_attr1()\n",
      "AttrLoggingMeta3: update attribute instance_attr1 to new_instance_attr1_value\n",
      "LoggedClass.set_instance_attr1() is runned()\n",
      "AttrLoggingMeta3: read attribute instance_attr1\n",
      "lc3.instance_attr1 = new_instance_attr1_value\n"
     ]
    }
   ],
   "source": [
    "# Проверяем логгирование метода без возвращаемого значения, но с параметором\n",
    "print(\"lc3.instance_attr1 = \" + lc3.instance_attr1)\n",
    "lc3.set_instance_attr1(\"new_instance_attr1_value\")\n",
    "print(\"lc3.instance_attr1 = \" + lc3.instance_attr1)"
   ]
  },
  {
   "cell_type": "markdown",
   "metadata": {},
   "source": [
    "#### Проверить логгирование обращений к class_attr"
   ]
  },
  {
   "cell_type": "code",
   "execution_count": 43,
   "metadata": {},
   "outputs": [
    {
     "name": "stdout",
     "output_type": "stream",
     "text": [
      "AttrLoggingMeta3: read attribute class_attr\n",
      "lc3.class_attr=class_attr_value\n"
     ]
    }
   ],
   "source": [
    "# чтение\n",
    "print(f'lc3.class_attr={lc3.class_attr}')"
   ]
  },
  {
   "cell_type": "code",
   "execution_count": 44,
   "metadata": {},
   "outputs": [
    {
     "name": "stdout",
     "output_type": "stream",
     "text": [
      "AttrLoggingMeta3: update attribute class_attr to class_attr_new\n"
     ]
    }
   ],
   "source": [
    "# изменение\n",
    "lc3.class_attr = \"class_attr_new\""
   ]
  },
  {
   "cell_type": "code",
   "execution_count": 45,
   "metadata": {},
   "outputs": [
    {
     "name": "stdout",
     "output_type": "stream",
     "text": [
      "AttrLoggingMeta3: read attribute class_attr\n",
      "lc3.class_attr=class_attr_new\n"
     ]
    }
   ],
   "source": [
    "# повторное чтение, чтобы проверить, что изменение сработало\n",
    "print(f'lc3.class_attr={lc3.class_attr}')"
   ]
  },
  {
   "cell_type": "markdown",
   "metadata": {},
   "source": [
    "#### Проверить логгирование обращений к instance_attr1\n",
    "\n",
    "Логов быть не должно, т.к. это не аттрибут класса, а атрибут экземпляра"
   ]
  },
  {
   "cell_type": "code",
   "execution_count": 46,
   "metadata": {},
   "outputs": [
    {
     "name": "stdout",
     "output_type": "stream",
     "text": [
      "AttrLoggingMeta3: read attribute instance_attr1\n",
      "lc3.instance_attr1=new_instance_attr1_value\n"
     ]
    }
   ],
   "source": [
    "# чтение\n",
    "print(f'lc3.instance_attr1={lc3.instance_attr1}')"
   ]
  },
  {
   "cell_type": "code",
   "execution_count": 47,
   "metadata": {},
   "outputs": [
    {
     "name": "stdout",
     "output_type": "stream",
     "text": [
      "AttrLoggingMeta3: update attribute instance_attr1 to instance_attr1_new\n"
     ]
    }
   ],
   "source": [
    "# изменение\n",
    "lc3.instance_attr1 = \"instance_attr1_new\""
   ]
  },
  {
   "cell_type": "code",
   "execution_count": 48,
   "metadata": {},
   "outputs": [
    {
     "name": "stdout",
     "output_type": "stream",
     "text": [
      "AttrLoggingMeta3: read attribute instance_attr1\n",
      "lc3.instance_attr1=instance_attr1_new\n",
      "\n"
     ]
    }
   ],
   "source": [
    "# повторное чтение, чтобы проверить, что изменение сработало\n",
    "print(f'lc3.instance_attr1={lc3.instance_attr1}\\n')"
   ]
  },
  {
   "cell_type": "markdown",
   "metadata": {},
   "source": [
    "#### Проверить логгирование обращений к class_attr2"
   ]
  },
  {
   "cell_type": "code",
   "execution_count": 49,
   "metadata": {},
   "outputs": [
    {
     "name": "stdout",
     "output_type": "stream",
     "text": [
      "AttrLoggingMeta3: read attribute class_attr2\n",
      "LoggedClass.attr2 is read()\n",
      "AttrLoggingMeta3: read attribute _LoggedClass3__attr2\n",
      "lc3.class_attr2=attr2_value\n"
     ]
    }
   ],
   "source": [
    "# чтение\n",
    "print(f'lc3.class_attr2={lc3.class_attr2}')"
   ]
  },
  {
   "cell_type": "code",
   "execution_count": 50,
   "metadata": {},
   "outputs": [
    {
     "name": "stdout",
     "output_type": "stream",
     "text": [
      "AttrLoggingMeta3: update attribute class_attr2 to class_attr2_new\n",
      "Ошибка: property 'class_attr2' of 'LoggedClass3' object has no setter\n"
     ]
    }
   ],
   "source": [
    "# Изменение. Д.б. ошибка, т.к. у свойста не задан сеттер\n",
    "try:\n",
    "    lc3.class_attr2 = \"class_attr2_new\"\n",
    "except Exception as e:\n",
    "   print(f'Ошибка: {e}')"
   ]
  },
  {
   "cell_type": "markdown",
   "metadata": {},
   "source": [
    "#### Проверить логгирование обращений к class_attr3"
   ]
  },
  {
   "cell_type": "code",
   "execution_count": 51,
   "metadata": {},
   "outputs": [
    {
     "name": "stdout",
     "output_type": "stream",
     "text": [
      "AttrLoggingMeta3: read attribute class_attr3\n",
      "LoggedClass.attr3 is read()\n",
      "AttrLoggingMeta3: read attribute _LoggedClass3__attr3\n",
      "lc3.class_attr3=**attr3_value**\n"
     ]
    }
   ],
   "source": [
    "# чтение\n",
    "print(f'lc3.class_attr3={lc3.class_attr3}')"
   ]
  },
  {
   "cell_type": "code",
   "execution_count": 52,
   "metadata": {},
   "outputs": [
    {
     "name": "stdout",
     "output_type": "stream",
     "text": [
      "AttrLoggingMeta3: update attribute class_attr3 to class_attr3_new\n",
      "LoggedClass.attr3 is write()\n",
      "AttrLoggingMeta3: update attribute _LoggedClass3__attr3 to class_attr3_new_class_attr3_new\n"
     ]
    }
   ],
   "source": [
    "# изменение\n",
    "lc3.class_attr3 = \"class_attr3_new\""
   ]
  },
  {
   "cell_type": "code",
   "execution_count": 53,
   "metadata": {},
   "outputs": [
    {
     "name": "stdout",
     "output_type": "stream",
     "text": [
      "AttrLoggingMeta3: read attribute class_attr3\n",
      "LoggedClass.attr3 is read()\n",
      "AttrLoggingMeta3: read attribute _LoggedClass3__attr3\n",
      "lc3.class_attr3=**class_attr3_new_class_attr3_new**\n"
     ]
    }
   ],
   "source": [
    "# повторное чтение, чтобы проверить, что изменение сработало\n",
    "print(f'lc3.class_attr3={lc3.class_attr3}')"
   ]
  },
  {
   "cell_type": "markdown",
   "metadata": {},
   "source": [
    "# Задача 2 Динамическое создание класса\n"
   ]
  },
  {
   "cell_type": "code",
   "execution_count": 54,
   "metadata": {},
   "outputs": [
    {
     "name": "stdout",
     "output_type": "stream",
     "text": [
      "Hello, I am a Human and I am 25 years old.\n"
     ]
    }
   ],
   "source": [
    "\n",
    "def  create_class_with_methods(name, attributes, methods):\n",
    "    # объеденить методы и атрибуты в однин словарь\n",
    "    new_dict = attributes | methods\n",
    "    # создать новый класс\n",
    "    new_class = type(name, (), new_dict)\n",
    "    return new_class\n",
    "\n",
    "attributes = { 'species': 'Human', 'age': 25 }\n",
    "methods = { 'greet': lambda self: f\"Hello, I am a {self.species} and I am {self.age} years old.\" }\n",
    "DynamicClass = create_class_with_methods('DynamicClass', attributes, methods) \n",
    "\n",
    "instance = DynamicClass()\n",
    "print(instance.greet())"
   ]
  },
  {
   "cell_type": "markdown",
   "metadata": {},
   "source": [
    "# Задача 3 Генерация кода\n"
   ]
  },
  {
   "cell_type": "code",
   "execution_count": 55,
   "metadata": {},
   "outputs": [],
   "source": [
    "def generate_complex_function(function_name, parameters, function_body):\n",
    "    \"\"\"Создать функцию по описанию и вернуть её\"\"\"\n",
    "    # собрать строку с параметрами\n",
    "    parameters_str = ','.join(parameters)\n",
    "    # добавить в строки с телом функции отступы\n",
    "    intendent_function_body = '\\n'.join(['    '+line for line in function_body.split('\\n')])\n",
    "    # собрать строку для формирования функции\n",
    "    exec_str = f\"def {function_name}({parameters_str}):\\n{intendent_function_body}\"\n",
    "    # создать функцию\n",
    "    exec(exec_str)\n",
    "    # извлечь функцию из локальных переменных и вернуть её\n",
    "    return locals()[function_name]"
   ]
  },
  {
   "cell_type": "code",
   "execution_count": 56,
   "metadata": {},
   "outputs": [
    {
     "name": "stdout",
     "output_type": "stream",
     "text": [
      "5\n",
      "5\n"
     ]
    }
   ],
   "source": [
    "function_name = 'complex_function'\n",
    "parameters = ['x', 'y']\n",
    "function_body = \"\"\"\n",
    "if x > y:\n",
    "   return x - y\n",
    "else:\n",
    "   return y - x\n",
    "\"\"\"\n",
    "complex_func = generate_complex_function(function_name, parameters, function_body)\n",
    "\n",
    "print(complex_func(10, 5))\n",
    "print(complex_func(5, 10))"
   ]
  },
  {
   "cell_type": "markdown",
   "metadata": {},
   "source": [
    "# "
   ]
  }
 ],
 "metadata": {
  "kernelspec": {
   "display_name": ".venv",
   "language": "python",
   "name": "python3"
  },
  "language_info": {
   "codemirror_mode": {
    "name": "ipython",
    "version": 3
   },
   "file_extension": ".py",
   "mimetype": "text/x-python",
   "name": "python",
   "nbconvert_exporter": "python",
   "pygments_lexer": "ipython3",
   "version": "3.12.3"
  }
 },
 "nbformat": 4,
 "nbformat_minor": 2
}
