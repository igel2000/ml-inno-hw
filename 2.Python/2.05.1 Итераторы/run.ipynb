{
 "cells": [
  {
   "cell_type": "markdown",
   "metadata": {},
   "source": [
    "# Задача 1"
   ]
  },
  {
   "cell_type": "markdown",
   "metadata": {},
   "source": [
    "\n",
    "Создать программу, которая работает сосписком. Пользователь вводит список в программу. Реализовать следующие действия:\n",
    "\n",
    "    * С помощью функции any проверить содержит ли этот список хотя бы одноположительное число. \n",
    "    * помощью функции all проверить состоят ли все элементы списка только из чисел. \n",
    "    * Отсортировать список с помощью функции sorted."
   ]
  },
  {
   "cell_type": "code",
   "execution_count": 1,
   "metadata": {},
   "outputs": [
    {
     "name": "stdout",
     "output_type": "stream",
     "text": [
      "\u001b[1m============================= test session starts ==============================\u001b[0m\n",
      "platform linux -- Python 3.12.3, pytest-8.3.3, pluggy-1.5.0 -- /home/igel/Projects/ml/ml-inno-hw/.venv/bin/python\n",
      "cachedir: .pytest_cache\n",
      "rootdir: /home/igel/Projects/ml/ml-inno-hw/2.Python/2.05.1 Итераторы\n",
      "collected 5 items                                                              \u001b[0m\n",
      "\n",
      "task1_test.py::test_task1_list_check[5 6 2 7 8-True-True] \u001b[32mPASSED\u001b[0m\u001b[32m         [ 20%]\u001b[0m\n",
      "task1_test.py::test_task1_list_check[5 6 2 7 s-False-True] \u001b[32mPASSED\u001b[0m\u001b[32m        [ 40%]\u001b[0m\n",
      "task1_test.py::test_task1_list_check[d f-False-False] \u001b[32mPASSED\u001b[0m\u001b[32m             [ 60%]\u001b[0m\n",
      "task1_test.py::test_task1_list_check[-1 -5-True-False] \u001b[32mPASSED\u001b[0m\u001b[32m            [ 80%]\u001b[0m\n",
      "task1_test.py::test_task1_list_check[-1.2 -5.2-True-False] \u001b[32mPASSED\u001b[0m\u001b[32m        [100%]\u001b[0m\n",
      "\n",
      "\u001b[32m============================== \u001b[32m\u001b[1m5 passed\u001b[0m\u001b[32m in 0.01s\u001b[0m\u001b[32m ===============================\u001b[0m\n"
     ]
    }
   ],
   "source": [
    "# запуск тестов задачи 1\n",
    "!pytest -v task1_test.py"
   ]
  },
  {
   "cell_type": "code",
   "execution_count": 2,
   "metadata": {},
   "outputs": [
    {
     "name": "stdout",
     "output_type": "stream",
     "text": [
      "Отсортированный список: ['-3', '1', '2', 'd']\n",
      "В списке есть нечисла\n",
      "  В списке есть положительное число\n"
     ]
    }
   ],
   "source": [
    "%run task1.py < 2 3 d"
   ]
  },
  {
   "cell_type": "markdown",
   "metadata": {},
   "source": [
    "# Задача CyclicIterator"
   ]
  },
  {
   "cell_type": "markdown",
   "metadata": {},
   "source": [
    "Написать класс CyclicIterator. Итератор должен итерировать по итерируемому объекту (например, по range, list, tuple, set и т.д.), и когда достигнет последнего элемента, начинать с начала. Проверить работу итератора."
   ]
  },
  {
   "cell_type": "code",
   "execution_count": 3,
   "metadata": {},
   "outputs": [
    {
     "name": "stdout",
     "output_type": "stream",
     "text": [
      "\u001b[1m============================= test session starts ==============================\u001b[0m\n",
      "platform linux -- Python 3.12.3, pytest-8.3.3, pluggy-1.5.0 -- /home/igel/Projects/ml/ml-inno-hw/.venv/bin/python\n",
      "cachedir: .pytest_cache\n",
      "rootdir: /home/igel/Projects/ml/ml-inno-hw/2.Python/2.05.1 Итераторы\n",
      "collected 3 items                                                              \u001b[0m\n",
      "\n",
      "task2_test.py::test_cyclic_iterator[lst_template0-2-expected0] \u001b[32mPASSED\u001b[0m\u001b[32m    [ 33%]\u001b[0m\n",
      "task2_test.py::test_cyclic_iterator[lst_template1-None-expected1] \u001b[32mPASSED\u001b[0m\u001b[32m [ 66%]\u001b[0m\n",
      "task2_test.py::test_cyclic_iterator_break \u001b[32mPASSED\u001b[0m\u001b[32m                         [100%]\u001b[0m\n",
      "\n",
      "\u001b[32m============================== \u001b[32m\u001b[1m3 passed\u001b[0m\u001b[32m in 0.00s\u001b[0m\u001b[32m ===============================\u001b[0m\n"
     ]
    }
   ],
   "source": [
    "!py.test -v task2_test.py"
   ]
  },
  {
   "cell_type": "code",
   "execution_count": 4,
   "metadata": {},
   "outputs": [
    {
     "name": "stdout",
     "output_type": "stream",
     "text": [
      "[1, 2, 3, 1, 2, 3]\n",
      "--------------------\n",
      "1\n",
      "2\n",
      "3\n",
      "1\n",
      "2\n",
      "3\n",
      "--------------------\n",
      "a\n",
      "--------------------\n",
      "-1\n",
      "-2\n",
      "-1\n",
      "-2\n",
      "-1\n",
      "-2\n",
      "-1\n",
      "-2\n",
      "-1\n",
      "-2\n"
     ]
    }
   ],
   "source": [
    "from task2 import CyclicIterator    \n",
    "lst = [l for l in CyclicIterator([1, 2, 3], 2)]\n",
    "print(lst)\n",
    "    \n",
    "print(\"-\"*20)\n",
    "for l in CyclicIterator([1, 2, 3], 2):\n",
    "    print(l)\n",
    "print(\"-\"*20)\n",
    "for l in CyclicIterator([\"a\", \"b\"]):\n",
    "    print(l)\n",
    "    break\n",
    "print(\"-\"*20)\n",
    "for l in CyclicIterator([\"-1\", \"-2\"]):\n",
    "    print(l)\n"
   ]
  },
  {
   "cell_type": "markdown",
   "metadata": {},
   "source": [
    "# Задача 3. Функция генератор паролей"
   ]
  },
  {
   "cell_type": "markdown",
   "metadata": {
    "vscode": {
     "languageId": "raw"
    }
   },
   "source": [
    "Задайте функцию-генератор, которая на основе символов строки **chars**:\n",
    "```\n",
    "from string import ascii_lowercase, ascii_uppercase \n",
    "chars = ascii_lowercase + ascii_uppercase + \"0123456789!?@#$*\"\n",
    "```\n",
    "формирует и выдает случайно сгенерированные пароли длиной 12 символов. Количество выдаваемых паролей функцией должно быть неограниченным. Случайный выбор символа из последовательности chars можно реализовать с помощью функции choice модуля random. Выведите первые пять сгенерированных паролей на экран."
   ]
  },
  {
   "cell_type": "code",
   "execution_count": 5,
   "metadata": {},
   "outputs": [
    {
     "name": "stdout",
     "output_type": "stream",
     "text": [
      "\u001b[1m============================= test session starts ==============================\u001b[0m\n",
      "platform linux -- Python 3.12.3, pytest-8.3.3, pluggy-1.5.0 -- /home/igel/Projects/ml/ml-inno-hw/.venv/bin/python\n",
      "cachedir: .pytest_cache\n",
      "rootdir: /home/igel/Projects/ml/ml-inno-hw/2.Python/2.05.1 Итераторы\n",
      "collected 3 items                                                              \u001b[0m\n",
      "\n",
      "task3_test.py::test_password_generator[42-None-odJFCrnl2edl] \u001b[32mPASSED\u001b[0m\u001b[32m      [ 33%]\u001b[0m\n",
      "task3_test.py::test_password_generator[None-None-BD@dz1C5Jau2] \u001b[32mPASSED\u001b[0m\u001b[32m    [ 66%]\u001b[0m\n",
      "task3_test.py::test_password_generator[None-5-RJtBR] \u001b[32mPASSED\u001b[0m\u001b[32m              [100%]\u001b[0m\n",
      "\n",
      "\u001b[32m============================== \u001b[32m\u001b[1m3 passed\u001b[0m\u001b[32m in 0.00s\u001b[0m\u001b[32m ===============================\u001b[0m\n"
     ]
    }
   ],
   "source": [
    "!py.test -v task3_test.py"
   ]
  },
  {
   "cell_type": "code",
   "execution_count": 6,
   "metadata": {},
   "outputs": [
    {
     "name": "stdout",
     "output_type": "stream",
     "text": [
      "1: 75I$D1BPmpEh\n",
      "2: YiEMbdg9a64s\n",
      "3: ?XJBwWGcOxdZ\n",
      "4: WGP1DU7*lz4J\n",
      "5: IVkPEChTcosL\n"
     ]
    }
   ],
   "source": [
    "from task3 import password_generator\n",
    "i = 1\n",
    "for password in password_generator():\n",
    "    print(f'{i}: {password}')\n",
    "    i += 1\n",
    "    if i > 5:\n",
    "        break"
   ]
  },
  {
   "cell_type": "markdown",
   "metadata": {},
   "source": [
    "# Задача 4. Класс Movie"
   ]
  },
  {
   "cell_type": "markdown",
   "metadata": {},
   "source": [
    " Создать класс Movie. У Movie есть название и расписание, по каким дням он идёт в кинотеатрах. Название Movie - это текст. Расписание хранится периодами дат. Например, прокат фильма проходит с 1 по 7 января, а потом показ возобновляется с 15 января по 7 февраля:\n",
    " `[(datetime(2024,11,1),datetime(2024,11,7)),(datetime(2024,12,15),datetime(2024,12,31))]`\n",
    " \n",
    " Реализуйте у класса Movie метод schedule. Он будет генерировать дни, в которые показывают фильм. Проверить работу генератора.\n",
    " \n",
    " Ожидаемый вывод программы: \n",
    " ```\n",
    " 2024-11-0100:00:00\n",
    " 2024-11-0200:00:00\n",
    " 2024-11-0300:00:00\n",
    " 2024-11-0400:00:00\n",
    " 2024-11-0500:00:00\n",
    " 2024-11-0600:00:00\n",
    " 2024-11-0700:00:00\n",
    " 2024-12-1500:00:00\n",
    " 2024-12-1600:00:00\n",
    " 2024-12-1700:00:00\n",
    " 2024-12-1800:00:00\n",
    " 2024-12-1900:00:00\n",
    " 2024-12-2000:00:00\n",
    " 2024-12-2100:00:00\n",
    " 2024-12-2200:00:00\n",
    " 2024-12-2300:00:00\n",
    " 2024-12-2400:00:00\n",
    " 2024-12-2500:00:00\n",
    " 2024-12-2600:00:00\n",
    " 2024-12-2700:00:00\n",
    " 2024-12-2800:00:00\n",
    " 2024-12-2900:00:00\n",
    " 2024-12-3000:00:00\n",
    " 2024-12-3100:00:00\n",
    " ```"
   ]
  },
  {
   "cell_type": "code",
   "execution_count": 7,
   "metadata": {},
   "outputs": [
    {
     "name": "stdout",
     "output_type": "stream",
     "text": [
      "\u001b[1m============================= test session starts ==============================\u001b[0m\n",
      "platform linux -- Python 3.12.3, pytest-8.3.3, pluggy-1.5.0 -- /home/igel/Projects/ml/ml-inno-hw/.venv/bin/python\n",
      "cachedir: .pytest_cache\n",
      "rootdir: /home/igel/Projects/ml/ml-inno-hw/2.Python/2.05.1 Итераторы\n",
      "collected 1 item                                                               \u001b[0m\n",
      "\n",
      "task4_test.py::test_Movie \u001b[32mPASSED\u001b[0m\u001b[32m                                         [100%]\u001b[0m\n",
      "\n",
      "\u001b[32m============================== \u001b[32m\u001b[1m1 passed\u001b[0m\u001b[32m in 0.00s\u001b[0m\u001b[32m ===============================\u001b[0m\n"
     ]
    }
   ],
   "source": [
    "!py.test -v task4_test.py"
   ]
  },
  {
   "cell_type": "code",
   "execution_count": 8,
   "metadata": {},
   "outputs": [
    {
     "name": "stdout",
     "output_type": "stream",
     "text": [
      "2024-11-01 00:00:00\n",
      "2024-11-02 00:00:00\n",
      "2024-11-03 00:00:00\n",
      "2024-11-04 00:00:00\n",
      "2024-11-05 00:00:00\n",
      "2024-11-06 00:00:00\n",
      "2024-11-07 00:00:00\n",
      "2024-12-15 00:00:00\n",
      "2024-12-16 00:00:00\n",
      "2024-12-17 00:00:00\n",
      "2024-12-18 00:00:00\n",
      "2024-12-19 00:00:00\n",
      "2024-12-20 00:00:00\n",
      "2024-12-21 00:00:00\n",
      "2024-12-22 00:00:00\n",
      "2024-12-23 00:00:00\n",
      "2024-12-24 00:00:00\n",
      "2024-12-25 00:00:00\n",
      "2024-12-26 00:00:00\n",
      "2024-12-27 00:00:00\n",
      "2024-12-28 00:00:00\n",
      "2024-12-29 00:00:00\n",
      "2024-12-30 00:00:00\n",
      "2024-12-31 00:00:00\n"
     ]
    }
   ],
   "source": [
    "from datetime import datetime\n",
    "from task4 import Movie\n",
    "\n",
    "dates = [(datetime(2024,11,1),datetime(2024,11,7)),(datetime(2024,12,15),datetime(2024,12,31))]\n",
    "mov = Movie(dates)\n",
    "sch = [str(s) for s in mov.schedule()]\n",
    "for s in sch:\n",
    "    print(s)"
   ]
  }
 ],
 "metadata": {
  "kernelspec": {
   "display_name": ".venv",
   "language": "python",
   "name": "python3"
  },
  "language_info": {
   "codemirror_mode": {
    "name": "ipython",
    "version": 3
   },
   "file_extension": ".py",
   "mimetype": "text/x-python",
   "name": "python",
   "nbconvert_exporter": "python",
   "pygments_lexer": "ipython3",
   "version": "3.12.3"
  }
 },
 "nbformat": 4,
 "nbformat_minor": 2
}
