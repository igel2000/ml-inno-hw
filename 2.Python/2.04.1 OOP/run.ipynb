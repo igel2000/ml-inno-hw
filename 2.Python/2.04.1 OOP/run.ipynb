{
 "cells": [
  {
   "cell_type": "code",
   "execution_count": 1,
   "metadata": {},
   "outputs": [
    {
     "name": "stdout",
     "output_type": "stream",
     "text": [
      "\u001b[1m============================= test session starts ==============================\u001b[0m\n",
      "platform linux -- Python 3.12.2, pytest-8.3.3, pluggy-1.5.0 -- /home/igel/anaconda3/envs/ml/bin/python\n",
      "cachedir: .pytest_cache\n",
      "rootdir: /home/igel/Projects/ml-inno-hw/2.Python/2.04.1 OOP\n",
      "plugins: anyio-4.6.2\n",
      "collected 13 items                                                             \u001b[0m\n",
      "\n",
      "complex_number_test.py::test_ComplexNumber_create_positive \u001b[32mPASSED\u001b[0m\u001b[32m        [  7%]\u001b[0m\n",
      "complex_number_test.py::test_ComplexNumber_create_negative \u001b[32mPASSED\u001b[0m\u001b[32m        [ 15%]\u001b[0m\n",
      "complex_number_test.py::test_ComplexNumber_repr \u001b[32mPASSED\u001b[0m\u001b[32m                   [ 23%]\u001b[0m\n",
      "complex_number_test.py::test_ComplexNumber_add_positive \u001b[32mPASSED\u001b[0m\u001b[32m           [ 30%]\u001b[0m\n",
      "complex_number_test.py::test_ComplexNumber_add_negaive \u001b[32mPASSED\u001b[0m\u001b[32m            [ 38%]\u001b[0m\n",
      "complex_number_test.py::test_ComplexNumber_sub_positive \u001b[32mPASSED\u001b[0m\u001b[32m           [ 46%]\u001b[0m\n",
      "complex_number_test.py::test_ComplexNumber_sub_negaive \u001b[32mPASSED\u001b[0m\u001b[32m            [ 53%]\u001b[0m\n",
      "complex_number_test.py::test_ComplexNumber_mul_positive \u001b[32mPASSED\u001b[0m\u001b[32m           [ 61%]\u001b[0m\n",
      "complex_number_test.py::test_ComplexNumber_mul_negaive \u001b[32mPASSED\u001b[0m\u001b[32m            [ 69%]\u001b[0m\n",
      "complex_number_test.py::test_ComplexNumber_div_positive \u001b[32mPASSED\u001b[0m\u001b[32m           [ 76%]\u001b[0m\n",
      "complex_number_test.py::test_ComplexNumber_div_negaive \u001b[32mPASSED\u001b[0m\u001b[32m            [ 84%]\u001b[0m\n",
      "complex_number_test.py::test_ComplexNumber_convert \u001b[32mPASSED\u001b[0m\u001b[32m                [ 92%]\u001b[0m\n",
      "complex_number_test.py::test_ComplexNumber_immutable \u001b[32mPASSED\u001b[0m\u001b[32m              [100%]\u001b[0m\n",
      "\n",
      "\u001b[32m============================== \u001b[32m\u001b[1m13 passed\u001b[0m\u001b[32m in 0.01s\u001b[0m\u001b[32m ==============================\u001b[0m\n"
     ]
    }
   ],
   "source": [
    "# запуск тестов для комплексных чисел\n",
    "!pytest -v complex_number_test.py"
   ]
  },
  {
   "cell_type": "code",
   "execution_count": 2,
   "metadata": {},
   "outputs": [],
   "source": [
    "#%run complex_number.py"
   ]
  },
  {
   "cell_type": "code",
   "execution_count": 3,
   "metadata": {},
   "outputs": [],
   "source": [
    "import cmath\n",
    "from complex_number import ComplexNumber\n",
    "import math\n"
   ]
  },
  {
   "cell_type": "code",
   "execution_count": 5,
   "metadata": {},
   "outputs": [
    {
     "name": "stdout",
     "output_type": "stream",
     "text": [
      "До попытки изменения свойств объекта: 1+2j\n",
      "После попытки изменения свойств объекта: 1+2j\n",
      "(1+2j) + (3+4j) = 4+6j\n",
      "(1+2j) - (3+4j) = -2+-2j\n",
      "(1+2j) * (3+4j) = -5+10j\n",
      "(1+2j) / (3+4j) = 0.44+0.08j\n",
      "(1+2j) + 5 = 6+2j\n",
      "(1+2j) - 5 = -4+2j\n",
      "(1+2j) * 5 = 5+10j\n",
      "(1+2j) / 5 = 0.2+0.4j\n",
      "Алгебраическая запись '1+2j' в полярной форме '2.2361(cos(1.1071)+sin(1.1071))'\n",
      "Полярная форма '2(cos(0.7854)+sin(0.7854))' в алгебраической записи '1.4142+1.4142j'\n",
      "Полярная форма '3(cos(3.1416)+sin(3.1416))' в алгебраической записи '-3.0+0.0j'\n",
      "Полярная форма '3(cos(1.5708)+sin(1.5708))' в алгебраической записи '0.0+3.0j'\n"
     ]
    }
   ],
   "source": [
    "\n",
    "c1 = ComplexNumber((1, 2))\n",
    "print(f'До попытки изменения свойств объекта: {c1}')\n",
    "c1.__real_part = 1.11\n",
    "c1.__imaginary_part = 1.11\n",
    "c1.__polar_r = 1.11\n",
    "c1.__polar_theta = 1.11\n",
    "print(f'После попытки изменения свойств объекта: {c1}')\n",
    "c2 = ComplexNumber.from_alg((3, 4))\n",
    "c3 = 5\n",
    "c4 = ComplexNumber.from_polar((2, math.pi/4))\n",
    "c5 = ComplexNumber.from_polar((3, math.pi))\n",
    "c6 = ComplexNumber.from_polar((3, math.pi/2))\n",
    "\n",
    "print(f'({c1}) + ({c2}) = {c1 + c2}')\n",
    "print(f'({c1}) - ({c2}) = {c1 - c2}')\n",
    "print(f'({c1}) * ({c2}) = {c1 * c2}')\n",
    "print(f'({c1}) / ({c2}) = {c1 / c2}')\n",
    "print(f'({c1}) + {c3} = {c1 + c3}')\n",
    "print(f'({c1}) - {c3} = {c1 - c3}')\n",
    "print(f'({c1}) * {c3} = {c1 * c3}')\n",
    "print(f'({c1}) / {c3} = {c1 / c3}')\n",
    "print(f\"Алгебраическая запись '{c1.algebraic_as_str}' в полярной форме '{c1.polar_as_str}'\")\n",
    "print(f\"Полярная форма '{c4.polar_as_str}' в алгебраической записи '{c4.algebraic_as_str}'\")\n",
    "print(f\"Полярная форма '{c5.polar_as_str}' в алгебраической записи '{c5.algebraic_as_str}'\")\n",
    "print(f\"Полярная форма '{c6.polar_as_str}' в алгебраической записи '{c6.algebraic_as_str}'\")\n"
   ]
  }
 ],
 "metadata": {
  "kernelspec": {
   "display_name": "ml",
   "language": "python",
   "name": "python3"
  },
  "language_info": {
   "codemirror_mode": {
    "name": "ipython",
    "version": 3
   },
   "file_extension": ".py",
   "mimetype": "text/x-python",
   "name": "python",
   "nbconvert_exporter": "python",
   "pygments_lexer": "ipython3",
   "version": "3.12.2"
  }
 },
 "nbformat": 4,
 "nbformat_minor": 2
}
