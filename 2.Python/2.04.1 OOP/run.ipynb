{
 "cells": [
  {
   "cell_type": "code",
   "execution_count": null,
   "metadata": {},
   "outputs": [],
   "source": [
    "import cmath\n",
    "import math"
   ]
  },
  {
   "cell_type": "markdown",
   "metadata": {},
   "source": [
    "# Запуск тестов"
   ]
  },
  {
   "cell_type": "code",
   "execution_count": null,
   "metadata": {},
   "outputs": [],
   "source": [
    "# запуск тестов для комплексных чисел\n",
    "!pytest -v complex_number_test.py"
   ]
  },
  {
   "cell_type": "code",
   "execution_count": 2,
   "metadata": {},
   "outputs": [
    {
     "name": "stdout",
     "output_type": "stream",
     "text": [
      "\u001b[1m============================= test session starts ==============================\u001b[0m\n",
      "platform linux -- Python 3.12.2, pytest-8.3.3, pluggy-1.5.0 -- /home/igel/anaconda3/envs/ml/bin/python\n",
      "cachedir: .pytest_cache\n",
      "rootdir: /home/igel/Projects/ml-inno-hw/2.Python/2.04.1 OOP\n",
      "plugins: anyio-4.6.2\n",
      "collected 16 items                                                             \u001b[0m\n",
      "\n",
      "mlvectors_test.py::test_MLVector_create_positive \u001b[32mPASSED\u001b[0m\u001b[32m                  [  6%]\u001b[0m\n",
      "mlvectors_test.py::test_MLVector_create_negative \u001b[32mPASSED\u001b[0m\u001b[32m                  [ 12%]\u001b[0m\n",
      "mlvectors_test.py::test_MLVector_length_positive \u001b[31mFAILED\u001b[0m\u001b[31m                  [ 18%]\u001b[0m\n",
      "mlvectors_test.py::test_MLVector_cosa_positive \u001b[31mFAILED\u001b[0m\u001b[31m                    [ 25%]\u001b[0m\n",
      "mlvectors_test.py::test_MLVector_cosa_negative \u001b[32mPASSED\u001b[0m\u001b[31m                    [ 31%]\u001b[0m\n",
      "mlvectors_test.py::test_MLVector_add_positive \u001b[32mPASSED\u001b[0m\u001b[31m                     [ 37%]\u001b[0m\n",
      "mlvectors_test.py::test_MLVector_add_negative \u001b[32mPASSED\u001b[0m\u001b[31m                     [ 43%]\u001b[0m\n",
      "mlvectors_test.py::test_MLVector_sub_positive \u001b[32mPASSED\u001b[0m\u001b[31m                     [ 50%]\u001b[0m\n",
      "mlvectors_test.py::test_MLVector_sub_negative \u001b[32mPASSED\u001b[0m\u001b[31m                     [ 56%]\u001b[0m\n",
      "mlvectors_test.py::test_MLVector_mul_positive \u001b[32mPASSED\u001b[0m\u001b[31m                     [ 62%]\u001b[0m\n",
      "mlvectors_test.py::test_MLVector_mul_negative \u001b[32mPASSED\u001b[0m\u001b[31m                     [ 68%]\u001b[0m\n",
      "mlvectors_test.py::test_MLVector_div_positive \u001b[32mPASSED\u001b[0m\u001b[31m                     [ 75%]\u001b[0m\n",
      "mlvectors_test.py::test_MLVector_div_negative \u001b[32mPASSED\u001b[0m\u001b[31m                     [ 81%]\u001b[0m\n",
      "mlvectors_test.py::test_MLVector_eq_positive \u001b[32mPASSED\u001b[0m\u001b[31m                      [ 87%]\u001b[0m\n",
      "mlvectors_test.py::test_MLVector_eq_negative \u001b[32mPASSED\u001b[0m\u001b[31m                      [ 93%]\u001b[0m\n",
      "mlvectors_test.py::test_tolerances \u001b[32mPASSED\u001b[0m\u001b[31m                                [100%]\u001b[0m\n",
      "\n",
      "=================================== FAILURES ===================================\n",
      "\u001b[31m\u001b[1m________________________ test_MLVector_length_positive _________________________\u001b[0m\n",
      "\n",
      "    \u001b[0m\u001b[94mdef\u001b[39;49;00m \u001b[92mtest_MLVector_length_positive\u001b[39;49;00m():\u001b[90m\u001b[39;49;00m\n",
      "        vector_desc = [([\u001b[94m0\u001b[39;49;00m], \u001b[94m0\u001b[39;49;00m),\u001b[90m\u001b[39;49;00m\n",
      "                       ([\u001b[94m1\u001b[39;49;00m], \u001b[94m1\u001b[39;49;00m),\u001b[90m\u001b[39;49;00m\n",
      "                       ([\u001b[94m3\u001b[39;49;00m], \u001b[94m3\u001b[39;49;00m),\u001b[90m\u001b[39;49;00m\n",
      "                       ([-\u001b[94m1\u001b[39;49;00m], \u001b[94m1\u001b[39;49;00m),\u001b[90m\u001b[39;49;00m\n",
      "                       ([-\u001b[94m2\u001b[39;49;00m], \u001b[94m2\u001b[39;49;00m),\u001b[90m\u001b[39;49;00m\n",
      "                       ((\u001b[94m1\u001b[39;49;00m, \u001b[94m1\u001b[39;49;00m), \u001b[94m2\u001b[39;49;00m**\u001b[94m0.5\u001b[39;49;00m),\u001b[90m\u001b[39;49;00m\n",
      "                       ((\u001b[94m0\u001b[39;49;00m, \u001b[94m0\u001b[39;49;00m), \u001b[94m0\u001b[39;49;00m),\u001b[90m\u001b[39;49;00m\n",
      "                       ([\u001b[94m1\u001b[39;49;00m, -\u001b[94m2\u001b[39;49;00m], \u001b[94m5\u001b[39;49;00m**\u001b[94m0.5\u001b[39;49;00m),\u001b[90m\u001b[39;49;00m\n",
      "                       ([-\u001b[94m3\u001b[39;49;00m, -\u001b[94m4\u001b[39;49;00m], \u001b[94m25\u001b[39;49;00m**\u001b[94m0.5\u001b[39;49;00m),\u001b[90m\u001b[39;49;00m\n",
      "                       ([\u001b[94m0\u001b[39;49;00m, \u001b[94m0\u001b[39;49;00m, \u001b[94m0\u001b[39;49;00m, \u001b[94m0\u001b[39;49;00m], \u001b[94m0\u001b[39;49;00m),\u001b[90m\u001b[39;49;00m\n",
      "                       ([\u001b[94m1\u001b[39;49;00m, \u001b[94m1\u001b[39;49;00m, \u001b[94m1\u001b[39;49;00m, \u001b[94m1\u001b[39;49;00m], \u001b[94m4\u001b[39;49;00m**\u001b[94m0.5\u001b[39;49;00m),\u001b[90m\u001b[39;49;00m\n",
      "                       ([-\u001b[94m2\u001b[39;49;00m, \u001b[94m1\u001b[39;49;00m, -\u001b[94m3\u001b[39;49;00m, \u001b[94m4\u001b[39;49;00m], \u001b[94m30\u001b[39;49;00m**\u001b[94m0.5\u001b[39;49;00m)\u001b[90m\u001b[39;49;00m\n",
      "                    ]\u001b[90m\u001b[39;49;00m\n",
      "        \u001b[94mfor\u001b[39;49;00m vd \u001b[95min\u001b[39;49;00m vector_desc:\u001b[90m\u001b[39;49;00m\n",
      "            vector = MLVector(vd[\u001b[94m0\u001b[39;49;00m])\u001b[90m\u001b[39;49;00m\n",
      ">           \u001b[94massert\u001b[39;49;00m math.isclose(vector.norma_e, vd[\u001b[94m1\u001b[39;49;00m], abs_tol=MLVector.get_tolerance)\u001b[90m\u001b[39;49;00m\n",
      "\u001b[1m\u001b[31mE           TypeError: must be real number, not method\u001b[0m\n",
      "\n",
      "\u001b[1m\u001b[31mmlvectors_test.py\u001b[0m:38: TypeError\n",
      "\u001b[31m\u001b[1m_________________________ test_MLVector_cosa_positive __________________________\u001b[0m\n",
      "\n",
      "    \u001b[0m\u001b[94mdef\u001b[39;49;00m \u001b[92mtest_MLVector_cosa_positive\u001b[39;49;00m():\u001b[90m\u001b[39;49;00m\n",
      "        vector_pairs = [((\u001b[94m3\u001b[39;49;00m,\u001b[94m4\u001b[39;49;00m), (\u001b[94m4\u001b[39;49;00m,\u001b[94m3\u001b[39;49;00m), \u001b[94m0.96\u001b[39;49;00m),\u001b[90m\u001b[39;49;00m\n",
      "                        ((\u001b[94m7\u001b[39;49;00m,\u001b[94m1\u001b[39;49;00m), (\u001b[94m5\u001b[39;49;00m,\u001b[94m5\u001b[39;49;00m), \u001b[94m0.8\u001b[39;49;00m),\u001b[90m\u001b[39;49;00m\n",
      "                        ((\u001b[94m3\u001b[39;49;00m,\u001b[94m4\u001b[39;49;00m,\u001b[94m0\u001b[39;49;00m), (\u001b[94m4\u001b[39;49;00m,\u001b[94m4\u001b[39;49;00m,\u001b[94m2\u001b[39;49;00m), \u001b[94m14\u001b[39;49;00m/\u001b[94m15\u001b[39;49;00m),\u001b[90m\u001b[39;49;00m\n",
      "                        ((\u001b[94m1\u001b[39;49;00m,\u001b[94m0\u001b[39;49;00m,\u001b[94m3\u001b[39;49;00m), (\u001b[94m5\u001b[39;49;00m,\u001b[94m5\u001b[39;49;00m,\u001b[94m0\u001b[39;49;00m), \u001b[94m0.1\u001b[39;49;00m*(\u001b[94m5\u001b[39;49;00m**\u001b[94m0.5\u001b[39;49;00m)),\u001b[90m\u001b[39;49;00m\n",
      "                        ]\u001b[90m\u001b[39;49;00m\n",
      "        \u001b[94mfor\u001b[39;49;00m vector_pair \u001b[95min\u001b[39;49;00m vector_pairs:\u001b[90m\u001b[39;49;00m\n",
      "            v1 = MLVector(vector_pair[\u001b[94m0\u001b[39;49;00m])\u001b[90m\u001b[39;49;00m\n",
      "            v2 = MLVector(vector_pair[\u001b[94m1\u001b[39;49;00m])\u001b[90m\u001b[39;49;00m\n",
      ">           \u001b[94massert\u001b[39;49;00m math.isclose(MLVector.cosa(v1, v2), vector_pair[\u001b[94m2\u001b[39;49;00m], abs_tol=MLVector.get_tolerance)\u001b[90m\u001b[39;49;00m\n",
      "\u001b[1m\u001b[31mE           TypeError: must be real number, not method\u001b[0m\n",
      "\n",
      "\u001b[1m\u001b[31mmlvectors_test.py\u001b[0m:51: TypeError\n",
      "\u001b[36m\u001b[1m=========================== short test summary info ============================\u001b[0m\n",
      "\u001b[31mFAILED\u001b[0m mlvectors_test.py::\u001b[1mtest_MLVector_length_positive\u001b[0m - TypeError: must be real number, not method\n",
      "\u001b[31mFAILED\u001b[0m mlvectors_test.py::\u001b[1mtest_MLVector_cosa_positive\u001b[0m - TypeError: must be real number, not method\n",
      "\u001b[31m========================= \u001b[31m\u001b[1m2 failed\u001b[0m, \u001b[32m14 passed\u001b[0m\u001b[31m in 0.05s\u001b[0m\u001b[31m =========================\u001b[0m\n"
     ]
    }
   ],
   "source": [
    "# запуск тестов для векторов\n",
    "!pytest -v mlvectors_test.py"
   ]
  },
  {
   "cell_type": "markdown",
   "metadata": {},
   "source": [
    "# Демо работы с комплексными числами"
   ]
  },
  {
   "cell_type": "code",
   "execution_count": null,
   "metadata": {},
   "outputs": [],
   "source": [
    "from complex_number import ComplexNumber\n",
    "\n",
    "c1 = ComplexNumber((1, 2))\n",
    "print(f'До попытки изменения свойств объекта: {c1}')\n",
    "c1.__real_part = 1.11\n",
    "c1.__imaginary_part = 1.11\n",
    "c1.__polar_r = 1.11\n",
    "c1.__polar_theta = 1.11\n",
    "print(f'После попытки изменения свойств объекта: {c1}')\n",
    "c2 = ComplexNumber.from_alg((3, 4))\n",
    "c3 = 5\n",
    "c4 = ComplexNumber.from_polar((2, math.pi/4))\n",
    "c5 = ComplexNumber.from_polar((3, math.pi))\n",
    "c6 = ComplexNumber.from_polar((3, math.pi/2))\n",
    "\n",
    "print(f'({c1}) + ({c2}) = {c1 + c2}')\n",
    "print(f'({c1}) - ({c2}) = {c1 - c2}')\n",
    "print(f'({c1}) * ({c2}) = {c1 * c2}')\n",
    "print(f'({c1}) / ({c2}) = {c1 / c2}')\n",
    "print(f'({c1}) + {c3} = {c1 + c3}')\n",
    "print(f'({c1}) - {c3} = {c1 - c3}')\n",
    "print(f'({c1}) * {c3} = {c1 * c3}')\n",
    "print(f'({c1}) / {c3} = {c1 / c3}')\n",
    "print(f\"Алгебраическая запись '{c1.algebraic_as_str}' в полярной форме '{c1.polar_as_str}'\")\n",
    "print(f\"Полярная форма '{c4.polar_as_str}' в алгебраической записи '{c4.algebraic_as_str}'\")\n",
    "print(f\"Полярная форма '{c5.polar_as_str}' в алгебраической записи '{c5.algebraic_as_str}'\")\n",
    "print(f\"Полярная форма '{c6.polar_as_str}' в алгебраической записи '{c6.algebraic_as_str}'\")\n"
   ]
  },
  {
   "cell_type": "code",
   "execution_count": null,
   "metadata": {},
   "outputs": [],
   "source": [
    "# попытка сложения с нечислом\n",
    "c1 = ComplexNumber((1, 2))\n",
    "c1 + \"str\""
   ]
  },
  {
   "cell_type": "code",
   "execution_count": null,
   "metadata": {},
   "outputs": [],
   "source": [
    "# попытка деления на 0\n",
    "c0 = ComplexNumber((0,0))\n",
    "c1 = ComplexNumber((1,2))\n",
    "c0 / c1"
   ]
  },
  {
   "cell_type": "code",
   "execution_count": null,
   "metadata": {},
   "outputs": [],
   "source": [
    "# попытка напрямую менять свойсва объекта\n",
    "c1 = ComplexNumber((1, 2))\n",
    "c1._ComplexNumber__real_part = 2.22"
   ]
  },
  {
   "cell_type": "markdown",
   "metadata": {},
   "source": [
    "# Демо работы с векторами"
   ]
  },
  {
   "cell_type": "code",
   "execution_count": null,
   "metadata": {},
   "outputs": [],
   "source": [
    "from mlvectors import MLVector\n",
    "\n",
    "v_0_0 = MLVector((0, 0))\n",
    "v_0_2 = MLVector((0, 2))\n",
    "v_2_0 = MLVector((2, 0))\n",
    "v_2_2 = MLVector((2, 2))\n",
    "v_3_4 = MLVector((3, 4))\n",
    "v_3_0 = MLVector((3, 0))\n",
    "v_2_3 = MLVector((2, 3))\n",
    "v_3_4_5 = MLVector((3, 3, 5))\n",
    "v_5_0 = MLVector((5, 0))\n",
    "v_5_8 = MLVector((5, 8.66))\n",
    "\n",
    "for v in [v_0_0, v_0_2, v_2_0, v_2_2, v_3_4, v_3_0, v_2_3, v_3_4_5, v_5_0, v_5_8]:\n",
    "    print(f'{v}: размерность={v.n}, длина={v.norma_e}') \n",
    "    \n",
    "print(f\"{v_0_2} + {v_2_0} = {v_0_2 + v_2_0}\")\n",
    "print(f\"{v_2_3} - {v_3_4} = {v_2_3 - v_3_4}\")\n",
    "print(f\"{v_2_3} * {v_3_4} = {v_2_3 * v_3_4}\")\n",
    "print(f\"{v_2_3} * -5 = {v_2_3 * -5}\")\n",
    "print(f\"{v_2_3} / 2 = {v_2_3 / -5}\")\n",
    "print(f\"cos({v_2_0}, {v_0_2}) = {MLVector.cosa(v_2_0, v_0_2)}\")\n",
    "print(f\"cos({v_2_0}, {v_2_0}) = {MLVector.cosa(v_2_0, v_2_0)}\")\n",
    "print(f\"cos({v_2_0}, {v_2_2}) = {MLVector.cosa(v_2_0, v_2_2)}\")\n",
    "print(f\"cos({v_5_0}, {v_5_8}) = {MLVector.cosa(v_5_0, v_5_8)}\")\n",
    "\n",
    "print(f\"{v_0_2} > {v_2_0} : {v_0_2 > v_2_0}\")\n",
    "print(f\"{v_2_3} < {v_3_4} : {v_2_3 < v_3_4}\")\n",
    "print(f\"{v_2_3} > {v_3_4} : {v_2_3 > v_3_4}\")\n",
    "print(f\"{v_0_2} == {v_2_0} : {v_0_2 == v_2_0}\")\n"
   ]
  },
  {
   "cell_type": "code",
   "execution_count": null,
   "metadata": {},
   "outputs": [],
   "source": [
    "# попытка сложить вектора разной размерности\n",
    "v1 = MLVector((2, 3))\n",
    "v2 = MLVector((3, 3, 5))\n",
    "v1 + v2"
   ]
  },
  {
   "cell_type": "code",
   "execution_count": null,
   "metadata": {},
   "outputs": [],
   "source": [
    "# попытка найти косинус между нулевыми векторами\n",
    "v1 = MLVector((2, 0))\n",
    "v2 = MLVector((0, 0))\n",
    "MLVector.cosa(v1, v2)"
   ]
  }
 ],
 "metadata": {
  "kernelspec": {
   "display_name": "ml",
   "language": "python",
   "name": "python3"
  },
  "language_info": {
   "codemirror_mode": {
    "name": "ipython",
    "version": 3
   },
   "file_extension": ".py",
   "mimetype": "text/x-python",
   "name": "python",
   "nbconvert_exporter": "python",
   "pygments_lexer": "ipython3",
   "version": "3.12.2"
  }
 },
 "nbformat": 4,
 "nbformat_minor": 2
}
