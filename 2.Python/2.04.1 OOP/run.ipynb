{
 "cells": [
  {
   "cell_type": "code",
   "execution_count": 1,
   "metadata": {},
   "outputs": [],
   "source": [
    "import cmath\n",
    "import math"
   ]
  },
  {
   "cell_type": "markdown",
   "metadata": {},
   "source": [
    "# Запуск тестов"
   ]
  },
  {
   "cell_type": "code",
   "execution_count": 2,
   "metadata": {},
   "outputs": [
    {
     "name": "stdout",
     "output_type": "stream",
     "text": [
      "\u001b[1m============================= test session starts ==============================\u001b[0m\n",
      "platform linux -- Python 3.12.2, pytest-8.3.3, pluggy-1.5.0 -- /home/igel/anaconda3/envs/ml/bin/python\n",
      "cachedir: .pytest_cache\n",
      "rootdir: /home/igel/Projects/ml-inno-hw/2.Python/2.04.1 OOP\n",
      "plugins: anyio-4.6.2\n",
      "collected 13 items                                                             \u001b[0m\n",
      "\n",
      "complex_number_test.py::test_ComplexNumber_create_positive \u001b[32mPASSED\u001b[0m\u001b[32m        [  7%]\u001b[0m\n",
      "complex_number_test.py::test_ComplexNumber_create_negative \u001b[32mPASSED\u001b[0m\u001b[32m        [ 15%]\u001b[0m\n",
      "complex_number_test.py::test_ComplexNumber_repr \u001b[32mPASSED\u001b[0m\u001b[32m                   [ 23%]\u001b[0m\n",
      "complex_number_test.py::test_ComplexNumber_add_positive \u001b[32mPASSED\u001b[0m\u001b[32m           [ 30%]\u001b[0m\n",
      "complex_number_test.py::test_ComplexNumber_add_negaive \u001b[32mPASSED\u001b[0m\u001b[32m            [ 38%]\u001b[0m\n",
      "complex_number_test.py::test_ComplexNumber_sub_positive \u001b[32mPASSED\u001b[0m\u001b[32m           [ 46%]\u001b[0m\n",
      "complex_number_test.py::test_ComplexNumber_sub_negaive \u001b[32mPASSED\u001b[0m\u001b[32m            [ 53%]\u001b[0m\n",
      "complex_number_test.py::test_ComplexNumber_mul_positive \u001b[32mPASSED\u001b[0m\u001b[32m           [ 61%]\u001b[0m\n",
      "complex_number_test.py::test_ComplexNumber_mul_negaive \u001b[32mPASSED\u001b[0m\u001b[32m            [ 69%]\u001b[0m\n",
      "complex_number_test.py::test_ComplexNumber_div_positive \u001b[32mPASSED\u001b[0m\u001b[32m           [ 76%]\u001b[0m\n",
      "complex_number_test.py::test_ComplexNumber_div_negaive \u001b[32mPASSED\u001b[0m\u001b[32m            [ 84%]\u001b[0m\n",
      "complex_number_test.py::test_ComplexNumber_convert \u001b[32mPASSED\u001b[0m\u001b[32m                [ 92%]\u001b[0m\n",
      "complex_number_test.py::test_ComplexNumber_immutable \u001b[32mPASSED\u001b[0m\u001b[32m              [100%]\u001b[0m\n",
      "\n",
      "\u001b[32m============================== \u001b[32m\u001b[1m13 passed\u001b[0m\u001b[32m in 0.01s\u001b[0m\u001b[32m ==============================\u001b[0m\n"
     ]
    }
   ],
   "source": [
    "# запуск тестов для комплексных чисел\n",
    "!pytest -v complex_number_test.py"
   ]
  },
  {
   "cell_type": "code",
   "execution_count": 3,
   "metadata": {},
   "outputs": [
    {
     "name": "stdout",
     "output_type": "stream",
     "text": [
      "\u001b[1m============================= test session starts ==============================\u001b[0m\n",
      "platform linux -- Python 3.12.2, pytest-8.3.3, pluggy-1.5.0 -- /home/igel/anaconda3/envs/ml/bin/python\n",
      "cachedir: .pytest_cache\n",
      "rootdir: /home/igel/Projects/ml-inno-hw/2.Python/2.04.1 OOP\n",
      "plugins: anyio-4.6.2\n",
      "collected 16 items                                                             \u001b[0m\n",
      "\n",
      "mlvectors_test.py::test_MLVector_create_positive \u001b[32mPASSED\u001b[0m\u001b[32m                  [  6%]\u001b[0m\n",
      "mlvectors_test.py::test_MLVector_create_negative \u001b[32mPASSED\u001b[0m\u001b[32m                  [ 12%]\u001b[0m\n",
      "mlvectors_test.py::test_MLVector_length_positive \u001b[32mPASSED\u001b[0m\u001b[32m                  [ 18%]\u001b[0m\n",
      "mlvectors_test.py::test_MLVector_cosa_positive \u001b[32mPASSED\u001b[0m\u001b[32m                    [ 25%]\u001b[0m\n",
      "mlvectors_test.py::test_MLVector_cosa_negative \u001b[32mPASSED\u001b[0m\u001b[32m                    [ 31%]\u001b[0m\n",
      "mlvectors_test.py::test_MLVector_add_positive \u001b[32mPASSED\u001b[0m\u001b[32m                     [ 37%]\u001b[0m\n",
      "mlvectors_test.py::test_MLVector_add_negative \u001b[32mPASSED\u001b[0m\u001b[32m                     [ 43%]\u001b[0m\n",
      "mlvectors_test.py::test_MLVector_sub_positive \u001b[32mPASSED\u001b[0m\u001b[32m                     [ 50%]\u001b[0m\n",
      "mlvectors_test.py::test_MLVector_sub_negative \u001b[32mPASSED\u001b[0m\u001b[32m                     [ 56%]\u001b[0m\n",
      "mlvectors_test.py::test_MLVector_mul_positive \u001b[32mPASSED\u001b[0m\u001b[32m                     [ 62%]\u001b[0m\n",
      "mlvectors_test.py::test_MLVector_mul_negative \u001b[32mPASSED\u001b[0m\u001b[32m                     [ 68%]\u001b[0m\n",
      "mlvectors_test.py::test_MLVector_div_positive \u001b[32mPASSED\u001b[0m\u001b[32m                     [ 75%]\u001b[0m\n",
      "mlvectors_test.py::test_MLVector_div_negative \u001b[32mPASSED\u001b[0m\u001b[32m                     [ 81%]\u001b[0m\n",
      "mlvectors_test.py::test_MLVector_eq_positive \u001b[32mPASSED\u001b[0m\u001b[32m                      [ 87%]\u001b[0m\n",
      "mlvectors_test.py::test_MLVector_eq_negative \u001b[32mPASSED\u001b[0m\u001b[32m                      [ 93%]\u001b[0m\n",
      "mlvectors_test.py::test_tolerances \u001b[32mPASSED\u001b[0m\u001b[32m                                [100%]\u001b[0m\n",
      "\n",
      "\u001b[32m============================== \u001b[32m\u001b[1m16 passed\u001b[0m\u001b[32m in 0.01s\u001b[0m\u001b[32m ==============================\u001b[0m\n"
     ]
    }
   ],
   "source": [
    "# запуск тестов для векторов\n",
    "!pytest -v mlvectors_test.py"
   ]
  },
  {
   "cell_type": "markdown",
   "metadata": {},
   "source": [
    "# Демо работы с комплексными числами"
   ]
  },
  {
   "cell_type": "code",
   "execution_count": 4,
   "metadata": {},
   "outputs": [
    {
     "name": "stdout",
     "output_type": "stream",
     "text": [
      "До попытки изменения свойств объекта: 1+2j\n",
      "После попытки изменения свойств объекта: 1+2j\n",
      "(1+2j) + (3+4j) = 4+6j\n",
      "(1+2j) - (3+4j) = -2+-2j\n",
      "(1+2j) * (3+4j) = -5+10j\n",
      "(1+2j) / (3+4j) = 0.44+0.08j\n",
      "(1+2j) + 5 = 6+2j\n",
      "(1+2j) - 5 = -4+2j\n",
      "(1+2j) * 5 = 5+10j\n",
      "(1+2j) / 5 = 0.2+0.4j\n",
      "Алгебраическая запись '1+2j' в полярной форме '2.2361(cos(1.1071)+sin(1.1071))'\n",
      "Полярная форма '2(cos(0.7854)+sin(0.7854))' в алгебраической записи '1.4142+1.4142j'\n",
      "Полярная форма '3(cos(3.1416)+sin(3.1416))' в алгебраической записи '-3.0+0.0j'\n",
      "Полярная форма '3(cos(1.5708)+sin(1.5708))' в алгебраической записи '0.0+3.0j'\n"
     ]
    }
   ],
   "source": [
    "from complex_number import ComplexNumber\n",
    "\n",
    "c1 = ComplexNumber((1, 2))\n",
    "print(f'До попытки изменения свойств объекта: {c1}')\n",
    "c1.__real_part = 1.11\n",
    "c1.__imaginary_part = 1.11\n",
    "c1.__polar_r = 1.11\n",
    "c1.__polar_theta = 1.11\n",
    "print(f'После попытки изменения свойств объекта: {c1}')\n",
    "c2 = ComplexNumber.from_alg((3, 4))\n",
    "c3 = 5\n",
    "c4 = ComplexNumber.from_polar((2, math.pi/4))\n",
    "c5 = ComplexNumber.from_polar((3, math.pi))\n",
    "c6 = ComplexNumber.from_polar((3, math.pi/2))\n",
    "\n",
    "print(f'({c1}) + ({c2}) = {c1 + c2}')\n",
    "print(f'({c1}) - ({c2}) = {c1 - c2}')\n",
    "print(f'({c1}) * ({c2}) = {c1 * c2}')\n",
    "print(f'({c1}) / ({c2}) = {c1 / c2}')\n",
    "print(f'({c1}) + {c3} = {c1 + c3}')\n",
    "print(f'({c1}) - {c3} = {c1 - c3}')\n",
    "print(f'({c1}) * {c3} = {c1 * c3}')\n",
    "print(f'({c1}) / {c3} = {c1 / c3}')\n",
    "print(f\"Алгебраическая запись '{c1.algebraic_as_str}' в полярной форме '{c1.polar_as_str}'\")\n",
    "print(f\"Полярная форма '{c4.polar_as_str}' в алгебраической записи '{c4.algebraic_as_str}'\")\n",
    "print(f\"Полярная форма '{c5.polar_as_str}' в алгебраической записи '{c5.algebraic_as_str}'\")\n",
    "print(f\"Полярная форма '{c6.polar_as_str}' в алгебраической записи '{c6.algebraic_as_str}'\")\n"
   ]
  },
  {
   "cell_type": "code",
   "execution_count": 5,
   "metadata": {},
   "outputs": [
    {
     "ename": "TypeError",
     "evalue": "Параметр other должен быть ComplexNumber, complex, int или float",
     "output_type": "error",
     "traceback": [
      "\u001b[0;31m---------------------------------------------------------------------------\u001b[0m",
      "\u001b[0;31mTypeError\u001b[0m                                 Traceback (most recent call last)",
      "Cell \u001b[0;32mIn[5], line 3\u001b[0m\n\u001b[1;32m      1\u001b[0m \u001b[38;5;66;03m# попытка сложения с нечислом\u001b[39;00m\n\u001b[1;32m      2\u001b[0m c1 \u001b[38;5;241m=\u001b[39m ComplexNumber((\u001b[38;5;241m1\u001b[39m, \u001b[38;5;241m2\u001b[39m))\n\u001b[0;32m----> 3\u001b[0m c1 \u001b[38;5;241m+\u001b[39m \u001b[38;5;124m\"\u001b[39m\u001b[38;5;124mstr\u001b[39m\u001b[38;5;124m\"\u001b[39m\n",
      "File \u001b[0;32m~/Projects/ml-inno-hw/2.Python/2.04.1 OOP/complex_number.py:92\u001b[0m, in \u001b[0;36mComplexNumber.__add__\u001b[0;34m(self, other)\u001b[0m\n\u001b[1;32m     90\u001b[0m \u001b[38;5;28;01melif\u001b[39;00m \u001b[38;5;28misinstance\u001b[39m(other, \u001b[38;5;28mint\u001b[39m) \u001b[38;5;129;01mor\u001b[39;00m \u001b[38;5;28misinstance\u001b[39m(other, \u001b[38;5;28mfloat\u001b[39m):\n\u001b[1;32m     91\u001b[0m     \u001b[38;5;28;01mreturn\u001b[39;00m ComplexNumber(alg\u001b[38;5;241m=\u001b[39m(\u001b[38;5;28mself\u001b[39m\u001b[38;5;241m.\u001b[39m__real_part \u001b[38;5;241m+\u001b[39m other, \u001b[38;5;28mself\u001b[39m\u001b[38;5;241m.\u001b[39m__imaginary_part))\n\u001b[0;32m---> 92\u001b[0m \u001b[38;5;28;01mraise\u001b[39;00m \u001b[38;5;167;01mTypeError\u001b[39;00m(\u001b[38;5;124m\"\u001b[39m\u001b[38;5;124mПараметр other должен быть ComplexNumber, complex, int или float\u001b[39m\u001b[38;5;124m\"\u001b[39m)\n",
      "\u001b[0;31mTypeError\u001b[0m: Параметр other должен быть ComplexNumber, complex, int или float"
     ]
    }
   ],
   "source": [
    "# попытка сложения с нечислом\n",
    "c1 = ComplexNumber((1, 2))\n",
    "c1 + \"str\""
   ]
  },
  {
   "cell_type": "code",
   "execution_count": 6,
   "metadata": {},
   "outputs": [
    {
     "data": {
      "text/plain": [
       "0.0+0.0j"
      ]
     },
     "execution_count": 6,
     "metadata": {},
     "output_type": "execute_result"
    }
   ],
   "source": [
    "# попытка деления на 0\n",
    "c0 = ComplexNumber((0,0))\n",
    "c1 = ComplexNumber((1,2))\n",
    "c0 / c1"
   ]
  },
  {
   "cell_type": "code",
   "execution_count": 7,
   "metadata": {},
   "outputs": [
    {
     "ename": "Exception",
     "evalue": "Cannot change value of _ComplexNumber__real_part.",
     "output_type": "error",
     "traceback": [
      "\u001b[0;31m---------------------------------------------------------------------------\u001b[0m",
      "\u001b[0;31mException\u001b[0m                                 Traceback (most recent call last)",
      "Cell \u001b[0;32mIn[7], line 3\u001b[0m\n\u001b[1;32m      1\u001b[0m \u001b[38;5;66;03m# попытка напрямую менять свойсва объекта\u001b[39;00m\n\u001b[1;32m      2\u001b[0m c1 \u001b[38;5;241m=\u001b[39m ComplexNumber((\u001b[38;5;241m1\u001b[39m, \u001b[38;5;241m2\u001b[39m))\n\u001b[0;32m----> 3\u001b[0m c1\u001b[38;5;241m.\u001b[39m_ComplexNumber__real_part \u001b[38;5;241m=\u001b[39m \u001b[38;5;241m2.22\u001b[39m\n",
      "File \u001b[0;32m~/Projects/ml-inno-hw/2.Python/2.04.1 OOP/complex_number.py:136\u001b[0m, in \u001b[0;36mComplexNumber.__setattr__\u001b[0;34m(self, name, value)\u001b[0m\n\u001b[1;32m    134\u001b[0m \u001b[38;5;250m\u001b[39m\u001b[38;5;124;03m\"\"\"\" Закроем свойства от изменения через c._ComplexNumber__real_part \"\"\"\u001b[39;00m\n\u001b[1;32m    135\u001b[0m \u001b[38;5;28;01mif\u001b[39;00m name \u001b[38;5;129;01min\u001b[39;00m \u001b[38;5;28mself\u001b[39m\u001b[38;5;241m.\u001b[39m\u001b[38;5;18m__dict__\u001b[39m:\n\u001b[0;32m--> 136\u001b[0m     \u001b[38;5;28;01mraise\u001b[39;00m \u001b[38;5;167;01mException\u001b[39;00m(\u001b[38;5;124mf\u001b[39m\u001b[38;5;124m\"\u001b[39m\u001b[38;5;124mCannot change value of \u001b[39m\u001b[38;5;132;01m{\u001b[39;00mname\u001b[38;5;132;01m}\u001b[39;00m\u001b[38;5;124m.\u001b[39m\u001b[38;5;124m\"\u001b[39m)\n\u001b[1;32m    137\u001b[0m \u001b[38;5;28mself\u001b[39m\u001b[38;5;241m.\u001b[39m\u001b[38;5;18m__dict__\u001b[39m[name] \u001b[38;5;241m=\u001b[39m value\n",
      "\u001b[0;31mException\u001b[0m: Cannot change value of _ComplexNumber__real_part."
     ]
    }
   ],
   "source": [
    "# попытка напрямую менять свойсва объекта\n",
    "c1 = ComplexNumber((1, 2))\n",
    "c1._ComplexNumber__real_part = 2.22"
   ]
  },
  {
   "cell_type": "markdown",
   "metadata": {},
   "source": [
    "# Демо работы с векторами"
   ]
  },
  {
   "cell_type": "code",
   "execution_count": 8,
   "metadata": {},
   "outputs": [
    {
     "name": "stdout",
     "output_type": "stream",
     "text": [
      "(0,0): размерность=2, длина=0.0\n",
      "(0,2): размерность=2, длина=2.0\n",
      "(2,0): размерность=2, длина=2.0\n",
      "(2,2): размерность=2, длина=2.8284271247461903\n",
      "(3,4): размерность=2, длина=5.0\n",
      "(3,0): размерность=2, длина=3.0\n",
      "(2,3): размерность=2, длина=3.605551275463989\n",
      "(3,3,5): размерность=3, длина=6.557438524302\n",
      "(5,0): размерность=2, длина=5.0\n",
      "(5,8.66): размерность=2, длина=9.999779997579946\n",
      "(0,2) + (2,0) = (2,2)\n",
      "(2,3) - (3,4) = (-1,-1)\n",
      "(2,3) * (3,4) = 18\n",
      "(2,3) * -5 = (-10,-15)\n",
      "(2,3) / 2 = (-0.4,-0.6)\n",
      "cos((2,0), (0,2)) = 0.0\n",
      "cos((2,0), (2,0)) = 1.0\n",
      "cos((2,0), (2,2)) = 0.7071067811865475\n",
      "cos((5,0), (5,8.66)) = 0.5000110003630133\n",
      "(0,2) > (2,0) : False\n",
      "(2,3) < (3,4) : True\n",
      "(2,3) > (3,4) : False\n",
      "(0,2) == (2,0) : False\n"
     ]
    }
   ],
   "source": [
    "from mlvectors import MLVector\n",
    "\n",
    "v_0_0 = MLVector((0, 0))\n",
    "v_0_2 = MLVector((0, 2))\n",
    "v_2_0 = MLVector((2, 0))\n",
    "v_2_2 = MLVector((2, 2))\n",
    "v_3_4 = MLVector((3, 4))\n",
    "v_3_0 = MLVector((3, 0))\n",
    "v_2_3 = MLVector((2, 3))\n",
    "v_3_4_5 = MLVector((3, 3, 5))\n",
    "v_5_0 = MLVector((5, 0))\n",
    "v_5_8 = MLVector((5, 8.66))\n",
    "\n",
    "for v in [v_0_0, v_0_2, v_2_0, v_2_2, v_3_4, v_3_0, v_2_3, v_3_4_5, v_5_0, v_5_8]:\n",
    "    print(f'{v}: размерность={v.n}, длина={v.norma_e}') \n",
    "    \n",
    "print(f\"{v_0_2} + {v_2_0} = {v_0_2 + v_2_0}\")\n",
    "print(f\"{v_2_3} - {v_3_4} = {v_2_3 - v_3_4}\")\n",
    "print(f\"{v_2_3} * {v_3_4} = {v_2_3 * v_3_4}\")\n",
    "print(f\"{v_2_3} * -5 = {v_2_3 * -5}\")\n",
    "print(f\"{v_2_3} / 2 = {v_2_3 / -5}\")\n",
    "print(f\"cos({v_2_0}, {v_0_2}) = {MLVector.cosa(v_2_0, v_0_2)}\")\n",
    "print(f\"cos({v_2_0}, {v_2_0}) = {MLVector.cosa(v_2_0, v_2_0)}\")\n",
    "print(f\"cos({v_2_0}, {v_2_2}) = {MLVector.cosa(v_2_0, v_2_2)}\")\n",
    "print(f\"cos({v_5_0}, {v_5_8}) = {MLVector.cosa(v_5_0, v_5_8)}\")\n",
    "\n",
    "print(f\"{v_0_2} > {v_2_0} : {v_0_2 > v_2_0}\")\n",
    "print(f\"{v_2_3} < {v_3_4} : {v_2_3 < v_3_4}\")\n",
    "print(f\"{v_2_3} > {v_3_4} : {v_2_3 > v_3_4}\")\n",
    "print(f\"{v_0_2} == {v_2_0} : {v_0_2 == v_2_0}\")\n"
   ]
  },
  {
   "cell_type": "code",
   "execution_count": 9,
   "metadata": {},
   "outputs": [
    {
     "ename": "ValueError",
     "evalue": "Вектора должны быть одной размерности",
     "output_type": "error",
     "traceback": [
      "\u001b[0;31m---------------------------------------------------------------------------\u001b[0m",
      "\u001b[0;31mValueError\u001b[0m                                Traceback (most recent call last)",
      "Cell \u001b[0;32mIn[9], line 4\u001b[0m\n\u001b[1;32m      2\u001b[0m v1 \u001b[38;5;241m=\u001b[39m MLVector((\u001b[38;5;241m2\u001b[39m, \u001b[38;5;241m3\u001b[39m))\n\u001b[1;32m      3\u001b[0m v2 \u001b[38;5;241m=\u001b[39m MLVector((\u001b[38;5;241m3\u001b[39m, \u001b[38;5;241m3\u001b[39m, \u001b[38;5;241m5\u001b[39m))\n\u001b[0;32m----> 4\u001b[0m v1 \u001b[38;5;241m+\u001b[39m v2\n",
      "File \u001b[0;32m~/Projects/ml-inno-hw/2.Python/2.04.1 OOP/mlvectors.py:64\u001b[0m, in \u001b[0;36mMLVector.__add__\u001b[0;34m(self, other)\u001b[0m\n\u001b[1;32m     62\u001b[0m \u001b[38;5;28;01mif\u001b[39;00m \u001b[38;5;28misinstance\u001b[39m(other, MLVector):\n\u001b[1;32m     63\u001b[0m     \u001b[38;5;28;01mif\u001b[39;00m \u001b[38;5;28mself\u001b[39m\u001b[38;5;241m.\u001b[39mn \u001b[38;5;241m!=\u001b[39m other\u001b[38;5;241m.\u001b[39mn:\n\u001b[0;32m---> 64\u001b[0m         \u001b[38;5;28;01mraise\u001b[39;00m \u001b[38;5;167;01mValueError\u001b[39;00m(\u001b[38;5;124m\"\u001b[39m\u001b[38;5;124mВектора должны быть одной размерности\u001b[39m\u001b[38;5;124m\"\u001b[39m)\n\u001b[1;32m     65\u001b[0m     new_coords \u001b[38;5;241m=\u001b[39m [ \u001b[38;5;28mself\u001b[39m\u001b[38;5;241m.\u001b[39m__coords[i] \u001b[38;5;241m+\u001b[39m other\u001b[38;5;241m.\u001b[39m__coords[i] \u001b[38;5;28;01mfor\u001b[39;00m i \u001b[38;5;129;01min\u001b[39;00m \u001b[38;5;28mrange\u001b[39m(\u001b[38;5;28mlen\u001b[39m(\u001b[38;5;28mself\u001b[39m\u001b[38;5;241m.\u001b[39m__coords))]\n\u001b[1;32m     66\u001b[0m     \u001b[38;5;28;01mreturn\u001b[39;00m MLVector(new_coords)\n",
      "\u001b[0;31mValueError\u001b[0m: Вектора должны быть одной размерности"
     ]
    }
   ],
   "source": [
    "# попытка сложить вектора разной размерности\n",
    "v1 = MLVector((2, 3))\n",
    "v2 = MLVector((3, 3, 5))\n",
    "v1 + v2"
   ]
  },
  {
   "cell_type": "code",
   "execution_count": 11,
   "metadata": {},
   "outputs": [
    {
     "ename": "ValueError",
     "evalue": "Вектора должны быть не нулевой длины",
     "output_type": "error",
     "traceback": [
      "\u001b[0;31m---------------------------------------------------------------------------\u001b[0m",
      "\u001b[0;31mValueError\u001b[0m                                Traceback (most recent call last)",
      "Cell \u001b[0;32mIn[11], line 4\u001b[0m\n\u001b[1;32m      2\u001b[0m v1 \u001b[38;5;241m=\u001b[39m MLVector((\u001b[38;5;241m2\u001b[39m, \u001b[38;5;241m0\u001b[39m))\n\u001b[1;32m      3\u001b[0m v2 \u001b[38;5;241m=\u001b[39m MLVector((\u001b[38;5;241m0\u001b[39m, \u001b[38;5;241m0\u001b[39m))\n\u001b[0;32m----> 4\u001b[0m MLVector\u001b[38;5;241m.\u001b[39mcosa(v1, v2)\n",
      "File \u001b[0;32m~/Projects/ml-inno-hw/2.Python/2.04.1 OOP/mlvectors.py:38\u001b[0m, in \u001b[0;36mMLVector.cosa\u001b[0;34m(vector_a, vector_b)\u001b[0m\n\u001b[1;32m     36\u001b[0m     \u001b[38;5;28;01mraise\u001b[39;00m \u001b[38;5;167;01mValueError\u001b[39;00m(\u001b[38;5;124m\"\u001b[39m\u001b[38;5;124mВектора должны быть одной размерности\u001b[39m\u001b[38;5;124m\"\u001b[39m)\n\u001b[1;32m     37\u001b[0m \u001b[38;5;28;01mif\u001b[39;00m vector_a\u001b[38;5;241m.\u001b[39mnorma_e \u001b[38;5;241m==\u001b[39m\u001b[38;5;241m0\u001b[39m \u001b[38;5;129;01mor\u001b[39;00m vector_b\u001b[38;5;241m.\u001b[39mnorma_e \u001b[38;5;241m==\u001b[39m \u001b[38;5;241m0\u001b[39m:\n\u001b[0;32m---> 38\u001b[0m     \u001b[38;5;28;01mraise\u001b[39;00m \u001b[38;5;167;01mValueError\u001b[39;00m(\u001b[38;5;124m\"\u001b[39m\u001b[38;5;124mВектора должны быть не нулевой длины\u001b[39m\u001b[38;5;124m\"\u001b[39m)\n\u001b[1;32m     39\u001b[0m \u001b[38;5;28;01mreturn\u001b[39;00m (vector_a \u001b[38;5;241m*\u001b[39m vector_b) \u001b[38;5;241m/\u001b[39m (vector_a\u001b[38;5;241m.\u001b[39mnorma_e \u001b[38;5;241m*\u001b[39m vector_b\u001b[38;5;241m.\u001b[39mnorma_e)\n",
      "\u001b[0;31mValueError\u001b[0m: Вектора должны быть не нулевой длины"
     ]
    }
   ],
   "source": [
    "# попытка найти косинус между нулевыми векторами\n",
    "v1 = MLVector((2, 0))\n",
    "v2 = MLVector((0, 0))\n",
    "MLVector.cosa(v1, v2)"
   ]
  }
 ],
 "metadata": {
  "kernelspec": {
   "display_name": "ml",
   "language": "python",
   "name": "python3"
  },
  "language_info": {
   "codemirror_mode": {
    "name": "ipython",
    "version": 3
   },
   "file_extension": ".py",
   "mimetype": "text/x-python",
   "name": "python",
   "nbconvert_exporter": "python",
   "pygments_lexer": "ipython3",
   "version": "3.12.2"
  }
 },
 "nbformat": 4,
 "nbformat_minor": 2
}
