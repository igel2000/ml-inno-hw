{
 "cells": [
  {
   "cell_type": "code",
   "execution_count": 1,
   "metadata": {},
   "outputs": [
    {
     "name": "stdout",
     "output_type": "stream",
     "text": [
      "Фантастика\n",
      "Фэнтези\n",
      "Научная фантастика\n",
      "Книги в жанре Фантастики: ['Властелин колец']\n",
      "Все книги и их жанры: {'Властелин колец': 'Фантастика', 'Гарри Поттер': 'Фэнтези', 'Матрица': 'Научная фантастика'}\n",
      "Книги для детей: ['Властелин колец', 'Гарри Поттер']\n",
      "Список избранных книг: ['Властелин колец']\n",
      "Список избранных книг после удаления книги из избранных: []\n"
     ]
    }
   ],
   "source": [
    "# запуск примера использования класса BookCollector\n",
    "!python apps/use_books_collector.py"
   ]
  },
  {
   "cell_type": "code",
   "execution_count": 2,
   "metadata": {},
   "outputs": [
    {
     "name": "stdout",
     "output_type": "stream",
     "text": [
      "\u001b[36mRunning pytest pre-configuration\u001b[0m\n",
      "\u001b[41m\u001b[1mCurrent level is 10\u001b[0m\n",
      "\u001b[94mPYTHONBREAKPOINT=ipdb.set_trace APP_ENVIRONMENT=test\n",
      "\u001b[0m\n",
      "\u001b[1m============================= test session starts ==============================\u001b[0m\n",
      "platform linux -- Python 3.12.3, pytest-8.3.3, pluggy-1.5.0 -- /home/igel/Projects/ml/ml-inno-hw/.venv/bin/python\n",
      "cachedir: .pytest_cache\n",
      "rootdir: /home/igel/Projects/ml/ml-inno-hw/2.Python/2.11.2 UnitTests\n",
      "configfile: setup.cfg\n",
      "plugins: cov-6.0.0, env-1.1.5, mock-3.14.0\n",
      "collected 10 items                                                             \u001b[0m\n",
      "\n",
      "tests/test_books_collector.py::test_init \u001b[32mPASSED\u001b[0m\u001b[32m                          [ 10%]\u001b[0m\n",
      "tests/test_books_collector.py::test_add_new_book \u001b[32mPASSED\u001b[0m\u001b[32m                  [ 20%]\u001b[0m\n",
      "tests/test_books_collector.py::test_set_book_genre_valid \u001b[32mPASSED\u001b[0m\u001b[32m          [ 30%]\u001b[0m\n",
      "tests/test_books_collector.py::test_get_books_genre \u001b[32mPASSED\u001b[0m\u001b[32m               [ 40%]\u001b[0m\n",
      "tests/test_books_collector.py::test_get_book_genre \u001b[32mPASSED\u001b[0m\u001b[32m                [ 50%]\u001b[0m\n",
      "tests/test_books_collector.py::test_get_books_with_specific_genre \u001b[32mPASSED\u001b[0m\u001b[32m [ 60%]\u001b[0m\n",
      "tests/test_books_collector.py::test_get_books_for_children \u001b[32mPASSED\u001b[0m\u001b[32m        [ 70%]\u001b[0m\n",
      "tests/test_books_collector.py::test_add_book_in_favorites \u001b[32mPASSED\u001b[0m\u001b[32m         [ 80%]\u001b[0m\n",
      "tests/test_books_collector.py::test_delete_book_from_favorites \u001b[32mPASSED\u001b[0m\u001b[32m    [ 90%]\u001b[0m\n",
      "tests/test_books_collector.py::test_get_list_of_favorites_books \u001b[32mPASSED\u001b[0m\u001b[32m   [100%]\u001b[0m\n",
      "\n",
      "- generated xml file: /home/igel/Projects/ml/ml-inno-hw/2.Python/2.11.2 UnitTests/.coverage-reports/xunit.xml -\n",
      "\u001b[32m============================== \u001b[32m\u001b[1m10 passed\u001b[0m\u001b[32m in 0.02s\u001b[0m\u001b[32m ==============================\u001b[0m\n"
     ]
    }
   ],
   "source": [
    "# запуск тестов класса BookCollector\n",
    "!pytest -v tests/test_books_collector.py --no-cov"
   ]
  },
  {
   "cell_type": "code",
   "execution_count": 3,
   "metadata": {},
   "outputs": [
    {
     "name": "stdout",
     "output_type": "stream",
     "text": [
      "\u001b[36mRunning pytest pre-configuration\u001b[0m\n",
      "\u001b[41m\u001b[1mCurrent level is 10\u001b[0m\n",
      "\u001b[94mPYTHONBREAKPOINT=ipdb.set_trace APP_ENVIRONMENT=test\n",
      "\u001b[0m\n",
      "\u001b[1m============================= test session starts ==============================\u001b[0m\n",
      "platform linux -- Python 3.12.3, pytest-8.3.3, pluggy-1.5.0 -- /home/igel/Projects/ml/ml-inno-hw/.venv/bin/python\n",
      "cachedir: .pytest_cache\n",
      "rootdir: /home/igel/Projects/ml/ml-inno-hw/2.Python/2.11.2 UnitTests\n",
      "configfile: setup.cfg\n",
      "plugins: cov-6.0.0, env-1.1.5, mock-3.14.0\n",
      "collected 2 items                                                              \u001b[0m\n",
      "\n",
      "tests/test_payment.py::test_payment_form_charge_success \u001b[32mPASSED\u001b[0m\u001b[32m           [ 50%]\u001b[0m\n",
      "tests/test_payment.py::test_payment_form_charge_exception \u001b[32mPASSED\u001b[0m\u001b[32m         [100%]\u001b[0m\n",
      "\n",
      "- generated xml file: /home/igel/Projects/ml/ml-inno-hw/2.Python/2.11.2 UnitTests/.coverage-reports/xunit.xml -\n",
      "\u001b[32m============================== \u001b[32m\u001b[1m2 passed\u001b[0m\u001b[32m in 0.01s\u001b[0m\u001b[32m ===============================\u001b[0m\n"
     ]
    }
   ],
   "source": [
    "# запуск тестов класса PaymentForm\n",
    "!pytest -v tests/test_payment.py --no-cov"
   ]
  },
  {
   "cell_type": "code",
   "execution_count": 4,
   "metadata": {},
   "outputs": [
    {
     "name": "stdout",
     "output_type": "stream",
     "text": [
      "\u001b[36mRunning pytest pre-configuration\u001b[0m\n",
      "\u001b[41m\u001b[1mCurrent level is 10\u001b[0m\n",
      "\u001b[94mPYTHONBREAKPOINT=ipdb.set_trace APP_ENVIRONMENT=test\n",
      "\u001b[0m\n",
      "\u001b[1m============================= test session starts ==============================\u001b[0m\n",
      "platform linux -- Python 3.12.3, pytest-8.3.3, pluggy-1.5.0\n",
      "rootdir: /home/igel/Projects/ml/ml-inno-hw/2.Python/2.11.2 UnitTests\n",
      "configfile: setup.cfg\n",
      "plugins: cov-6.0.0, env-1.1.5, mock-3.14.0\n",
      "collected 12 items                                                             \u001b[0m\n",
      "\n",
      "tests/test_books_collector.py \u001b[32m.\u001b[0m\u001b[32m.\u001b[0m\u001b[32m.\u001b[0m\u001b[32m.\u001b[0m\u001b[32m.\u001b[0m\u001b[32m.\u001b[0m\u001b[32m.\u001b[0m\u001b[32m.\u001b[0m\u001b[32m.\u001b[0m\u001b[32m.\u001b[0m\u001b[32m                                 [ 83%]\u001b[0m\n",
      "tests/test_payment.py \u001b[32m.\u001b[0m\u001b[32m.\u001b[0m\u001b[32m                                                 [100%]\u001b[0m\n",
      "\n",
      "- generated xml file: /home/igel/Projects/ml/ml-inno-hw/2.Python/2.11.2 UnitTests/.coverage-reports/xunit.xml -\n",
      "\n",
      "---------- coverage: platform linux, python 3.12.3-final-0 -----------\n",
      "Name                        Stmts   Miss  Cover   Missing\n",
      "---------------------------------------------------------\n",
      "source/__init__.py              0      0   100%\n",
      "source/books_collector.py      42      0   100%\n",
      "source/credit_card.py          11      5    55%   12, 15, 18, 21, 24\n",
      "source/payment_form.py         10      0   100%\n",
      "---------------------------------------------------------\n",
      "TOTAL                          63      5    92%\n",
      "Coverage HTML written to dir .coverage-reports/html\n",
      "Coverage XML written to file .coverage-reports/coverage.xml\n",
      "\n",
      "\u001b[32m============================== \u001b[32m\u001b[1m12 passed\u001b[0m\u001b[32m in 0.07s\u001b[0m\u001b[32m ==============================\u001b[0m\n"
     ]
    }
   ],
   "source": [
    "# запуск всех тестов\n",
    "!pytest"
   ]
  },
  {
   "cell_type": "code",
   "execution_count": 5,
   "metadata": {},
   "outputs": [],
   "source": [
    "# Удалить .gitignore, чтобы отчет о покрытии тестами попал в репозиторий\n",
    "#!rm .coverage-reports/html/.gitignore"
   ]
  }
 ],
 "metadata": {
  "kernelspec": {
   "display_name": ".venv",
   "language": "python",
   "name": "python3"
  },
  "language_info": {
   "codemirror_mode": {
    "name": "ipython",
    "version": 3
   },
   "file_extension": ".py",
   "mimetype": "text/x-python",
   "name": "python",
   "nbconvert_exporter": "python",
   "pygments_lexer": "ipython3",
   "version": "3.12.3"
  }
 },
 "nbformat": 4,
 "nbformat_minor": 2
}
