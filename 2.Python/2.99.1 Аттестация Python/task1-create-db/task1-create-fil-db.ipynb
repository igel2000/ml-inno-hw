{
 "cells": [
  {
   "cell_type": "code",
   "execution_count": 8,
   "metadata": {},
   "outputs": [],
   "source": [
    "from pathlib import Path\n",
    "import sys\n",
    "import psycopg2 as pg\n",
    "from dotenv import dotenv_values\n",
    "\n",
    "sys.path.insert(0, \"..\")\n",
    "import pg_tools"
   ]
  },
  {
   "cell_type": "code",
   "execution_count": 9,
   "metadata": {},
   "outputs": [],
   "source": [
    "# Параметры подключения к БД\n",
    "config = {\n",
    "    **dotenv_values(\"../.env\")\n",
    "}\n",
    "#pg_connection_string = f'postgresql+psycopg2://{pg_user}:{pg_password}@{pg_host}:{pg_port}/{pg_database}'\n",
    "pg_connection_string = f'postgresql://{config[\"PG_USER\"]}:{config[\"PG_PASSWORD\"]}@{config[\"PG_HOST\"]}:{config[\"PG_PORT\"]}/{config[\"PG_DATABASE\"]}'"
   ]
  },
  {
   "cell_type": "code",
   "execution_count": 10,
   "metadata": {},
   "outputs": [],
   "source": [
    "pg_connect = pg.connect(pg_connection_string)"
   ]
  },
  {
   "cell_type": "code",
   "execution_count": 11,
   "metadata": {},
   "outputs": [],
   "source": [
    "current_folder = \".\" #task-1-create-db\"\n",
    "create_db_sql = Path(current_folder, 'create_db.sql')\n",
    "insert_data_sql = Path(current_folder, 'insert-data.sql')\n",
    "add_constraint_sql = Path(current_folder, 'add_constraint.sql')"
   ]
  },
  {
   "cell_type": "code",
   "execution_count": 12,
   "metadata": {},
   "outputs": [],
   "source": [
    "# создать БД\n",
    "pg_tools.execute_sql_file(conn=pg_connect, sql_file=create_db_sql)\n",
    "# заполнить БД\n",
    "pg_tools.execute_sql_file(conn=pg_connect, sql_file=insert_data_sql)\n",
    "# добавить недостающий constraint\n",
    "pg_tools.execute_sql_file(conn=pg_connect, sql_file=add_constraint_sql)"
   ]
  },
  {
   "cell_type": "markdown",
   "metadata": {},
   "source": [
    "Сделать dump\n",
    "`pg_dump --host=localhost --port=5433 --username=mluser -n public pythonatt  > result/generated-shema-db.sql`"
   ]
  }
 ],
 "metadata": {
  "kernelspec": {
   "display_name": ".venv",
   "language": "python",
   "name": "python3"
  },
  "language_info": {
   "codemirror_mode": {
    "name": "ipython",
    "version": 3
   },
   "file_extension": ".py",
   "mimetype": "text/x-python",
   "name": "python",
   "nbconvert_exporter": "python",
   "pygments_lexer": "ipython3",
   "version": "3.12.3"
  }
 },
 "nbformat": 4,
 "nbformat_minor": 2
}
